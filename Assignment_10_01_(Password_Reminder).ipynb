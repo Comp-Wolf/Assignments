{
  "nbformat": 4,
  "nbformat_minor": 0,
  "metadata": {
    "colab": {
      "name": "Assignment - 10/01 (Password Reminder).ipynb",
      "provenance": [],
      "authorship_tag": "ABX9TyNyenXKauyn/qDVXpF2GfYO",
      "include_colab_link": true
    },
    "kernelspec": {
      "name": "python3",
      "display_name": "Python 3"
    },
    "language_info": {
      "name": "python"
    }
  },
  "cells": [
    {
      "cell_type": "markdown",
      "metadata": {
        "id": "view-in-github",
        "colab_type": "text"
      },
      "source": [
        "<a href=\"https://colab.research.google.com/github/Comp-Wolf/Assignments/blob/main/Assignment_10_01_(Password_Reminder).ipynb\" target=\"_parent\"><img src=\"https://colab.research.google.com/assets/colab-badge.svg\" alt=\"Open In Colab\"/></a>"
      ]
    },
    {
      "cell_type": "code",
      "metadata": {
        "id": "dzEHE2n3gSum"
      },
      "source": [
        "# Write a program that \n",
        "\n",
        "# Takes the first name from the user and compares it to yours,\n",
        "# Then if the name the user entered is the same as yours, print out such as : \"Hello, Joseph! The password is : W@12\",\n",
        "# If the name the user entered is not the same as yours, print out such as : \"Hello, Amina! See you later.\"\n",
        "\n",
        "\n",
        "name = \"Joseph\"\n",
        "first_name = input(\"Enter your firs name: \")\n",
        "\n",
        "if firs_name.title() == name :\n",
        "  print(\"Hello, Joseph! Then password is : W@12 \")\n",
        "else :\n",
        "  print(f\"Hello, {first_name}! See you later.\")"
      ],
      "execution_count": null,
      "outputs": []
    }
  ]
}
