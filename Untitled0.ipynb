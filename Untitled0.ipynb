{
  "nbformat": 4,
  "nbformat_minor": 0,
  "metadata": {
    "colab": {
      "name": "Untitled0.ipynb",
      "provenance": [],
      "toc_visible": true,
      "authorship_tag": "ABX9TyMB7w4MYMrHvgwHpeOgJecU",
      "include_colab_link": true
    },
    "kernelspec": {
      "name": "python3",
      "display_name": "Python 3"
    },
    "language_info": {
      "name": "python"
    }
  },
  "cells": [
    {
      "cell_type": "markdown",
      "metadata": {
        "id": "view-in-github",
        "colab_type": "text"
      },
      "source": [
        "<a href=\"https://colab.research.google.com/github/Comp-Wolf/Assignments/blob/%C3%B6devler/Untitled0.ipynb\" target=\"_parent\"><img src=\"https://colab.research.google.com/assets/colab-badge.svg\" alt=\"Open In Colab\"/></a>"
      ]
    },
    {
      "cell_type": "markdown",
      "metadata": {
        "id": "BGnV86OnZiwc"
      },
      "source": [
        "# PYTHON - ÖDEV-4 covid-19 risk"
      ]
    },
    {
      "cell_type": "code",
      "metadata": {
        "id": "5nZgQs9TXLTD",
        "colab": {
          "base_uri": "https://localhost:8080/"
        },
        "outputId": "3c93d167-1e64-4245-d323-7fa1122e7ddb"
      },
      "source": [
        "# benim denemem\n",
        "sor = \"(Evet Or Hayır)\"\n",
        "# age = f'bool(input(\"75 yaşından büyük bir sigara bağımlısı mısınız ? =\").{sor})'\n",
        "\n",
        "age = f'(75 yaşından büyük bir sigara bağımlısı mısınız ? =).{sor})'\n",
        "\n",
        "chronic = bool(input(\"Herhangibir kroniik hastalığınız varmı ? =\"))\n",
        "immune = bool(input(\"Sizin bağışıklık sisteminiz çok zayıf mı?\"))\n",
        "risk = (age or chronic or immune)\n",
        "if risk == False:\n",
        "  print(\"Ölüm riskiniz var.\")\n",
        "else:\n",
        "  print(\"Ölüm riskiniz yok.\")"
      ],
      "execution_count": null,
      "outputs": [
        {
          "output_type": "stream",
          "name": "stdout",
          "text": [
            "Herhangibir kroniik hastalığınız varmı ? =E\n",
            "Sizin bağışıklık sisteminiz çok zayıf mı?E\n",
            "Ölüm riskiniz yok.\n"
          ]
        }
      ]
    },
    {
      "cell_type": "code",
      "metadata": {
        "id": "YyU86-5uXLO9"
      },
      "source": [
        "yaş = # yalnızca atanabilir Doğru/Yanlış kronik = # yalnızca atanabilir Doğru/Yanlış bağışık = # yalnızca atanabilir Doğru/Yanlış  \n",
        "\n",
        "\n",
        "risk = ? (Doğru ya da yanlış)"
      ],
      "execution_count": null,
      "outputs": []
    },
    {
      "cell_type": "code",
      "metadata": {
        "id": "WIPcpKz6oFe5",
        "colab": {
          "base_uri": "https://localhost:8080/"
        },
        "outputId": "66e3deec-2fb9-4f49-a713-740dcade9190"
      },
      "source": [
        "# hocanın cevabı\n",
        "age = True\n",
        "chronic = True\n",
        "immune = True\n",
        "\n",
        "risk = age or chronic or immune\n",
        "risk"
      ],
      "execution_count": null,
      "outputs": [
        {
          "output_type": "execute_result",
          "data": {
            "text/plain": [
              "True"
            ]
          },
          "metadata": {},
          "execution_count": 73
        }
      ]
    },
    {
      "cell_type": "code",
      "metadata": {
        "id": "4zoz83x1tnAp"
      },
      "source": [
        ""
      ],
      "execution_count": null,
      "outputs": []
    },
    {
      "cell_type": "markdown",
      "metadata": {
        "id": "CSBQdxddW_HW"
      },
      "source": [
        "\"# Yeni Bölüm"
      ]
    }
  ]
}