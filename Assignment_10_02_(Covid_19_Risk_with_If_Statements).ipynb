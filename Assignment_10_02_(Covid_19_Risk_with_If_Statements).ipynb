{
  "nbformat": 4,
  "nbformat_minor": 0,
  "metadata": {
    "colab": {
      "name": "Assignment - 10/02 (Covid-19 Risk with If Statements).ipynb",
      "provenance": [],
      "authorship_tag": "ABX9TyPqYECc3xmqDp2jEoFBVBA9",
      "include_colab_link": true
    },
    "kernelspec": {
      "name": "python3",
      "display_name": "Python 3"
    },
    "language_info": {
      "name": "python"
    }
  },
  "cells": [
    {
      "cell_type": "markdown",
      "metadata": {
        "id": "view-in-github",
        "colab_type": "text"
      },
      "source": [
        "<a href=\"https://colab.research.google.com/github/Comp-Wolf/Assignments/blob/main/Assignment_10_02_(Covid_19_Risk_with_If_Statements).ipynb\" target=\"_parent\"><img src=\"https://colab.research.google.com/assets/colab-badge.svg\" alt=\"Open In Colab\"/></a>"
      ]
    },
    {
      "cell_type": "code",
      "metadata": {
        "colab": {
          "base_uri": "https://localhost:8080/"
        },
        "id": "6DGNHu8Bo7BD",
        "outputId": "34af221f-d7f7-4b44-a92a-1a7be68315f7"
      },
      "source": [
        "# Problem :\n",
        "# Task : Estimating the risk of death from coronavirus. Write a program that;\n",
        "# Takes \"Yes\" or \"No\" from the user as an answer to the following questions :\n",
        "# Are you a cigarette addict older than 75 years old? Variable → age\n",
        "# Do you have a severe chronic disease? Variable → chronic\n",
        "# Is your immune system too weak? Variable → immune\n",
        "# Set a logical algorithm using boolean logic operators (and/or) and use \n",
        "#     if-statements with the given variables in order to print out us a \n",
        "#     message : \"You are in risky group\"(if True ) or \n",
        "#     \"You are not in risky group\" (if False).\n",
        "\n",
        "age = input(\"Are you a cigarette addict older than 75 years old? Yes/No: \")\n",
        "chronic = input(\"Do you have a severe chronic disease? Yes/No: \")\n",
        "immune = input(\"Is your immune system too weak? Yes/No: \")\n",
        "\n",
        "if age.title() == \"Yes\" or chronic.title() == \"Yes\" or immune.title() == \"Yes\":\n",
        "  print(\"You are in risky group\")\n",
        "else:\n",
        "  print(\"You are not in risky group\")"
      ],
      "execution_count": 4,
      "outputs": [
        {
          "output_type": "stream",
          "name": "stdout",
          "text": [
            "Are you a cigarette addict older than 75 years old? Yes/No: yes\n",
            "Do you have a severe chronic disease? Yes/No: no\n",
            "Is your immune system too weak? Yes/No: no\n",
            "You are in risky group\n"
          ]
        }
      ]
    },
    {
      "cell_type": "code",
      "metadata": {
        "id": "WJQ0yKGoqoYm"
      },
      "source": [
        ""
      ],
      "execution_count": null,
      "outputs": []
    }
  ]
}