{
  "nbformat": 4,
  "nbformat_minor": 0,
  "metadata": {
    "colab": {
      "name": "PYTHON",
      "provenance": [],
      "collapsed_sections": [
        "ymI5k_7-kxF2",
        "QP_ZOEqlvtek",
        "Oy-Zt87vXARG",
        "ETLtnyZNPDEV",
        "lNs71TOtZhQc",
        "21TiOYmFY5sX",
        "jR60Hvfg1hPO",
        "S8blBds61hSn",
        "xnhsWURE1hVK",
        "7N9k30MLv7iW",
        "WHdyJ1sT0x48",
        "Uhl-lUU70yxK",
        "cQhAVDk91JW9",
        "kazTRH6Fv58v",
        "MOe4hQwMWoPV",
        "0wbU0rbQWog9",
        "OjlWbDMTf1RD",
        "sXydcjEMpUFh",
        "9YGPE7rwtcIt",
        "9YFrngXQWooH",
        "f-Z43pKyjv0S",
        "CGSRXumPUrFo",
        "p1jQ3Nglm4dX",
        "i3BK0SJuGN7C",
        "BGnV86OnZiwc",
        "s30O45waXAqN",
        "PNDivT4Q6Fb7",
        "DvgYtI7cGeUo",
        "P2L1zA9wi_vD",
        "0Ray5Y-yrC1n",
        "XRKYS7dmmOp5",
        "Tu10Fw1fXBsd",
        "9Wj6CY98rEpM"
      ],
      "mount_file_id": "1eJV6pq3RnXFsk_xbqdQONLOUmDzbZYLm",
      "authorship_tag": "ABX9TyPPWPc1Wb9G2qj0MlweQCeN",
      "include_colab_link": true
    },
    "kernelspec": {
      "display_name": "Python 3",
      "name": "python3"
    },
    "language_info": {
      "name": "python"
    }
  },
  "cells": [
    {
      "cell_type": "markdown",
      "metadata": {
        "id": "view-in-github",
        "colab_type": "text"
      },
      "source": [
        "<a href=\"https://colab.research.google.com/github/Comp-Wolf/Assignments/blob/main/PYTHON.ipynb\" target=\"_parent\"><img src=\"https://colab.research.google.com/assets/colab-badge.svg\" alt=\"Open In Colab\"/></a>"
      ]
    },
    {
      "cell_type": "markdown",
      "metadata": {
        "id": "ymI5k_7-kxF2"
      },
      "source": [
        "# 04-10-2021 dersi\n"
      ]
    },
    {
      "cell_type": "code",
      "metadata": {
        "colab": {
          "base_uri": "https://localhost:8080/"
        },
        "id": "2Y9eMB2zfreP",
        "outputId": "a3e6fe10-79a3-40a7-99ae-b8b58cf9ae56"
      },
      "source": [
        "kadayıf = True\n",
        "\n",
        "# iç\n",
        "fındık = False\n",
        "fıstık = True\n",
        "ceviz = False\n",
        "\n",
        "# şerbet\n",
        "su = True\n",
        "şeker = True\n",
        "\n",
        "yumurta = True\n",
        "\n",
        "# içecek\n",
        "\n",
        "cay = True\n",
        "meşrubat = True\n",
        "limonata = True\n",
        "\n",
        "yedim = kadayıf and (fındık or fıstık or ceviz) and (su and şeker) and yumurta and (cay or meşrubat or limonata)\n",
        "yedim"
      ],
      "execution_count": null,
      "outputs": [
        {
          "output_type": "execute_result",
          "data": {
            "text/plain": [
              "True"
            ]
          },
          "metadata": {},
          "execution_count": 6
        }
      ]
    },
    {
      "cell_type": "code",
      "metadata": {
        "colab": {
          "base_uri": "https://localhost:8080/"
        },
        "id": "PPLHkkOUh3By",
        "outputId": "b5f27685-49c8-4cd3-81be-f671a33756d0"
      },
      "source": [
        "a = 'okuyalım'\n",
        "b = 'onun'\n",
        "print(a[2:5] , b[3:])\n",
        "\n"
      ],
      "execution_count": null,
      "outputs": [
        {
          "output_type": "stream",
          "name": "stdout",
          "text": [
            "uya n\n"
          ]
        }
      ]
    },
    {
      "cell_type": "code",
      "metadata": {
        "id": "g2FpKaERGzDz"
      },
      "source": [
        ""
      ],
      "execution_count": null,
      "outputs": []
    },
    {
      "cell_type": "markdown",
      "source": [
        ""
      ],
      "metadata": {
        "id": "6iIqxNXb53be"
      }
    },
    {
      "cell_type": "markdown",
      "metadata": {
        "id": "QP_ZOEqlvtek"
      },
      "source": [
        "# 07-10-2021 dersi\n"
      ]
    },
    {
      "cell_type": "code",
      "metadata": {
        "colab": {
          "base_uri": "https://localhost:8080/"
        },
        "id": "w5i-vTf8k6HW",
        "outputId": "8f0993cb-8456-4f10-fd59-7124e39890c1"
      },
      "source": [
        "bool(\"0\")"
      ],
      "execution_count": null,
      "outputs": [
        {
          "output_type": "execute_result",
          "data": {
            "text/plain": [
              "True"
            ]
          },
          "metadata": {},
          "execution_count": 1
        }
      ]
    },
    {
      "cell_type": "code",
      "metadata": {
        "colab": {
          "base_uri": "https://localhost:8080/"
        },
        "id": "839MSKHBk6sS",
        "outputId": "7706471c-a20a-477a-92c6-f77a15f8b7ab"
      },
      "source": [
        "bool(\"\")"
      ],
      "execution_count": null,
      "outputs": [
        {
          "output_type": "execute_result",
          "data": {
            "text/plain": [
              "False"
            ]
          },
          "metadata": {},
          "execution_count": 2
        }
      ]
    },
    {
      "cell_type": "code",
      "metadata": {
        "colab": {
          "base_uri": "https://localhost:8080/"
        },
        "id": "BoeNsWADk6v8",
        "outputId": "a028260d-a9e9-4d6f-c92e-944ede9f3ab9"
      },
      "source": [
        "bool([])"
      ],
      "execution_count": null,
      "outputs": [
        {
          "output_type": "execute_result",
          "data": {
            "text/plain": [
              "False"
            ]
          },
          "metadata": {},
          "execution_count": 3
        }
      ]
    },
    {
      "cell_type": "code",
      "metadata": {
        "colab": {
          "base_uri": "https://localhost:8080/"
        },
        "id": "sis_OJ0ok60o",
        "outputId": "8ef3519f-5023-4be5-dc4b-50b4dbc4f02d"
      },
      "source": [
        "bool(0)"
      ],
      "execution_count": null,
      "outputs": [
        {
          "output_type": "execute_result",
          "data": {
            "text/plain": [
              "False"
            ]
          },
          "metadata": {},
          "execution_count": 4
        }
      ]
    },
    {
      "cell_type": "code",
      "metadata": {
        "colab": {
          "base_uri": "https://localhost:8080/"
        },
        "id": "D52glolOk64S",
        "outputId": "cea004f4-4418-4a47-97b3-bed6f83bbc45"
      },
      "source": [
        "bool(1)"
      ],
      "execution_count": null,
      "outputs": [
        {
          "output_type": "execute_result",
          "data": {
            "text/plain": [
              "True"
            ]
          },
          "metadata": {},
          "execution_count": 5
        }
      ]
    },
    {
      "cell_type": "code",
      "metadata": {
        "colab": {
          "base_uri": "https://localhost:8080/"
        },
        "id": "8jEzVStek675",
        "outputId": "61fed725-2b47-4d54-cf1b-6ff7c79457f6"
      },
      "source": [
        "print(2 and 3)"
      ],
      "execution_count": null,
      "outputs": [
        {
          "output_type": "stream",
          "name": "stdout",
          "text": [
            "3\n"
          ]
        }
      ]
    },
    {
      "cell_type": "code",
      "metadata": {
        "colab": {
          "base_uri": "https://localhost:8080/"
        },
        "id": "wMQgDPtBk6_k",
        "outputId": "f8a413cb-eae7-4508-f54c-d01f9fe2aa90"
      },
      "source": [
        "print(1 and 0)"
      ],
      "execution_count": null,
      "outputs": [
        {
          "output_type": "stream",
          "name": "stdout",
          "text": [
            "0\n"
          ]
        }
      ]
    },
    {
      "cell_type": "code",
      "metadata": {
        "colab": {
          "base_uri": "https://localhost:8080/",
          "height": 35
        },
        "id": "xOS937G2k7Da",
        "outputId": "dbc1454d-9b1c-456e-ec81-aba60d5e25b5"
      },
      "source": [
        "\"\" and 0"
      ],
      "execution_count": null,
      "outputs": [
        {
          "output_type": "execute_result",
          "data": {
            "application/vnd.google.colaboratory.intrinsic+json": {
              "type": "string"
            },
            "text/plain": [
              "''"
            ]
          },
          "metadata": {},
          "execution_count": 8
        }
      ]
    },
    {
      "cell_type": "code",
      "metadata": {
        "colab": {
          "base_uri": "https://localhost:8080/"
        },
        "id": "4_2iN163k7Hk",
        "outputId": "52f396ea-d53a-4b44-8923-a0bb852cb9f3"
      },
      "source": [
        "print(2 and \"hello workd\")\n",
        "print([]and \"be happy!\")\n",
        "print(None and ())"
      ],
      "execution_count": null,
      "outputs": [
        {
          "output_type": "stream",
          "name": "stdout",
          "text": [
            "hello workd\n",
            "[]\n",
            "None\n"
          ]
        }
      ]
    },
    {
      "cell_type": "code",
      "metadata": {
        "colab": {
          "base_uri": "https://localhost:8080/"
        },
        "id": "hCMYBcT4k7LF",
        "outputId": "c413938c-3f6c-41f1-a0c5-98d326a534e2"
      },
      "source": [
        "print(2 or \"hello world\")\n",
        "print([] or \"be happy!\")\n",
        "print(None or ())\n",
        "print({} or 0)\n",
        "print({0} or false)\n",
        "# 2\n",
        "# be\n",
        "# ()\n",
        "# 0\n",
        "# {0}"
      ],
      "execution_count": null,
      "outputs": [
        {
          "output_type": "stream",
          "name": "stdout",
          "text": [
            "2\n",
            "be happy!\n",
            "()\n",
            "0\n",
            "{0}\n"
          ]
        }
      ]
    },
    {
      "cell_type": "code",
      "metadata": {
        "colab": {
          "base_uri": "https://localhost:8080/",
          "height": 35
        },
        "id": "xMHjGR1sv0Ku",
        "outputId": "f99ee6ed-bd30-4e0c-d232-952143db354c"
      },
      "source": [
        "sonuc = str((5+6) ** 2) + \"121\" # ikiside string olduğu için yan yana yazdı işlem yapmadı.\n",
        "sonuc"
      ],
      "execution_count": null,
      "outputs": [
        {
          "output_type": "execute_result",
          "data": {
            "application/vnd.google.colaboratory.intrinsic+json": {
              "type": "string"
            },
            "text/plain": [
              "'121121'"
            ]
          },
          "metadata": {},
          "execution_count": 6
        }
      ]
    },
    {
      "cell_type": "code",
      "metadata": {
        "colab": {
          "base_uri": "https://localhost:8080/",
          "height": 35
        },
        "id": "E3ldX7FPv0cA",
        "outputId": "d0c486e7-7a75-4b32-b1a9-f81d99c776eb"
      },
      "source": [
        "sonuc = (sonuc+sonuc) * 2\n",
        "sonuc"
      ],
      "execution_count": null,
      "outputs": [
        {
          "output_type": "execute_result",
          "data": {
            "application/vnd.google.colaboratory.intrinsic+json": {
              "type": "string"
            },
            "text/plain": [
              "'121121121121121121121121'"
            ]
          },
          "metadata": {},
          "execution_count": 7
        }
      ]
    },
    {
      "cell_type": "code",
      "metadata": {
        "colab": {
          "base_uri": "https://localhost:8080/",
          "height": 35
        },
        "id": "0WBA-1iRv0lE",
        "outputId": "d121d43b-475e-4587-d4c0-dd77d42bd4d5"
      },
      "source": [
        "\"clarusway\" * 3   # çarpı işlemi ile tekrar eder."
      ],
      "execution_count": null,
      "outputs": [
        {
          "output_type": "execute_result",
          "data": {
            "application/vnd.google.colaboratory.intrinsic+json": {
              "type": "string"
            },
            "text/plain": [
              "'claruswayclaruswayclarusway'"
            ]
          },
          "metadata": {},
          "execution_count": 8
        }
      ]
    },
    {
      "cell_type": "code",
      "metadata": {
        "colab": {
          "base_uri": "https://localhost:8080/"
        },
        "id": "pph5Fo3Ov0oc",
        "outputId": "93e87d81-d027-4d51-d837-e9fb3f3e19ad"
      },
      "source": [
        "# * işretinin işeyişi\n",
        "print (* \"clarusway\") # stringin elemanlarını iterable a çevirir. (tüm iterable lar için geçerlidir.)"
      ],
      "execution_count": null,
      "outputs": [
        {
          "output_type": "stream",
          "name": "stdout",
          "text": [
            "c l a r u s w a y\n"
          ]
        }
      ]
    },
    {
      "cell_type": "code",
      "metadata": {
        "colab": {
          "base_uri": "https://localhost:8080/"
        },
        "id": "x-xDfI1pv0rv",
        "outputId": "c6c09523-98ae-4a38-cfd5-bf7215c7975f"
      },
      "source": [
        "str_one = 'upper'\n",
        "str_one += 'case'\n",
        "print(str_one)\n",
        "str_one += 'letter'\n",
        "print(str_one)\n",
        "str_one += 'end'\n",
        "print(str_one)\n",
        "# 🎯 += (+ ile = arasında boşluk olmaması lazım) kod yazarken."
      ],
      "execution_count": null,
      "outputs": [
        {
          "output_type": "stream",
          "name": "stdout",
          "text": [
            "uppercase\n",
            "uppercaseletter\n",
            "uppercaseletterend\n"
          ]
        }
      ]
    },
    {
      "cell_type": "code",
      "metadata": {
        "id": "qH4XRonyv0vE"
      },
      "source": [
        "#string metotları\n",
        "\"metodlar\""
      ],
      "execution_count": null,
      "outputs": []
    },
    {
      "cell_type": "code",
      "metadata": {
        "id": "52ZYxLqcv0yR"
      },
      "source": [
        "deneme = \"aile\"\n"
      ],
      "execution_count": null,
      "outputs": []
    },
    {
      "cell_type": "code",
      "metadata": {
        "id": "5zVD07GE4oax"
      },
      "source": [
        "deneme."
      ],
      "execution_count": null,
      "outputs": []
    },
    {
      "cell_type": "code",
      "metadata": {
        "colab": {
          "base_uri": "https://localhost:8080/",
          "height": 35
        },
        "id": "Hu_Xz7hev01m",
        "outputId": "2db7d15d-1ff9-44a9-d25e-bd1746566573"
      },
      "source": [
        "# formatlamanın kullanımı\n",
        "saat = \"05:00\"\n",
        "yer = \"okul\"\n",
        "miktar = 2\n",
        "\"ben sabah {} de uyandım. {}'a gittim. Gelirken de {} kğ elma aldım.\".format(saat, yer, miktar)"
      ],
      "execution_count": null,
      "outputs": [
        {
          "output_type": "execute_result",
          "data": {
            "application/vnd.google.colaboratory.intrinsic+json": {
              "type": "string"
            },
            "text/plain": [
              "\"ben sabah 05:00 de uyandım. okul'a gittim. Gelirken de 2 kğ elma aldım.\""
            ]
          },
          "metadata": {},
          "execution_count": 31
        }
      ]
    },
    {
      "cell_type": "code",
      "metadata": {
        "colab": {
          "base_uri": "https://localhost:8080/",
          "height": 35
        },
        "id": "0wFSLbTTv04f",
        "outputId": "9dd4010e-a96d-4280-d321-c1eb3e368171"
      },
      "source": [
        "saat = \"05:00\"\n",
        "yer = \"okul\"\n",
        "miktar = 2\n",
        "\"ben sabah {yer} de uyandım. {miktar}'a gittim. Gelirken de {saat} kğ elma aldım.\".format(saat = \"yer\" , yer = \"miktar\" , miktar = \"saat\")"
      ],
      "execution_count": null,
      "outputs": [
        {
          "output_type": "execute_result",
          "data": {
            "application/vnd.google.colaboratory.intrinsic+json": {
              "type": "string"
            },
            "text/plain": [
              "\"ben sabah miktar de uyandım. saat'a gittim. Gelirken de yer kğ elma aldım.\""
            ]
          },
          "metadata": {},
          "execution_count": 40
        }
      ]
    },
    {
      "cell_type": "code",
      "metadata": {
        "colab": {
          "base_uri": "https://localhost:8080/",
          "height": 35
        },
        "id": "gDGJtOM7v098",
        "outputId": "e839506d-f3ee-4315-ce01-2c45faeb060e"
      },
      "source": [
        "saat = \"05:00\"\n",
        "yer = \"okul\"\n",
        "miktar = 2\n",
        "\"ben sabah {1} de uyandım. {0}'a gittim. Gelirken de {2} kğ elma aldım.\".format(\"okul\", \"05:00\", \"2\")"
      ],
      "execution_count": null,
      "outputs": [
        {
          "output_type": "execute_result",
          "data": {
            "application/vnd.google.colaboratory.intrinsic+json": {
              "type": "string"
            },
            "text/plain": [
              "\"ben sabah 05:00 de uyandım. okul'a gittim. Gelirken de 2 kğ elma aldım.\""
            ]
          },
          "metadata": {},
          "execution_count": 36
        }
      ]
    },
    {
      "cell_type": "code",
      "metadata": {
        "colab": {
          "base_uri": "https://localhost:8080/",
          "height": 35
        },
        "id": "SrALTjZ6v1By",
        "outputId": "a757dadb-4ff8-4f77-9200-af527693c31a"
      },
      "source": [
        "saat = \"05:00\"\n",
        "yer = \"okul\"\n",
        "miktar = 2\n",
        "\"ben sabah {1} de uyandım. {0}'a gittim. Gelirken de {2} kğ elma aldım.\".format(yer , saat , miktar)"
      ],
      "execution_count": null,
      "outputs": [
        {
          "output_type": "execute_result",
          "data": {
            "application/vnd.google.colaboratory.intrinsic+json": {
              "type": "string"
            },
            "text/plain": [
              "\"ben sabah 05:00 de uyandım. okul'a gittim. Gelirken de 2 kğ elma aldım.\""
            ]
          },
          "metadata": {},
          "execution_count": 37
        }
      ]
    },
    {
      "cell_type": "code",
      "metadata": {
        "id": "vm98MsqTv1Es"
      },
      "source": [
        "phrase = '{2} {} {} {}'.format()"
      ],
      "execution_count": null,
      "outputs": []
    },
    {
      "cell_type": "code",
      "metadata": {
        "colab": {
          "base_uri": "https://localhost:8080/",
          "height": 35
        },
        "id": "f5OZpYVM92Op",
        "outputId": "edca028b-db22-41a8-eb50-d7c239c508c5"
      },
      "source": [
        "# f-string\n",
        "f'string {1+1} string {2*3 } string {2**3 }'"
      ],
      "execution_count": null,
      "outputs": [
        {
          "output_type": "execute_result",
          "data": {
            "application/vnd.google.colaboratory.intrinsic+json": {
              "type": "string"
            },
            "text/plain": [
              "'string 2 string 6 string 8'"
            ]
          },
          "metadata": {},
          "execution_count": 41
        }
      ]
    },
    {
      "cell_type": "code",
      "metadata": {
        "colab": {
          "base_uri": "https://localhost:8080/"
        },
        "id": "WCFPiDLy92XC",
        "outputId": "244c36c5-8130-4c58-c731-d8c6632ee13e"
      },
      "source": [
        "text = f\"{str(11)+'11'}\"\n",
        "print(text)"
      ],
      "execution_count": null,
      "outputs": [
        {
          "output_type": "stream",
          "name": "stdout",
          "text": [
            "1111\n"
          ]
        }
      ]
    },
    {
      "cell_type": "code",
      "metadata": {
        "colab": {
          "base_uri": "https://localhost:8080/"
        },
        "id": "_upxsuAw92ag",
        "outputId": "729886e3-017b-4898-fb5b-27c9c3b4b8d3"
      },
      "source": [
        "#  replace komutu s yi bulup yerine d yi koydu.\n",
        "text = f\"ali veli {'seli'.replace('s', 'd')}\"\n",
        "print(text)"
      ],
      "execution_count": null,
      "outputs": [
        {
          "output_type": "stream",
          "name": "stdout",
          "text": [
            "ali veli deli\n"
          ]
        }
      ]
    },
    {
      "cell_type": "code",
      "metadata": {
        "colab": {
          "base_uri": "https://localhost:8080/"
        },
        "id": "V3OTzwov92f0",
        "outputId": "d2b49d8a-8969-483c-c856-bfafe1528723"
      },
      "source": [
        "# capitalize komutu (baş harfini büyük yapar) () parante onu çağırmak demek.\n",
        "my_name = 'mArIAm'\n",
        "output = f\"My name is {my_name.capitalize()}\"\n",
        "print(output)"
      ],
      "execution_count": null,
      "outputs": [
        {
          "output_type": "stream",
          "name": "stdout",
          "text": [
            "My name is Mariam\n"
          ]
        }
      ]
    },
    {
      "cell_type": "code",
      "metadata": {
        "colab": {
          "base_uri": "https://localhost:8080/"
        },
        "id": "Sw1aIf2792ju",
        "outputId": "aea20c04-8108-4d25-a7be-94f150a70260"
      },
      "source": [
        "name = \"Comp\"\n",
        "job = \"wolf\"\n",
        "domain = \"IT\"\n",
        "message = (\n",
        "      f\"Hi {name}. \" \\\n",
        "      f\"You are one of the {job} \" \\\n",
        "      f\"in the {domain} section.\"\n",
        ")\n",
        "print(message)"
      ],
      "execution_count": null,
      "outputs": [
        {
          "output_type": "stream",
          "name": "stdout",
          "text": [
            "Hi Comp. You are one of the wolf in the IT section.\n"
          ]
        }
      ]
    },
    {
      "cell_type": "code",
      "metadata": {
        "colab": {
          "base_uri": "https://localhost:8080/"
        },
        "id": "UxriA5AA92nd",
        "outputId": "91bb9e89-dd5c-41cd-edc2-e9b24512eb33"
      },
      "source": [
        "para = 1000\n",
        "para = para * 1.07 ** 7    # 1 haftanın karı\n",
        "para"
      ],
      "execution_count": null,
      "outputs": [
        {
          "output_type": "execute_result",
          "data": {
            "text/plain": [
              "1605.7814764784307"
            ]
          },
          "metadata": {},
          "execution_count": 64
        }
      ]
    },
    {
      "cell_type": "code",
      "metadata": {
        "id": "UWUnDLiL92qu"
      },
      "source": [
        ""
      ],
      "execution_count": null,
      "outputs": []
    },
    {
      "cell_type": "code",
      "metadata": {
        "id": "qimeVVYT92u0"
      },
      "source": [
        ""
      ],
      "execution_count": null,
      "outputs": []
    },
    {
      "cell_type": "markdown",
      "metadata": {
        "id": "Oy-Zt87vXARG"
      },
      "source": [
        "# 11-10-2021 dersi"
      ]
    },
    {
      "cell_type": "code",
      "metadata": {
        "id": "S44E39_KTi8w"
      },
      "source": [
        "#  ımmutability konusu (değişmezlik. veri tipleri. )"
      ],
      "execution_count": null,
      "outputs": []
    },
    {
      "cell_type": "code",
      "metadata": {
        "id": "ZWKJD3q4Ti_N"
      },
      "source": [
        "lower () # tüm harfleri küçük yapıyor. operasyonun sonucu/satırı string bir sonuç veriyor."
      ],
      "execution_count": null,
      "outputs": []
    },
    {
      "cell_type": "code",
      "metadata": {
        "colab": {
          "base_uri": "https://localhost:8080/"
        },
        "id": "eO2XSUNPTjCT",
        "outputId": "e9972811-e352-4196-dc75-1855c4bf4ff1"
      },
      "source": [
        "var_str = \"In God we Trust\"\n",
        "var_str.lower()\n",
        "print(var_str)"
      ],
      "execution_count": null,
      "outputs": [
        {
          "output_type": "stream",
          "name": "stdout",
          "text": [
            "In God we Trust\n"
          ]
        }
      ]
    },
    {
      "cell_type": "code",
      "metadata": {
        "id": "2Kj3svsbTjQ_"
      },
      "source": [
        "#   Searching a String ()\n",
        "# startswith (baştan ara)\n",
        "# endswith (sondan ara)\n",
        "string.startswith ()   # sonuç yaa true yada false verir."
      ],
      "execution_count": null,
      "outputs": []
    },
    {
      "cell_type": "code",
      "metadata": {
        "colab": {
          "base_uri": "https://localhost:8080/"
        },
        "id": "tE4Pe3A9X7K2",
        "outputId": "2abbd11c-78f4-433c-f81a-37d1437b872e"
      },
      "source": [
        "text = \"www.clarusway.com\"\n",
        "print(text.endswith(\".com\"))\n",
        "print(text.startswith(\"http:\"))"
      ],
      "execution_count": null,
      "outputs": [
        {
          "output_type": "stream",
          "name": "stdout",
          "text": [
            "True\n",
            "False\n"
          ]
        }
      ]
    },
    {
      "cell_type": "code",
      "metadata": {
        "colab": {
          "base_uri": "https://localhost:8080/"
        },
        "id": "BpE2o-U_X7N9",
        "outputId": "a462b687-16d2-4691-8bbd-7d6cf652a616"
      },
      "source": [
        "text = \"clarusway\"\n",
        "text.startswith(\"lc\")"
      ],
      "execution_count": null,
      "outputs": [
        {
          "output_type": "execute_result",
          "data": {
            "text/plain": [
              "False"
            ]
          },
          "metadata": {},
          "execution_count": 3
        }
      ]
    },
    {
      "cell_type": "code",
      "metadata": {
        "colab": {
          "base_uri": "https://localhost:8080/"
        },
        "id": "CS3a4OgsX7RT",
        "outputId": "b703c77c-9137-4085-8e9a-94edcbc8e032"
      },
      "source": [
        "text = \"clarusway\"\n",
        "text.endswith(\"ya\")"
      ],
      "execution_count": null,
      "outputs": [
        {
          "output_type": "execute_result",
          "data": {
            "text/plain": [
              "False"
            ]
          },
          "metadata": {},
          "execution_count": 5
        }
      ]
    },
    {
      "cell_type": "code",
      "metadata": {
        "id": "uRDZ2lBJX7Xd"
      },
      "source": [
        "text.startswith(\"u\" , 4)   # 4. indekste u var mı yokmu ona bakıyor işlem."
      ],
      "execution_count": null,
      "outputs": []
    },
    {
      "cell_type": "code",
      "metadata": {
        "id": "gUWDt0hvX7UE"
      },
      "source": [
        "#   Changing a String\n",
        "string.method(arguments)\n"
      ],
      "execution_count": null,
      "outputs": []
    },
    {
      "cell_type": "code",
      "metadata": {
        "colab": {
          "base_uri": "https://localhost:8080/"
        },
        "id": "L-Jcdd_KX7aq",
        "outputId": "26d04f2a-6bf9-4653-e839-a14766010bd5"
      },
      "source": [
        "#   - replace\n",
        "yeni = text.replace(\"c\" ,\"C\")\n",
        "print(yeni)\n",
        "yeni"
      ],
      "execution_count": null,
      "outputs": [
        {
          "output_type": "stream",
          "name": "stdout",
          "text": [
            "Clarusway\n"
          ]
        }
      ]
    },
    {
      "cell_type": "code",
      "metadata": {
        "id": "M8G3HMwUX7dc"
      },
      "source": [
        "# bunlara metotlar diyelim.\n",
        "str.swapcase() # küçük harfleri büyük, büyük harfleri küçük yapar.\n",
        "str.capitalize() # str sadece ilk harfini büyük yapıyor. dikkat str in ilk hafrini büyük yapıyor.\n",
        "str.upper() # tüm str i büyük harf yapıyor.\n",
        "str.lower() # tüm str i küçük harf yapıyor.\n",
        "str.title() # tüm str in her kelimesinin ilk harfini büyük yapıyor.\n"
      ],
      "execution_count": null,
      "outputs": []
    },
    {
      "cell_type": "code",
      "metadata": {
        "colab": {
          "base_uri": "https://localhost:8080/"
        },
        "id": "xoJkeUpmX7gi",
        "outputId": "a01c66c3-726e-45d1-e2db-a4a5f88b398a"
      },
      "source": [
        "sentence = \"I live and work in Virginia\"\n",
        "\n",
        "print(sentence.upper() , \"   1\")\n",
        "\n",
        "print(sentence.lower() , \"   2\")\n",
        "\n",
        "print(sentence.swapcase() , \"   3\")\n",
        "\n",
        "print(sentence.title() , \"   4\")\n",
        "\n",
        "print(sentence)  # bu şekilde sitringimizde bi değişiklik yapılmıyor.\n"
      ],
      "execution_count": null,
      "outputs": [
        {
          "output_type": "stream",
          "name": "stdout",
          "text": [
            "I LIVE AND WORK IN VIRGINIA    1\n",
            "i live and work in virginia    2\n",
            "i LIVE AND WORK IN vIRGINIA    3\n",
            "I Live And Work In Virginia    4\n",
            "I live and work in Virginia\n"
          ]
        }
      ]
    },
    {
      "cell_type": "code",
      "metadata": {
        "id": "rDxLHK8jX7mS"
      },
      "source": [
        "#  string.method1().method2().method3()\n"
      ],
      "execution_count": null,
      "outputs": []
    },
    {
      "cell_type": "code",
      "metadata": {
        "colab": {
          "base_uri": "https://localhost:8080/"
        },
        "id": "BRE-b2Ybhf5O",
        "outputId": "55f053f8-b036-463e-e924-3c3c8f553a6a"
      },
      "source": [
        "sentence = \"I live and work in Virginia\"\n",
        "title_sentence = sentence.title()\n",
        "print(title_sentence , \"  1.\")\n",
        "\n",
        "changed_sentence = sentence.replace(\"i\",\"+\")\n",
        "print(changed_sentence , \"  2.\")\n",
        "\n",
        "print(sentence) # sentence değişkenini değiştirmedik."
      ],
      "execution_count": null,
      "outputs": [
        {
          "output_type": "stream",
          "name": "stdout",
          "text": [
            "I Live And Work In Virginia   1.\n",
            "I l+ve and work +n V+rg+n+a   2.\n",
            "I live and work in Virginia\n"
          ]
        }
      ]
    },
    {
      "cell_type": "code",
      "metadata": {
        "colab": {
          "base_uri": "https://localhost:8080/"
        },
        "id": "vnt1CS5ehf8n",
        "outputId": "ecd374bd-bca6-49a8-af5b-50b499bfd7a5"
      },
      "source": [
        "text = \"S0d0me and G0m0re\"\n",
        "text = text.replace(\"0\" , \"o\")\n",
        "print(text)"
      ],
      "execution_count": null,
      "outputs": [
        {
          "output_type": "stream",
          "name": "stdout",
          "text": [
            "Sodome and Gomore\n"
          ]
        }
      ]
    },
    {
      "cell_type": "code",
      "metadata": {
        "id": "5lgB47urhgA_"
      },
      "source": [
        "string.strip() # başından ve sonundan kesiyor/tırpanlıyor. ne kadar boşluk var ise keser atar.\n",
        "string.rstrip() # sağdan tırpanlar.\n",
        "String.lstrip() # soldan tırpanlar."
      ],
      "execution_count": null,
      "outputs": []
    },
    {
      "cell_type": "code",
      "metadata": {
        "colab": {
          "base_uri": "https://localhost:8080/"
        },
        "id": "D67eSVgWhgEO",
        "outputId": "81711c05-56ca-4b96-d9f5-2cafbc91017a"
      },
      "source": [
        "space_string = \"  listen first  \"\n",
        "print(space_string.strip())"
      ],
      "execution_count": null,
      "outputs": [
        {
          "output_type": "stream",
          "name": "stdout",
          "text": [
            "listen first\n"
          ]
        }
      ]
    },
    {
      "cell_type": "code",
      "metadata": {
        "colab": {
          "base_uri": "https://localhost:8080/"
        },
        "id": "trwMHif3hgIm",
        "outputId": "56d4328c-6481-410b-eeab-f34dc7eb77b8"
      },
      "source": [
        "print(\".\\nali veli deli\\t.\")\n",
        "canlı_yayın = \"\\nali veli deli\\t\"\n",
        "print(canlı_yayın.strip())"
      ],
      "execution_count": null,
      "outputs": [
        {
          "output_type": "stream",
          "name": "stdout",
          "text": [
            ".\n",
            "ali veli deli\t.\n",
            "ali veli deli\n"
          ]
        }
      ]
    },
    {
      "cell_type": "code",
      "metadata": {
        "colab": {
          "base_uri": "https://localhost:8080/"
        },
        "id": "awZgF-KGhgLW",
        "outputId": "c491a9ce-ac74-4156-80a5-4b66a0ae7d31"
      },
      "source": [
        "sourse_string = \"interoperability\"\n",
        "print(sourse_string.lstrip(\"in)\"))\n",
        "  # \"i\" veya \"n\" veya \"in\" veya \"ni\" bunlardan hangisi baştarafta ise tırpanlar.\n"
      ],
      "execution_count": null,
      "outputs": [
        {
          "output_type": "stream",
          "name": "stdout",
          "text": [
            "teroperability\n"
          ]
        }
      ]
    },
    {
      "cell_type": "code",
      "metadata": {
        "colab": {
          "base_uri": "https://localhost:8080/"
        },
        "id": "AY0Gy1sihgOX",
        "outputId": "691ac816-35fb-4e69-e254-8c05caa15542"
      },
      "source": [
        "sourse_string = \". listen firs .\"\n",
        "print(sourse_string.rstrip())"
      ],
      "execution_count": null,
      "outputs": [
        {
          "output_type": "stream",
          "name": "stdout",
          "text": [
            ". listen firs .\n"
          ]
        }
      ]
    },
    {
      "cell_type": "code",
      "metadata": {
        "colab": {
          "base_uri": "https://localhost:8080/"
        },
        "id": "KjImMOD4hgUI",
        "outputId": "b3eb6de3-256a-4e8d-957e-04adf536fb37"
      },
      "source": [
        "sourse_string = \"interoperability\"\n",
        "print(sourse_string.rstrip(\"yt)\"))\n"
      ],
      "execution_count": null,
      "outputs": [
        {
          "output_type": "stream",
          "name": "stdout",
          "text": [
            "interoperabili\n"
          ]
        }
      ]
    },
    {
      "cell_type": "code",
      "metadata": {
        "colab": {
          "base_uri": "https://localhost:8080/"
        },
        "id": "kcgPpZsvhgZn",
        "outputId": "1789cf39-400d-41ff-9b0f-df03e5177e16"
      },
      "source": [
        "text = text.rstrip(\"R\").lstrip(\"D\").upper()\n",
        "print(text)"
      ],
      "execution_count": null,
      "outputs": [
        {
          "output_type": "stream",
          "name": "stdout",
          "text": [
            "SODOME AND GOMORE\n"
          ]
        }
      ]
    },
    {
      "cell_type": "code",
      "metadata": {
        "colab": {
          "base_uri": "https://localhost:8080/"
        },
        "id": "Mtd-N8_nhgcq",
        "outputId": "97e9e30b-d3d3-498b-b35f-ab28989ab1ae"
      },
      "source": [
        "a = 1\n",
        "print(-a)"
      ],
      "execution_count": null,
      "outputs": [
        {
          "output_type": "stream",
          "name": "stdout",
          "text": [
            "-1\n"
          ]
        }
      ]
    },
    {
      "cell_type": "code",
      "metadata": {
        "colab": {
          "base_uri": "https://localhost:8080/"
        },
        "id": "fxcjKl80X7sW",
        "outputId": "63ca7e6f-57d2-4e1b-8397-020b2325d24e"
      },
      "source": [
        "b = -11\n",
        "print(-b)"
      ],
      "execution_count": null,
      "outputs": [
        {
          "output_type": "stream",
          "name": "stdout",
          "text": [
            "11\n"
          ]
        }
      ]
    },
    {
      "cell_type": "code",
      "metadata": {
        "colab": {
          "base_uri": "https://localhost:8080/"
        },
        "id": "d2CqCAxQX7vN",
        "outputId": "b8c23958-1672-4c79-ad0f-bd18373e4a3a"
      },
      "source": [
        "a = 3\n",
        "b = 4\n",
        "print(\"The sum of {} + {} is : {}\".format(a,b,a+b))\n",
        "print(\"The sum of {} * {} is : {}\".format(a,b,a*b))"
      ],
      "execution_count": null,
      "outputs": [
        {
          "output_type": "stream",
          "name": "stdout",
          "text": [
            "The sum of 3 + 4 is : 7\n",
            "The sum of 3 + 4 is : 12\n"
          ]
        }
      ]
    },
    {
      "cell_type": "code",
      "metadata": {
        "colab": {
          "base_uri": "https://localhost:8080/"
        },
        "id": "VPd2dvmmrcQ9",
        "outputId": "4b6f70c4-e040-42a8-df98-e28e2af9c9b1"
      },
      "source": [
        "x = 2\n",
        "y = 3\n",
        "print(\"The power of {} to {} is : {}\".format(y,x,x*y))"
      ],
      "execution_count": null,
      "outputs": [
        {
          "output_type": "stream",
          "name": "stdout",
          "text": [
            "The power of 3 to 2 is : 6\n"
          ]
        }
      ]
    },
    {
      "cell_type": "code",
      "metadata": {
        "colab": {
          "base_uri": "https://localhost:8080/"
        },
        "id": "qC9rkBGercUZ",
        "outputId": "0f625a14-7712-46b4-9ff6-972e5424d986"
      },
      "source": [
        "text = \"{:.2f}, {:.3f}, {:.4f}\".format(3.1463, 5.367, 7.324324)\n",
        "print(text)"
      ],
      "execution_count": null,
      "outputs": [
        {
          "output_type": "stream",
          "name": "stdout",
          "text": [
            "3.15, 5.367, 7.3243\n"
          ]
        }
      ]
    },
    {
      "cell_type": "code",
      "metadata": {
        "colab": {
          "base_uri": "https://localhost:8080/"
        },
        "id": "LYGurTp8rcjW",
        "outputId": "5bd2c672-ae51-4b07-8264-5d2fe3b81ced"
      },
      "source": [
        "text = \"{:.2s}, {:.3s}, {:.4s}\".format(\"a3.1463\", \"5.b367\", \"7.324324c\") # str lerde \"s\" kullanılıyor.\n",
        "print(text)"
      ],
      "execution_count": null,
      "outputs": [
        {
          "output_type": "stream",
          "name": "stdout",
          "text": [
            "a3, 5.b, 7.32\n"
          ]
        }
      ]
    },
    {
      "cell_type": "code",
      "metadata": {
        "colab": {
          "base_uri": "https://localhost:8080/",
          "height": 35
        },
        "id": "Q4Zr7jt_rco5",
        "outputId": "189ce720-29bf-4bed-bf6a-e1876c220e7f"
      },
      "source": [
        "text = \"{}\".format(\"test\") # test kelimeside 10 karakterlik alanda en sağa yaslanacak.\n",
        "text = \"{:>10}\".format(\"test\")\n",
        "text"
      ],
      "execution_count": null,
      "outputs": [
        {
          "output_type": "execute_result",
          "data": {
            "application/vnd.google.colaboratory.intrinsic+json": {
              "type": "string"
            },
            "text/plain": [
              "'      test'"
            ]
          },
          "metadata": {},
          "execution_count": 56
        }
      ]
    },
    {
      "cell_type": "code",
      "metadata": {
        "colab": {
          "base_uri": "https://localhost:8080/",
          "height": 35
        },
        "id": "P65kHi9zrcsg",
        "outputId": "ef3593eb-7bc1-442c-b0e9-93cd71295425"
      },
      "source": [
        "text = \"{:<10}\".format(\"test\")  # sola yasla\n",
        "text"
      ],
      "execution_count": null,
      "outputs": [
        {
          "output_type": "execute_result",
          "data": {
            "application/vnd.google.colaboratory.intrinsic+json": {
              "type": "string"
            },
            "text/plain": [
              "'test      '"
            ]
          },
          "metadata": {},
          "execution_count": 57
        }
      ]
    },
    {
      "cell_type": "code",
      "metadata": {
        "colab": {
          "base_uri": "https://localhost:8080/",
          "height": 35
        },
        "id": "_dALYmc-rcwq",
        "outputId": "cec2831c-061d-4668-f300-207fb30dccb9"
      },
      "source": [
        "text = \"formatlama satırını {:>20} bu da textin son kısmı\".format(\"test\")\n",
        "text"
      ],
      "execution_count": null,
      "outputs": [
        {
          "output_type": "execute_result",
          "data": {
            "application/vnd.google.colaboratory.intrinsic+json": {
              "type": "string"
            },
            "text/plain": [
              "'formatlama satırını                 test bu da textin son kısmı'"
            ]
          },
          "metadata": {},
          "execution_count": 64
        }
      ]
    },
    {
      "cell_type": "code",
      "metadata": {
        "colab": {
          "base_uri": "https://localhost:8080/",
          "height": 35
        },
        "id": "g98IjPYerczl",
        "outputId": "3f32c99f-cf71-46f5-8b4f-d2bb6a46239c"
      },
      "source": [
        "text = \"{:^20}\".format(\"abc\") # satırı ortala\n",
        "text"
      ],
      "execution_count": null,
      "outputs": [
        {
          "output_type": "execute_result",
          "data": {
            "application/vnd.google.colaboratory.intrinsic+json": {
              "type": "string"
            },
            "text/plain": [
              "'        abc         '"
            ]
          },
          "metadata": {},
          "execution_count": 66
        }
      ]
    },
    {
      "cell_type": "code",
      "metadata": {
        "colab": {
          "base_uri": "https://localhost:8080/",
          "height": 35
        },
        "id": "tk4EpuoHrc2Z",
        "outputId": "44a816ae-1941-46ef-f65e-47f52c787eb4"
      },
      "source": [
        "\"{:10.5}\".format(\"hippopotamus\")"
      ],
      "execution_count": null,
      "outputs": [
        {
          "output_type": "execute_result",
          "data": {
            "application/vnd.google.colaboratory.intrinsic+json": {
              "type": "string"
            },
            "text/plain": [
              "'hippo     '"
            ]
          },
          "metadata": {},
          "execution_count": 67
        }
      ]
    },
    {
      "cell_type": "code",
      "metadata": {
        "colab": {
          "base_uri": "https://localhost:8080/",
          "height": 35
        },
        "id": "M3Q5sfttrc5M",
        "outputId": "f33734f1-808b-4caa-8be5-50d45a5cdb83"
      },
      "source": [
        "\"{:>15.5}\".format(\"hippopotamus\")"
      ],
      "execution_count": null,
      "outputs": [
        {
          "output_type": "execute_result",
          "data": {
            "application/vnd.google.colaboratory.intrinsic+json": {
              "type": "string"
            },
            "text/plain": [
              "'          hippo'"
            ]
          },
          "metadata": {},
          "execution_count": 68
        }
      ]
    },
    {
      "cell_type": "code",
      "metadata": {
        "colab": {
          "base_uri": "https://localhost:8080/",
          "height": 35
        },
        "id": "7hXiQyh0rc76",
        "outputId": "507e25c1-06be-49dc-b921-a0137069c701"
      },
      "source": [
        "\"{:+}\".format(55)"
      ],
      "execution_count": null,
      "outputs": [
        {
          "output_type": "execute_result",
          "data": {
            "application/vnd.google.colaboratory.intrinsic+json": {
              "type": "string"
            },
            "text/plain": [
              "'+55'"
            ]
          },
          "metadata": {},
          "execution_count": 70
        }
      ]
    },
    {
      "cell_type": "code",
      "metadata": {
        "id": "vQOXmHSHrdAT"
      },
      "source": [
        ""
      ],
      "execution_count": null,
      "outputs": []
    },
    {
      "cell_type": "code",
      "metadata": {
        "id": "UXL4rvberdDQ"
      },
      "source": [
        ""
      ],
      "execution_count": null,
      "outputs": []
    },
    {
      "cell_type": "code",
      "metadata": {
        "id": "5R9DCJ1JrdGG"
      },
      "source": [
        ""
      ],
      "execution_count": null,
      "outputs": []
    },
    {
      "cell_type": "markdown",
      "metadata": {
        "id": "ETLtnyZNPDEV"
      },
      "source": [
        "# 14-10-2021 dersi"
      ]
    },
    {
      "cell_type": "code",
      "metadata": {
        "id": "kiaSWHjwRKmU"
      },
      "source": [
        ""
      ],
      "execution_count": null,
      "outputs": []
    },
    {
      "cell_type": "code",
      "metadata": {
        "colab": {
          "base_uri": "https://localhost:8080/"
        },
        "id": "COd6wMJwPNnn",
        "outputId": "c55a8f78-c8d6-451d-c4ae-06c81702934d"
      },
      "source": [
        "city = [\"los angles\" , \"beirut\" , \"berlin\"]\n",
        "city [1] = \"istanbul\"   # city değişkeninde 1. sıradaki değeri değiştirir.\n",
        "city"
      ],
      "execution_count": null,
      "outputs": [
        {
          "output_type": "execute_result",
          "data": {
            "text/plain": [
              "['los angles', 'istanbul', 'berlin']"
            ]
          },
          "metadata": {},
          "execution_count": 1
        }
      ]
    },
    {
      "cell_type": "code",
      "metadata": {
        "colab": {
          "base_uri": "https://localhost:8080/"
        },
        "id": "f1TQ5c5BPNqN",
        "outputId": "0d1d8aa2-2af7-4c70-a193-4f8d24c21922"
      },
      "source": [
        "city = [\"4\" , \"1\" , \"9\" , \"3\" , \"6\"]\n",
        "city.sort ()    # city değişkenindeki değerleri sıralar.\n",
        "city"
      ],
      "execution_count": null,
      "outputs": [
        {
          "output_type": "execute_result",
          "data": {
            "text/plain": [
              "['1', '3', '4', '6', '9']"
            ]
          },
          "metadata": {},
          "execution_count": 3
        }
      ]
    },
    {
      "cell_type": "code",
      "metadata": {
        "colab": {
          "base_uri": "https://localhost:8080/"
        },
        "id": "u2ellFR1PNva",
        "outputId": "3ee56ca6-b1ab-45b2-f2d0-c9cf2e11a59d"
      },
      "source": [
        "list_1 = [\"one\" , \"four\" , \"nine\"]\n",
        "list_2 = [\"@\" , \"*-\" , \"False\" ]\n",
        "list_3 = [True , False]\n",
        "list_4 = [[3] , [44] , [-12]]\n",
        "list_5 = [[1,3] , [44,-40] , [-12,1]]\n",
        "list_1.sort(reverse = True)   # büyükten küçüğe doğru sıralar (reverse = True) komutu ile.\n",
        "print(\"1.    \" , list_1, \"   * büyükten küçüğe doğru sıralanmış hali\")\n",
        "list_2.sort()\n",
        "print(\"2.    \" , list_2)\n",
        "list_3.sort()   # küçükten büyüğe doğru sıralar.\n",
        "print(\"3.    \" , list_3)\n",
        "list_4.sort()   # liste içindeki elemana göre sıralar.\n",
        "print(\"4.    \" , list_4)\n",
        "list_5.sort()   # liste içindeki elemanların sırasına göre sıralar.\n",
        "print(\"5.    \" , list_5)"
      ],
      "execution_count": null,
      "outputs": [
        {
          "output_type": "stream",
          "name": "stdout",
          "text": [
            "1.     ['one', 'nine', 'four']    * büyükten küçüğe doğru sıralanmış hali\n",
            "2.     ['*-', '@', 'False']\n",
            "3.     [False, True]\n",
            "4.     [[-12], [3], [44]]\n",
            "5.     [[-12, 1], [1, 3], [44, -40]]\n"
          ]
        }
      ]
    },
    {
      "cell_type": "code",
      "metadata": {
        "colab": {
          "base_uri": "https://localhost:8080/",
          "height": 35
        },
        "id": "3GOfO-8nPNyD",
        "outputId": "7fdc229b-aff7-488d-93c9-6be45a2feea1"
      },
      "source": [
        "chr(443)    # asri kodunu getirir."
      ],
      "execution_count": null,
      "outputs": [
        {
          "output_type": "execute_result",
          "data": {
            "application/vnd.google.colaboratory.intrinsic+json": {
              "type": "string"
            },
            "text/plain": [
              "'F'"
            ]
          },
          "metadata": {},
          "execution_count": 17
        }
      ]
    },
    {
      "cell_type": "code",
      "metadata": {
        "colab": {
          "base_uri": "https://localhost:8080/",
          "height": 35
        },
        "id": "jwk7F8Q3PN0P",
        "outputId": "a654824c-8828-4c82-dd82-49330bd53fbd"
      },
      "source": [
        "chr(70)"
      ],
      "execution_count": null,
      "outputs": [
        {
          "output_type": "execute_result",
          "data": {
            "application/vnd.google.colaboratory.intrinsic+json": {
              "type": "string"
            },
            "text/plain": [
              "'F'"
            ]
          },
          "metadata": {},
          "execution_count": 18
        }
      ]
    },
    {
      "cell_type": "code",
      "metadata": {
        "colab": {
          "base_uri": "https://localhost:8080/"
        },
        "id": "JjdiiM_tPN2x",
        "outputId": "c693e8dd-f19c-4fee-c977-d8cdeb8870b7"
      },
      "source": [
        "list_5 = [[1,3] , [44,-40] , [-12,1]]\n",
        "city = len(list_5)   # \"len\" komudu değerin uzunluk sayısını gösterir.\n",
        "city"
      ],
      "execution_count": null,
      "outputs": [
        {
          "output_type": "execute_result",
          "data": {
            "text/plain": [
              "3"
            ]
          },
          "metadata": {},
          "execution_count": 26
        }
      ]
    },
    {
      "cell_type": "code",
      "metadata": {
        "id": "TVCScamePN6A"
      },
      "source": [
        ""
      ],
      "execution_count": null,
      "outputs": []
    },
    {
      "cell_type": "markdown",
      "metadata": {
        "id": "lNs71TOtZhQc"
      },
      "source": [
        "# 18-10-2021 dersi"
      ]
    },
    {
      "cell_type": "code",
      "metadata": {
        "colab": {
          "base_uri": "https://localhost:8080/"
        },
        "id": "OIimYG4baOVN",
        "outputId": "29268fa5-caed-460b-e13d-bc46ad01e49d"
      },
      "source": [
        "# append komutu listenin sonuna ekler,\n",
        "city = ['New York', 'London', 'Istanbul', 'Seoul', 'Sydney']  # ilk listem\n",
        "city_list = []  # yeni boş listem\n",
        "city_list.append(city)   # yeni listenin içine liste yapmış olduk.\n",
        "\n",
        "print(city_list)  # lisyeti yazdırıyor.\n",
        "print(city_list[0][2])  # liste içerisindeki listeye ulaşıp 2. değeri yazdırdık.\n",
        "print(type(city_list)) # listenin tipin yazdı\n",
        "print(type(\"istanbul\")) # değişkenin tipin yazdı\n",
        "print(city_list[0][2][3]) # listenin içindeki, listenin, içindeki değerin 3. karekterini yazdırdık.\n",
        "len(city_list)  # listenin eleman sayısını len komutu ile buluyoruz.\n"
      ],
      "execution_count": null,
      "outputs": [
        {
          "output_type": "stream",
          "name": "stdout",
          "text": [
            "[['New York', 'London', 'Istanbul', 'Seoul', 'Sydney']]\n",
            "Istanbul\n",
            "<class 'list'>\n",
            "<class 'str'>\n",
            "a\n"
          ]
        },
        {
          "output_type": "execute_result",
          "data": {
            "text/plain": [
              "1"
            ]
          },
          "metadata": {},
          "execution_count": 27
        }
      ]
    },
    {
      "cell_type": "code",
      "metadata": {
        "id": "fiNcsouqaOqk"
      },
      "source": [
        "# list_name = [start:stop:step]\n",
        "# start = başlanğıç değeri\n",
        "# stop = bitiş değeri\n",
        "# step = atlayarak yazar"
      ],
      "execution_count": null,
      "outputs": []
    },
    {
      "cell_type": "code",
      "metadata": {
        "colab": {
          "base_uri": "https://localhost:8080/"
        },
        "id": "Sp4Q_QWdaOv-",
        "outputId": "d88d6611-4ca1-442b-d34c-43cbb023cf61"
      },
      "source": [
        "# range komutu ile sayıları sıralıyoruz. yani bu fonksiyon aslında doğrudan herhangi bir sayı listesi oluşturmaz.\n",
        "sayılarım = list(range(1, 11))  # 1 den 10 kadar olan sayıların listesini oluştur.\n",
        "sayılarım # listeyi yaz."
      ],
      "execution_count": null,
      "outputs": [
        {
          "output_type": "execute_result",
          "data": {
            "text/plain": [
              "[1, 2, 3, 4, 5, 6, 7, 8, 9, 10]"
            ]
          },
          "metadata": {},
          "execution_count": 1
        }
      ]
    },
    {
      "cell_type": "code",
      "metadata": {
        "colab": {
          "base_uri": "https://localhost:8080/"
        },
        "id": "PeNJmG0XkuK8",
        "outputId": "c065b60e-7f1b-4759-b81f-752dd49b8643"
      },
      "source": [
        "animals = [\"elephant\" , \"bear\" , \"fox\", \"wolf\", \"rabbit\", \"deer\", \"griaffe\"]\n",
        "print(animals[::2])"
      ],
      "execution_count": null,
      "outputs": [
        {
          "output_type": "stream",
          "name": "stdout",
          "text": [
            "['elephant', 'fox', 'rabbit', 'griaffe']\n"
          ]
        }
      ]
    },
    {
      "cell_type": "code",
      "metadata": {
        "colab": {
          "base_uri": "https://localhost:8080/"
        },
        "id": "8aKx18jlkuOH",
        "outputId": "bef7b7b3-fe9a-4466-e674-1f0425d74d2f"
      },
      "source": [
        "mix_list = [1, [1, \"one\", 2, \"two\", 3, \"three\"], 4]\n",
        "print(mix_list[1][1:6:2])   # listenin içindeki listeye girip, 1 den başlayıp 6 ya kadar git ve sonra 2 adımda git."
      ],
      "execution_count": null,
      "outputs": [
        {
          "output_type": "stream",
          "name": "stdout",
          "text": [
            "['one', 'two', 'three']\n"
          ]
        }
      ]
    },
    {
      "cell_type": "code",
      "metadata": {
        "colab": {
          "base_uri": "https://localhost:8080/"
        },
        "id": "vaIF48CQozxG",
        "outputId": "b09ccb4a-d283-4dfa-d9fa-37676aabb6cb"
      },
      "source": [
        "listele = [\"i\", \"s\", \"t\", \"a\", \"n\", \"b\", \"u\", \"l\"]\n",
        "print(listele[-6:-3])"
      ],
      "execution_count": null,
      "outputs": [
        {
          "output_type": "stream",
          "name": "stdout",
          "text": [
            "['t', 'a', 'n']\n"
          ]
        }
      ]
    },
    {
      "cell_type": "code",
      "metadata": {
        "colab": {
          "base_uri": "https://localhost:8080/"
        },
        "id": "V99tCwS2oz1H",
        "outputId": "b72cd5ed-ef69-4b12-cb4d-d2b73fbea9ae"
      },
      "source": [
        "city = ['New York', 'London', 'Istanbul', 'Seoul', 'Sydney']\n",
        "print(city[-3:])  # \n",
        "print(city[::-1])   # tersten sıraladık"
      ],
      "execution_count": null,
      "outputs": [
        {
          "output_type": "stream",
          "name": "stdout",
          "text": [
            "['Istanbul', 'Seoul', 'Sydney']\n",
            "['Sydney', 'Seoul', 'Istanbul', 'London', 'New York']\n"
          ]
        }
      ]
    },
    {
      "cell_type": "code",
      "metadata": {
        "colab": {
          "base_uri": "https://localhost:8080/"
        },
        "id": "2ZWDIiQJoz_W",
        "outputId": "64136070-c251-4182-abee-608d280fa0ab"
      },
      "source": [
        "listele = [\"i\", \"s\", \"t\", \"a\", \"n\", \"b\", \"u\", \"l\"]\n",
        "print(listele[6:3:-1])  # step -1 olduğu başlanğıç yönünden sağa sola doğru gider akış.\n",
        "print(listele[2:6:-1])  # step -1 ve başlangıç 2 olduğu için sağdan sola gidince, verilen\n",
        "                        #...# aralık dışını yazdıramadığı için listemizi boş yazar."
      ],
      "execution_count": null,
      "outputs": [
        {
          "output_type": "stream",
          "name": "stdout",
          "text": [
            "['u', 'b', 'n']\n",
            "[]\n"
          ]
        }
      ]
    },
    {
      "cell_type": "code",
      "metadata": {
        "colab": {
          "base_uri": "https://localhost:8080/"
        },
        "id": "go1GcZNOo0C1",
        "outputId": "078f061a-0893-40bd-b8da-d3e12699c9e1"
      },
      "source": [
        "# tuples komutu () ile kullanılır ve çalışma hızı daha hızlıdır. aynı zamanda hdd de daha az yer kaplıyor.\n",
        "\n",
        "yenii = (\"istanbul\")\n",
        "print(yenii, type(yenii), sep=\"\\n\")"
      ],
      "execution_count": null,
      "outputs": [
        {
          "output_type": "stream",
          "name": "stdout",
          "text": [
            "istanbul\n",
            "<class 'str'>\n"
          ]
        }
      ]
    },
    {
      "cell_type": "code",
      "metadata": {
        "id": "VwjCrLJyo0GX"
      },
      "source": [
        ""
      ],
      "execution_count": null,
      "outputs": []
    },
    {
      "cell_type": "code",
      "metadata": {
        "id": "XoDU9U3-kuSl"
      },
      "source": [
        ""
      ],
      "execution_count": null,
      "outputs": []
    },
    {
      "cell_type": "code",
      "metadata": {
        "id": "kZrgOLyJkuWB"
      },
      "source": [
        ""
      ],
      "execution_count": null,
      "outputs": []
    },
    {
      "cell_type": "markdown",
      "metadata": {
        "id": "21TiOYmFY5sX"
      },
      "source": [
        "# 21-10-2021 dersi"
      ]
    },
    {
      "cell_type": "code",
      "metadata": {
        "colab": {
          "base_uri": "https://localhost:8080/"
        },
        "id": "wSju5a4L1iGz",
        "outputId": "aad94618-e55d-41e7-cd19-dfe945adb0b6"
      },
      "source": [
        "sayılar = range (1,11)  # aslında bunun içerisinde iterebbel bir sayı vardır.\n",
        "tuple(sayılar)\n",
        "print(tuple(sayılar),\" tipi tuple\")\n",
        "list(sayılar)\n",
        "print(list(sayılar),\" tipi liste\")\n",
        "set(sayılar)\n",
        "print(set(sayılar),\" tipi set\")\n",
        "\n",
        "liste_sayılar = list(sayılar)\n",
        "liste_sayılar [2] = 33   # 2. sayının yerine 33 yaz\n",
        "liste_sayılar\n"
      ],
      "execution_count": null,
      "outputs": [
        {
          "output_type": "stream",
          "name": "stdout",
          "text": [
            "(1, 2, 3, 4, 5, 6, 7, 8, 9, 10)  tipi tuple\n",
            "[1, 2, 3, 4, 5, 6, 7, 8, 9, 10]  tipi liste\n",
            "{1, 2, 3, 4, 5, 6, 7, 8, 9, 10}  tipi set\n"
          ]
        },
        {
          "output_type": "execute_result",
          "data": {
            "text/plain": [
              "[1, 2, 33, 4, 5, 6, 7, 8, 9, 10]"
            ]
          },
          "metadata": {},
          "execution_count": 10
        }
      ]
    },
    {
      "cell_type": "code",
      "metadata": {
        "colab": {
          "base_uri": "https://localhost:8080/",
          "height": 35
        },
        "id": "htX1igMd1iKU",
        "outputId": "1c96cd9e-cb09-437c-b281-ecd589fa439e"
      },
      "source": [
        "mix_tuple = (\"11\" , 11 , [2,\"two\",(\"six\",6)], (5,\"fair\"))\n",
        "mix_tuple[2][2][0]  # iç içe listelere ulaşmak için"
      ],
      "execution_count": null,
      "outputs": [
        {
          "output_type": "execute_result",
          "data": {
            "application/vnd.google.colaboratory.intrinsic+json": {
              "type": "string"
            },
            "text/plain": [
              "'six'"
            ]
          },
          "metadata": {},
          "execution_count": 11
        }
      ]
    },
    {
      "cell_type": "code",
      "metadata": {
        "colab": {
          "base_uri": "https://localhost:8080/"
        },
        "id": "Li62cP1d1iOp",
        "outputId": "3aaf7daa-ec8e-4034-db4c-fe904537bad6"
      },
      "source": [
        "# tuple ın elemanı değiştiremeyiz, elemaınını silemeyiz, eleman ekleyemeyiz, ama içerisindeki listeye müdahale edeviliriz.\n",
        "mix_tuple[2]  # bu bir listedir.\n",
        "mix_tuple[2].append(False)  # tuple içerisinde bir liste var ise içerisindeki eleman değiştirebiliyoruz veya eleman ekleyebiliyoruz.\n",
        "mix_tuple"
      ],
      "execution_count": null,
      "outputs": [
        {
          "output_type": "execute_result",
          "data": {
            "text/plain": [
              "('11', 11, [2, 'two', ('six', 6), False], (5, 'fair'))"
            ]
          },
          "metadata": {},
          "execution_count": 14
        }
      ]
    },
    {
      "cell_type": "code",
      "metadata": {
        "colab": {
          "base_uri": "https://localhost:8080/"
        },
        "id": "jyNx7iph1iWi",
        "outputId": "421ea443-7b1b-41c9-9f70-f71d7056f7d9"
      },
      "source": [
        "#  dictionaries\n",
        "    # dic ve listelere izin vermiyor\n",
        "fist_dict = {1:\"one\",\"two\":2,False:[1,2,3],1.5:(\"one\",\"two\"),(1,2):\"clarusway\"}   # manuel dictionaries oluşturduk\n",
        "fist_dict"
      ],
      "execution_count": null,
      "outputs": [
        {
          "output_type": "execute_result",
          "data": {
            "text/plain": [
              "{(1, 2): 'clarusway',\n",
              " 1: 'one',\n",
              " 1.5: ('one', 'two'),\n",
              " False: [1, 2, 3],\n",
              " 'two': 2}"
            ]
          },
          "metadata": {},
          "execution_count": 16
        }
      ]
    },
    {
      "cell_type": "code",
      "metadata": {
        "colab": {
          "base_uri": "https://localhost:8080/",
          "height": 163
        },
        "id": "1Y_kuE6E1ia9",
        "outputId": "73d129ca-9703-4913-d6db-4719b206179f"
      },
      "source": [
        "second_dict = {[1,2] : \"one\" , \"two\":2, False:[1,2,3], 1.5:(\"one\",\"two\"),(\",2\"):\"clarusway\"}"
      ],
      "execution_count": null,
      "outputs": [
        {
          "output_type": "error",
          "ename": "TypeError",
          "evalue": "ignored",
          "traceback": [
            "\u001b[0;31m---------------------------------------------------------------------------\u001b[0m",
            "\u001b[0;31mTypeError\u001b[0m                                 Traceback (most recent call last)",
            "\u001b[0;32m<ipython-input-17-358099e9a2e8>\u001b[0m in \u001b[0;36m<module>\u001b[0;34m()\u001b[0m\n\u001b[0;32m----> 1\u001b[0;31m \u001b[0msecond_dict\u001b[0m \u001b[0;34m=\u001b[0m \u001b[0;34m{\u001b[0m\u001b[0;34m[\u001b[0m\u001b[0;36m1\u001b[0m\u001b[0;34m,\u001b[0m\u001b[0;36m2\u001b[0m\u001b[0;34m]\u001b[0m \u001b[0;34m:\u001b[0m \u001b[0;34m\"one\"\u001b[0m \u001b[0;34m,\u001b[0m \u001b[0;34m\"two\"\u001b[0m\u001b[0;34m:\u001b[0m\u001b[0;36m2\u001b[0m\u001b[0;34m,\u001b[0m \u001b[0;32mFalse\u001b[0m\u001b[0;34m:\u001b[0m\u001b[0;34m[\u001b[0m\u001b[0;36m1\u001b[0m\u001b[0;34m,\u001b[0m\u001b[0;36m2\u001b[0m\u001b[0;34m,\u001b[0m\u001b[0;36m3\u001b[0m\u001b[0;34m]\u001b[0m\u001b[0;34m,\u001b[0m \u001b[0;36m1.5\u001b[0m\u001b[0;34m:\u001b[0m\u001b[0;34m(\u001b[0m\u001b[0;34m\"one\"\u001b[0m\u001b[0;34m,\u001b[0m\u001b[0;34m\"two\"\u001b[0m\u001b[0;34m)\u001b[0m\u001b[0;34m,\u001b[0m\u001b[0;34m(\u001b[0m\u001b[0;34m\",2\"\u001b[0m\u001b[0;34m)\u001b[0m\u001b[0;34m:\u001b[0m\u001b[0;34m\"clarusway\"\u001b[0m\u001b[0;34m}\u001b[0m\u001b[0;34m\u001b[0m\u001b[0;34m\u001b[0m\u001b[0m\n\u001b[0m",
            "\u001b[0;31mTypeError\u001b[0m: unhashable type: 'list'"
          ]
        }
      ]
    },
    {
      "cell_type": "code",
      "metadata": {
        "id": "7nZ9I6Fk1ie7"
      },
      "source": [
        ""
      ],
      "execution_count": null,
      "outputs": []
    },
    {
      "cell_type": "code",
      "metadata": {
        "id": "TUALCrYj1ihi"
      },
      "source": [
        ""
      ],
      "execution_count": null,
      "outputs": []
    },
    {
      "cell_type": "code",
      "metadata": {
        "id": "_DaQzvXC1ikw"
      },
      "source": [
        "# value istediğimiz verileri yazabiliyoruz."
      ],
      "execution_count": null,
      "outputs": []
    },
    {
      "cell_type": "code",
      "metadata": {
        "id": "7bl3wY64Dc4w"
      },
      "source": [
        "dict (sayılar = [1,2,3], harfler = {1:\"bir\"})\n",
        "{\"sayılar\" : [1,2,3], \"harfler\": }"
      ],
      "execution_count": null,
      "outputs": []
    },
    {
      "cell_type": "code",
      "metadata": {
        "colab": {
          "base_uri": "https://localhost:8080/"
        },
        "id": "_SDaXD8JDc9U",
        "outputId": "21dc3056-5878-4a5e-ecc9-13aab9f7ab1e"
      },
      "source": [
        "state_capitals = {\"arkansas\":\"Little Rock\",\n",
        "                  \"Colarado\": \"Dever\",\n",
        "                  \"California\": \"Sacramento\",\n",
        "                  \"Georgia\": \"Atalanta\"\n",
        "                  }\n",
        "state_capitals[\"Virginia\"] = \"Richmond\" \n",
        "print(state_capitals)\n"
      ],
      "execution_count": null,
      "outputs": [
        {
          "output_type": "stream",
          "name": "stdout",
          "text": [
            "{'arkansas': 'Little Rock', 'Colarado': 'Dever', 'California': 'Sacramento', 'Georgia': 'Atalanta', 'Virginia': 'Richmond'}\n"
          ]
        }
      ]
    },
    {
      "cell_type": "code",
      "metadata": {
        "colab": {
          "base_uri": "https://localhost:8080/"
        },
        "id": "KAou0SoIDdAp",
        "outputId": "5642bf77-182a-4556-9ebc-568277ab3308"
      },
      "source": [
        "family = { \"name_1\":\"ALİ\", \n",
        "          \"name_2\":\"FEYZA\",\n",
        "          \"name_3\":\"ZÜMRA\" \n",
        "          }\n",
        "family[\"name4\"] = \"TOM\"\n",
        "# print(family)"
      ],
      "execution_count": null,
      "outputs": [
        {
          "output_type": "execute_result",
          "data": {
            "text/plain": [
              "{'name4': 'TOM', 'name_1': 'ALİ', 'name_2': 'FEYZA', 'name_3': 'ZÜMRA'}"
            ]
          },
          "metadata": {},
          "execution_count": 29
        }
      ]
    },
    {
      "cell_type": "code",
      "metadata": {
        "colab": {
          "base_uri": "https://localhost:8080/"
        },
        "id": "xYpyIRgFDdD1",
        "outputId": "2139b071-f955-4ee7-9157-26fe269ea30c"
      },
      "source": [
        "şehir = \"İstanbul\"\n",
        "isim = \"Yasemin\"\n",
        "nüfus = 1000\n",
        "yağmurlumu = False\n",
        "\n",
        "benim = {1: şehir, isim : \"bayan\", \"nüfusun\" : nüfus, \"hava_yağmurlu_mu\" : yağmurlumu}\n",
        "\n",
        "benim"
      ],
      "execution_count": null,
      "outputs": [
        {
          "output_type": "execute_result",
          "data": {
            "text/plain": [
              "{1: 'İstanbul', 'Yasemin': 'bayan', 'hava_yağmurlu_mu': False, 'nüfusun': 1000}"
            ]
          },
          "metadata": {},
          "execution_count": 30
        }
      ]
    },
    {
      "cell_type": "code",
      "metadata": {
        "colab": {
          "base_uri": "https://localhost:8080/",
          "height": 35
        },
        "id": "jtmTIGtoIF2d",
        "outputId": "605aa5b9-f8c6-49b6-c775-5a994a70171b"
      },
      "source": [
        "benim[1]"
      ],
      "execution_count": null,
      "outputs": [
        {
          "output_type": "execute_result",
          "data": {
            "application/vnd.google.colaboratory.intrinsic+json": {
              "type": "string"
            },
            "text/plain": [
              "'İstanbul'"
            ]
          },
          "metadata": {},
          "execution_count": 31
        }
      ]
    },
    {
      "cell_type": "code",
      "metadata": {
        "colab": {
          "base_uri": "https://localhost:8080/",
          "height": 35
        },
        "id": "nIScxGRoIF43",
        "outputId": "0a19c26c-cd6d-4701-90b5-d631524e57db"
      },
      "source": [
        "benim[\"Yasemin\"]"
      ],
      "execution_count": null,
      "outputs": [
        {
          "output_type": "execute_result",
          "data": {
            "application/vnd.google.colaboratory.intrinsic+json": {
              "type": "string"
            },
            "text/plain": [
              "'bayan'"
            ]
          },
          "metadata": {},
          "execution_count": 33
        }
      ]
    },
    {
      "cell_type": "code",
      "metadata": {
        "colab": {
          "base_uri": "https://localhost:8080/",
          "height": 35
        },
        "id": "8RUEe16cIF8Z",
        "outputId": "f197d472-485b-43a5-bc70-b3011e8423ce"
      },
      "source": [
        "benim[isim]"
      ],
      "execution_count": null,
      "outputs": [
        {
          "output_type": "execute_result",
          "data": {
            "application/vnd.google.colaboratory.intrinsic+json": {
              "type": "string"
            },
            "text/plain": [
              "'bayan'"
            ]
          },
          "metadata": {},
          "execution_count": 34
        }
      ]
    },
    {
      "cell_type": "code",
      "metadata": {
        "colab": {
          "base_uri": "https://localhost:8080/",
          "height": 163
        },
        "id": "2TB0Qoc0DdHz",
        "outputId": "f34247bb-5c30-4296-8c13-ba9dc5fffaaa"
      },
      "source": [
        "benim[nüfus]"
      ],
      "execution_count": null,
      "outputs": [
        {
          "output_type": "error",
          "ename": "KeyError",
          "evalue": "ignored",
          "traceback": [
            "\u001b[0;31m---------------------------------------------------------------------------\u001b[0m",
            "\u001b[0;31mKeyError\u001b[0m                                  Traceback (most recent call last)",
            "\u001b[0;32m<ipython-input-41-f5bebda8c72c>\u001b[0m in \u001b[0;36m<module>\u001b[0;34m()\u001b[0m\n\u001b[0;32m----> 1\u001b[0;31m \u001b[0mbenim\u001b[0m\u001b[0;34m[\u001b[0m\u001b[0mnüfus\u001b[0m\u001b[0;34m]\u001b[0m\u001b[0;34m\u001b[0m\u001b[0;34m\u001b[0m\u001b[0m\n\u001b[0m",
            "\u001b[0;31mKeyError\u001b[0m: 1000"
          ]
        }
      ]
    },
    {
      "cell_type": "code",
      "metadata": {
        "id": "KfVLRjcXJbtZ"
      },
      "source": [
        ""
      ],
      "execution_count": null,
      "outputs": []
    },
    {
      "cell_type": "code",
      "metadata": {
        "colab": {
          "base_uri": "https://localhost:8080/"
        },
        "id": "hNe_Up9TJbwf",
        "outputId": "a0cd6394-58a8-448b-a33a-e7c8a100ea8a"
      },
      "source": [
        "#  en çok tekrar eden sayıyı bulan sayıyı bul sorusu\n",
        "# numbers = [1,3,7,4,3,0,3,6,3]\n",
        "numbers = [-1, 3, 7, 4, 3, 0, 3, 16, 3, 7, 0, 0, 1]\n",
        "max(numbers)  # iterable nın maksimum elemanını bulup veriyor.\n"
      ],
      "execution_count": null,
      "outputs": [
        {
          "output_type": "execute_result",
          "data": {
            "text/plain": [
              "16"
            ]
          },
          "metadata": {},
          "execution_count": 45
        }
      ]
    },
    {
      "cell_type": "code",
      "metadata": {
        "colab": {
          "base_uri": "https://localhost:8080/"
        },
        "id": "5lWvsuH6Jb0k",
        "outputId": "e883926a-4be0-4208-b345-a449ec0a77d5"
      },
      "source": [
        "max(2,3,5)"
      ],
      "execution_count": null,
      "outputs": [
        {
          "output_type": "execute_result",
          "data": {
            "text/plain": [
              "5"
            ]
          },
          "metadata": {},
          "execution_count": 44
        }
      ]
    },
    {
      "cell_type": "code",
      "metadata": {
        "colab": {
          "base_uri": "https://localhost:8080/",
          "height": 35
        },
        "id": "PmfGoRuVJb3R",
        "outputId": "4f0eca02-8ffc-471f-e9b5-1663bead2c41"
      },
      "source": [
        "empty = []\n",
        "max(empty, default=\"boş\")"
      ],
      "execution_count": null,
      "outputs": [
        {
          "output_type": "execute_result",
          "data": {
            "application/vnd.google.colaboratory.intrinsic+json": {
              "type": "string"
            },
            "text/plain": [
              "'boş'"
            ]
          },
          "metadata": {},
          "execution_count": 47
        }
      ]
    },
    {
      "cell_type": "code",
      "metadata": {
        "colab": {
          "base_uri": "https://localhost:8080/"
        },
        "id": "tyz4V_n9Jb7Y",
        "outputId": "60f42804-fbbc-476c-cad9-23b9d04ab97e"
      },
      "source": [
        "empty = []\n",
        "max(empty, default=False)"
      ],
      "execution_count": null,
      "outputs": [
        {
          "output_type": "execute_result",
          "data": {
            "text/plain": [
              "False"
            ]
          },
          "metadata": {},
          "execution_count": 48
        }
      ]
    },
    {
      "cell_type": "code",
      "metadata": {
        "colab": {
          "base_uri": "https://localhost:8080/"
        },
        "id": "-XsQQM0lJcCE",
        "outputId": "5940fbdf-5284-46f9-cd59-889d2a00f717"
      },
      "source": [
        "empty = []\n",
        "max(empty, default=111)"
      ],
      "execution_count": null,
      "outputs": [
        {
          "output_type": "execute_result",
          "data": {
            "text/plain": [
              "111"
            ]
          },
          "metadata": {},
          "execution_count": 49
        }
      ]
    },
    {
      "cell_type": "code",
      "metadata": {
        "colab": {
          "base_uri": "https://localhost:8080/"
        },
        "id": "XwG4RHrrJcFK",
        "outputId": "796aa87a-1783-4d2b-9fe7-9bfecff8e595"
      },
      "source": [
        "sequence = [1, 1, 1, 1, 2, 2, 2, 3, 3, 4]\n",
        "sequence"
      ],
      "execution_count": null,
      "outputs": [
        {
          "output_type": "execute_result",
          "data": {
            "text/plain": [
              "[1, 1, 1, 1, 2, 2, 2, 3, 3, 4]"
            ]
          },
          "metadata": {},
          "execution_count": 50
        }
      ]
    },
    {
      "cell_type": "code",
      "metadata": {
        "colab": {
          "base_uri": "https://localhost:8080/"
        },
        "id": "_jOas-WaJcHp",
        "outputId": "d5fbce78-951d-4b4a-bd36-a451173fe333"
      },
      "source": [
        "max(sequence)   # listenin maksimum elemanını verir"
      ],
      "execution_count": null,
      "outputs": [
        {
          "output_type": "execute_result",
          "data": {
            "text/plain": [
              "4"
            ]
          },
          "metadata": {},
          "execution_count": 51
        }
      ]
    },
    {
      "cell_type": "code",
      "metadata": {
        "colab": {
          "base_uri": "https://localhost:8080/"
        },
        "id": "yxghC6g9JcKz",
        "outputId": "7b5fa042-9c00-4752-9ec5-427e4ea61621"
      },
      "source": [
        "sequence.count(4)   # 4 elemanından kaç adet varı verir"
      ],
      "execution_count": null,
      "outputs": [
        {
          "output_type": "execute_result",
          "data": {
            "text/plain": [
              "1"
            ]
          },
          "metadata": {},
          "execution_count": 52
        }
      ]
    },
    {
      "cell_type": "code",
      "metadata": {
        "colab": {
          "base_uri": "https://localhost:8080/"
        },
        "id": "DifRwP4cJcNf",
        "outputId": "f9e6738e-7f8b-481a-fac6-0b5922617040"
      },
      "source": [
        "numbers"
      ],
      "execution_count": null,
      "outputs": [
        {
          "output_type": "execute_result",
          "data": {
            "text/plain": [
              "[-1, 3, 7, 4, 3, 0, 3, 16, 3, 7, 0, 0, 1]"
            ]
          },
          "metadata": {},
          "execution_count": 56
        }
      ]
    },
    {
      "cell_type": "code",
      "metadata": {
        "colab": {
          "base_uri": "https://localhost:8080/"
        },
        "id": "JwJ2zW5IVkrT",
        "outputId": "58431cd9-9540-4aeb-9450-f49c0f0d7cf7"
      },
      "source": [
        "max(numbers)"
      ],
      "execution_count": null,
      "outputs": [
        {
          "output_type": "execute_result",
          "data": {
            "text/plain": [
              "16"
            ]
          },
          "metadata": {},
          "execution_count": 57
        }
      ]
    },
    {
      "cell_type": "code",
      "metadata": {
        "colab": {
          "base_uri": "https://localhost:8080/"
        },
        "id": "_CALD0G5VkuP",
        "outputId": "b7ffa90e-73b4-4a8f-ada2-72e49f97892e"
      },
      "source": [
        "numbers.count(16)"
      ],
      "execution_count": null,
      "outputs": [
        {
          "output_type": "execute_result",
          "data": {
            "text/plain": [
              "1"
            ]
          },
          "metadata": {},
          "execution_count": 58
        }
      ]
    },
    {
      "cell_type": "code",
      "metadata": {
        "colab": {
          "base_uri": "https://localhost:8080/"
        },
        "id": "19zh26MJVkxZ",
        "outputId": "fb8121c0-2186-4b6b-b8ee-ff51837bcfaa"
      },
      "source": [
        "max(numbers, key = numbers.count)   # numbers listesindeki en fazla olanı bul."
      ],
      "execution_count": null,
      "outputs": [
        {
          "output_type": "execute_result",
          "data": {
            "text/plain": [
              "3"
            ]
          },
          "metadata": {},
          "execution_count": 62
        }
      ]
    },
    {
      "cell_type": "code",
      "metadata": {
        "id": "SMs9mTjEJcQ5"
      },
      "source": [
        "the_most = max(numbers, key = numbers.count)\n",
        "numbers.count(the_most)"
      ],
      "execution_count": null,
      "outputs": []
    },
    {
      "cell_type": "code",
      "metadata": {
        "colab": {
          "base_uri": "https://localhost:8080/"
        },
        "id": "dlsnxALHVj7n",
        "outputId": "8d72da9a-f352-4749-abc5-5c6d9e82c4db"
      },
      "source": [
        "şehirler = [\"istanbul\" , \"ağrı\" , \"ankara\" , \"van\"]\n",
        "sorted(şehirler, key = len)   # burada şehirleri harf sırasına göre diziyor"
      ],
      "execution_count": null,
      "outputs": [
        {
          "output_type": "execute_result",
          "data": {
            "text/plain": [
              "['van', 'ağrı', 'ankara', 'istanbul']"
            ]
          },
          "metadata": {},
          "execution_count": 72
        }
      ]
    },
    {
      "cell_type": "code",
      "metadata": {
        "colab": {
          "base_uri": "https://localhost:8080/"
        },
        "id": "ktGxgOMzXlz0",
        "outputId": "f0458b83-b2fd-496f-9b71-77de98007094"
      },
      "source": [
        "sorted(şehirler, key = len, reverse=True)   # burada şehirler listesini harfi en fazla olandan küçüğe doğru sıralar."
      ],
      "execution_count": null,
      "outputs": [
        {
          "output_type": "execute_result",
          "data": {
            "text/plain": [
              "['istanbul', 'ankara', 'ağrı', 'van']"
            ]
          },
          "metadata": {},
          "execution_count": 73
        }
      ]
    },
    {
      "cell_type": "code",
      "metadata": {
        "id": "3QFTtDTcXl3X"
      },
      "source": [
        ""
      ],
      "execution_count": null,
      "outputs": []
    },
    {
      "cell_type": "code",
      "metadata": {
        "id": "HFOhF4IuVkDO"
      },
      "source": [
        ""
      ],
      "execution_count": null,
      "outputs": []
    },
    {
      "cell_type": "markdown",
      "metadata": {
        "id": "jR60Hvfg1hPO"
      },
      "source": [
        "# 01-11-2021 dersi\n"
      ]
    },
    {
      "cell_type": "code",
      "metadata": {
        "colab": {
          "base_uri": "https://localhost:8080/"
        },
        "id": "9rwes0E7qWQe",
        "outputId": "5e359453-4925-4149-97f1-6102a9d041c8"
      },
      "source": [
        "dict_by_dict = {'animal':'dog',\n",
        "\t\t\t'planet': 'Neptun',\n",
        "\t\t\t'number': 40,\n",
        "\t\t\t'pi':3.14,\n",
        "\t\t\t'is_good': True}\n",
        "\n",
        "print(dict_by_dict.items(), '\\n')\n",
        "print(dict_by_dict.keys(), '\\n')\n",
        "print(dict_by_dict.values(), '\\n')"
      ],
      "execution_count": null,
      "outputs": [
        {
          "output_type": "stream",
          "name": "stdout",
          "text": [
            "dict_items([('animal', 'dog'), ('planet', 'Neptun'), ('number', 40), ('pi', 3.14), ('is_good', True)]) \n",
            "\n",
            "dict_keys(['animal', 'planet', 'number', 'pi', 'is_good']) \n",
            "\n",
            "dict_values(['dog', 'Neptun', 40, 3.14, True]) \n",
            "\n"
          ]
        }
      ]
    },
    {
      "cell_type": "code",
      "metadata": {
        "colab": {
          "base_uri": "https://localhost:8080/",
          "height": 163
        },
        "id": "MUBneTUWqWWJ",
        "outputId": "a20a880f-e6ce-40b2-a10f-e1b998f16da2"
      },
      "source": [
        "x,  y = dict_by_dict.items()\n"
      ],
      "execution_count": null,
      "outputs": [
        {
          "output_type": "error",
          "ename": "ValueError",
          "evalue": "ignored",
          "traceback": [
            "\u001b[0;31m---------------------------------------------------------------------------\u001b[0m",
            "\u001b[0;31mValueError\u001b[0m                                Traceback (most recent call last)",
            "\u001b[0;32m<ipython-input-48-9a1409f0ddd9>\u001b[0m in \u001b[0;36m<module>\u001b[0;34m()\u001b[0m\n\u001b[0;32m----> 1\u001b[0;31m \u001b[0mx\u001b[0m\u001b[0;34m,\u001b[0m  \u001b[0my\u001b[0m \u001b[0;34m=\u001b[0m \u001b[0mdict_by_dict\u001b[0m\u001b[0;34m.\u001b[0m\u001b[0mitems\u001b[0m\u001b[0;34m(\u001b[0m\u001b[0;34m)\u001b[0m\u001b[0;34m\u001b[0m\u001b[0;34m\u001b[0m\u001b[0m\n\u001b[0m",
            "\u001b[0;31mValueError\u001b[0m: too many values to unpack (expected 2)"
          ]
        }
      ]
    },
    {
      "cell_type": "code",
      "metadata": {
        "id": "TP-X3ACBqWdD"
      },
      "source": [
        "x , y = items[0]"
      ],
      "execution_count": null,
      "outputs": []
    },
    {
      "cell_type": "code",
      "metadata": {
        "id": "C81xhO4DqW2d"
      },
      "source": [
        ""
      ],
      "execution_count": null,
      "outputs": []
    },
    {
      "cell_type": "code",
      "metadata": {
        "id": "cKMy5ACwqXD4"
      },
      "source": [
        "family = {'name1': 'Joseph', \n",
        "          'name2': 'Bella',\n",
        "          'name3': 'Aisha',\n",
        "          'name4': 'Tom'\n",
        "         }"
      ],
      "execution_count": null,
      "outputs": []
    },
    {
      "cell_type": "code",
      "metadata": {
        "colab": {
          "base_uri": "https://localhost:8080/"
        },
        "id": "wzQ8IYp_qXKC",
        "outputId": "d4a5ba16-1f76-44ef-aab4-41834f187e9e"
      },
      "source": [
        "family"
      ],
      "execution_count": null,
      "outputs": [
        {
          "output_type": "execute_result",
          "data": {
            "text/plain": [
              "{'name1': 'Joseph', 'name2': 'Bella', 'name3': 'Aisha', 'name4': 'Tom'}"
            ]
          },
          "metadata": {},
          "execution_count": 51
        }
      ]
    },
    {
      "cell_type": "code",
      "metadata": {
        "colab": {
          "base_uri": "https://localhost:8080/"
        },
        "id": "f1Uuy2RLqXQZ",
        "outputId": "049b024b-0422-4a5d-f6aa-2303c0562c12"
      },
      "source": [
        "list(family.items())    # liste formatında çıktı aldık."
      ],
      "execution_count": null,
      "outputs": [
        {
          "output_type": "execute_result",
          "data": {
            "text/plain": [
              "[('name1', 'Joseph'), ('name2', 'Bella'), ('name3', 'Aisha'), ('name4', 'Tom')]"
            ]
          },
          "metadata": {},
          "execution_count": 52
        }
      ]
    },
    {
      "cell_type": "code",
      "metadata": {
        "colab": {
          "base_uri": "https://localhost:8080/"
        },
        "id": "F1APXEEtqXWq",
        "outputId": "95d1d3df-f78e-40ad-d48b-e65450030ec7"
      },
      "source": [
        "list(family.keys())"
      ],
      "execution_count": null,
      "outputs": [
        {
          "output_type": "execute_result",
          "data": {
            "text/plain": [
              "['name1', 'name2', 'name3', 'name4']"
            ]
          },
          "metadata": {},
          "execution_count": 54
        }
      ]
    },
    {
      "cell_type": "code",
      "metadata": {
        "colab": {
          "base_uri": "https://localhost:8080/"
        },
        "id": "otHG4oRtqXdI",
        "outputId": "b4cc493f-29d5-4872-da19-37734e9fefa6"
      },
      "source": [
        "list(family.values())"
      ],
      "execution_count": null,
      "outputs": [
        {
          "output_type": "execute_result",
          "data": {
            "text/plain": [
              "['Joseph', 'Bella', 'Aisha', 'Tom']"
            ]
          },
          "metadata": {},
          "execution_count": 53
        }
      ]
    },
    {
      "cell_type": "code",
      "metadata": {
        "colab": {
          "base_uri": "https://localhost:8080/"
        },
        "id": "exeSSNtlqXkr",
        "outputId": "374e7ec5-4a7b-48c2-b00d-f111187713a1"
      },
      "source": [
        "# update metodu ile listemizin içine yeni bir eleman ekliyoruz.\n",
        "family.update({\"ali_merhaba\": True})\n",
        "family"
      ],
      "execution_count": null,
      "outputs": [
        {
          "output_type": "execute_result",
          "data": {
            "text/plain": [
              "{'ali_merhaba': True,\n",
              " 'name1': 'Joseph',\n",
              " 'name2': 'Bella',\n",
              " 'name3': 'Aisha',\n",
              " 'name4': 'Tom'}"
            ]
          },
          "metadata": {},
          "execution_count": 57
        }
      ]
    },
    {
      "cell_type": "code",
      "metadata": {
        "colab": {
          "base_uri": "https://localhost:8080/"
        },
        "id": "11Dkm4KWvLbg",
        "outputId": "c771813e-c6c3-42a5-e432-56157a2a46ad"
      },
      "source": [
        "family.update({\"name5\": \"Ömer\"})\n",
        "family"
      ],
      "execution_count": null,
      "outputs": [
        {
          "output_type": "execute_result",
          "data": {
            "text/plain": [
              "{'ali_merhaba': True,\n",
              " 'name1': 'Joseph',\n",
              " 'name2': 'Bella',\n",
              " 'name3': 'Aisha',\n",
              " 'name4': 'Tom',\n",
              " 'name5': 'Ömer'}"
            ]
          },
          "metadata": {},
          "execution_count": 58
        }
      ]
    },
    {
      "cell_type": "code",
      "metadata": {
        "colab": {
          "base_uri": "https://localhost:8080/",
          "height": 35
        },
        "id": "rAFyGhaivLjN",
        "outputId": "366b1e95-56d5-4e02-c458-409ea626e50c"
      },
      "source": [
        "family[\"name2\"]   # sonucu string \"bella\" olarak döndürüyor."
      ],
      "execution_count": null,
      "outputs": [
        {
          "output_type": "execute_result",
          "data": {
            "application/vnd.google.colaboratory.intrinsic+json": {
              "type": "string"
            },
            "text/plain": [
              "'Bella'"
            ]
          },
          "metadata": {},
          "execution_count": 59
        }
      ]
    },
    {
      "cell_type": "code",
      "metadata": {
        "colab": {
          "base_uri": "https://localhost:8080/"
        },
        "id": "PUWuqN59vLqR",
        "outputId": "5d44c7eb-f967-4863-95c2-8a3609ade02c"
      },
      "source": [
        "dict_by_dict[\"is_good\"]"
      ],
      "execution_count": null,
      "outputs": [
        {
          "output_type": "execute_result",
          "data": {
            "text/plain": [
              "True"
            ]
          },
          "metadata": {},
          "execution_count": 60
        }
      ]
    },
    {
      "cell_type": "code",
      "metadata": {
        "colab": {
          "base_uri": "https://localhost:8080/"
        },
        "id": "gjY75VXSvLvX",
        "outputId": "809e03c7-1f90-4bbd-bb00-8dd98ceed1e7"
      },
      "source": [
        "type(dict_by_dict[\"is_good\"])"
      ],
      "execution_count": null,
      "outputs": [
        {
          "output_type": "execute_result",
          "data": {
            "text/plain": [
              "bool"
            ]
          },
          "metadata": {},
          "execution_count": 61
        }
      ]
    },
    {
      "cell_type": "code",
      "metadata": {
        "id": "bXGGIl9AvL2n"
      },
      "source": [
        "del dict_by_dict[\"is_good\"]"
      ],
      "execution_count": null,
      "outputs": []
    },
    {
      "cell_type": "code",
      "metadata": {
        "colab": {
          "base_uri": "https://localhost:8080/"
        },
        "id": "EYsDhEXAvL92",
        "outputId": "5904896e-2bc1-410e-e4e4-24f7c73d1e2b"
      },
      "source": [
        "dict_by_dict"
      ],
      "execution_count": null,
      "outputs": [
        {
          "output_type": "execute_result",
          "data": {
            "text/plain": [
              "{'animal': 'dog', 'number': 40, 'pi': 3.14, 'planet': 'Neptun'}"
            ]
          },
          "metadata": {},
          "execution_count": 63
        }
      ]
    },
    {
      "cell_type": "code",
      "metadata": {
        "colab": {
          "base_uri": "https://localhost:8080/"
        },
        "id": "-zKhRpxEvMCV",
        "outputId": "930cc6f0-7f2a-4ba8-f475-edd460e59450"
      },
      "source": [
        "family"
      ],
      "execution_count": null,
      "outputs": [
        {
          "output_type": "execute_result",
          "data": {
            "text/plain": [
              "{'ali_merhaba': True,\n",
              " 'name1': 'Joseph',\n",
              " 'name2': 'Bella',\n",
              " 'name3': 'Aisha',\n",
              " 'name4': 'Tom',\n",
              " 'name5': 'Ömer'}"
            ]
          },
          "metadata": {},
          "execution_count": 64
        }
      ]
    },
    {
      "cell_type": "code",
      "metadata": {
        "colab": {
          "base_uri": "https://localhost:8080/",
          "height": 163
        },
        "id": "75r_d57ZvMJ3",
        "outputId": "9a19aab7-be8c-462f-e9da-7b3408789715"
      },
      "source": [
        "del family[\"name2\"], family[\"name3\"]\n"
      ],
      "execution_count": null,
      "outputs": [
        {
          "output_type": "error",
          "ename": "KeyError",
          "evalue": "ignored",
          "traceback": [
            "\u001b[0;31m---------------------------------------------------------------------------\u001b[0m",
            "\u001b[0;31mKeyError\u001b[0m                                  Traceback (most recent call last)",
            "\u001b[0;32m<ipython-input-69-22233563ce0a>\u001b[0m in \u001b[0;36m<module>\u001b[0;34m()\u001b[0m\n\u001b[0;32m----> 1\u001b[0;31m \u001b[0;32mdel\u001b[0m \u001b[0mfamily\u001b[0m\u001b[0;34m[\u001b[0m\u001b[0;34m\"name2\"\u001b[0m\u001b[0;34m]\u001b[0m\u001b[0;34m,\u001b[0m \u001b[0mfamily\u001b[0m\u001b[0;34m[\u001b[0m\u001b[0;34m\"name3\"\u001b[0m\u001b[0;34m]\u001b[0m\u001b[0;34m\u001b[0m\u001b[0;34m\u001b[0m\u001b[0m\n\u001b[0m",
            "\u001b[0;31mKeyError\u001b[0m: 'name2'"
          ]
        }
      ]
    },
    {
      "cell_type": "code",
      "metadata": {
        "colab": {
          "base_uri": "https://localhost:8080/"
        },
        "id": "N2AktYCSvMRK",
        "outputId": "fe3dac41-07fa-4461-c786-105812d1066c"
      },
      "source": [
        "family"
      ],
      "execution_count": null,
      "outputs": [
        {
          "output_type": "execute_result",
          "data": {
            "text/plain": [
              "{'ali_merhaba': True, 'name1': 'Joseph', 'name4': 'Tom', 'name5': 'Ömer'}"
            ]
          },
          "metadata": {},
          "execution_count": 70
        }
      ]
    },
    {
      "cell_type": "code",
      "metadata": {
        "colab": {
          "base_uri": "https://localhost:8080/"
        },
        "id": "GrofdvNxvMXH",
        "outputId": "29b1a13f-56b4-4e5f-fbbe-86bf1508b5d3"
      },
      "source": [
        "\"i\" in \"clarusway\"    # i karekterini \"clarusway\" içerisinde varmı diye bakıyor."
      ],
      "execution_count": null,
      "outputs": [
        {
          "output_type": "execute_result",
          "data": {
            "text/plain": [
              "False"
            ]
          },
          "metadata": {},
          "execution_count": 71
        }
      ]
    },
    {
      "cell_type": "code",
      "metadata": {
        "id": "EvdETSZ-vMeA"
      },
      "source": [
        "bootcamp = \"c l a r u s w a y\".split()"
      ],
      "execution_count": null,
      "outputs": []
    },
    {
      "cell_type": "code",
      "metadata": {
        "colab": {
          "base_uri": "https://localhost:8080/"
        },
        "id": "Qn1q-KOCvMp0",
        "outputId": "1f1e9fd3-097d-4baa-c0ab-4076373eaafd"
      },
      "source": [
        "bootcamp"
      ],
      "execution_count": null,
      "outputs": [
        {
          "output_type": "execute_result",
          "data": {
            "text/plain": [
              "['c', 'l', 'a', 'r', 'u', 's', 'w', 'a', 'y']"
            ]
          },
          "metadata": {},
          "execution_count": 73
        }
      ]
    },
    {
      "cell_type": "code",
      "metadata": {
        "colab": {
          "base_uri": "https://localhost:8080/"
        },
        "id": "WAp1350yvM5M",
        "outputId": "cb184b20-3dae-491c-b0c5-a1908ecd3ced"
      },
      "source": [
        "\"a\" in bootcamp"
      ],
      "execution_count": null,
      "outputs": [
        {
          "output_type": "execute_result",
          "data": {
            "text/plain": [
              "True"
            ]
          },
          "metadata": {},
          "execution_count": 74
        }
      ]
    },
    {
      "cell_type": "code",
      "metadata": {
        "colab": {
          "base_uri": "https://localhost:8080/"
        },
        "id": "-QRfFkIDvNAa",
        "outputId": "d8bfe8ec-7bf3-4586-922d-c32e300427dd"
      },
      "source": [
        "dict_by_dict"
      ],
      "execution_count": null,
      "outputs": [
        {
          "output_type": "execute_result",
          "data": {
            "text/plain": [
              "{'animal': 'dog', 'number': 40, 'pi': 3.14, 'planet': 'Neptun'}"
            ]
          },
          "metadata": {},
          "execution_count": 75
        }
      ]
    },
    {
      "cell_type": "code",
      "metadata": {
        "colab": {
          "base_uri": "https://localhost:8080/"
        },
        "id": "XJe8atCxvNH6",
        "outputId": "ea5d44ac-3607-4b77-a87d-44867b05efa8"
      },
      "source": [
        "\"dog\" in dict_by_dict"
      ],
      "execution_count": null,
      "outputs": [
        {
          "output_type": "execute_result",
          "data": {
            "text/plain": [
              "False"
            ]
          },
          "metadata": {},
          "execution_count": 77
        }
      ]
    },
    {
      "cell_type": "code",
      "metadata": {
        "colab": {
          "base_uri": "https://localhost:8080/"
        },
        "id": "CIfmyCWqvNNq",
        "outputId": "6630b45c-30e3-4f00-e60b-1eaf521cce41"
      },
      "source": [
        "\"dog\" in dict_by_dict.values()"
      ],
      "execution_count": null,
      "outputs": [
        {
          "output_type": "execute_result",
          "data": {
            "text/plain": [
              "True"
            ]
          },
          "metadata": {},
          "execution_count": 78
        }
      ]
    },
    {
      "cell_type": "code",
      "metadata": {
        "id": "LP0tHkg0vNSu"
      },
      "source": [
        "school_records={\n",
        "\t'personal_info':\n",
        "\t\t{'kid':{'tom':{'class':'intermediate', 'age':10},\n",
        "\t\t\t'sue':{'class':'elemantary', 'age':8}\n",
        "\t\t\t},\n",
        "\t\t'teen':{'joseph':{'class':'college', 'age':19},\n",
        "\t\t\t'marry':{'class':'high school', 'age':16}\n",
        "\t\t\t},\n",
        "\t\t},\n",
        "\t'grades_info':\n",
        "\t\t{'kid':{'tom':{'math':88, 'speech':69},\n",
        "\t\t\t'sue':{'math':90, 'speech':81}\n",
        "\t\t\t},\n",
        "\t\t'teen':{'joseph':{'coding':80, 'math':89},\n",
        "\t\t\t'marry':{'coding':70, 'math':96}\n",
        "\t\t\t},\n",
        "\t\t}\n",
        "}"
      ],
      "execution_count": null,
      "outputs": []
    },
    {
      "cell_type": "code",
      "metadata": {
        "colab": {
          "base_uri": "https://localhost:8080/"
        },
        "id": "f4GXKwhQ0peQ",
        "outputId": "8fd52f09-3902-437f-c473-53ae964d2101"
      },
      "source": [
        "len(school_records)"
      ],
      "execution_count": null,
      "outputs": [
        {
          "output_type": "execute_result",
          "data": {
            "text/plain": [
              "2"
            ]
          },
          "metadata": {},
          "execution_count": 83
        }
      ]
    },
    {
      "cell_type": "code",
      "metadata": {
        "colab": {
          "base_uri": "https://localhost:8080/"
        },
        "id": "P1m8-yXd0pjl",
        "outputId": "37bd7de9-717d-4777-de47-1f52674a5714"
      },
      "source": [
        "school_records[\"personal_info\"]"
      ],
      "execution_count": null,
      "outputs": [
        {
          "output_type": "execute_result",
          "data": {
            "text/plain": [
              "{'kid': {'sue': {'age': 8, 'class': 'elemantary'},\n",
              "  'tom': {'age': 10, 'class': 'intermediate'}},\n",
              " 'teen': {'joseph': {'age': 19, 'class': 'college'},\n",
              "  'marry': {'age': 16, 'class': 'high school'}}}"
            ]
          },
          "metadata": {},
          "execution_count": 85
        }
      ]
    },
    {
      "cell_type": "code",
      "metadata": {
        "colab": {
          "base_uri": "https://localhost:8080/"
        },
        "id": "c8KqURsy0pqk",
        "outputId": "b2a06d63-15b7-46bc-dab8-318c70cc99c4"
      },
      "source": [
        "len (school_records[\"personal_info\"])"
      ],
      "execution_count": null,
      "outputs": [
        {
          "output_type": "execute_result",
          "data": {
            "text/plain": [
              "2"
            ]
          },
          "metadata": {},
          "execution_count": 86
        }
      ]
    },
    {
      "cell_type": "code",
      "metadata": {
        "colab": {
          "base_uri": "https://localhost:8080/"
        },
        "id": "RjsrW-Kq0pvb",
        "outputId": "0bde4ce5-2aee-4976-8c7b-c28ce7c0dd9e"
      },
      "source": [
        "school_records[\"personal_info\"][\"kid\"]"
      ],
      "execution_count": null,
      "outputs": [
        {
          "output_type": "execute_result",
          "data": {
            "text/plain": [
              "{'sue': {'age': 8, 'class': 'elemantary'},\n",
              " 'tom': {'age': 10, 'class': 'intermediate'}}"
            ]
          },
          "metadata": {},
          "execution_count": 88
        }
      ]
    },
    {
      "cell_type": "code",
      "metadata": {
        "id": "auyo-9SF0p0c"
      },
      "source": [
        "len (school_records[\"personal_info\"][\"kid\"])"
      ],
      "execution_count": null,
      "outputs": []
    },
    {
      "cell_type": "code",
      "metadata": {
        "colab": {
          "base_uri": "https://localhost:8080/"
        },
        "id": "ZV4myFfX0p49",
        "outputId": "21250d0c-2aa9-4cfa-afb2-c7ed83735912"
      },
      "source": [
        "school_records[\"personal_info\"][\"kid\"][\"tom\"]"
      ],
      "execution_count": null,
      "outputs": [
        {
          "output_type": "execute_result",
          "data": {
            "text/plain": [
              "{'age': 10, 'class': 'intermediate'}"
            ]
          },
          "metadata": {},
          "execution_count": 89
        }
      ]
    },
    {
      "cell_type": "code",
      "metadata": {
        "colab": {
          "base_uri": "https://localhost:8080/"
        },
        "id": "_F9GLuKj0p9r",
        "outputId": "84d4aada-ccbd-417b-c453-443d2784c24b"
      },
      "source": [
        "school_records[\"personal_info\"][\"kid\"][\"tom\"][\"age\"]"
      ],
      "execution_count": null,
      "outputs": [
        {
          "output_type": "execute_result",
          "data": {
            "text/plain": [
              "10"
            ]
          },
          "metadata": {},
          "execution_count": 90
        }
      ]
    },
    {
      "cell_type": "code",
      "metadata": {
        "colab": {
          "base_uri": "https://localhost:8080/"
        },
        "id": "to-oliDf0qD_",
        "outputId": "2fce54f0-20fa-4cd3-97e4-c084bfea7a07"
      },
      "source": [
        "school_records[\"personal_info\"][\"teen\"][\"marry\"][\"age\"]"
      ],
      "execution_count": null,
      "outputs": [
        {
          "output_type": "execute_result",
          "data": {
            "text/plain": [
              "16"
            ]
          },
          "metadata": {},
          "execution_count": 91
        }
      ]
    },
    {
      "cell_type": "code",
      "metadata": {
        "colab": {
          "base_uri": "https://localhost:8080/",
          "height": 163
        },
        "id": "FNCBXnTT6OYz",
        "outputId": "468528a6-e95c-43a5-8c5c-b4b3455e97ff"
      },
      "source": [
        "print(list(school_records[\"grades_info\"][\"teen\"][\"joseph\"].items))"
      ],
      "execution_count": null,
      "outputs": [
        {
          "output_type": "error",
          "ename": "TypeError",
          "evalue": "ignored",
          "traceback": [
            "\u001b[0;31m---------------------------------------------------------------------------\u001b[0m",
            "\u001b[0;31mTypeError\u001b[0m                                 Traceback (most recent call last)",
            "\u001b[0;32m<ipython-input-97-fd235abb579d>\u001b[0m in \u001b[0;36m<module>\u001b[0;34m()\u001b[0m\n\u001b[0;32m----> 1\u001b[0;31m \u001b[0mprint\u001b[0m\u001b[0;34m(\u001b[0m\u001b[0mlist\u001b[0m\u001b[0;34m(\u001b[0m\u001b[0mschool_records\u001b[0m\u001b[0;34m[\u001b[0m\u001b[0;34m\"grades_info\"\u001b[0m\u001b[0;34m]\u001b[0m\u001b[0;34m[\u001b[0m\u001b[0;34m\"teen\"\u001b[0m\u001b[0;34m]\u001b[0m\u001b[0;34m[\u001b[0m\u001b[0;34m\"joseph\"\u001b[0m\u001b[0;34m]\u001b[0m\u001b[0;34m.\u001b[0m\u001b[0mitems\u001b[0m\u001b[0;34m)\u001b[0m\u001b[0;34m)\u001b[0m\u001b[0;34m\u001b[0m\u001b[0;34m\u001b[0m\u001b[0m\n\u001b[0m",
            "\u001b[0;31mTypeError\u001b[0m: 'builtin_function_or_method' object is not iterable"
          ]
        }
      ]
    },
    {
      "cell_type": "code",
      "metadata": {
        "colab": {
          "base_uri": "https://localhost:8080/"
        },
        "id": "CF95j6Al6Od4",
        "outputId": "d62ac869-64a8-4ab1-ee1b-e08182ea6f88"
      },
      "source": [
        "fawemo = {\n",
        "  \"friends\" : {\n",
        "    \"friend1\" : {\"first\" : \"sue\", \"last\" : \"bold\"},\n",
        "    \"friend2\" : {\"first\" : \"steve\", \"last\" : \"smith\"},\n",
        "    \"friend3\" : {\"first\" : \"sergio\", \"last\" : \"tatoo\"}\n",
        "    },\n",
        "  \"family\" : {\n",
        "    \"friend1\" : {\"first\" : \"sue\", \"last\" : \"bold\"},\n",
        "    \"friend2\" : {\"first\" : \"steve\", \"last\" : \"smith\"},\n",
        "    \"friend3\" : {\"first\" : \"sergio\", \"last\" : \"tatoo\"}\n",
        "    }\n",
        "}\n",
        "print(fawemo)\n"
      ],
      "execution_count": null,
      "outputs": [
        {
          "output_type": "stream",
          "name": "stdout",
          "text": [
            "{'friends': {'friend1': {'first': 'sue', 'last': 'bold'}, 'friend2': {'first': 'steve', 'last': 'smith'}, 'friend3': {'first': 'sergio', 'last': 'tatoo'}}, 'family': {'friend1': {'first': 'sue', 'last': 'bold'}, 'friend2': {'first': 'steve', 'last': 'smith'}, 'friend3': {'first': 'sergio', 'last': 'tatoo'}}}\n"
          ]
        }
      ]
    },
    {
      "cell_type": "code",
      "metadata": {
        "colab": {
          "base_uri": "https://localhost:8080/"
        },
        "id": "5u12skCS6Oit",
        "outputId": "9150cc2f-b8a9-4285-c27d-c752dc9797f7"
      },
      "source": [
        "ilk_kümem = {1, 2, 1, 0, 1}   # kümelerde aynı elemanı bir kez sayar. tekrar etmez. sıralama farklı farklı olabilir.\n",
        "ilk_kümem"
      ],
      "execution_count": null,
      "outputs": [
        {
          "output_type": "execute_result",
          "data": {
            "text/plain": [
              "{0, 1, 2}"
            ]
          },
          "metadata": {},
          "execution_count": 104
        }
      ]
    },
    {
      "cell_type": "code",
      "metadata": {
        "colab": {
          "base_uri": "https://localhost:8080/"
        },
        "id": "UrHq8Wxk6Oo1",
        "outputId": "2e5a68de-7183-43bd-d0e7-8a605c7cc40d"
      },
      "source": [
        "letter = \"a b c ç d e f g ğ h ı i j k l m n o ö p r s ş t u ü v y z\".split()\n",
        "print(letter)\n"
      ],
      "execution_count": null,
      "outputs": [
        {
          "output_type": "stream",
          "name": "stdout",
          "text": [
            "['a', 'b', 'c', 'ç', 'd', 'e', 'f', 'g', 'ğ', 'h', 'ı', 'i', 'j', 'k', 'l', 'm', 'n', 'o', 'ö', 'p', 'r', 's', 'ş', 't', 'u', 'ü', 'v', 'y', 'z']\n"
          ]
        }
      ]
    },
    {
      "cell_type": "code",
      "metadata": {
        "colab": {
          "base_uri": "https://localhost:8080/"
        },
        "id": "q3cOx5uV6Ot2",
        "outputId": "b3b01165-9df2-48a6-d4da-1da8bf79b3b1"
      },
      "source": [
        "\"a-b-c-d\".split(\"-\")"
      ],
      "execution_count": null,
      "outputs": [
        {
          "output_type": "execute_result",
          "data": {
            "text/plain": [
              "['a', 'b', 'c', 'd']"
            ]
          },
          "metadata": {},
          "execution_count": 106
        }
      ]
    },
    {
      "cell_type": "code",
      "metadata": {
        "colab": {
          "base_uri": "https://localhost:8080/"
        },
        "id": "TeGHdunj6OzA",
        "outputId": "5069e6f1-ccd4-439a-9cde-bbab115895d4"
      },
      "source": [
        "set_1 = {'red', 'blue', 'pink', 'red'}\n",
        "colors = 'red', 'blue', 'pink', 'red'\n",
        "set_2 = set(colors)\n",
        "print(set_1)\n",
        "print(set_2)"
      ],
      "execution_count": null,
      "outputs": [
        {
          "output_type": "stream",
          "name": "stdout",
          "text": [
            "{'pink', 'blue', 'red'}\n",
            "{'pink', 'blue', 'red'}\n"
          ]
        }
      ]
    },
    {
      "cell_type": "code",
      "metadata": {
        "id": "r2iy-oeN6O3r"
      },
      "source": [
        "test = {1 , \"1\" , 1.0}"
      ],
      "execution_count": null,
      "outputs": []
    },
    {
      "cell_type": "code",
      "metadata": {
        "colab": {
          "base_uri": "https://localhost:8080/"
        },
        "id": "JuX8Q-aN6O8p",
        "outputId": "07e46923-9dbc-4d0c-ee0a-96b72ee9d380"
      },
      "source": [
        "len(test)"
      ],
      "execution_count": null,
      "outputs": [
        {
          "output_type": "execute_result",
          "data": {
            "text/plain": [
              "2"
            ]
          },
          "metadata": {},
          "execution_count": 112
        }
      ]
    },
    {
      "cell_type": "code",
      "metadata": {
        "id": "m45nn2vK6PCu"
      },
      "source": [
        "given_list = [1,2,3,4,5]"
      ],
      "execution_count": null,
      "outputs": []
    },
    {
      "cell_type": "code",
      "metadata": {
        "colab": {
          "base_uri": "https://localhost:8080/",
          "height": 163
        },
        "id": "O04NZI726PMD",
        "outputId": "89689b8a-7bfc-48f8-805d-ff8bca8430e8"
      },
      "source": [
        "karışık = {[1,2,3], {1 : \"bir\"}, (\"üç\", \"dört\")}"
      ],
      "execution_count": null,
      "outputs": [
        {
          "output_type": "error",
          "ename": "TypeError",
          "evalue": "ignored",
          "traceback": [
            "\u001b[0;31m---------------------------------------------------------------------------\u001b[0m",
            "\u001b[0;31mTypeError\u001b[0m                                 Traceback (most recent call last)",
            "\u001b[0;32m<ipython-input-114-ebb3a76cc91c>\u001b[0m in \u001b[0;36m<module>\u001b[0;34m()\u001b[0m\n\u001b[0;32m----> 1\u001b[0;31m \u001b[0mkarışık\u001b[0m \u001b[0;34m=\u001b[0m \u001b[0;34m{\u001b[0m\u001b[0;34m[\u001b[0m\u001b[0;36m1\u001b[0m\u001b[0;34m,\u001b[0m\u001b[0;36m2\u001b[0m\u001b[0;34m,\u001b[0m\u001b[0;36m3\u001b[0m\u001b[0;34m]\u001b[0m\u001b[0;34m,\u001b[0m \u001b[0;34m{\u001b[0m\u001b[0;36m1\u001b[0m \u001b[0;34m:\u001b[0m \u001b[0;34m\"bir\"\u001b[0m\u001b[0;34m}\u001b[0m\u001b[0;34m,\u001b[0m \u001b[0;34m(\u001b[0m\u001b[0;34m\"üç\"\u001b[0m\u001b[0;34m,\u001b[0m \u001b[0;34m\"dört\"\u001b[0m\u001b[0;34m)\u001b[0m\u001b[0;34m}\u001b[0m\u001b[0;34m\u001b[0m\u001b[0;34m\u001b[0m\u001b[0m\n\u001b[0m",
            "\u001b[0;31mTypeError\u001b[0m: unhashable type: 'list'"
          ]
        }
      ]
    },
    {
      "cell_type": "code",
      "metadata": {
        "colab": {
          "base_uri": "https://localhost:8080/"
        },
        "id": "F83fYDdB6PTo",
        "outputId": "a8ac3843-602c-4d58-d723-883c3d9a8cd3"
      },
      "source": [
        "set(given_list)"
      ],
      "execution_count": null,
      "outputs": [
        {
          "output_type": "execute_result",
          "data": {
            "text/plain": [
              "{1, 2, 3, 4, 5}"
            ]
          },
          "metadata": {},
          "execution_count": 115
        }
      ]
    },
    {
      "cell_type": "code",
      "metadata": {
        "colab": {
          "base_uri": "https://localhost:8080/",
          "height": 163
        },
        "id": "NXC_sAIN6PYX",
        "outputId": "265666d1-9d4c-43c8-988f-885fb4c3eccb"
      },
      "source": [
        "set(karışık)"
      ],
      "execution_count": null,
      "outputs": [
        {
          "output_type": "error",
          "ename": "NameError",
          "evalue": "ignored",
          "traceback": [
            "\u001b[0;31m---------------------------------------------------------------------------\u001b[0m",
            "\u001b[0;31mNameError\u001b[0m                                 Traceback (most recent call last)",
            "\u001b[0;32m<ipython-input-116-59ef8920da5f>\u001b[0m in \u001b[0;36m<module>\u001b[0;34m()\u001b[0m\n\u001b[0;32m----> 1\u001b[0;31m \u001b[0mset\u001b[0m\u001b[0;34m(\u001b[0m\u001b[0mkarışık\u001b[0m\u001b[0;34m)\u001b[0m\u001b[0;34m\u001b[0m\u001b[0;34m\u001b[0m\u001b[0m\n\u001b[0m",
            "\u001b[0;31mNameError\u001b[0m: name 'karışık' is not defined"
          ]
        }
      ]
    },
    {
      "cell_type": "code",
      "metadata": {
        "id": "0-WwHHTD6Pc3"
      },
      "source": [
        "tuple_set = {1,2, (3,4)}"
      ],
      "execution_count": null,
      "outputs": []
    },
    {
      "cell_type": "code",
      "metadata": {
        "colab": {
          "base_uri": "https://localhost:8080/"
        },
        "id": "AnkbLfa56Phu",
        "outputId": "58f6ba09-7d51-4540-d164-0494ca2e3a56"
      },
      "source": [
        "tuple_set"
      ],
      "execution_count": null,
      "outputs": [
        {
          "output_type": "execute_result",
          "data": {
            "text/plain": [
              "{(3, 4), 1, 2}"
            ]
          },
          "metadata": {},
          "execution_count": 120
        }
      ]
    },
    {
      "cell_type": "code",
      "metadata": {
        "id": "nHiZFUl8vNcq"
      },
      "source": [
        ""
      ],
      "execution_count": null,
      "outputs": []
    },
    {
      "cell_type": "code",
      "metadata": {
        "id": "LXVmglYSqXwJ"
      },
      "source": [
        ""
      ],
      "execution_count": null,
      "outputs": []
    },
    {
      "cell_type": "markdown",
      "metadata": {
        "id": "S8blBds61hSn"
      },
      "source": [
        "# 04-11-2021 dersi"
      ]
    },
    {
      "cell_type": "code",
      "metadata": {
        "colab": {
          "base_uri": "https://localhost:8080/"
        },
        "id": "0KJ9AD9zGrrl",
        "outputId": "8b24c783-8f3f-4acf-aa56-90ff77b172b2"
      },
      "source": [
        "# kümeler alemi elemanları\n",
        "# difference (-) = iki değişken arasındaki farkları bool yapıp listeliyor.\n",
        "a = set(\"philedelhia\")\n",
        "b = set(\"dolpin\")\n",
        "print(a-b)\n",
        "print(a.difference(b))\n"
      ],
      "execution_count": null,
      "outputs": [
        {
          "output_type": "stream",
          "name": "stdout",
          "text": [
            "{'h', 'e', 'a'}\n",
            "{'h', 'e', 'a'}\n"
          ]
        }
      ]
    },
    {
      "cell_type": "code",
      "metadata": {
        "colab": {
          "base_uri": "https://localhost:8080/"
        },
        "id": "23xr82SCGtTF",
        "outputId": "1d4db742-b152-4c9a-e945-e3cc5007288c"
      },
      "source": [
        "# union (|) = iki değişkenin birleişimini lsiteliyor. kümelerdeki birleşim\n",
        "a = set(\"philedelhia\")\n",
        "b = set(\"dolpin\")\n",
        "a | b == b | a\n",
        "print"
      ],
      "execution_count": null,
      "outputs": [
        {
          "output_type": "execute_result",
          "data": {
            "text/plain": [
              "<function print>"
            ]
          },
          "metadata": {},
          "execution_count": 9
        }
      ]
    },
    {
      "cell_type": "code",
      "metadata": {
        "colab": {
          "base_uri": "https://localhost:8080/"
        },
        "id": "kAp_84HaGtXr",
        "outputId": "bdcca911-13ac-4ac0-816f-5c960460ea17"
      },
      "source": [
        "# intersection (&) iki değişkendeki kesişimi verir. kümelerdeki keşişim.\n",
        "a & b == b & a"
      ],
      "execution_count": null,
      "outputs": [
        {
          "output_type": "execute_result",
          "data": {
            "text/plain": [
              "True"
            ]
          },
          "metadata": {},
          "execution_count": 10
        }
      ]
    },
    {
      "cell_type": "code",
      "metadata": {
        "colab": {
          "base_uri": "https://localhost:8080/"
        },
        "id": "Br3qYw7LGtdp",
        "outputId": "3de83435-8de0-4d1a-aac8-06144996685c"
      },
      "source": [
        "date = \"11/04/2021\"\n",
        "set(date)"
      ],
      "execution_count": null,
      "outputs": [
        {
          "output_type": "execute_result",
          "data": {
            "text/plain": [
              "{'/', '0', '1', '2', '4'}"
            ]
          },
          "metadata": {},
          "execution_count": 11
        }
      ]
    },
    {
      "cell_type": "code",
      "metadata": {
        "colab": {
          "base_uri": "https://localhost:8080/"
        },
        "id": "U5nwX_LoGtib",
        "outputId": "b5f517fd-03d1-40f4-89af-00d4ecf49c7c"
      },
      "source": [
        "{date}"
      ],
      "execution_count": null,
      "outputs": [
        {
          "output_type": "execute_result",
          "data": {
            "text/plain": [
              "{'11/04/2021'}"
            ]
          },
          "metadata": {},
          "execution_count": 12
        }
      ]
    },
    {
      "cell_type": "code",
      "metadata": {
        "colab": {
          "base_uri": "https://localhost:8080/"
        },
        "id": "bQwT-_NBGtn5",
        "outputId": "32eac9c9-1334-4067-da57-a69bb9d8d196"
      },
      "source": [
        "a = set(\"09/01/2021\")\n",
        "b = {\"09/01/2021\"}\n",
        "print(a)\n",
        "print(b)"
      ],
      "execution_count": null,
      "outputs": [
        {
          "output_type": "stream",
          "name": "stdout",
          "text": [
            "{'1', '0', '/', '9', '2'}\n",
            "{'09/01/2021'}\n"
          ]
        }
      ]
    },
    {
      "cell_type": "code",
      "metadata": {
        "colab": {
          "base_uri": "https://localhost:8080/"
        },
        "id": "kD5_3X3NGtsR",
        "outputId": "8494c475-ce32-473d-d034-e10fdfb6da79"
      },
      "source": [
        "#  unique = anlamı benzersiz demek\n",
        "\n",
        "usa = set(\"washington\")\n",
        "nz = set(\"wellington\")\n",
        "\n",
        "usa - nz  # usa da olup nz de olmayan\n"
      ],
      "execution_count": null,
      "outputs": [
        {
          "output_type": "execute_result",
          "data": {
            "text/plain": [
              "{'a', 'h', 's'}"
            ]
          },
          "metadata": {},
          "execution_count": 16
        }
      ]
    },
    {
      "cell_type": "code",
      "metadata": {
        "colab": {
          "base_uri": "https://localhost:8080/"
        },
        "id": "3JeZnSOnGtwp",
        "outputId": "a98b1042-3f9b-4cb8-eb24-5353af840a15"
      },
      "source": [
        "nz - usa  # nz de olup usa da olmayan\n"
      ],
      "execution_count": null,
      "outputs": [
        {
          "output_type": "execute_result",
          "data": {
            "text/plain": [
              "{'e', 'l'}"
            ]
          },
          "metadata": {},
          "execution_count": 17
        }
      ]
    },
    {
      "cell_type": "code",
      "metadata": {
        "colab": {
          "base_uri": "https://localhost:8080/"
        },
        "id": "JxFDsjUIGt1L",
        "outputId": "72357ec6-2348-4af5-c06b-e8a5a3d26274"
      },
      "source": [
        "usa & nz  # kesişimleri\n"
      ],
      "execution_count": null,
      "outputs": [
        {
          "output_type": "execute_result",
          "data": {
            "text/plain": [
              "{'g', 'i', 'n', 'o', 't', 'w'}"
            ]
          },
          "metadata": {},
          "execution_count": 18
        }
      ]
    },
    {
      "cell_type": "code",
      "metadata": {
        "colab": {
          "base_uri": "https://localhost:8080/"
        },
        "id": "iAxu0h44Gt5j",
        "outputId": "9c74ccb2-fbca-4c78-feda-09c523e08d1c"
      },
      "source": [
        "usa | nz  # birleşimleri"
      ],
      "execution_count": null,
      "outputs": [
        {
          "output_type": "execute_result",
          "data": {
            "text/plain": [
              "{'a', 'e', 'g', 'h', 'i', 'l', 'n', 'o', 's', 't', 'w'}"
            ]
          },
          "metadata": {},
          "execution_count": 19
        }
      ]
    },
    {
      "cell_type": "code",
      "metadata": {
        "colab": {
          "base_uri": "https://localhost:8080/",
          "height": 129
        },
        "id": "OTk4_5fzGt_x",
        "outputId": "2a2a43ff-ea74-4fc5-f5c3-b2be07136510"
      },
      "source": [
        "usa unique nz"
      ],
      "execution_count": null,
      "outputs": [
        {
          "output_type": "error",
          "ename": "SyntaxError",
          "evalue": "ignored",
          "traceback": [
            "\u001b[0;36m  File \u001b[0;32m\"<ipython-input-23-7cc7f377b01f>\"\u001b[0;36m, line \u001b[0;32m1\u001b[0m\n\u001b[0;31m    usa uniqu nz\u001b[0m\n\u001b[0m            ^\u001b[0m\n\u001b[0;31mSyntaxError\u001b[0m\u001b[0;31m:\u001b[0m invalid syntax\n"
          ]
        }
      ]
    },
    {
      "cell_type": "code",
      "metadata": {
        "id": "zdua2gpKGuEc"
      },
      "source": [
        "#  contrsol flow statements\n",
        "# conditionals\n",
        "# loops"
      ],
      "execution_count": null,
      "outputs": []
    },
    {
      "cell_type": "code",
      "metadata": {
        "id": "UAtXrrx9GuJF"
      },
      "source": [
        "# tekrar ettirmek içib \n",
        "\n",
        "sayılar = [1,2,3,4,5]\n",
        "print(sayılar)\n",
        "\n",
        "#  belirli şartları sağladığında çalışsın, belirli şartlerı sağlamadığında çalışmasın.\n",
        "#  belirli bir zamanca çalımasını istiyorsanız\n",
        "#  belirli bir aralıklarla çalışmasını istiyorsanız.\n",
        "#  \n",
        "\n",
        "a = 3\n",
        "b = 0\n",
        "b > a\n"
      ],
      "execution_count": null,
      "outputs": []
    },
    {
      "cell_type": "code",
      "metadata": {
        "id": "1efwQvMKGuNQ"
      },
      "source": [
        "if condition :\n",
        "  body1\n",
        "  boyd2\n",
        "body3\n"
      ],
      "execution_count": null,
      "outputs": []
    },
    {
      "cell_type": "code",
      "metadata": {
        "colab": {
          "base_uri": "https://localhost:8080/"
        },
        "id": "W_U8lbPmGuR0",
        "outputId": "f20263dd-c804-43a8-aec6-f703ee6d9110"
      },
      "source": [
        "if \"0\" :\n",
        "  print(\"hello world\")\n",
        "print(\"print me in cases.\")"
      ],
      "execution_count": null,
      "outputs": [
        {
          "output_type": "stream",
          "name": "stdout",
          "text": [
            "hello world\n",
            "print me in cases.\n"
          ]
        }
      ]
    },
    {
      "cell_type": "code",
      "metadata": {
        "colab": {
          "base_uri": "https://localhost:8080/"
        },
        "id": "zoLDazQJGuWH",
        "outputId": "54794bce-5bf9-4e8a-85c9-ca5dad95b44f"
      },
      "source": [
        "bool(\"0\")"
      ],
      "execution_count": null,
      "outputs": [
        {
          "output_type": "execute_result",
          "data": {
            "text/plain": [
              "True"
            ]
          },
          "metadata": {},
          "execution_count": 26
        }
      ]
    },
    {
      "cell_type": "code",
      "metadata": {
        "colab": {
          "base_uri": "https://localhost:8080/"
        },
        "id": "MRFrBMvJGuad",
        "outputId": "18af44ec-5623-49b5-88f0-a10ef8fde2cf"
      },
      "source": [
        "if \"0\" and \"\" :\n",
        "  print(\"hello world\")\n",
        "print(\"print me in all cases\")"
      ],
      "execution_count": null,
      "outputs": [
        {
          "output_type": "stream",
          "name": "stdout",
          "text": [
            "print me in all cases\n"
          ]
        }
      ]
    },
    {
      "cell_type": "code",
      "metadata": {
        "colab": {
          "base_uri": "https://localhost:8080/"
        },
        "id": "lPT4DHC4WG9N",
        "outputId": "e8ddb020-1abc-44ab-ad64-7cdc35319b4b"
      },
      "source": [
        "if 0 or \"False\" and None :\n",
        "  print(\"hello world\")\n",
        "print(\"print me in all cases\")"
      ],
      "execution_count": null,
      "outputs": [
        {
          "output_type": "stream",
          "name": "stdout",
          "text": [
            "print me in all cases\n"
          ]
        }
      ]
    },
    {
      "cell_type": "code",
      "metadata": {
        "colab": {
          "base_uri": "https://localhost:8080/"
        },
        "id": "axOlm76aWHCz",
        "outputId": "061716b0-0181-45a5-dd59-9a4cee45fc1e"
      },
      "source": [
        "if 1 :\n",
        "  print(\"clarusway\") "
      ],
      "execution_count": null,
      "outputs": [
        {
          "output_type": "stream",
          "name": "stdout",
          "text": [
            "clarusway\n"
          ]
        }
      ]
    },
    {
      "cell_type": "code",
      "metadata": {
        "colab": {
          "base_uri": "https://localhost:8080/"
        },
        "id": "7036RV3YWHI3",
        "outputId": "ca62f5ee-4a5f-4477-b57c-02142dbeab63"
      },
      "source": [
        "if 0 : \n",
        "  print(\"clarusway\")\n",
        "print(\"--\")"
      ],
      "execution_count": null,
      "outputs": [
        {
          "output_type": "stream",
          "name": "stdout",
          "text": [
            "--\n"
          ]
        }
      ]
    },
    {
      "cell_type": "code",
      "metadata": {
        "colab": {
          "base_uri": "https://localhost:8080/"
        },
        "id": "pJl_YuNKWHQB",
        "outputId": "345d44c1-7171-4796-bc97-954e4c57881e"
      },
      "source": [
        "if [\"\"] :\n",
        "  print(\"clarusway\")  "
      ],
      "execution_count": null,
      "outputs": [
        {
          "output_type": "stream",
          "name": "stdout",
          "text": [
            "clarusway\n"
          ]
        }
      ]
    },
    {
      "cell_type": "code",
      "metadata": {
        "colab": {
          "base_uri": "https://localhost:8080/"
        },
        "id": "bl9JZ0yaWHV3",
        "outputId": "007e7c55-4382-4f61-e8c7-1172ede55f74"
      },
      "source": [
        "minced = True\n",
        "bread = True\n",
        "\n",
        "# green\n",
        "lettuce = True\n",
        "onion = True\n",
        "\n",
        "grocer = True\n",
        "\n",
        "hamburger = (minced and grocer and bread) and (lettuce or onion)\n",
        "\n",
        "if hamburger :\n",
        "  print (\"Bon Appetit\")\n"
      ],
      "execution_count": null,
      "outputs": [
        {
          "output_type": "stream",
          "name": "stdout",
          "text": [
            "Bon Appetit\n"
          ]
        }
      ]
    },
    {
      "cell_type": "code",
      "metadata": {
        "id": "vWjZAsXLWHce"
      },
      "source": [
        "set1 = set(\"TWELVE PLUS ONE\")\n",
        "set2 = set(\"ELEVEN PLUS TWO\")\n",
        "\n",
        "if set1 == set2:\n",
        "  print(\"We are the same!\")\n"
      ],
      "execution_count": null,
      "outputs": []
    },
    {
      "cell_type": "code",
      "metadata": {
        "id": "L8CPtR5DWHjL"
      },
      "source": [
        "type(input(\"bir şey yaz :\"))\n",
        "convert = input(\"Enter Yes or No :\").title().strip() == \"Yes\" # title ile boşluları sildik."
      ],
      "execution_count": null,
      "outputs": []
    },
    {
      "cell_type": "code",
      "metadata": {
        "colab": {
          "base_uri": "https://localhost:8080/"
        },
        "id": "_q3nr2TXfo3_",
        "outputId": "894e013f-9af7-479b-fb53-7025af74fe79"
      },
      "source": [
        "print(f\"You entered {input('Enter Yes or No:').title().strip() == 'Yes'}\")"
      ],
      "execution_count": null,
      "outputs": [
        {
          "output_type": "stream",
          "name": "stdout",
          "text": [
            "Enter Yes or No:yes\n",
            "You enteredTrue\n"
          ]
        }
      ]
    },
    {
      "cell_type": "code",
      "metadata": {
        "colab": {
          "base_uri": "https://localhost:8080/"
        },
        "id": "2t2hkXRBoUV7",
        "outputId": "09e4813a-34f1-4b04-8dd4-fb6527fd2202"
      },
      "source": [
        "number = 5\n",
        "if number <= 3:\n",
        "  print(\"Number is smaller than or equal to 3\")\n",
        "else : \n",
        "  print(\"Number is bigger than 3\")"
      ],
      "execution_count": null,
      "outputs": [
        {
          "output_type": "stream",
          "name": "stdout",
          "text": [
            "Number is bigger than 3\n"
          ]
        }
      ]
    },
    {
      "cell_type": "code",
      "metadata": {
        "colab": {
          "base_uri": "https://localhost:8080/"
        },
        "id": "Taj127ObGuiR",
        "outputId": "b9b6f5ba-0316-4ee3-dc50-83bf36068ab1"
      },
      "source": [
        "sayı = int(input(\"Lütfen bir sayı giriniz =\"))\n",
        "if sayı %2 :\n",
        "  print (\"Tek sayı\")\n",
        "else :\n",
        "  print(\"Çift sayı\")"
      ],
      "execution_count": null,
      "outputs": [
        {
          "output_type": "stream",
          "name": "stdout",
          "text": [
            "Lütfen bir sayı giriniz =12548\n",
            "Çift sayı\n"
          ]
        }
      ]
    },
    {
      "cell_type": "code",
      "metadata": {
        "colab": {
          "base_uri": "https://localhost:8080/"
        },
        "id": "eAJuXWBOGunA",
        "outputId": "c4420f7b-41de-4361-8dc1-f64d1b8e0591"
      },
      "source": [
        "sayı = float(input(\"Lütfen 0 haricinde bir sayı giriniz =\"))\n",
        "\n",
        "if sayı > 0:\n",
        "  print(\"Girdiğiniz sayı pozitif\")\n",
        "else:\n",
        "  print(\"Girdiğiniz sayı negafit\")"
      ],
      "execution_count": null,
      "outputs": [
        {
          "output_type": "stream",
          "name": "stdout",
          "text": [
            "Lütfen 0 haricinde bir sayı giriniz =-33\n",
            "Girdiğiniz sayı negafit\n"
          ]
        }
      ]
    },
    {
      "cell_type": "code",
      "metadata": {
        "colab": {
          "base_uri": "https://localhost:8080/"
        },
        "id": "XZM6AY_YGrv4",
        "outputId": "62a7e892-f44d-4e13-c887-ee02a3f4c9fb"
      },
      "source": [
        "num1 = float(input(\"Bir sayı giriniz =\"))\n",
        "num2 = float(input(\"Bir sayı giriniz =\"))\n",
        "\n",
        "if num1 > num2 :\n",
        "  larger = num1\n",
        "else :\n",
        "  larger = num2\n",
        "print(\"girdiğiniz büyük sayı\", int(larger))"
      ],
      "execution_count": null,
      "outputs": [
        {
          "output_type": "stream",
          "name": "stdout",
          "text": [
            "Bir sayı giriniz =5\n",
            "Bir sayı giriniz =3\n",
            "girdiğiniz büyük sayı 5\n"
          ]
        }
      ]
    },
    {
      "cell_type": "code",
      "metadata": {
        "id": "BEJbaH9GGr1w"
      },
      "source": [
        ""
      ],
      "execution_count": null,
      "outputs": []
    },
    {
      "cell_type": "markdown",
      "metadata": {
        "id": "xnhsWURE1hVK"
      },
      "source": [
        "# 08-11-2021 dersi"
      ]
    },
    {
      "cell_type": "code",
      "metadata": {
        "colab": {
          "base_uri": "https://localhost:8080/"
        },
        "id": "j5nt02nJwBX5",
        "outputId": "984ea808-89fa-480d-d544-c4daeb43de2f"
      },
      "source": [
        "# if-else statements\n",
        "\n",
        "bool_value = False\n",
        "if bool_value :\n",
        "  print(\"Yes\")\n",
        "else:\n",
        "  print(\"No\")\n"
      ],
      "execution_count": null,
      "outputs": [
        {
          "output_type": "stream",
          "name": "stdout",
          "text": [
            "No\n"
          ]
        }
      ]
    },
    {
      "cell_type": "code",
      "metadata": {
        "id": "spiKd4O2wBcU"
      },
      "source": [
        "# if-elif-else statements\n",
        "\n"
      ],
      "execution_count": null,
      "outputs": []
    },
    {
      "cell_type": "code",
      "metadata": {
        "id": "VWdp-3CewBh4"
      },
      "source": [
        ""
      ],
      "execution_count": null,
      "outputs": []
    },
    {
      "cell_type": "code",
      "metadata": {
        "id": "o9Ypt1nGwBnu"
      },
      "source": [
        ""
      ],
      "execution_count": null,
      "outputs": []
    },
    {
      "cell_type": "code",
      "metadata": {
        "id": "Qas0qoSHwBvW"
      },
      "source": [
        ""
      ],
      "execution_count": null,
      "outputs": []
    },
    {
      "cell_type": "code",
      "metadata": {
        "id": "43bXUXFBwB0S"
      },
      "source": [
        ""
      ],
      "execution_count": null,
      "outputs": []
    },
    {
      "cell_type": "code",
      "metadata": {
        "id": "NgLpf7zmwB_l"
      },
      "source": [
        ""
      ],
      "execution_count": null,
      "outputs": []
    },
    {
      "cell_type": "code",
      "metadata": {
        "id": "QMChMwe8wCEq"
      },
      "source": [
        ""
      ],
      "execution_count": null,
      "outputs": []
    },
    {
      "cell_type": "code",
      "metadata": {
        "id": "Y7fKu6n9wCJH"
      },
      "source": [
        ""
      ],
      "execution_count": null,
      "outputs": []
    },
    {
      "cell_type": "code",
      "metadata": {
        "id": "PS6pqq6vwCNo"
      },
      "source": [
        ""
      ],
      "execution_count": null,
      "outputs": []
    },
    {
      "cell_type": "markdown",
      "metadata": {
        "id": "7N9k30MLv7iW"
      },
      "source": [
        "# 15-11-2021 dersi"
      ]
    },
    {
      "cell_type": "code",
      "metadata": {
        "colab": {
          "base_uri": "https://localhost:8080/"
        },
        "id": "-z_js8Qs0uq7",
        "outputId": "0839d56f-343e-4f8a-9aa6-4b86f1fd2ebb"
      },
      "source": [
        "#  sum_num değişkenini üst üste toplama işlemlemi yaptık.\n",
        "\n",
        "sum_num=0\n",
        "for i in range(1,75):\n",
        "  sum_num +=i\n",
        "print(sum_num)"
      ],
      "execution_count": null,
      "outputs": [
        {
          "output_type": "stream",
          "name": "stdout",
          "text": [
            "2775\n"
          ]
        }
      ]
    },
    {
      "cell_type": "code",
      "metadata": {
        "colab": {
          "base_uri": "https://localhost:8080/"
        },
        "id": "cb7Mwmpu044t",
        "outputId": "8850d871-8d47-4f03-af36-a97bed1271e3"
      },
      "source": [
        "who = [\"I am \" , \"You are \"]\n",
        "mood = [\"happy\" , \"condident\"]\n",
        "\n",
        "for i in who:\n",
        "  for ii in mood:\n",
        "    print (i + ii)"
      ],
      "execution_count": null,
      "outputs": [
        {
          "output_type": "stream",
          "name": "stdout",
          "text": [
            "I am happy\n",
            "I am condident\n",
            "You are happy\n",
            "You are condident\n"
          ]
        }
      ]
    },
    {
      "cell_type": "code",
      "metadata": {
        "colab": {
          "base_uri": "https://localhost:8080/"
        },
        "id": "GJpf2Jo92-eC",
        "outputId": "2249d1e0-8a8c-4fa3-b444-3de3ad030b1c"
      },
      "source": [
        "names = [\"susan\", \"tom\", \"edward\"]\n",
        "mood = [\"happy\", \"sad\"]\n",
        "\n",
        "for i in names:\n",
        "  for ii in mood:\n",
        "    print(i, \"is\", ii)"
      ],
      "execution_count": null,
      "outputs": [
        {
          "output_type": "stream",
          "name": "stdout",
          "text": [
            "susan is happy\n",
            "susan is sad\n",
            "tom is happy\n",
            "tom is sad\n",
            "edward is happy\n",
            "edward is sad\n"
          ]
        }
      ]
    },
    {
      "cell_type": "code",
      "metadata": {
        "id": "LRpT1v4g6Wl4"
      },
      "source": [
        "#  GENEL TEKRAR"
      ],
      "execution_count": null,
      "outputs": []
    },
    {
      "cell_type": "code",
      "metadata": {
        "id": "FKerVrLm04-c"
      },
      "source": [
        "(monday, tuesday, wednesday, thursday, friday, saturday, sunday) = tuple(range(1,8))"
      ],
      "execution_count": null,
      "outputs": []
    },
    {
      "cell_type": "code",
      "metadata": {
        "colab": {
          "base_uri": "https://localhost:8080/"
        },
        "id": "3NHmq0rt05Es",
        "outputId": "ab684ed0-3ae5-46f3-9b43-b4e450ece738"
      },
      "source": [
        "sunday"
      ],
      "execution_count": null,
      "outputs": [
        {
          "output_type": "execute_result",
          "data": {
            "text/plain": [
              "7"
            ]
          },
          "metadata": {},
          "execution_count": 6
        }
      ]
    },
    {
      "cell_type": "code",
      "metadata": {
        "colab": {
          "base_uri": "https://localhost:8080/"
        },
        "id": "hUgIchru05Na",
        "outputId": "c2d34ffc-e18f-49f7-8e2f-884429436309"
      },
      "source": [
        "[1,2,3,4] + [\"bir\",\"iki\",\"üç\"] \n",
        "    # iki listeyi toplayınca, 2. listeyi 1. listenin sonuna ekleyerek tek liste olarak verir."
      ],
      "execution_count": null,
      "outputs": [
        {
          "output_type": "execute_result",
          "data": {
            "text/plain": [
              "[1, 2, 3, 4, 'bir', 'iki', 'üç']"
            ]
          },
          "metadata": {},
          "execution_count": 7
        }
      ]
    },
    {
      "cell_type": "code",
      "metadata": {
        "id": "aBiFoa4F05Ur"
      },
      "source": [
        "a, _, b, _ = (10, 20 , 30, 40)\n",
        "  # değişkene ihtiyacımız olmadığı zaman _ işaretine değişken atandığı zaman hafızada yer kaplamaz ve aynı zamanda bilgisayarı yormaz."
      ],
      "execution_count": null,
      "outputs": []
    },
    {
      "cell_type": "code",
      "metadata": {
        "colab": {
          "base_uri": "https://localhost:8080/"
        },
        "id": "gwhx2idi05ay",
        "outputId": "9e9b03d1-2933-441f-e641-5d0deb2709c0"
      },
      "source": [
        "a"
      ],
      "execution_count": null,
      "outputs": [
        {
          "output_type": "execute_result",
          "data": {
            "text/plain": [
              "10"
            ]
          },
          "metadata": {},
          "execution_count": 11
        }
      ]
    },
    {
      "cell_type": "code",
      "metadata": {
        "colab": {
          "base_uri": "https://localhost:8080/"
        },
        "id": "P6bD6d9905gt",
        "outputId": "ec89802a-0486-4c14-bd1c-e0b844b5bb99"
      },
      "source": [
        "b"
      ],
      "execution_count": null,
      "outputs": [
        {
          "output_type": "execute_result",
          "data": {
            "text/plain": [
              "30"
            ]
          },
          "metadata": {},
          "execution_count": 12
        }
      ]
    },
    {
      "cell_type": "code",
      "metadata": {
        "id": "OWiYZ8q405ni"
      },
      "source": [
        "x,y,*z = (11,22,33,44,55)"
      ],
      "execution_count": null,
      "outputs": []
    },
    {
      "cell_type": "code",
      "metadata": {
        "colab": {
          "base_uri": "https://localhost:8080/"
        },
        "id": "xg2XOonc05uB",
        "outputId": "e5f79912-f02e-468d-97ad-e9032a72c403"
      },
      "source": [
        "z"
      ],
      "execution_count": null,
      "outputs": [
        {
          "output_type": "execute_result",
          "data": {
            "text/plain": [
              "[33, 44, 55]"
            ]
          },
          "metadata": {},
          "execution_count": 14
        }
      ]
    },
    {
      "cell_type": "code",
      "metadata": {
        "id": "PiNkTYeg05zT"
      },
      "source": [
        "x,y, *_ = (11, 22, 33, 44, 55, 66, 77)"
      ],
      "execution_count": null,
      "outputs": []
    },
    {
      "cell_type": "code",
      "metadata": {
        "colab": {
          "base_uri": "https://localhost:8080/"
        },
        "id": "2ikS47RH_hH0",
        "outputId": "61b1ee10-5e1b-4e78-d7d3-e5a46d01bb60"
      },
      "source": [
        "x"
      ],
      "execution_count": null,
      "outputs": [
        {
          "output_type": "execute_result",
          "data": {
            "text/plain": [
              "11"
            ]
          },
          "metadata": {},
          "execution_count": 16
        }
      ]
    },
    {
      "cell_type": "code",
      "metadata": {
        "colab": {
          "base_uri": "https://localhost:8080/"
        },
        "id": "1qIHSCl6_hOP",
        "outputId": "8c132178-4dfb-4ab4-9bf6-d97f0fcf9986"
      },
      "source": [
        "y"
      ],
      "execution_count": null,
      "outputs": [
        {
          "output_type": "execute_result",
          "data": {
            "text/plain": [
              "22"
            ]
          },
          "metadata": {},
          "execution_count": 17
        }
      ]
    },
    {
      "cell_type": "code",
      "metadata": {
        "id": "8H6Zy5BN_hT-"
      },
      "source": [
        "x, y, z, *_, t = (11, 22, 33, 44, 55, 66, 77)"
      ],
      "execution_count": null,
      "outputs": []
    },
    {
      "cell_type": "code",
      "metadata": {
        "colab": {
          "base_uri": "https://localhost:8080/"
        },
        "id": "sdqEW7LE_hcR",
        "outputId": "0eafa022-1eee-412d-df73-94c4ab982416"
      },
      "source": [
        "print(x , y, z, t)"
      ],
      "execution_count": null,
      "outputs": [
        {
          "output_type": "stream",
          "name": "stdout",
          "text": [
            "11 22 33 77\n"
          ]
        }
      ]
    },
    {
      "cell_type": "code",
      "metadata": {
        "id": "wjw1bXnx_hmN"
      },
      "source": [
        "# LİST COMPREHENSİON\n",
        "\n",
        "[expression for item in iterable]\n",
        "expression body 1 oluyor\n",
        "iterable body 2 oluyor\n",
        "\n",
        "for item in interable :"
      ],
      "execution_count": null,
      "outputs": []
    },
    {
      "cell_type": "code",
      "metadata": {
        "colab": {
          "base_uri": "https://localhost:8080/"
        },
        "id": "30FtcGGV_htp",
        "outputId": "4fe0c526-e4cf-4d3d-f259-e1b4e8e4716f"
      },
      "source": [
        "sayılar = []\n",
        "\n",
        "for i in range(5) :\n",
        "  sayılar.append(i)\n",
        "sayılar"
      ],
      "execution_count": null,
      "outputs": [
        {
          "output_type": "execute_result",
          "data": {
            "text/plain": [
              "[0, 1, 2, 3, 4]"
            ]
          },
          "metadata": {},
          "execution_count": 26
        }
      ]
    },
    {
      "cell_type": "code",
      "metadata": {
        "colab": {
          "base_uri": "https://localhost:8080/"
        },
        "id": "in7UXY1k_hyh",
        "outputId": "a1e9faad-059e-4788-a0f5-35d82647325d"
      },
      "source": [
        "# [expression/body for i in range(5)]\n",
        "\n",
        "[i for i in range(5)]\n"
      ],
      "execution_count": null,
      "outputs": [
        {
          "output_type": "execute_result",
          "data": {
            "text/plain": [
              "[0, 1, 2, 3, 4]"
            ]
          },
          "metadata": {},
          "execution_count": 28
        }
      ]
    },
    {
      "cell_type": "code",
      "metadata": {
        "colab": {
          "base_uri": "https://localhost:8080/"
        },
        "id": "Ow4S0BNx_h3z",
        "outputId": "17bb3d9e-afa5-4a4b-e493-0265fb1d1dc1"
      },
      "source": [
        "[i**2 for i in range(1,6)]"
      ],
      "execution_count": null,
      "outputs": [
        {
          "output_type": "execute_result",
          "data": {
            "text/plain": [
              "[1, 4, 9, 16, 25]"
            ]
          },
          "metadata": {},
          "execution_count": 30
        }
      ]
    },
    {
      "cell_type": "code",
      "metadata": {
        "colab": {
          "base_uri": "https://localhost:8080/"
        },
        "id": "SlaGwy1h_h9k",
        "outputId": "57b8475a-79c7-466f-b672-440dfd8a3448"
      },
      "source": [
        "[[i] for i in range(5)]"
      ],
      "execution_count": null,
      "outputs": [
        {
          "output_type": "execute_result",
          "data": {
            "text/plain": [
              "[[0], [1], [2], [3], [4]]"
            ]
          },
          "metadata": {},
          "execution_count": 33
        }
      ]
    },
    {
      "cell_type": "code",
      "metadata": {
        "colab": {
          "base_uri": "https://localhost:8080/"
        },
        "id": "qnUoj2QB_iCc",
        "outputId": "9c0ccafe-e430-4eb8-decb-36178972dd44"
      },
      "source": [
        "my_list = [1, 2, 3, 4, 5, 6]\n",
        "new_list = []\n",
        "\n",
        "for i in my_list :\n",
        "  if i % 2 :\n",
        "    new_list.append(i ** 2)\n",
        "new_list"
      ],
      "execution_count": null,
      "outputs": [
        {
          "output_type": "execute_result",
          "data": {
            "text/plain": [
              "[1, 9, 25]"
            ]
          },
          "metadata": {},
          "execution_count": 35
        }
      ]
    },
    {
      "cell_type": "code",
      "metadata": {
        "id": "Xg4p_xQZ_iH0"
      },
      "source": [
        "# ternary if condition yapısı (tek satırda ifler)\n",
        "\n",
        "execute-body1 if condition else execute-body2"
      ],
      "execution_count": null,
      "outputs": []
    },
    {
      "cell_type": "code",
      "metadata": {
        "colab": {
          "base_uri": "https://localhost:8080/"
        },
        "id": "_aeny-Wn_iNB",
        "outputId": "8b727c34-9ee4-43a8-9c16-17fbd2232051"
      },
      "source": [
        "condition = True\n",
        "\n",
        "if condition :\n",
        "  a = 1\n",
        "else : \n",
        "  a = 0\n",
        "print(a)"
      ],
      "execution_count": null,
      "outputs": [
        {
          "output_type": "stream",
          "name": "stdout",
          "text": [
            "1\n"
          ]
        }
      ]
    },
    {
      "cell_type": "code",
      "metadata": {
        "id": "ty1CfLxm_iTl"
      },
      "source": [
        "condition = Flase\n",
        "1 if condition else 0"
      ],
      "execution_count": null,
      "outputs": []
    },
    {
      "cell_type": "code",
      "metadata": {
        "id": "ACy5WsWP_icf"
      },
      "source": [
        "my_list = [1, 2, 3, 4, 5, 6]\n",
        "new_list = []\n",
        "\n",
        "# [i**2 if i % 2 for i in new_list]   deneme satırı"
      ],
      "execution_count": null,
      "outputs": []
    },
    {
      "cell_type": "code",
      "metadata": {
        "id": "1_vfo89i_ihy"
      },
      "source": [
        "[i ** 2 for i in my_list]"
      ],
      "execution_count": null,
      "outputs": []
    },
    {
      "cell_type": "code",
      "metadata": {
        "id": "kSHai4NA_img"
      },
      "source": [
        "body if i % 2"
      ],
      "execution_count": null,
      "outputs": []
    },
    {
      "cell_type": "code",
      "metadata": {
        "colab": {
          "base_uri": "https://localhost:8080/"
        },
        "id": "6chQvDBp055_",
        "outputId": "3228451c-3a07-4a31-f715-5cf8ab9a8798"
      },
      "source": [
        "[i ** 2 for i in my_list if i % 2]"
      ],
      "execution_count": null,
      "outputs": [
        {
          "output_type": "execute_result",
          "data": {
            "text/plain": [
              "[1, 9, 25]"
            ]
          },
          "metadata": {},
          "execution_count": 53
        }
      ]
    },
    {
      "cell_type": "code",
      "metadata": {
        "id": "8DmweX1B05_n"
      },
      "source": [
        ""
      ],
      "execution_count": null,
      "outputs": []
    },
    {
      "cell_type": "code",
      "metadata": {
        "id": "vsicvAAx06FH"
      },
      "source": [
        ""
      ],
      "execution_count": null,
      "outputs": []
    },
    {
      "cell_type": "markdown",
      "metadata": {
        "id": "WHdyJ1sT0x48"
      },
      "source": [
        "# 17-11-2021 dersi"
      ]
    },
    {
      "cell_type": "code",
      "metadata": {
        "colab": {
          "base_uri": "https://localhost:8080/"
        },
        "id": "IWugM48eEo_8",
        "outputId": "dab7bfa7-751e-4940-8906-3c32f6b8868c"
      },
      "source": [
        "# Foksiyonlar all (and gibi döndürüyor)\n",
        "\n",
        "names = [\"susan\", \"tom\", \"False\"]\n",
        "mood = [\"happy\", \"sad\", 0]\n",
        "empty = {}\n",
        "\n",
        "print(all(names), all(mood), all(empty), sep=\"\\n\")"
      ],
      "execution_count": null,
      "outputs": [
        {
          "output_type": "stream",
          "name": "stdout",
          "text": [
            "True\n",
            "False\n",
            "True\n"
          ]
        }
      ]
    },
    {
      "cell_type": "code",
      "metadata": {
        "colab": {
          "base_uri": "https://localhost:8080/"
        },
        "id": "jTgBvHUXEpSa",
        "outputId": "3f24ee48-38f6-4151-c4fc-c8a14b531f34"
      },
      "source": [
        "# Foksiyonlar any (or gibi döndürüyor)\n",
        "\n",
        "listA = [\"susan\", \"tom\", \"False\"]\n",
        "listB = [None, (), 0]\n",
        "empty = {}\n",
        "\n",
        "print(any(listA), any(listB), any(empty), sep=\"\\n\")"
      ],
      "execution_count": null,
      "outputs": [
        {
          "output_type": "stream",
          "name": "stdout",
          "text": [
            "True\n",
            "False\n",
            "False\n"
          ]
        }
      ]
    },
    {
      "cell_type": "code",
      "metadata": {
        "colab": {
          "base_uri": "https://localhost:8080/"
        },
        "id": "49Y0vxk6Epa7",
        "outputId": "7567c481-127d-4920-9724-6f83e640e6d5"
      },
      "source": [
        "#  filter(function, itereble)\n",
        "\n",
        "# function'nun yerine None yazarsak \n",
        "\n",
        "lista = [\"susan\", \"tom\", \"False\", 0, 22 ]\n",
        "filtered_list = filter(None, listA)\n",
        "print(\"Teh filtered elements are :\")\n",
        "\n",
        "for i in filtered_list :\n",
        "  print(i)"
      ],
      "execution_count": null,
      "outputs": [
        {
          "output_type": "stream",
          "name": "stdout",
          "text": [
            "Teh filtered elements are :\n",
            "susan\n",
            "tom\n",
            "False\n"
          ]
        }
      ]
    },
    {
      "cell_type": "code",
      "metadata": {
        "colab": {
          "base_uri": "https://localhost:8080/"
        },
        "id": "lCr2cz6uEpgy",
        "outputId": "cc5a6488-2648-4fc9-f513-a118b004c92d"
      },
      "source": [
        "#  enumerate(iterable, start=0) her bir elemanı tabple içerisinie alır.\n",
        "\n",
        "grocery = [\"bread\", \"water\", \"olive\"]\n",
        "enum_grocery = enumerate(grocery)\n",
        "\n",
        "print(type(enum_grocery))\n",
        "print(list(enum_grocery))\n",
        "enum_grocery = enumerate(grocery, 10)\n",
        "print(list(enum_grocery))"
      ],
      "execution_count": null,
      "outputs": [
        {
          "output_type": "stream",
          "name": "stdout",
          "text": [
            "<class 'enumerate'>\n",
            "[(0, 'bread'), (1, 'water'), (2, 'olive')]\n",
            "[(10, 'bread'), (11, 'water'), (12, 'olive')]\n"
          ]
        }
      ]
    },
    {
      "cell_type": "code",
      "metadata": {
        "colab": {
          "base_uri": "https://localhost:8080/",
          "height": 35
        },
        "id": "84R6v_jbEpl-",
        "outputId": "2a650255-1b48-49e9-a6cf-88613fc096db"
      },
      "source": [
        "# max(iterable),  min(iterable),  maksimum ve minimumları verir.\n",
        "min(\"ahmet\")"
      ],
      "execution_count": null,
      "outputs": [
        {
          "output_type": "execute_result",
          "data": {
            "application/vnd.google.colaboratory.intrinsic+json": {
              "type": "string"
            },
            "text/plain": [
              "'a'"
            ]
          },
          "metadata": {},
          "execution_count": 11
        }
      ]
    },
    {
      "cell_type": "code",
      "metadata": {
        "colab": {
          "base_uri": "https://localhost:8080/",
          "height": 35
        },
        "id": "QD0MJZFLEptM",
        "outputId": "ed32ebdd-5e86-4039-b005-d62e58ebd338"
      },
      "source": [
        "max(\"ahmet\")"
      ],
      "execution_count": null,
      "outputs": [
        {
          "output_type": "execute_result",
          "data": {
            "application/vnd.google.colaboratory.intrinsic+json": {
              "type": "string"
            },
            "text/plain": [
              "'t'"
            ]
          },
          "metadata": {},
          "execution_count": 12
        }
      ]
    },
    {
      "cell_type": "code",
      "metadata": {
        "colab": {
          "base_uri": "https://localhost:8080/"
        },
        "id": "DLhNVigeEpyo",
        "outputId": "4f272c87-4413-4c19-a72f-33f7a9aa845c"
      },
      "source": [
        "ord(\"a\")"
      ],
      "execution_count": null,
      "outputs": [
        {
          "output_type": "execute_result",
          "data": {
            "text/plain": [
              "97"
            ]
          },
          "metadata": {},
          "execution_count": 13
        }
      ]
    },
    {
      "cell_type": "code",
      "metadata": {
        "colab": {
          "base_uri": "https://localhost:8080/"
        },
        "id": "sIh6r__qEp4-",
        "outputId": "bbe25abb-a59b-4cac-8753-a455b2679a1b"
      },
      "source": [
        "ord(\"t\")"
      ],
      "execution_count": null,
      "outputs": [
        {
          "output_type": "execute_result",
          "data": {
            "text/plain": [
              "116"
            ]
          },
          "metadata": {},
          "execution_count": 14
        }
      ]
    },
    {
      "cell_type": "code",
      "metadata": {
        "colab": {
          "base_uri": "https://localhost:8080/"
        },
        "id": "Q784BGYGEp_Z",
        "outputId": "c9b36f94-b703-4da7-9ee4-42cb60849543"
      },
      "source": [
        "max(1,2,3,4)"
      ],
      "execution_count": null,
      "outputs": [
        {
          "output_type": "execute_result",
          "data": {
            "text/plain": [
              "4"
            ]
          },
          "metadata": {},
          "execution_count": 15
        }
      ]
    },
    {
      "cell_type": "code",
      "metadata": {
        "colab": {
          "base_uri": "https://localhost:8080/"
        },
        "id": "rAorUAobEqGC",
        "outputId": "6683f359-46ad-4b59-a626-26023514f0c3"
      },
      "source": [
        "min(1,2,3,4)"
      ],
      "execution_count": null,
      "outputs": [
        {
          "output_type": "execute_result",
          "data": {
            "text/plain": [
              "1"
            ]
          },
          "metadata": {},
          "execution_count": 16
        }
      ]
    },
    {
      "cell_type": "code",
      "metadata": {
        "id": "Thzd1A1oEqLv"
      },
      "source": [
        "# toplamınını veri.r start a göre başlangıç değerine göre toplar\n",
        "\n",
        "sum(iterable, start)\n"
      ],
      "execution_count": null,
      "outputs": []
    },
    {
      "cell_type": "code",
      "metadata": {
        "colab": {
          "base_uri": "https://localhost:8080/"
        },
        "id": "YmmZEiskEqR1",
        "outputId": "9025885e-bd3b-49a2-f413-7437e4c08a75"
      },
      "source": [
        "#  round(numbers, ndigits) yuvarlar ama 2 basamağa kadar.\n",
        "\n",
        "print(round(12))\n",
        "print(round(10.8))\n",
        "print(round(3.665,2))\n",
        "print(round(3.675,2))"
      ],
      "execution_count": null,
      "outputs": [
        {
          "output_type": "stream",
          "name": "stdout",
          "text": [
            "12\n",
            "11\n",
            "3.67\n",
            "3.67\n"
          ]
        }
      ]
    },
    {
      "cell_type": "code",
      "metadata": {
        "id": "9dJd2xHZU6Rd"
      },
      "source": [
        ""
      ],
      "execution_count": null,
      "outputs": []
    },
    {
      "cell_type": "code",
      "metadata": {
        "id": "aemyEGL_Eqb0"
      },
      "source": [
        "#  fonksiyon tanımladık\n",
        "\n",
        "def ilk_fonksiyonum(x,y) :\n",
        "  print(x ** 2 + y ** 2)"
      ],
      "execution_count": null,
      "outputs": []
    },
    {
      "cell_type": "code",
      "metadata": {
        "colab": {
          "base_uri": "https://localhost:8080/"
        },
        "id": "tj-jCyELTZrb",
        "outputId": "5ff42d2d-d250-4e3e-fa7a-dd57f9b9b14f"
      },
      "source": [
        "# fonksiyonun argümanları\n",
        "\n",
        "ilk_fonksiyonum(3,4)"
      ],
      "execution_count": null,
      "outputs": [
        {
          "output_type": "stream",
          "name": "stdout",
          "text": [
            "25\n"
          ]
        }
      ]
    },
    {
      "cell_type": "code",
      "metadata": {
        "id": "qM3JJS-jTZwm"
      },
      "source": [
        "def hipotenus (a,b) : \n",
        "  print((a ** 2 + b ** 2) ** 0,5)"
      ],
      "execution_count": null,
      "outputs": []
    },
    {
      "cell_type": "code",
      "metadata": {
        "colab": {
          "base_uri": "https://localhost:8080/"
        },
        "id": "0rRKvHvwTZ32",
        "outputId": "17c32c84-87de-4ffe-dc99-4d6cdfe1b98c"
      },
      "source": [
        "hipotenus (3,4)"
      ],
      "execution_count": null,
      "outputs": [
        {
          "output_type": "stream",
          "name": "stdout",
          "text": [
            "1 5\n"
          ]
        }
      ]
    },
    {
      "cell_type": "code",
      "metadata": {
        "colab": {
          "base_uri": "https://localhost:8080/"
        },
        "id": "JF-dAuymTZ9a",
        "outputId": "d5af682d-618d-427e-bb8c-1b0ccc37954d"
      },
      "source": [
        "def multiply (a,b) :\n",
        "  print(a*b)\n",
        "\n",
        "multiply(3,5)\n",
        "multiply(-1,2.5)\n",
        "multiply(\"amazing  \",3)"
      ],
      "execution_count": null,
      "outputs": [
        {
          "output_type": "stream",
          "name": "stdout",
          "text": [
            "15\n",
            "-2.5\n",
            "amazing  amazing  amazing  \n"
          ]
        }
      ]
    },
    {
      "cell_type": "code",
      "metadata": {
        "id": "JyyirKtuTaC0"
      },
      "source": [
        "def rumi() :\n",
        "  print(\"\"\"\n",
        "  Duydum ki bizi bırakmaya azmediyorsun, etme.\n",
        "  Başka bir yar, başka bir dosta meylediyorsun, etme.\n",
        "  Sen yadeller dünyasında ne arıyorsun yabancı?\n",
        "  Hangi hasta gönüllüyü kastediyorsun, etme.\n",
        "  \"\"\")"
      ],
      "execution_count": null,
      "outputs": []
    },
    {
      "cell_type": "code",
      "metadata": {
        "colab": {
          "base_uri": "https://localhost:8080/"
        },
        "id": "n374G44RW_Rb",
        "outputId": "2ed80743-0eb2-4136-f5b5-37df04f9cccb"
      },
      "source": [
        "rumi ()"
      ],
      "execution_count": null,
      "outputs": [
        {
          "output_type": "stream",
          "name": "stdout",
          "text": [
            "\n",
            "  Duydum ki bizi bırakmaya azmediyorsun, etme.\n",
            "  Başka bir yar, başka bir dosta meylediyorsun, etme.\n",
            "  Sen yadeller dünyasında ne arıyorsun yabancı?\n",
            "  Hangi hasta gönüllüyü kastediyorsun, etme.\n",
            "  \n"
          ]
        }
      ]
    },
    {
      "cell_type": "code",
      "metadata": {
        "id": "GjaGHELeTaIk"
      },
      "source": [
        "def add(sayı1, sayı2) :\n",
        "  print(sayı1+sayı2)\n"
      ],
      "execution_count": null,
      "outputs": []
    },
    {
      "cell_type": "code",
      "metadata": {
        "colab": {
          "base_uri": "https://localhost:8080/"
        },
        "id": "Fy79Ntl1W9WH",
        "outputId": "c3c41e00-16d6-494f-d012-f0ac61111d44"
      },
      "source": [
        "add(2,3)"
      ],
      "execution_count": null,
      "outputs": [
        {
          "output_type": "stream",
          "name": "stdout",
          "text": [
            "5\n"
          ]
        }
      ]
    },
    {
      "cell_type": "code",
      "metadata": {
        "colab": {
          "base_uri": "https://localhost:8080/"
        },
        "id": "B2g5kGnHTaN4",
        "outputId": "18b5f312-fc50-4de0-9d70-ebf13cb976d1"
      },
      "source": [
        "add(\"5\",\"5\")"
      ],
      "execution_count": null,
      "outputs": [
        {
          "output_type": "stream",
          "name": "stdout",
          "text": [
            "55\n"
          ]
        }
      ]
    },
    {
      "cell_type": "code",
      "metadata": {
        "id": "l6i79ftSTaTG"
      },
      "source": [
        "def calculator (sayı1, sayı2, işlem):\n",
        "  if işlem == \"+\":\n",
        "        print(sayı1 + sayı2)\n",
        "  if işlem == \"-\":\n",
        "        print(sayı1 - sayı2)\n",
        "  elif işlem == \"*\":\n",
        "        print(sayı1 * sayı2)\n",
        "  elif işlem == \"/\":\n",
        "        print(sayı1 / sayı2)\n",
        "  else :\n",
        "        print(\"Enter a valid opertor\")"
      ],
      "execution_count": null,
      "outputs": []
    },
    {
      "cell_type": "code",
      "metadata": {
        "colab": {
          "base_uri": "https://localhost:8080/"
        },
        "id": "IkFJu42ZTaZD",
        "outputId": "5bb776be-255e-4905-e473-6028419913d1"
      },
      "source": [
        "calculator(88,22, \"**\")"
      ],
      "execution_count": null,
      "outputs": [
        {
          "output_type": "stream",
          "name": "stdout",
          "text": [
            "Enter a valid opertor\n"
          ]
        }
      ]
    },
    {
      "cell_type": "code",
      "metadata": {
        "colab": {
          "base_uri": "https://localhost:8080/"
        },
        "id": "OMrs2FEKXzkg",
        "outputId": "33e7cd05-089c-460e-9166-eaf85dac4bcd"
      },
      "source": [
        "def multiply_2(a,b) :\n",
        "  return(a*b)   # bu komut ile işlemi dönderiyoruz. return yanına ne yazarsak onu döndürür.\n",
        "\n",
        "print(multiply_2(5,2))"
      ],
      "execution_count": null,
      "outputs": [
        {
          "output_type": "stream",
          "name": "stdout",
          "text": [
            "10\n"
          ]
        }
      ]
    },
    {
      "cell_type": "code",
      "metadata": {
        "id": "0m9ugAysXzp_"
      },
      "source": [
        "def topla (x,y) :\n",
        "  return x + y"
      ],
      "execution_count": null,
      "outputs": []
    },
    {
      "cell_type": "code",
      "metadata": {
        "colab": {
          "base_uri": "https://localhost:8080/"
        },
        "id": "l8GSZGORXzxm",
        "outputId": "9580f0ac-befd-4975-96f9-d3088c8457f2"
      },
      "source": [
        "type(topla(3,5))"
      ],
      "execution_count": null,
      "outputs": [
        {
          "output_type": "execute_result",
          "data": {
            "text/plain": [
              "int"
            ]
          },
          "metadata": {},
          "execution_count": 52
        }
      ]
    },
    {
      "cell_type": "code",
      "metadata": {
        "id": "PCA4BXuWXz4M"
      },
      "source": [
        "def string() :\n",
        "  return \"alivelideli\""
      ],
      "execution_count": null,
      "outputs": []
    },
    {
      "cell_type": "code",
      "metadata": {
        "colab": {
          "base_uri": "https://localhost:8080/",
          "height": 35
        },
        "id": "LMJhDQtHbzFr",
        "outputId": "1c627c78-6db6-48be-d37e-b3552192e24a"
      },
      "source": [
        "string()"
      ],
      "execution_count": null,
      "outputs": [
        {
          "output_type": "execute_result",
          "data": {
            "application/vnd.google.colaboratory.intrinsic+json": {
              "type": "string"
            },
            "text/plain": [
              "'alivelideli'"
            ]
          },
          "metadata": {},
          "execution_count": 55
        }
      ]
    },
    {
      "cell_type": "code",
      "metadata": {
        "id": "vL88QTS9bzO6"
      },
      "source": [
        "def listem():\n",
        "  return [1, 2, 3, 4, 5]"
      ],
      "execution_count": null,
      "outputs": []
    },
    {
      "cell_type": "code",
      "metadata": {
        "colab": {
          "base_uri": "https://localhost:8080/"
        },
        "id": "kTpTSke_jSvr",
        "outputId": "7f15bc71-e102-49f5-9d0f-2bcce9560a64"
      },
      "source": [
        "listem()"
      ],
      "execution_count": null,
      "outputs": [
        {
          "output_type": "execute_result",
          "data": {
            "text/plain": [
              "[1, 2, 3, 4, 5]"
            ]
          },
          "metadata": {},
          "execution_count": 57
        }
      ]
    },
    {
      "cell_type": "code",
      "metadata": {
        "colab": {
          "base_uri": "https://localhost:8080/"
        },
        "id": "zTttYyw1jS3X",
        "outputId": "f9696b1b-3a81-42e3-ebdf-2bb7e7ef0ec2"
      },
      "source": [
        "for i in listem() :\n",
        "  print(i)"
      ],
      "execution_count": null,
      "outputs": [
        {
          "output_type": "stream",
          "name": "stdout",
          "text": [
            "1\n",
            "2\n",
            "3\n",
            "4\n",
            "5\n"
          ]
        }
      ]
    },
    {
      "cell_type": "code",
      "metadata": {
        "colab": {
          "base_uri": "https://localhost:8080/"
        },
        "id": "XwI6mcwyjqp8",
        "outputId": "b5b623a0-b83f-4b66-bc31-9137be404331"
      },
      "source": [
        "tuple([1, 2, 3, 4, 5])"
      ],
      "execution_count": null,
      "outputs": [
        {
          "output_type": "execute_result",
          "data": {
            "text/plain": [
              "(1, 2, 3, 4, 5)"
            ]
          },
          "metadata": {},
          "execution_count": 59
        }
      ]
    },
    {
      "cell_type": "code",
      "metadata": {
        "id": "bb1UXMz0bqby"
      },
      "source": [
        "def calculator2 (sayı1, sayı2, işlem):\n",
        "  if işlem == \"+\":\n",
        "        return(sayı1 + sayı2)\n",
        "  if işlem == \"-\":\n",
        "        return(sayı1 - sayı2)\n",
        "  elif işlem == \"*\":\n",
        "        return(sayı1 * sayı2)\n",
        "  elif işlem == \"/\":\n",
        "        return(sayı1 / sayı2)\n",
        "  else :\n",
        "        return(\"Enter a valid opertor\")"
      ],
      "execution_count": null,
      "outputs": []
    },
    {
      "cell_type": "code",
      "metadata": {
        "colab": {
          "base_uri": "https://localhost:8080/"
        },
        "id": "g_c8FPFFjprU",
        "outputId": "6eb1b100-24fe-4d7c-ad55-279ae6e50d79"
      },
      "source": [
        "print(calculator2(3, 5, \"*\"))"
      ],
      "execution_count": null,
      "outputs": [
        {
          "output_type": "stream",
          "name": "stdout",
          "text": [
            "15\n"
          ]
        }
      ]
    },
    {
      "cell_type": "code",
      "metadata": {
        "id": "YKiQ74XxbqjV"
      },
      "source": [
        "def absolute_value(num) :\n",
        "  \"\"\" This function returns the abcolute\n",
        "value of the given number\"\"\"\n",
        "\n",
        "  if num >= 0 :\n",
        "    return num\n",
        "  else :\n",
        "    return -num\n"
      ],
      "execution_count": null,
      "outputs": []
    },
    {
      "cell_type": "code",
      "metadata": {
        "colab": {
          "base_uri": "https://localhost:8080/"
        },
        "id": "XSMzx_rwbqqq",
        "outputId": "e58e7d74-c6aa-4c8d-9730-7f3662f274ce"
      },
      "source": [
        "absolute_value(-22)"
      ],
      "execution_count": null,
      "outputs": [
        {
          "output_type": "execute_result",
          "data": {
            "text/plain": [
              "22"
            ]
          },
          "metadata": {},
          "execution_count": 63
        }
      ]
    },
    {
      "cell_type": "code",
      "metadata": {
        "colab": {
          "base_uri": "https://localhost:8080/"
        },
        "id": "JQBSXn7Sbq0Y",
        "outputId": "f5a1825a-6083-43ef-e8fe-7b7046b42e50"
      },
      "source": [
        "print(absolute_value.__doc__)"
      ],
      "execution_count": null,
      "outputs": [
        {
          "output_type": "stream",
          "name": "stdout",
          "text": [
            "This function returns the abcolute\n",
            "value of the given number\n"
          ]
        }
      ]
    },
    {
      "cell_type": "code",
      "metadata": {
        "colab": {
          "base_uri": "https://localhost:8080/"
        },
        "id": "whNDlLOJbq7d",
        "outputId": "b7de16fe-a30f-4d85-a243-6d6be6fbcaf8"
      },
      "source": [
        "print(abs.__doc__)"
      ],
      "execution_count": null,
      "outputs": [
        {
          "output_type": "stream",
          "name": "stdout",
          "text": [
            "Return the absolute value of the argument.\n"
          ]
        }
      ]
    },
    {
      "cell_type": "code",
      "metadata": {
        "id": "1mxus-02m_77"
      },
      "source": [
        "generator = (i ** 2 for i in range(6))"
      ],
      "execution_count": null,
      "outputs": []
    },
    {
      "cell_type": "code",
      "metadata": {
        "colab": {
          "base_uri": "https://localhost:8080/"
        },
        "id": "Gud-avxonAJB",
        "outputId": "8ea64c8a-da26-42cd-cb5b-17a265763101"
      },
      "source": [
        "generator"
      ],
      "execution_count": null,
      "outputs": [
        {
          "output_type": "execute_result",
          "data": {
            "text/plain": [
              "<generator object <genexpr> at 0x7f46c53572d0>"
            ]
          },
          "metadata": {},
          "execution_count": 83
        }
      ]
    },
    {
      "cell_type": "code",
      "metadata": {
        "colab": {
          "base_uri": "https://localhost:8080/"
        },
        "id": "1A8wpYMmnATa",
        "outputId": "0e0da181-2d40-4a75-fe45-c286c07e9768"
      },
      "source": [
        "print(* generator)"
      ],
      "execution_count": null,
      "outputs": [
        {
          "output_type": "stream",
          "name": "stdout",
          "text": [
            "0 1 4 9 16 25\n"
          ]
        }
      ]
    },
    {
      "cell_type": "code",
      "metadata": {
        "colab": {
          "base_uri": "https://localhost:8080/"
        },
        "id": "SLKVSjFyo8v_",
        "outputId": "1ec213b7-b399-44b5-982a-353e23d153a9"
      },
      "source": [
        "list(generator)"
      ],
      "execution_count": null,
      "outputs": [
        {
          "output_type": "execute_result",
          "data": {
            "text/plain": [
              "[]"
            ]
          },
          "metadata": {},
          "execution_count": 85
        }
      ]
    },
    {
      "cell_type": "code",
      "metadata": {
        "colab": {
          "base_uri": "https://localhost:8080/",
          "height": 163
        },
        "id": "E7i0cLajo84M",
        "outputId": "d1bff899-60ef-4433-bd35-5ef68b0832fb"
      },
      "source": [
        "print(next(generator))"
      ],
      "execution_count": null,
      "outputs": [
        {
          "output_type": "error",
          "ename": "StopIteration",
          "evalue": "ignored",
          "traceback": [
            "\u001b[0;31m---------------------------------------------------------------------------\u001b[0m",
            "\u001b[0;31mStopIteration\u001b[0m                             Traceback (most recent call last)",
            "\u001b[0;32m<ipython-input-91-19919da3e769>\u001b[0m in \u001b[0;36m<module>\u001b[0;34m()\u001b[0m\n\u001b[0;32m----> 1\u001b[0;31m \u001b[0mprint\u001b[0m\u001b[0;34m(\u001b[0m\u001b[0mnext\u001b[0m\u001b[0;34m(\u001b[0m\u001b[0mgenerator\u001b[0m\u001b[0;34m)\u001b[0m\u001b[0;34m)\u001b[0m\u001b[0;34m\u001b[0m\u001b[0;34m\u001b[0m\u001b[0m\n\u001b[0m",
            "\u001b[0;31mStopIteration\u001b[0m: "
          ]
        }
      ]
    },
    {
      "cell_type": "code",
      "metadata": {
        "id": "gz3w4oLLqMCn"
      },
      "source": [
        ""
      ],
      "execution_count": null,
      "outputs": []
    },
    {
      "cell_type": "code",
      "metadata": {
        "id": "onRJMmXmqMJ3"
      },
      "source": [
        ""
      ],
      "execution_count": null,
      "outputs": []
    },
    {
      "cell_type": "code",
      "metadata": {
        "id": "529fFs6iqMSI"
      },
      "source": [
        ""
      ],
      "execution_count": null,
      "outputs": []
    },
    {
      "cell_type": "markdown",
      "metadata": {
        "id": "Uhl-lUU70yxK"
      },
      "source": [
        "# 22-11-2021 dersi"
      ]
    },
    {
      "cell_type": "code",
      "metadata": {
        "id": "Pa4QTAf71SEf"
      },
      "source": [
        "#  parametreler / variables\n",
        "#  arguments / values\n",
        "#  birbirlerinin yerine kullanılıyorlar\n"
      ],
      "execution_count": null,
      "outputs": []
    },
    {
      "cell_type": "code",
      "metadata": {
        "id": "SOPtTfAU1SYJ"
      },
      "source": [
        "Bir fonksiyonu tanımlarken belirlediğimiz adlara parametre, aynı fonksiyonu çağırırken belirlediğimiz adlara ise argüman deniyor\n",
        "Parametreler, fonksiyon tanımlarken parantez içinde belirttiğimiz, fonksiyon gövdesinde yapılan işin değişken öğelerini gösteren parçalardır.\n",
        "parametrelere ne ad verdiğinizin hiçbir önemi yok. Elbette parametrenin görevine uygun bir isim vermeniz fonksiyonunuzun okunaklılığını artıracaktır.\n",
        "\n",
        "\n",
        "Positional argümanlar, uygun pozisyon veya sıraya dahil edilmesi gereken argümanlardır.\n",
        "Fonksiyon çağrıldığında her zaman ilk positional argümanın listelenmesi gerekir. İkinci positional argümanın ikinci sırada ve üçüncü positional argümanın üçüncü sırada listelenmesi gerekir"
      ],
      "execution_count": null,
      "outputs": []
    },
    {
      "cell_type": "code",
      "metadata": {
        "colab": {
          "base_uri": "https://localhost:8080/"
        },
        "id": "s7DdicYl1SeX",
        "outputId": "c445ce2e-66c9-4f63-8aeb-1c60ae46906d"
      },
      "source": [
        "a = \"i\"\n",
        "b = \"love\"\n",
        "c = \"you\"\n",
        "\n",
        "# (i love you) çıktısı alınacak ???\n",
        "\n",
        "def texter(text1, text2, text3) :\n",
        "  print(text2, text3, text1)\n",
        "\n",
        "texter(c, a, b)"
      ],
      "execution_count": null,
      "outputs": [
        {
          "output_type": "stream",
          "name": "stdout",
          "text": [
            "i love you\n"
          ]
        }
      ]
    },
    {
      "cell_type": "code",
      "metadata": {
        "colab": {
          "base_uri": "https://localhost:8080/"
        },
        "id": "dAw8D60n1Sj4",
        "outputId": "7f16eb0a-d169-49ab-bfb2-0cf2c951b0d8"
      },
      "source": [
        "texter(text1 = \"you\", text3 = \"love\", text2 = \"i\") "
      ],
      "execution_count": null,
      "outputs": [
        {
          "output_type": "stream",
          "name": "stdout",
          "text": [
            "i love you\n"
          ]
        }
      ]
    },
    {
      "cell_type": "code",
      "metadata": {
        "id": "O2EGP3Jm1SrY"
      },
      "source": [
        "def fonksiyon(x = \"ali\", y = 22) :\n",
        "  print(x, y, \"yaşındadır.\")"
      ],
      "execution_count": null,
      "outputs": []
    },
    {
      "cell_type": "code",
      "metadata": {
        "colab": {
          "base_uri": "https://localhost:8080/"
        },
        "id": "2_3hbLXw1SxF",
        "outputId": "7bb723c9-df56-47ba-9017-cd1c331da5d8"
      },
      "source": [
        "fonksiyon()"
      ],
      "execution_count": null,
      "outputs": [
        {
          "output_type": "stream",
          "name": "stdout",
          "text": [
            "ali 22 yaşındadır.\n"
          ]
        }
      ]
    },
    {
      "cell_type": "code",
      "metadata": {
        "colab": {
          "base_uri": "https://localhost:8080/"
        },
        "id": "nGV6q2Ce1S17",
        "outputId": "5b3bdbab-6e5f-432d-d314-88e5a47e3f75"
      },
      "source": [
        "fonksiyon(x = \"deli\", y = 33)"
      ],
      "execution_count": null,
      "outputs": [
        {
          "output_type": "stream",
          "name": "stdout",
          "text": [
            "deli 33 yaşındadır.\n"
          ]
        }
      ]
    },
    {
      "cell_type": "code",
      "metadata": {
        "colab": {
          "base_uri": "https://localhost:8080/"
        },
        "id": "ROUjiLO01S7C",
        "outputId": "f2d1af6e-804d-49cc-a5d6-e6dffa8a1175"
      },
      "source": [
        "fonksiyon(\"veli\", 40)"
      ],
      "execution_count": null,
      "outputs": [
        {
          "output_type": "stream",
          "name": "stdout",
          "text": [
            "veli 40 yaşındadır.\n"
          ]
        }
      ]
    },
    {
      "cell_type": "code",
      "metadata": {
        "colab": {
          "base_uri": "https://localhost:8080/"
        },
        "id": "4LWsYm8X1TBv",
        "outputId": "7ecc1ba2-196a-4fae-c57e-8ebc073d096c"
      },
      "source": [
        "def parrot(voltage, state='a stiff', action='voom', type='Norwegian Blue'):\n",
        "    print(\"-- This parrot wouldn't\", action, end=' ')\n",
        "    print(\"if you put\", voltage, \"volts through it.\")\n",
        "    print(\"-- Lovely plumage, the\", type)\n",
        "    print(\"-- It's\", state, \"!\")\n",
        "parrot(1000)\n",
        "print()\n",
        "parrot(voltage = 1000)\n",
        "print()\n",
        "parrot(voltage=1000, action='VOOOOOOM')\n",
        "print()\n",
        "parrot(action='VOOOOOOM', voltage=1000000)\n",
        "print()\n",
        "parrot('a million', 'bereft of life','jump')\n",
        "print()\n",
        "parrot('a thousand', state='pushing up the daisies')\n"
      ],
      "execution_count": null,
      "outputs": [
        {
          "output_type": "stream",
          "name": "stdout",
          "text": [
            "-- This parrot wouldn't voom if you put 1000 volts through it.\n",
            "-- Lovely plumage, the Norwegian Blue\n",
            "-- It's a stiff !\n",
            "\n",
            "-- This parrot wouldn't voom if you put 1000 volts through it.\n",
            "-- Lovely plumage, the Norwegian Blue\n",
            "-- It's a stiff !\n",
            "\n",
            "-- This parrot wouldn't VOOOOOOM if you put 1000 volts through it.\n",
            "-- Lovely plumage, the Norwegian Blue\n",
            "-- It's a stiff !\n",
            "\n",
            "-- This parrot wouldn't VOOOOOOM if you put 1000000 volts through it.\n",
            "-- Lovely plumage, the Norwegian Blue\n",
            "-- It's a stiff !\n",
            "\n",
            "-- This parrot wouldn't jump if you put a million volts through it.\n",
            "-- Lovely plumage, the Norwegian Blue\n",
            "-- It's bereft of life !\n",
            "\n",
            "-- This parrot wouldn't voom if you put a thousand volts through it.\n",
            "-- Lovely plumage, the Norwegian Blue\n",
            "-- It's pushing up the daisies !\n"
          ]
        }
      ]
    },
    {
      "cell_type": "code",
      "metadata": {
        "colab": {
          "base_uri": "https://localhost:8080/"
        },
        "id": "CZMzcx0I1TL1",
        "outputId": "1a057901-8013-4671-d8c8-fb9bea5558e5"
      },
      "source": [
        "while True :\n",
        "  number = input(\"Pozitif bir tam sayı giriniz : \")\n",
        "  rakamlar = len(number)\n",
        "  topla = 0\n",
        "  if not number.isdigit() :\n",
        "    print(number, \" geçersiz bir sayı girişi yaptınız. Lütfen geçerli bir tam sayı girişi yapınız.\")\n",
        "  elif int(number) >= 0 :\n",
        "    for i in range(rakamlar) :\n",
        "      topla = topla + int(number[i]) ** rakamlar\n",
        "    if topla == int(number) :\n",
        "      print(number, \" bir armstrong sayı \")\n",
        "      break\n",
        "    else :\n",
        "      print(number, \" bir armstrong sayı değil \")\n",
        "      break\n",
        "\n"
      ],
      "execution_count": null,
      "outputs": [
        {
          "output_type": "stream",
          "name": "stdout",
          "text": [
            "Pozitif bir tam sayı giriniz : 13546132\n",
            "13546132  bir armstrong sayı değil \n"
          ]
        }
      ]
    },
    {
      "cell_type": "code",
      "metadata": {
        "id": "RB1dW6oTK42G"
      },
      "source": [
        ""
      ],
      "execution_count": null,
      "outputs": []
    },
    {
      "cell_type": "code",
      "metadata": {
        "colab": {
          "base_uri": "https://localhost:8080/"
        },
        "id": "Mvd96HWRK48R",
        "outputId": "39c3d8ff-8e87-4b28-da93-913e3274b126"
      },
      "source": [
        "\"11.1\".isdigit()"
      ],
      "execution_count": null,
      "outputs": [
        {
          "output_type": "execute_result",
          "data": {
            "text/plain": [
              "False"
            ]
          },
          "metadata": {},
          "execution_count": 24
        }
      ]
    },
    {
      "cell_type": "code",
      "metadata": {
        "colab": {
          "base_uri": "https://localhost:8080/"
        },
        "id": "lFeD3mxkK5CB",
        "outputId": "11edc74b-1138-4136-9f6a-4d84b6adcaa7"
      },
      "source": [
        "\"111\".isdigit()"
      ],
      "execution_count": null,
      "outputs": [
        {
          "output_type": "execute_result",
          "data": {
            "text/plain": [
              "True"
            ]
          },
          "metadata": {},
          "execution_count": 25
        }
      ]
    },
    {
      "cell_type": "code",
      "metadata": {
        "id": "BYqdNgH_1TUQ"
      },
      "source": [
        "#  is it a Prime Number ?"
      ],
      "execution_count": null,
      "outputs": []
    },
    {
      "cell_type": "code",
      "metadata": {
        "colab": {
          "base_uri": "https://localhost:8080/"
        },
        "id": "ZjoVjY_ELb9n",
        "outputId": "8299293a-a2e8-497a-d8ed-63bf45855237"
      },
      "source": [
        "n = int(input(\"enter a positive number to chech if it is a Prime Number\"))\n",
        "counter = 0\n",
        "\n",
        "for i in range(1, n+1) :\n",
        "  if n % i :\n",
        "    counter += 1\n",
        "if (n == 0) or (n==1) or (counter >= 0):\n",
        "  print(n, \"is not e Prime\")\n",
        "else :\n",
        "  print(n, \"is a prime number\")"
      ],
      "execution_count": null,
      "outputs": [
        {
          "output_type": "stream",
          "name": "stdout",
          "text": [
            "enter a positive number to chech if it is a Prime Number15\n",
            "15 is not e Prime\n"
          ]
        }
      ]
    },
    {
      "cell_type": "code",
      "metadata": {
        "id": "43-vujopLcDe"
      },
      "source": [
        ""
      ],
      "execution_count": null,
      "outputs": []
    },
    {
      "cell_type": "code",
      "metadata": {
        "id": "s-FHDdQLLcLJ"
      },
      "source": [
        ""
      ],
      "execution_count": null,
      "outputs": []
    },
    {
      "cell_type": "markdown",
      "metadata": {
        "id": "cQhAVDk91JW9"
      },
      "source": [
        "# 29-11-2021 dersi"
      ]
    },
    {
      "cell_type": "code",
      "metadata": {
        "id": "SqeJY01D5egy"
      },
      "source": [
        "def square (x)\n",
        "  return x**2\n",
        "  "
      ],
      "execution_count": null,
      "outputs": []
    },
    {
      "cell_type": "code",
      "metadata": {
        "id": "AI2GeEwc5ev6"
      },
      "source": [
        "lambda x,y : (x+y)/2 "
      ],
      "execution_count": null,
      "outputs": []
    },
    {
      "cell_type": "code",
      "metadata": {
        "id": "D0S4c45i5e5w",
        "colab": {
          "base_uri": "https://localhost:8080/"
        },
        "outputId": "6f63e611-9595-4140-b265-58358f6f47a8"
      },
      "source": [
        "lambda x: \"odd\" if x % 2 != 0 else \"even\""
      ],
      "execution_count": null,
      "outputs": [
        {
          "output_type": "execute_result",
          "data": {
            "text/plain": [
              "<function __main__.<lambda>>"
            ]
          },
          "metadata": {},
          "execution_count": 3
        }
      ]
    },
    {
      "cell_type": "code",
      "metadata": {
        "id": "rwJUQ5Cp5fCL",
        "colab": {
          "base_uri": "https://localhost:8080/"
        },
        "outputId": "d048dca4-5141-4e2d-9f16-36b00d22c78a"
      },
      "source": [
        "print((lambda x: x**2)(2))"
      ],
      "execution_count": null,
      "outputs": [
        {
          "output_type": "stream",
          "name": "stdout",
          "text": [
            "4\n"
          ]
        }
      ]
    },
    {
      "cell_type": "code",
      "metadata": {
        "id": "eiaH2Oic5fJI",
        "colab": {
          "base_uri": "https://localhost:8080/",
          "height": 35
        },
        "outputId": "a74d3181-9750-44e5-8222-8cf886550c8d"
      },
      "source": [
        "(lambda x : \"odd\" if x % 2 != 0 else \"even\") (2)"
      ],
      "execution_count": null,
      "outputs": [
        {
          "output_type": "execute_result",
          "data": {
            "application/vnd.google.colaboratory.intrinsic+json": {
              "type": "string"
            },
            "text/plain": [
              "'even'"
            ]
          },
          "metadata": {},
          "execution_count": 2
        }
      ]
    },
    {
      "cell_type": "code",
      "metadata": {
        "id": "xstoggd46c2X",
        "colab": {
          "base_uri": "https://localhost:8080/",
          "height": 35
        },
        "outputId": "e793e6e9-2865-492e-cb4d-16b98f1cf85f"
      },
      "source": [
        "(lambda x: \"odd\" if x % 2 != 0 else \"even\") (3)"
      ],
      "execution_count": null,
      "outputs": [
        {
          "output_type": "execute_result",
          "data": {
            "application/vnd.google.colaboratory.intrinsic+json": {
              "type": "string"
            },
            "text/plain": [
              "'odd'"
            ]
          },
          "metadata": {},
          "execution_count": 4
        }
      ]
    },
    {
      "cell_type": "code",
      "metadata": {
        "id": "Suq_DKFN6c7z",
        "colab": {
          "base_uri": "https://localhost:8080/"
        },
        "outputId": "612dd20a-1726-4171-ec33-a8cac645646c"
      },
      "source": [
        "text = \"ali\"\n",
        "ters = (lambda x: x [::-1])(text)\n",
        "print(ters)"
      ],
      "execution_count": null,
      "outputs": [
        {
          "output_type": "stream",
          "name": "stdout",
          "text": [
            "ila\n"
          ]
        }
      ]
    },
    {
      "cell_type": "code",
      "metadata": {
        "id": "ZTGjYOJC6dGf",
        "colab": {
          "base_uri": "https://localhost:8080/"
        },
        "outputId": "e14b5af4-0eb7-4664-b2c9-1c8f4b0fec09"
      },
      "source": [
        "(lambda a,b : (a + b) / 2 )(3,5)"
      ],
      "execution_count": null,
      "outputs": [
        {
          "output_type": "execute_result",
          "data": {
            "text/plain": [
              "4.0"
            ]
          },
          "metadata": {},
          "execution_count": 7
        }
      ]
    },
    {
      "cell_type": "code",
      "metadata": {
        "id": "D3421Q7H6dNt",
        "colab": {
          "base_uri": "https://localhost:8080/"
        },
        "outputId": "2c60cb21-dc09-49ef-be1c-3de7009f05d0"
      },
      "source": [
        "text = \"ali\"\n",
        "print ((lambda x: x [::-1])(text))"
      ],
      "execution_count": null,
      "outputs": [
        {
          "output_type": "stream",
          "name": "stdout",
          "text": [
            "ila\n"
          ]
        }
      ]
    },
    {
      "cell_type": "code",
      "metadata": {
        "id": "wFki8LyD6dTY"
      },
      "source": [
        "sayılar = [1, 2, 3, 4, 5, 6]\n",
        "print(for x in (lambda sayılar[x] : \"odd\" if x % 2 != 0 else \"even\") :)"
      ],
      "execution_count": null,
      "outputs": []
    },
    {
      "cell_type": "code",
      "metadata": {
        "id": "vy-B0KXR6dYs",
        "colab": {
          "base_uri": "https://localhost:8080/"
        },
        "outputId": "2bdaac8e-67a1-4d4c-9705-4339f92cf82e"
      },
      "source": [
        "sayılar = [1, 2, 3, 4, 5, 6]\n",
        "for a in sayılar :\n",
        "  print (a, \":\", (lambda x : \"odd\" if x % 2 != 0 else \"even\") (a))"
      ],
      "execution_count": null,
      "outputs": [
        {
          "output_type": "stream",
          "name": "stdout",
          "text": [
            "1 : odd\n",
            "2 : even\n",
            "3 : odd\n",
            "4 : even\n",
            "5 : odd\n",
            "6 : even\n"
          ]
        }
      ]
    },
    {
      "cell_type": "code",
      "metadata": {
        "id": "gr-otDzn6dew",
        "colab": {
          "base_uri": "https://localhost:8080/",
          "height": 130
        },
        "outputId": "3e35dd25-2660-4d71-e315-c6f7b62da515"
      },
      "source": [
        "sayılar = [1, 2, 3, 4, 5, 6]\n",
        "for a in (print (a, \":\", (lambda x : \"odd\" if x % 2 != 0 else \"even\") (a))) :"
      ],
      "execution_count": null,
      "outputs": [
        {
          "output_type": "error",
          "ename": "SyntaxError",
          "evalue": "ignored",
          "traceback": [
            "\u001b[0;36m  File \u001b[0;32m\"<ipython-input-17-457ff02810ba>\"\u001b[0;36m, line \u001b[0;32m2\u001b[0m\n\u001b[0;31m    for a in (print (a, \":\", (lambda x : \"odd\" if x % 2 != 0 else \"even\") (a))) :\u001b[0m\n\u001b[0m                                                                                 ^\u001b[0m\n\u001b[0;31mSyntaxError\u001b[0m\u001b[0;31m:\u001b[0m unexpected EOF while parsing\n"
          ]
        }
      ]
    },
    {
      "cell_type": "code",
      "metadata": {
        "id": "usvGkRyI6dlM",
        "colab": {
          "base_uri": "https://localhost:8080/"
        },
        "outputId": "97957ce9-a643-4721-8b38-be71d6927152"
      },
      "source": [
        "finder = lambda x: \"odd\" if x % 2 != 0 else \"even\"\n",
        "print (finder (5))"
      ],
      "execution_count": null,
      "outputs": [
        {
          "output_type": "stream",
          "name": "stdout",
          "text": [
            "odd\n"
          ]
        }
      ]
    },
    {
      "cell_type": "code",
      "metadata": {
        "id": "UZjg8-ri6drh",
        "colab": {
          "base_uri": "https://localhost:8080/"
        },
        "outputId": "343e87fc-c856-4ca7-cf7f-269955316b0f"
      },
      "source": [
        "reverser = lambda x : x [::-1]\n",
        "reverser ([1, 2, 3, 4])"
      ],
      "execution_count": null,
      "outputs": [
        {
          "output_type": "execute_result",
          "data": {
            "text/plain": [
              "[4, 3, 2, 1]"
            ]
          },
          "metadata": {},
          "execution_count": 21
        }
      ]
    },
    {
      "cell_type": "code",
      "metadata": {
        "id": "j293T4AH6d0u",
        "colab": {
          "base_uri": "https://localhost:8080/"
        },
        "outputId": "843f08d4-4887-4ffe-b039-cc779b26c4bf"
      },
      "source": [
        "fonksiyon = lambda x : x ** 2\n",
        "iterable = [1, 2, 3]\n",
        "sonuç = map(fonksiyon , iterable)\n",
        "print(* sonuç)    # * işareti ile parçalara ayrılmasını sağlıyoruz."
      ],
      "execution_count": null,
      "outputs": [
        {
          "output_type": "stream",
          "name": "stdout",
          "text": [
            "1 4 9\n"
          ]
        }
      ]
    },
    {
      "cell_type": "code",
      "metadata": {
        "id": "dBM_HiFZ6d6z",
        "colab": {
          "base_uri": "https://localhost:8080/",
          "height": 198
        },
        "outputId": "1922aa78-7eaa-4a7f-aec9-3b84c81b4d08"
      },
      "source": [
        "def kare(b) :\n",
        "  return b ** 2\n",
        "sunuc3 = map (kare, iterable)\n",
        "print(* sonuc3)"
      ],
      "execution_count": null,
      "outputs": [
        {
          "output_type": "error",
          "ename": "TypeError",
          "evalue": "ignored",
          "traceback": [
            "\u001b[0;31m---------------------------------------------------------------------------\u001b[0m",
            "\u001b[0;31mTypeError\u001b[0m                                 Traceback (most recent call last)",
            "\u001b[0;32m<ipython-input-35-34bf6adfc955>\u001b[0m in \u001b[0;36m<module>\u001b[0;34m()\u001b[0m\n\u001b[1;32m      2\u001b[0m   \u001b[0;32mreturn\u001b[0m \u001b[0mb\u001b[0m \u001b[0;34m**\u001b[0m \u001b[0;36m2\u001b[0m\u001b[0;34m\u001b[0m\u001b[0;34m\u001b[0m\u001b[0m\n\u001b[1;32m      3\u001b[0m \u001b[0msunuc3\u001b[0m \u001b[0;34m=\u001b[0m \u001b[0mmap\u001b[0m \u001b[0;34m(\u001b[0m\u001b[0mkare\u001b[0m\u001b[0;34m,\u001b[0m \u001b[0miterable\u001b[0m\u001b[0;34m)\u001b[0m\u001b[0;34m\u001b[0m\u001b[0;34m\u001b[0m\u001b[0m\n\u001b[0;32m----> 4\u001b[0;31m \u001b[0mprint\u001b[0m\u001b[0;34m(\u001b[0m\u001b[0;34m*\u001b[0m \u001b[0msonuc3\u001b[0m\u001b[0;34m)\u001b[0m\u001b[0;34m\u001b[0m\u001b[0;34m\u001b[0m\u001b[0m\n\u001b[0m",
            "\u001b[0;31mTypeError\u001b[0m: print() argument after * must be an iterable, not int"
          ]
        }
      ]
    },
    {
      "cell_type": "code",
      "metadata": {
        "id": "2Evuh4rf6eAR",
        "colab": {
          "base_uri": "https://localhost:8080/",
          "height": 198
        },
        "outputId": "2474d462-ce92-4f0f-f32d-d4c3fd66d6bc"
      },
      "source": [
        "map()\n",
        "topla = lambda x, y, z : x + y + z\n",
        "topla(\"a\", \"l\", \"i\")"
      ],
      "execution_count": null,
      "outputs": [
        {
          "output_type": "error",
          "ename": "TypeError",
          "evalue": "ignored",
          "traceback": [
            "\u001b[0;31m---------------------------------------------------------------------------\u001b[0m",
            "\u001b[0;31mTypeError\u001b[0m                                 Traceback (most recent call last)",
            "\u001b[0;32m<ipython-input-39-6ceddf458d8a>\u001b[0m in \u001b[0;36m<module>\u001b[0;34m()\u001b[0m\n\u001b[0;32m----> 1\u001b[0;31m \u001b[0mmap\u001b[0m\u001b[0;34m(\u001b[0m\u001b[0;34m)\u001b[0m\u001b[0;34m\u001b[0m\u001b[0;34m\u001b[0m\u001b[0m\n\u001b[0m\u001b[1;32m      2\u001b[0m \u001b[0mtopla\u001b[0m \u001b[0;34m=\u001b[0m \u001b[0;32mlambda\u001b[0m \u001b[0mx\u001b[0m\u001b[0;34m,\u001b[0m \u001b[0my\u001b[0m\u001b[0;34m,\u001b[0m \u001b[0mz\u001b[0m \u001b[0;34m:\u001b[0m \u001b[0mx\u001b[0m \u001b[0;34m+\u001b[0m \u001b[0my\u001b[0m \u001b[0;34m+\u001b[0m \u001b[0mz\u001b[0m\u001b[0;34m\u001b[0m\u001b[0;34m\u001b[0m\u001b[0m\n\u001b[1;32m      3\u001b[0m \u001b[0mtopla\u001b[0m\u001b[0;34m(\u001b[0m\u001b[0;34m\"a\"\u001b[0m\u001b[0;34m,\u001b[0m \u001b[0;34m\"l\"\u001b[0m\u001b[0;34m,\u001b[0m \u001b[0;34m\"i\"\u001b[0m\u001b[0;34m)\u001b[0m\u001b[0;34m\u001b[0m\u001b[0;34m\u001b[0m\u001b[0m\n",
            "\u001b[0;31mTypeError\u001b[0m: map() must have at least two arguments."
          ]
        }
      ]
    },
    {
      "cell_type": "code",
      "metadata": {
        "id": "-MVURZDI6eI2",
        "colab": {
          "base_uri": "https://localhost:8080/"
        },
        "outputId": "21ac7528-c9f4-40c6-e56d-b0c16b36d971"
      },
      "source": [
        "letter1 = [\"o\", \"s\", \"t\", \"t\"]\n",
        "letter2 = [\"n\", \"i\", \"e\", \"w\"]\n",
        "letter3 = [\"e\", \"x\", \"n\", \"o\"]\n",
        "numbers = map (lambda x, y, z : x+y+z, letter1, letter2,  letter3)\n",
        "\n",
        "print(list(numbers))\n"
      ],
      "execution_count": null,
      "outputs": [
        {
          "output_type": "stream",
          "name": "stdout",
          "text": [
            "['one', 'six', 'ten', 'two']\n"
          ]
        }
      ]
    },
    {
      "cell_type": "code",
      "metadata": {
        "id": "Awc_mNmQG4l9",
        "colab": {
          "base_uri": "https://localhost:8080/"
        },
        "outputId": "ed5dfe9e-556d-4087-c70a-074fc64b3b15"
      },
      "source": [
        "num1 = [9, 6, 7, 4]\n",
        "num2 = [3, 6, 5, 8]\n",
        "func = lambda x, y : (x + y) / 2\n",
        "numbers = map(func, num1, num2)\n",
        "print(list(numbers))"
      ],
      "execution_count": null,
      "outputs": [
        {
          "output_type": "stream",
          "name": "stdout",
          "text": [
            "[6.0, 6.0, 6.0, 6.0]\n"
          ]
        }
      ]
    },
    {
      "cell_type": "code",
      "metadata": {
        "id": "l3KLWh3SG4tm",
        "colab": {
          "base_uri": "https://localhost:8080/"
        },
        "outputId": "ba481503-0321-4998-fcc9-b652f706f31d"
      },
      "source": [
        "words1 = [\"you\", \"much\", \"hard\"]\n",
        "words2 = [\"i\", \"you\", \"he\"]\n",
        "words3 = [\"love\", \"ate\", \"works\"]\n",
        "\n",
        "sentences = map(lambda x, y, z : x + \" \" + y + \" \" + z, words2, words3, words1)\n",
        "\n",
        "for i in sentences :\n",
        "  print(i)"
      ],
      "execution_count": null,
      "outputs": [
        {
          "output_type": "stream",
          "name": "stdout",
          "text": [
            "i love you\n",
            "you ate much\n",
            "he works hard\n"
          ]
        }
      ]
    },
    {
      "cell_type": "code",
      "metadata": {
        "id": "ePWSyss3G40g",
        "colab": {
          "base_uri": "https://localhost:8080/"
        },
        "outputId": "5c90c7d7-9c91-479b-f9e6-fd404686a25a"
      },
      "source": [
        "first_ten = [0, 1, 2, 3, 4, 5, 6, 7, 8, 9]\n",
        "\n",
        "even = filter(lambda x:x%2==0, first_ten)\n",
        "print(type(even))\n",
        "print(\"even numbers are :\", list(even))"
      ],
      "execution_count": null,
      "outputs": [
        {
          "output_type": "stream",
          "name": "stdout",
          "text": [
            "<class 'filter'>\n",
            "even numbers are : [0, 2, 4, 6, 8]\n"
          ]
        }
      ]
    },
    {
      "cell_type": "code",
      "metadata": {
        "id": "Qs5CDaWIG47u"
      },
      "source": [
        ""
      ],
      "execution_count": null,
      "outputs": []
    },
    {
      "cell_type": "code",
      "metadata": {
        "id": "Od2InfmjG5CB"
      },
      "source": [
        ""
      ],
      "execution_count": null,
      "outputs": []
    },
    {
      "cell_type": "code",
      "metadata": {
        "id": "ZQs6rTdNG5Iz"
      },
      "source": [
        ""
      ],
      "execution_count": null,
      "outputs": []
    },
    {
      "cell_type": "code",
      "metadata": {
        "id": "FGaaCCQXG5PM"
      },
      "source": [
        ""
      ],
      "execution_count": null,
      "outputs": []
    },
    {
      "cell_type": "code",
      "metadata": {
        "id": "Y2Zw1L6gG5Xe"
      },
      "source": [
        ""
      ],
      "execution_count": null,
      "outputs": []
    },
    {
      "cell_type": "code",
      "metadata": {
        "id": "vNAn3oFrG5ku"
      },
      "source": [
        ""
      ],
      "execution_count": null,
      "outputs": []
    },
    {
      "cell_type": "code",
      "metadata": {
        "id": "yiT0a4RzG5sq"
      },
      "source": [
        ""
      ],
      "execution_count": null,
      "outputs": []
    },
    {
      "cell_type": "code",
      "metadata": {
        "id": "3WJwwJjO5fQf"
      },
      "source": [
        ""
      ],
      "execution_count": null,
      "outputs": []
    },
    {
      "cell_type": "markdown",
      "metadata": {
        "id": "kazTRH6Fv58v"
      },
      "source": [
        "# 02-12-2021 dersi"
      ]
    },
    {
      "cell_type": "code",
      "metadata": {
        "colab": {
          "base_uri": "https://localhost:8080/",
          "height": 34
        },
        "id": "xY3gpXOzW1D6",
        "outputId": "275fa943-e507-4d25-8e8d-062cdc20514f"
      },
      "source": [
        "pwd"
      ],
      "execution_count": null,
      "outputs": [
        {
          "output_type": "execute_result",
          "data": {
            "application/vnd.google.colaboratory.intrinsic+json": {
              "type": "string"
            },
            "text/plain": [
              "'/content'"
            ]
          },
          "metadata": {},
          "execution_count": 2
        }
      ]
    },
    {
      "cell_type": "code",
      "metadata": {
        "id": "UlldPNrzW1Ls"
      },
      "source": [
        "import math"
      ],
      "execution_count": null,
      "outputs": []
    },
    {
      "cell_type": "code",
      "metadata": {
        "id": "A9bgoy9Ki2yF"
      },
      "source": [
        "from math import pi, factorial, log10"
      ],
      "execution_count": null,
      "outputs": []
    },
    {
      "cell_type": "code",
      "metadata": {
        "colab": {
          "base_uri": "https://localhost:8080/"
        },
        "id": "-CcbvrvUi3Dw",
        "outputId": "1c22478a-2a9b-4da2-c143-30946fb1f39b"
      },
      "source": [
        "pi"
      ],
      "execution_count": null,
      "outputs": [
        {
          "output_type": "execute_result",
          "data": {
            "text/plain": [
              "3.141592653589793"
            ]
          },
          "metadata": {},
          "execution_count": 5
        }
      ]
    },
    {
      "cell_type": "code",
      "metadata": {
        "colab": {
          "base_uri": "https://localhost:8080/"
        },
        "id": "scswZVNGi3KW",
        "outputId": "a2356014-a92e-4d12-b733-10c99b406176"
      },
      "source": [
        "factorial(4)"
      ],
      "execution_count": null,
      "outputs": [
        {
          "output_type": "execute_result",
          "data": {
            "text/plain": [
              "24"
            ]
          },
          "metadata": {},
          "execution_count": 6
        }
      ]
    },
    {
      "cell_type": "code",
      "metadata": {
        "colab": {
          "base_uri": "https://localhost:8080/"
        },
        "id": "aVr-zKjai3QP",
        "outputId": "3216e30e-2b17-4c1e-b407-be86ae0d8248"
      },
      "source": [
        "log10(1000)"
      ],
      "execution_count": null,
      "outputs": [
        {
          "output_type": "execute_result",
          "data": {
            "text/plain": [
              "3.0"
            ]
          },
          "metadata": {},
          "execution_count": 9
        }
      ]
    },
    {
      "cell_type": "code",
      "metadata": {
        "id": "NSEsuzCWi3Yj"
      },
      "source": [
        "# from string import punctuation, digits\n",
        "import string"
      ],
      "execution_count": null,
      "outputs": []
    },
    {
      "cell_type": "code",
      "metadata": {
        "colab": {
          "base_uri": "https://localhost:8080/",
          "height": 34
        },
        "id": "oLY3bDhzi3fA",
        "outputId": "377bcdb8-bf89-4678-a6fd-71e343a4b8fd"
      },
      "source": [
        "string.punctuation"
      ],
      "execution_count": null,
      "outputs": [
        {
          "output_type": "execute_result",
          "data": {
            "application/vnd.google.colaboratory.intrinsic+json": {
              "type": "string"
            },
            "text/plain": [
              "'!\"#$%&\\'()*+,-./:;<=>?@[\\\\]^_`{|}~'"
            ]
          },
          "metadata": {},
          "execution_count": 11
        }
      ]
    },
    {
      "cell_type": "code",
      "metadata": {
        "colab": {
          "base_uri": "https://localhost:8080/",
          "height": 34
        },
        "id": "MY6eV5Nbi3lE",
        "outputId": "3eae961b-d207-4150-d304-5c472d39ff45"
      },
      "source": [
        "string.digits"
      ],
      "execution_count": null,
      "outputs": [
        {
          "output_type": "execute_result",
          "data": {
            "application/vnd.google.colaboratory.intrinsic+json": {
              "type": "string"
            },
            "text/plain": [
              "'0123456789'"
            ]
          },
          "metadata": {},
          "execution_count": 12
        }
      ]
    },
    {
      "cell_type": "code",
      "metadata": {
        "id": "416j26gdi3rz"
      },
      "source": [
        ""
      ],
      "execution_count": null,
      "outputs": []
    },
    {
      "cell_type": "code",
      "metadata": {
        "id": "zVXjTyIEi3yP"
      },
      "source": [
        "import datetime"
      ],
      "execution_count": null,
      "outputs": []
    },
    {
      "cell_type": "code",
      "metadata": {
        "colab": {
          "base_uri": "https://localhost:8080/"
        },
        "id": "elOc1yECi34O",
        "outputId": "a61dc4a3-77b9-4337-9ad3-2adb51069336"
      },
      "source": [
        "print(datetime.date.today())"
      ],
      "execution_count": null,
      "outputs": [
        {
          "output_type": "stream",
          "name": "stdout",
          "text": [
            "2021-12-02\n"
          ]
        }
      ]
    },
    {
      "cell_type": "code",
      "metadata": {
        "colab": {
          "base_uri": "https://localhost:8080/"
        },
        "id": "81VF1Rk8i3-X",
        "outputId": "142914d8-db44-4078-e2f7-ebd71921d74d"
      },
      "source": [
        "print(datetime.datetime.now())"
      ],
      "execution_count": null,
      "outputs": [
        {
          "output_type": "stream",
          "name": "stdout",
          "text": [
            "2021-12-02 19:22:00.634971\n"
          ]
        }
      ]
    },
    {
      "cell_type": "code",
      "metadata": {
        "id": "JFE25BVdi4Es"
      },
      "source": [
        "# Peygamber efendimizin (s.a.v) kaç gün yaşadığını bulma kodu\n",
        "# 22 April 571\n",
        "# 8 June 632\n",
        "\n",
        "from datetime import date"
      ],
      "execution_count": null,
      "outputs": []
    },
    {
      "cell_type": "code",
      "metadata": {
        "id": "c49HZdKQnS1T"
      },
      "source": [
        "birt = date(571, 4, 22)"
      ],
      "execution_count": null,
      "outputs": []
    },
    {
      "cell_type": "code",
      "metadata": {
        "colab": {
          "base_uri": "https://localhost:8080/"
        },
        "id": "CjEssjiHnS74",
        "outputId": "58bee43e-bf60-4e53-9942-9257c3dd0e87"
      },
      "source": [
        "birt"
      ],
      "execution_count": null,
      "outputs": [
        {
          "output_type": "execute_result",
          "data": {
            "text/plain": [
              "datetime.date(571, 4, 22)"
            ]
          },
          "metadata": {},
          "execution_count": 44
        }
      ]
    },
    {
      "cell_type": "code",
      "metadata": {
        "id": "9dvhLTApnTCm"
      },
      "source": [
        "death = date(632, 6, 8)"
      ],
      "execution_count": null,
      "outputs": []
    },
    {
      "cell_type": "code",
      "metadata": {
        "colab": {
          "base_uri": "https://localhost:8080/"
        },
        "id": "rFKLPVBanTKx",
        "outputId": "4f820d1f-01be-407a-a3ac-e2dd30e556f5"
      },
      "source": [
        "date.toordinal(birt)"
      ],
      "execution_count": null,
      "outputs": [
        {
          "output_type": "execute_result",
          "data": {
            "text/plain": [
              "208300"
            ]
          },
          "metadata": {},
          "execution_count": 46
        }
      ]
    },
    {
      "cell_type": "code",
      "metadata": {
        "colab": {
          "base_uri": "https://localhost:8080/"
        },
        "id": "UyqDyvDRnTRJ",
        "outputId": "c60b4a73-0054-4540-e549-c7bc1a407820"
      },
      "source": [
        "date.toordinal(death)"
      ],
      "execution_count": null,
      "outputs": [
        {
          "output_type": "execute_result",
          "data": {
            "text/plain": [
              "230627"
            ]
          },
          "metadata": {},
          "execution_count": 47
        }
      ]
    },
    {
      "cell_type": "code",
      "metadata": {
        "colab": {
          "base_uri": "https://localhost:8080/"
        },
        "id": "COEBXFOZnTXN",
        "outputId": "6001cb0f-9016-4c5f-f00d-06dad7ff14b5"
      },
      "source": [
        "date.toordinal(death) - date.toordinal(birt)"
      ],
      "execution_count": null,
      "outputs": [
        {
          "output_type": "execute_result",
          "data": {
            "text/plain": [
              "22327"
            ]
          },
          "metadata": {},
          "execution_count": 48
        }
      ]
    },
    {
      "cell_type": "code",
      "metadata": {
        "id": "6NQpqDeBnTdj"
      },
      "source": [
        "from random import choice"
      ],
      "execution_count": null,
      "outputs": []
    },
    {
      "cell_type": "code",
      "metadata": {
        "colab": {
          "base_uri": "https://localhost:8080/"
        },
        "id": "OQ3piOwfnTjn",
        "outputId": "70d133d9-9dac-4f1e-eefd-013009087cdf"
      },
      "source": [
        "city = ['Stockholm', 'Istanbul', 'Seul', 'Cape Town']\n",
        "print(choice(city))"
      ],
      "execution_count": null,
      "outputs": [
        {
          "output_type": "stream",
          "name": "stdout",
          "text": [
            "Seul\n"
          ]
        }
      ]
    },
    {
      "cell_type": "code",
      "metadata": {
        "colab": {
          "base_uri": "https://localhost:8080/"
        },
        "id": "WBEMjJJynTpo",
        "outputId": "d594d684-2c8a-46d6-b4d6-dfc887e13ff5"
      },
      "source": [
        "pip --version"
      ],
      "execution_count": null,
      "outputs": [
        {
          "output_type": "stream",
          "name": "stdout",
          "text": [
            "pip 21.1.3 from /usr/local/lib/python3.7/dist-packages/pip (python 3.7)\n"
          ]
        }
      ]
    },
    {
      "cell_type": "code",
      "metadata": {
        "colab": {
          "base_uri": "https://localhost:8080/"
        },
        "id": "QjdiFr9QnTvh",
        "outputId": "bffe02d6-1c2f-4911-c010-f40bfa9b5592"
      },
      "source": [
        "!pip list"
      ],
      "execution_count": null,
      "outputs": [
        {
          "output_type": "stream",
          "name": "stdout",
          "text": [
            "Package                       Version\n",
            "----------------------------- --------------\n",
            "absl-py                       0.12.0\n",
            "alabaster                     0.7.12\n",
            "albumentations                0.1.12\n",
            "altair                        4.1.0\n",
            "appdirs                       1.4.4\n",
            "argcomplete                   1.12.3\n",
            "argon2-cffi                   21.1.0\n",
            "arviz                         0.11.4\n",
            "astor                         0.8.1\n",
            "astropy                       4.3.1\n",
            "astunparse                    1.6.3\n",
            "atari-py                      0.2.9\n",
            "atomicwrites                  1.4.0\n",
            "attrs                         21.2.0\n",
            "audioread                     2.1.9\n",
            "autograd                      1.3\n",
            "Babel                         2.9.1\n",
            "backcall                      0.2.0\n",
            "beautifulsoup4                4.6.3\n",
            "bleach                        4.1.0\n",
            "blis                          0.4.1\n",
            "bokeh                         2.3.3\n",
            "Bottleneck                    1.3.2\n",
            "branca                        0.4.2\n",
            "bs4                           0.0.1\n",
            "CacheControl                  0.12.10\n",
            "cached-property               1.5.2\n",
            "cachetools                    4.2.4\n",
            "catalogue                     1.0.0\n",
            "certifi                       2021.10.8\n",
            "cffi                          1.15.0\n",
            "cftime                        1.5.1.1\n",
            "chardet                       3.0.4\n",
            "charset-normalizer            2.0.8\n",
            "click                         7.1.2\n",
            "cloudpickle                   1.3.0\n",
            "cmake                         3.12.0\n",
            "cmdstanpy                     0.9.5\n",
            "colorcet                      2.0.6\n",
            "colorlover                    0.3.0\n",
            "community                     1.0.0b1\n",
            "contextlib2                   0.5.5\n",
            "convertdate                   2.3.2\n",
            "coverage                      3.7.1\n",
            "coveralls                     0.5\n",
            "crcmod                        1.7\n",
            "cufflinks                     0.17.3\n",
            "cvxopt                        1.2.7\n",
            "cvxpy                         1.0.31\n",
            "cycler                        0.11.0\n",
            "cymem                         2.0.6\n",
            "Cython                        0.29.24\n",
            "daft                          0.0.4\n",
            "dask                          2.12.0\n",
            "datascience                   0.10.6\n",
            "debugpy                       1.0.0\n",
            "decorator                     4.4.2\n",
            "defusedxml                    0.7.1\n",
            "descartes                     1.1.0\n",
            "dill                          0.3.4\n",
            "distributed                   1.25.3\n",
            "dlib                          19.18.0\n",
            "dm-tree                       0.1.6\n",
            "docopt                        0.6.2\n",
            "docutils                      0.17.1\n",
            "dopamine-rl                   1.0.5\n",
            "earthengine-api               0.1.290\n",
            "easydict                      1.9\n",
            "ecos                          2.0.7.post1\n",
            "editdistance                  0.5.3\n",
            "en-core-web-sm                2.2.5\n",
            "entrypoints                   0.3\n",
            "ephem                         4.1\n",
            "et-xmlfile                    1.1.0\n",
            "fa2                           0.3.5\n",
            "fastai                        1.0.61\n",
            "fastdtw                       0.3.4\n",
            "fastprogress                  1.0.0\n",
            "fastrlock                     0.8\n",
            "fbprophet                     0.7.1\n",
            "feather-format                0.4.1\n",
            "filelock                      3.4.0\n",
            "firebase-admin                4.4.0\n",
            "fix-yahoo-finance             0.0.22\n",
            "Flask                         1.1.4\n",
            "flatbuffers                   2.0\n",
            "folium                        0.8.3\n",
            "fonttools                     4.28.2\n",
            "future                        0.16.0\n",
            "gast                          0.4.0\n",
            "GDAL                          2.2.2\n",
            "gdown                         3.6.4\n",
            "gensim                        3.6.0\n",
            "geographiclib                 1.52\n",
            "geopy                         1.17.0\n",
            "gin-config                    0.5.0\n",
            "glob2                         0.7\n",
            "google                        2.0.3\n",
            "google-api-core               1.26.3\n",
            "google-api-python-client      1.12.8\n",
            "google-auth                   1.35.0\n",
            "google-auth-httplib2          0.0.4\n",
            "google-auth-oauthlib          0.4.6\n",
            "google-cloud-bigquery         1.21.0\n",
            "google-cloud-bigquery-storage 1.1.0\n",
            "google-cloud-core             1.0.3\n",
            "google-cloud-datastore        1.8.0\n",
            "google-cloud-firestore        1.7.0\n",
            "google-cloud-language         1.2.0\n",
            "google-cloud-storage          1.18.1\n",
            "google-cloud-translate        1.5.0\n",
            "google-colab                  1.0.0\n",
            "google-pasta                  0.2.0\n",
            "google-resumable-media        0.4.1\n",
            "googleapis-common-protos      1.53.0\n",
            "googledrivedownloader         0.4\n",
            "graphviz                      0.10.1\n",
            "greenlet                      1.1.2\n",
            "grpcio                        1.42.0\n",
            "gspread                       3.0.1\n",
            "gspread-dataframe             3.0.8\n",
            "gym                           0.17.3\n",
            "h5py                          3.1.0\n",
            "HeapDict                      1.0.1\n",
            "hijri-converter               2.2.2\n",
            "holidays                      0.10.5.2\n",
            "holoviews                     1.14.6\n",
            "html5lib                      1.0.1\n",
            "httpimport                    0.5.18\n",
            "httplib2                      0.17.4\n",
            "httplib2shim                  0.0.3\n",
            "humanize                      0.5.1\n",
            "hyperopt                      0.1.2\n",
            "ideep4py                      2.0.0.post3\n",
            "idna                          2.10\n",
            "imageio                       2.4.1\n",
            "imagesize                     1.3.0\n",
            "imbalanced-learn              0.8.1\n",
            "imblearn                      0.0\n",
            "imgaug                        0.2.9\n",
            "importlib-metadata            4.8.2\n",
            "importlib-resources           5.4.0\n",
            "imutils                       0.5.4\n",
            "inflect                       2.1.0\n",
            "iniconfig                     1.1.1\n",
            "intel-openmp                  2021.4.0\n",
            "intervaltree                  2.1.0\n",
            "ipykernel                     4.10.1\n",
            "ipython                       5.5.0\n",
            "ipython-genutils              0.2.0\n",
            "ipython-sql                   0.3.9\n",
            "ipywidgets                    7.6.5\n",
            "itsdangerous                  1.1.0\n",
            "jax                           0.2.25\n",
            "jaxlib                        0.1.71+cuda111\n",
            "jdcal                         1.4.1\n",
            "jedi                          0.18.1\n",
            "jieba                         0.42.1\n",
            "Jinja2                        2.11.3\n",
            "joblib                        1.1.0\n",
            "jpeg4py                       0.1.4\n",
            "jsonschema                    2.6.0\n",
            "jupyter                       1.0.0\n",
            "jupyter-client                5.3.5\n",
            "jupyter-console               5.2.0\n",
            "jupyter-core                  4.9.1\n",
            "jupyterlab-pygments           0.1.2\n",
            "jupyterlab-widgets            1.0.2\n",
            "kaggle                        1.5.12\n",
            "kapre                         0.3.6\n",
            "keras                         2.7.0\n",
            "Keras-Preprocessing           1.1.2\n",
            "keras-vis                     0.4.1\n",
            "kiwisolver                    1.3.2\n",
            "korean-lunar-calendar         0.2.1\n",
            "libclang                      12.0.0\n",
            "librosa                       0.8.1\n",
            "lightgbm                      2.2.3\n",
            "llvmlite                      0.34.0\n",
            "lmdb                          0.99\n",
            "LunarCalendar                 0.0.9\n",
            "lxml                          4.2.6\n",
            "Markdown                      3.3.6\n",
            "MarkupSafe                    2.0.1\n",
            "matplotlib                    3.2.2\n",
            "matplotlib-inline             0.1.3\n",
            "matplotlib-venn               0.11.6\n",
            "missingno                     0.5.0\n",
            "mistune                       0.8.4\n",
            "mizani                        0.6.0\n",
            "mkl                           2019.0\n",
            "mlxtend                       0.14.0\n",
            "more-itertools                8.12.0\n",
            "moviepy                       0.2.3.5\n",
            "mpmath                        1.2.1\n",
            "msgpack                       1.0.3\n",
            "multiprocess                  0.70.12.2\n",
            "multitasking                  0.0.10\n",
            "murmurhash                    1.0.6\n",
            "music21                       5.5.0\n",
            "natsort                       5.5.0\n",
            "nbclient                      0.5.9\n",
            "nbconvert                     5.6.1\n",
            "nbformat                      5.1.3\n",
            "nest-asyncio                  1.5.1\n",
            "netCDF4                       1.5.8\n",
            "networkx                      2.6.3\n",
            "nibabel                       3.0.2\n",
            "nltk                          3.2.5\n",
            "notebook                      5.3.1\n",
            "numba                         0.51.2\n",
            "numexpr                       2.7.3\n",
            "numpy                         1.19.5\n",
            "nvidia-ml-py3                 7.352.0\n",
            "oauth2client                  4.1.3\n",
            "oauthlib                      3.1.1\n",
            "okgrade                       0.4.3\n",
            "opencv-contrib-python         4.1.2.30\n",
            "opencv-python                 4.1.2.30\n",
            "openpyxl                      2.5.9\n",
            "opt-einsum                    3.3.0\n",
            "osqp                          0.6.2.post0\n",
            "packaging                     21.3\n",
            "palettable                    3.3.0\n",
            "pandas                        1.1.5\n",
            "pandas-datareader             0.9.0\n",
            "pandas-gbq                    0.13.3\n",
            "pandas-profiling              1.4.1\n",
            "pandocfilters                 1.5.0\n",
            "panel                         0.12.1\n",
            "param                         1.12.0\n",
            "parso                         0.8.2\n",
            "pathlib                       1.0.1\n",
            "patsy                         0.5.2\n",
            "pep517                        0.12.0\n",
            "pexpect                       4.8.0\n",
            "pickleshare                   0.7.5\n",
            "Pillow                        7.1.2\n",
            "pip                           21.1.3\n",
            "pip-tools                     6.2.0\n",
            "plac                          1.1.3\n",
            "plotly                        4.4.1\n",
            "plotnine                      0.6.0\n",
            "pluggy                        0.7.1\n",
            "pooch                         1.5.2\n",
            "portpicker                    1.3.9\n",
            "prefetch-generator            1.0.1\n",
            "preshed                       3.0.6\n",
            "prettytable                   2.4.0\n",
            "progressbar2                  3.38.0\n",
            "prometheus-client             0.12.0\n",
            "promise                       2.3\n",
            "prompt-toolkit                1.0.18\n",
            "protobuf                      3.17.3\n",
            "psutil                        5.4.8\n",
            "psycopg2                      2.7.6.1\n",
            "ptyprocess                    0.7.0\n",
            "py                            1.11.0\n",
            "pyarrow                       3.0.0\n",
            "pyasn1                        0.4.8\n",
            "pyasn1-modules                0.2.8\n",
            "pycocotools                   2.0.3\n",
            "pycparser                     2.21\n",
            "pyct                          0.4.8\n",
            "pydata-google-auth            1.2.0\n",
            "pydot                         1.3.0\n",
            "pydot-ng                      2.0.0\n",
            "pydotplus                     2.0.2\n",
            "PyDrive                       1.3.1\n",
            "pyemd                         0.5.1\n",
            "pyerfa                        2.0.0.1\n",
            "pyglet                        1.5.0\n",
            "Pygments                      2.6.1\n",
            "pygobject                     3.26.1\n",
            "pymc3                         3.11.4\n",
            "PyMeeus                       0.5.11\n",
            "pymongo                       3.12.1\n",
            "pymystem3                     0.2.0\n",
            "PyOpenGL                      3.1.5\n",
            "pyparsing                     3.0.6\n",
            "pyrsistent                    0.18.0\n",
            "pysndfile                     1.3.8\n",
            "PySocks                       1.7.1\n",
            "pystan                        2.19.1.1\n",
            "pytest                        3.6.4\n",
            "python-apt                    0.0.0\n",
            "python-chess                  0.23.11\n",
            "python-dateutil               2.8.2\n",
            "python-louvain                0.15\n",
            "python-slugify                5.0.2\n",
            "python-utils                  2.5.6\n",
            "pytz                          2018.9\n",
            "pyviz-comms                   2.1.0\n",
            "PyWavelets                    1.2.0\n",
            "PyYAML                        3.13\n",
            "pyzmq                         22.3.0\n",
            "qdldl                         0.1.5.post0\n",
            "qtconsole                     5.2.1\n",
            "QtPy                          1.11.2\n",
            "regex                         2019.12.20\n",
            "requests                      2.23.0\n",
            "requests-oauthlib             1.3.0\n",
            "resampy                       0.2.2\n",
            "retrying                      1.3.3\n",
            "rpy2                          3.4.5\n",
            "rsa                           4.8\n",
            "scikit-image                  0.18.3\n",
            "scikit-learn                  1.0.1\n",
            "scipy                         1.4.1\n",
            "screen-resolution-extra       0.0.0\n",
            "scs                           2.1.4\n",
            "seaborn                       0.11.2\n",
            "semver                        2.13.0\n",
            "Send2Trash                    1.8.0\n",
            "setuptools                    57.4.0\n",
            "setuptools-git                1.2\n",
            "setuptools-scm                6.3.2\n",
            "Shapely                       1.8.0\n",
            "simplegeneric                 0.8.1\n",
            "six                           1.15.0\n",
            "sklearn                       0.0\n",
            "sklearn-pandas                1.8.0\n",
            "smart-open                    5.2.1\n",
            "snowballstemmer               2.2.0\n",
            "sortedcontainers              2.4.0\n",
            "SoundFile                     0.10.3.post1\n",
            "spacy                         2.2.4\n",
            "Sphinx                        1.8.6\n",
            "sphinxcontrib-serializinghtml 1.1.5\n",
            "sphinxcontrib-websupport      1.2.4\n",
            "SQLAlchemy                    1.4.27\n",
            "sqlparse                      0.4.2\n",
            "srsly                         1.0.5\n",
            "statsmodels                   0.10.2\n",
            "sympy                         1.7.1\n",
            "tables                        3.4.4\n",
            "tabulate                      0.8.9\n",
            "tblib                         1.7.0\n",
            "tensorboard                   2.7.0\n",
            "tensorboard-data-server       0.6.1\n",
            "tensorboard-plugin-wit        1.8.0\n",
            "tensorflow                    2.7.0\n",
            "tensorflow-datasets           4.0.1\n",
            "tensorflow-estimator          2.7.0\n",
            "tensorflow-gcs-config         2.7.0\n",
            "tensorflow-hub                0.12.0\n",
            "tensorflow-io-gcs-filesystem  0.22.0\n",
            "tensorflow-metadata           1.4.0\n",
            "tensorflow-probability        0.15.0\n",
            "termcolor                     1.1.0\n",
            "terminado                     0.12.1\n",
            "testpath                      0.5.0\n",
            "text-unidecode                1.3\n",
            "textblob                      0.15.3\n",
            "Theano-PyMC                   1.1.2\n",
            "thinc                         7.4.0\n",
            "threadpoolctl                 3.0.0\n",
            "tifffile                      2021.11.2\n",
            "toml                          0.10.2\n",
            "tomli                         1.2.2\n",
            "toolz                         0.11.2\n",
            "torch                         1.10.0+cu111\n",
            "torchaudio                    0.10.0+cu111\n",
            "torchsummary                  1.5.1\n",
            "torchtext                     0.11.0\n",
            "torchvision                   0.11.1+cu111\n",
            "tornado                       5.1.1\n",
            "tqdm                          4.62.3\n",
            "traitlets                     5.1.1\n",
            "tweepy                        3.10.0\n",
            "typeguard                     2.7.1\n",
            "typing-extensions             3.10.0.2\n",
            "tzlocal                       1.5.1\n",
            "uritemplate                   3.0.1\n",
            "urllib3                       1.24.3\n",
            "vega-datasets                 0.9.0\n",
            "wasabi                        0.8.2\n",
            "wcwidth                       0.2.5\n",
            "webencodings                  0.5.1\n",
            "Werkzeug                      1.0.1\n",
            "wheel                         0.37.0\n",
            "widgetsnbextension            3.5.2\n",
            "wordcloud                     1.5.0\n",
            "wrapt                         1.13.3\n",
            "xarray                        0.18.2\n",
            "xgboost                       0.90\n",
            "xkit                          0.0.0\n",
            "xlrd                          1.1.0\n",
            "xlwt                          1.3.0\n",
            "yellowbrick                   1.3.post1\n",
            "zict                          2.0.0\n",
            "zipp                          3.6.0\n"
          ]
        }
      ]
    },
    {
      "cell_type": "code",
      "metadata": {
        "colab": {
          "base_uri": "https://localhost:8080/"
        },
        "id": "fYzecxedrCXJ",
        "outputId": "55069215-1380-43ab-ede6-e6afb2eda062"
      },
      "source": [
        "pip show kaggle"
      ],
      "execution_count": null,
      "outputs": [
        {
          "output_type": "stream",
          "name": "stdout",
          "text": [
            "Name: kaggle\n",
            "Version: 1.5.12\n",
            "Summary: Kaggle API\n",
            "Home-page: https://github.com/Kaggle/kaggle-api\n",
            "Author: Kaggle\n",
            "Author-email: support@kaggle.com\n",
            "License: Apache 2.0\n",
            "Location: /usr/local/lib/python3.7/dist-packages\n",
            "Requires: requests, tqdm, certifi, python-dateutil, six, urllib3, python-slugify\n",
            "Required-by: \n"
          ]
        }
      ]
    },
    {
      "cell_type": "code",
      "metadata": {
        "colab": {
          "base_uri": "https://localhost:8080/"
        },
        "id": "nlOkhY3RrCef",
        "outputId": "4e753c14-4175-488e-dba9-df1d614c3e8d"
      },
      "source": [
        "pip install kaggle"
      ],
      "execution_count": null,
      "outputs": [
        {
          "output_type": "stream",
          "name": "stdout",
          "text": [
            "Requirement already satisfied: kaggle in /usr/local/lib/python3.7/dist-packages (1.5.12)\n",
            "Requirement already satisfied: python-dateutil in /usr/local/lib/python3.7/dist-packages (from kaggle) (2.8.2)\n",
            "Requirement already satisfied: certifi in /usr/local/lib/python3.7/dist-packages (from kaggle) (2021.10.8)\n",
            "Requirement already satisfied: urllib3 in /usr/local/lib/python3.7/dist-packages (from kaggle) (1.24.3)\n",
            "Requirement already satisfied: requests in /usr/local/lib/python3.7/dist-packages (from kaggle) (2.23.0)\n",
            "Requirement already satisfied: python-slugify in /usr/local/lib/python3.7/dist-packages (from kaggle) (5.0.2)\n",
            "Requirement already satisfied: six>=1.10 in /usr/local/lib/python3.7/dist-packages (from kaggle) (1.15.0)\n",
            "Requirement already satisfied: tqdm in /usr/local/lib/python3.7/dist-packages (from kaggle) (4.62.3)\n",
            "Requirement already satisfied: text-unidecode>=1.3 in /usr/local/lib/python3.7/dist-packages (from python-slugify->kaggle) (1.3)\n",
            "Requirement already satisfied: chardet<4,>=3.0.2 in /usr/local/lib/python3.7/dist-packages (from requests->kaggle) (3.0.4)\n",
            "Requirement already satisfied: idna<3,>=2.5 in /usr/local/lib/python3.7/dist-packages (from requests->kaggle) (2.10)\n"
          ]
        }
      ]
    },
    {
      "cell_type": "code",
      "metadata": {
        "colab": {
          "base_uri": "https://localhost:8080/"
        },
        "id": "cdQM-zfkrCqm",
        "outputId": "46abc1b6-2a78-4f88-b674-e8e097c3c54e"
      },
      "source": [
        "pip show kaggle"
      ],
      "execution_count": null,
      "outputs": [
        {
          "output_type": "stream",
          "name": "stdout",
          "text": [
            "Name: kaggle\n",
            "Version: 1.5.12\n",
            "Summary: Kaggle API\n",
            "Home-page: https://github.com/Kaggle/kaggle-api\n",
            "Author: Kaggle\n",
            "Author-email: support@kaggle.com\n",
            "License: Apache 2.0\n",
            "Location: /usr/local/lib/python3.7/dist-packages\n",
            "Requires: certifi, python-slugify, tqdm, python-dateutil, urllib3, requests, six\n",
            "Required-by: \n"
          ]
        }
      ]
    },
    {
      "cell_type": "code",
      "metadata": {
        "id": "DPqCUGwcrC0O"
      },
      "source": [
        ""
      ],
      "execution_count": null,
      "outputs": []
    },
    {
      "cell_type": "code",
      "metadata": {
        "id": "OjrtZKnRrC6h"
      },
      "source": [
        ""
      ],
      "execution_count": null,
      "outputs": []
    },
    {
      "cell_type": "code",
      "metadata": {
        "id": "nrMR1yQ2rDAR"
      },
      "source": [
        ""
      ],
      "execution_count": null,
      "outputs": []
    },
    {
      "cell_type": "code",
      "metadata": {
        "id": "3ne4FvmurDGq"
      },
      "source": [
        ""
      ],
      "execution_count": null,
      "outputs": []
    },
    {
      "cell_type": "code",
      "metadata": {
        "id": "KtCtncLmnT1h"
      },
      "source": [
        ""
      ],
      "execution_count": null,
      "outputs": []
    },
    {
      "cell_type": "markdown",
      "metadata": {
        "id": "MOe4hQwMWoPV"
      },
      "source": [
        "# 06-12-2021 dersi"
      ]
    },
    {
      "cell_type": "code",
      "metadata": {
        "id": "T-AkhhprnR-9",
        "colab": {
          "base_uri": "https://localhost:8080/",
          "height": 171
        },
        "outputId": "a11a3b17-f4bd-4336-90b0-459ea65b0851"
      },
      "source": [
        "math.log10(100)"
      ],
      "execution_count": null,
      "outputs": [
        {
          "output_type": "error",
          "ename": "NameError",
          "evalue": "ignored",
          "traceback": [
            "\u001b[0;31m---------------------------------------------------------------------------\u001b[0m",
            "\u001b[0;31mNameError\u001b[0m                                 Traceback (most recent call last)",
            "\u001b[0;32m<ipython-input-1-93f0ae50af72>\u001b[0m in \u001b[0;36m<module>\u001b[0;34m()\u001b[0m\n\u001b[0;32m----> 1\u001b[0;31m \u001b[0mmath\u001b[0m\u001b[0;34m.\u001b[0m\u001b[0mlog10\u001b[0m\u001b[0;34m(\u001b[0m\u001b[0;36m100\u001b[0m\u001b[0;34m)\u001b[0m\u001b[0;34m\u001b[0m\u001b[0;34m\u001b[0m\u001b[0m\n\u001b[0m",
            "\u001b[0;31mNameError\u001b[0m: name 'math' is not defined"
          ]
        }
      ]
    },
    {
      "cell_type": "code",
      "metadata": {
        "id": "BMGPabyE_-Hx"
      },
      "source": [
        "def my_facto(n) : \n",
        "\n",
        "  if n == 1 or n == 0 :\n",
        "    return 1\n",
        "  else :\n",
        "    return n * my_facto(n-1)\n",
        "  "
      ],
      "execution_count": null,
      "outputs": []
    },
    {
      "cell_type": "code",
      "metadata": {
        "colab": {
          "base_uri": "https://localhost:8080/"
        },
        "id": "csmyPpKG_-Oc",
        "outputId": "57a9aa7b-ac02-4c47-830a-f1b0dec3741f"
      },
      "source": [
        "my_facto(4)"
      ],
      "execution_count": null,
      "outputs": [
        {
          "output_type": "execute_result",
          "data": {
            "text/plain": [
              "24"
            ]
          },
          "metadata": {},
          "execution_count": 4
        }
      ]
    },
    {
      "cell_type": "code",
      "metadata": {
        "colab": {
          "base_uri": "https://localhost:8080/",
          "height": 171
        },
        "id": "Umh7Fe5g_-Tw",
        "outputId": "8e3a0383-2df3-4fb0-a696-af62c444e1ba"
      },
      "source": [
        "print(ali)"
      ],
      "execution_count": null,
      "outputs": [
        {
          "output_type": "error",
          "ename": "NameError",
          "evalue": "ignored",
          "traceback": [
            "\u001b[0;31m---------------------------------------------------------------------------\u001b[0m",
            "\u001b[0;31mNameError\u001b[0m                                 Traceback (most recent call last)",
            "\u001b[0;32m<ipython-input-5-e5655ac413f6>\u001b[0m in \u001b[0;36m<module>\u001b[0;34m()\u001b[0m\n\u001b[0;32m----> 1\u001b[0;31m \u001b[0mprint\u001b[0m\u001b[0;34m(\u001b[0m\u001b[0mali\u001b[0m\u001b[0;34m)\u001b[0m\u001b[0;34m\u001b[0m\u001b[0;34m\u001b[0m\u001b[0m\n\u001b[0m",
            "\u001b[0;31mNameError\u001b[0m: name 'ali' is not defined"
          ]
        }
      ]
    },
    {
      "cell_type": "code",
      "metadata": {
        "colab": {
          "base_uri": "https://localhost:8080/"
        },
        "id": "jW5K_Own_-Y1",
        "outputId": "2841f057-cb9f-4eaa-d388-01048e123e89"
      },
      "source": [
        "while True:\n",
        "    no_one = int(input(\"The first number please : \"))\n",
        "    no_two = int(input(\"The second number please : \"))\n",
        "\n",
        "    try :\n",
        "      division = no_one / no_two\n",
        "      print(\"The result of the division is : \", division)\n",
        "      break\n",
        "    except:\n",
        "      print(\"Something is wrong. enter again\")"
      ],
      "execution_count": null,
      "outputs": [
        {
          "output_type": "stream",
          "name": "stdout",
          "text": [
            "The first number please : 7\n",
            "The second number please : 0\n",
            "Something is wrong. enter again\n",
            "The first number please : 0\n",
            "The second number please : 5\n",
            "The result of the division is :  0.0\n"
          ]
        }
      ]
    },
    {
      "cell_type": "code",
      "metadata": {
        "colab": {
          "base_uri": "https://localhost:8080/"
        },
        "id": "aYriN4eC_-ew",
        "outputId": "30cb6fe8-6c73-4b61-b390-4513ed4cb3ca"
      },
      "source": [
        "try :\n",
        "  print (4 + \"4\")\n",
        "except :\n",
        "  print(\"muhtemelen yanlış birşeyler yaptın!\")\n"
      ],
      "execution_count": null,
      "outputs": [
        {
          "output_type": "stream",
          "name": "stdout",
          "text": [
            "muhtemelen yanlış birşeyler yaptın!\n"
          ]
        }
      ]
    },
    {
      "cell_type": "code",
      "metadata": {
        "colab": {
          "base_uri": "https://localhost:8080/"
        },
        "id": "yIBqbLw__-kH",
        "outputId": "1aa9780e-ddca-4218-c912-9f94308e1f8f"
      },
      "source": [
        "try :\n",
        "  print (\"4\" + \"4\")\n",
        "except :\n",
        "  print(\"muhtemelen yanlış birşeyler yaptın!\")\n"
      ],
      "execution_count": null,
      "outputs": [
        {
          "output_type": "stream",
          "name": "stdout",
          "text": [
            "44\n"
          ]
        }
      ]
    },
    {
      "cell_type": "code",
      "metadata": {
        "colab": {
          "base_uri": "https://localhost:8080/"
        },
        "id": "ojHPW8-W_-pT",
        "outputId": "585da0d2-616a-4b84-d244-c633951bb39c"
      },
      "source": [
        "try :\n",
        "  file = open (\"my_file.txt\", \"r\")\n",
        "  print(file.read())\n",
        "  file.close()\n",
        "except FileNotFoundError :\n",
        "  print(\"There is not such a filer or the path is incorrect.\")"
      ],
      "execution_count": null,
      "outputs": [
        {
          "output_type": "stream",
          "name": "stdout",
          "text": [
            "There is not such a filer or the path is incorrect.\n"
          ]
        }
      ]
    },
    {
      "cell_type": "code",
      "metadata": {
        "id": "Png7fPEA_-wY"
      },
      "source": [
        "try :\n",
        "  a = 4 + \"4\"\n",
        "  file = open (\"my_file.txt\", \"r\")\n",
        "  print(file.read())\n",
        "  file.close()\n",
        "except FileNotFoundError :\n",
        "  print(\"There is not such a filer or the path is incorrect.\")"
      ],
      "execution_count": null,
      "outputs": []
    },
    {
      "cell_type": "code",
      "metadata": {
        "colab": {
          "base_uri": "https://localhost:8080/",
          "height": 244
        },
        "id": "2ETsk7xm_-2h",
        "outputId": "0074ae33-4962-4fbb-c49d-3b9f6302ca2f"
      },
      "source": [
        "try :\n",
        "  a = 4 + \"4\"\n",
        "  file = open (\"my_file.txt\", \"r\")\n",
        "  print(file.read())\n",
        "  file.close()\n",
        "except FileNotFoundError :\n",
        "  print(\"There is not such a filer or the path is incorrect.\")\n",
        "except FileExistsError :\n",
        "  print(\"The type is incorrect.\")"
      ],
      "execution_count": null,
      "outputs": [
        {
          "output_type": "error",
          "ename": "TypeError",
          "evalue": "ignored",
          "traceback": [
            "\u001b[0;31m---------------------------------------------------------------------------\u001b[0m",
            "\u001b[0;31mTypeError\u001b[0m                                 Traceback (most recent call last)",
            "\u001b[0;32m<ipython-input-16-f943390302a6>\u001b[0m in \u001b[0;36m<module>\u001b[0;34m()\u001b[0m\n\u001b[1;32m      1\u001b[0m \u001b[0;32mtry\u001b[0m \u001b[0;34m:\u001b[0m\u001b[0;34m\u001b[0m\u001b[0;34m\u001b[0m\u001b[0m\n\u001b[0;32m----> 2\u001b[0;31m   \u001b[0ma\u001b[0m \u001b[0;34m=\u001b[0m \u001b[0;36m4\u001b[0m \u001b[0;34m+\u001b[0m \u001b[0;34m\"4\"\u001b[0m\u001b[0;34m\u001b[0m\u001b[0;34m\u001b[0m\u001b[0m\n\u001b[0m\u001b[1;32m      3\u001b[0m   \u001b[0mfile\u001b[0m \u001b[0;34m=\u001b[0m \u001b[0mopen\u001b[0m \u001b[0;34m(\u001b[0m\u001b[0;34m\"my_file.txt\"\u001b[0m\u001b[0;34m,\u001b[0m \u001b[0;34m\"r\"\u001b[0m\u001b[0;34m)\u001b[0m\u001b[0;34m\u001b[0m\u001b[0;34m\u001b[0m\u001b[0m\n\u001b[1;32m      4\u001b[0m   \u001b[0mprint\u001b[0m\u001b[0;34m(\u001b[0m\u001b[0mfile\u001b[0m\u001b[0;34m.\u001b[0m\u001b[0mread\u001b[0m\u001b[0;34m(\u001b[0m\u001b[0;34m)\u001b[0m\u001b[0;34m)\u001b[0m\u001b[0;34m\u001b[0m\u001b[0;34m\u001b[0m\u001b[0m\n\u001b[1;32m      5\u001b[0m   \u001b[0mfile\u001b[0m\u001b[0;34m.\u001b[0m\u001b[0mclose\u001b[0m\u001b[0;34m(\u001b[0m\u001b[0;34m)\u001b[0m\u001b[0;34m\u001b[0m\u001b[0;34m\u001b[0m\u001b[0m\n",
            "\u001b[0;31mTypeError\u001b[0m: unsupported operand type(s) for +: 'int' and 'str'"
          ]
        }
      ]
    },
    {
      "cell_type": "code",
      "metadata": {
        "colab": {
          "base_uri": "https://localhost:8080/"
        },
        "id": "3TyWMUD9_-79",
        "outputId": "bfdef9cf-d3c0-4574-b33b-41f351c50575"
      },
      "source": [
        "try : \n",
        "  sonuc = \"4\" + \"5\"\n",
        "  print(\"Hello\")\n",
        "\n",
        "except TypeError :\n",
        "  print(\"Type hatası var. tipi kontrol etsen iyi olur.\")\n",
        "else :\n",
        "  print(\"aaa demek ki hata ykselmemiş. try içerisinde exception yok. süper\", sonuc)\n",
        "finally :\n",
        "  print(\"Eh nihayet bana sıra geldi. Önünda sonunda çalışırım arkadaş\")"
      ],
      "execution_count": null,
      "outputs": [
        {
          "output_type": "stream",
          "name": "stdout",
          "text": [
            "Hello\n",
            "aaa demek ki hata ykselmemiş. try içerisinde exception yok. süper 45\n",
            "Eh nihayet bana sıra geldi. Önünda sonunda çalışırım arkadaş\n"
          ]
        }
      ]
    },
    {
      "cell_type": "code",
      "metadata": {
        "colab": {
          "base_uri": "https://localhost:8080/"
        },
        "id": "CJZmZVNg__Cd",
        "outputId": "55c3f7db-481a-4ec7-e278-0db57cf08999"
      },
      "source": [
        "try : \n",
        "  print(\"hello universe\")\n",
        "  sonuc = \"4\" + \"5\"\n",
        "  print(\"Hello\")\n",
        "\n",
        "except TypeError :\n",
        "  print(\"Type hatası var. tipi kontrol etsen iyi olur.\")\n",
        "else :\n",
        "  print(\"aaa demek ki hata ykselmemiş. try içerisinde exception yok. süper\", sonuc)\n",
        "finally :\n",
        "  print(\"Eh nihayet bana sıra geldi. Önünda sonunda çalışırım arkadaş\")"
      ],
      "execution_count": null,
      "outputs": [
        {
          "output_type": "stream",
          "name": "stdout",
          "text": [
            "hello universe\n",
            "Hello\n",
            "aaa demek ki hata ykselmemiş. try içerisinde exception yok. süper 45\n",
            "Eh nihayet bana sıra geldi. Önünda sonunda çalışırım arkadaş\n"
          ]
        }
      ]
    },
    {
      "cell_type": "code",
      "metadata": {
        "colab": {
          "base_uri": "https://localhost:8080/"
        },
        "id": "6EdUvkm9cErD",
        "outputId": "82166940-5f9b-4fe8-cdc6-8417a854bb3b"
      },
      "source": [
        "try : \n",
        "  print(\"hello universe\")\n",
        "  sonuc = \"4\" + \"5\"\n",
        "  print(\"Hello\")\n",
        "\n",
        "except ValueError :\n",
        "  print(\"Type hatası var. tipi kontrol etsen iyi olur.\")\n",
        "else :\n",
        "  print(\"aaa demek ki hata ykselmemiş. try içerisinde exception yok. süper\", sonuc)\n",
        "finally :\n",
        "  print(\"Eh nihayet bana sıra geldi. Önünda sonunda çalışırım arkadaş\")"
      ],
      "execution_count": null,
      "outputs": [
        {
          "output_type": "stream",
          "name": "stdout",
          "text": [
            "hello universe\n",
            "Hello\n",
            "aaa demek ki hata ykselmemiş. try içerisinde exception yok. süper 45\n",
            "Eh nihayet bana sıra geldi. Önünda sonunda çalışırım arkadaş\n"
          ]
        }
      ]
    },
    {
      "cell_type": "code",
      "metadata": {
        "colab": {
          "base_uri": "https://localhost:8080/"
        },
        "id": "FM3FyRsGcEwi",
        "outputId": "809e968c-da24-48b5-fffe-d50e8dfc2afd"
      },
      "source": [
        "try : \n",
        "  print(\"hello universe\")\n",
        "  sonuc = \"4\" + \"5\"\n",
        "  print(\"Hello\")\n",
        "\n",
        "except :\n",
        "  print(\"Type hatası var. tipi kontrol etsen iyi olur.\")\n",
        "else :\n",
        "  print(\"aaa demek ki hata ykselmemiş. try içerisinde exception yok. süper\", sonuc)\n",
        "finally :\n",
        "  print(\"Eh nihayet bana sıra geldi. Önünda sonunda çalışırım arkadaş\")"
      ],
      "execution_count": null,
      "outputs": [
        {
          "output_type": "stream",
          "name": "stdout",
          "text": [
            "hello universe\n",
            "Hello\n",
            "aaa demek ki hata ykselmemiş. try içerisinde exception yok. süper 45\n",
            "Eh nihayet bana sıra geldi. Önünda sonunda çalışırım arkadaş\n"
          ]
        }
      ]
    },
    {
      "cell_type": "code",
      "metadata": {
        "colab": {
          "base_uri": "https://localhost:8080/"
        },
        "id": "pC0s2wKYcE3u",
        "outputId": "ce5a73fa-ed4d-4c40-de25-e1a338674760"
      },
      "source": [
        "try : \n",
        "  print(\"hello universe\")\n",
        "  sonuc = 4/4\n",
        "  print(\"Hello\")\n",
        "\n",
        "except ValueError :\n",
        "  print(\"ValueEror' e göre işlem yap. code yaz.\")\n",
        "except TypeError:\n",
        "  print(\"ValueEror' e göre işlem yap. code yaz.\")\n",
        "except ZeroDivisionError:\n",
        "  print(\"ValueEror' e göre işlem yap. code yaz.\")\n",
        "\n",
        "else :\n",
        "  print(\"aaa demek ki hata ykselmemiş. try içerisinde exception yok. süper\", sonuc)\n",
        "finally :\n",
        "  print(\"Eh nihayet bana sıra geldi. Önünda sonunda çalışırım arkadaş\")"
      ],
      "execution_count": null,
      "outputs": [
        {
          "output_type": "stream",
          "name": "stdout",
          "text": [
            "hello universe\n",
            "Hello\n",
            "aaa demek ki hata ykselmemiş. try içerisinde exception yok. süper 1.0\n",
            "Eh nihayet bana sıra geldi. Önünda sonunda çalışırım arkadaş\n"
          ]
        }
      ]
    },
    {
      "cell_type": "code",
      "metadata": {
        "colab": {
          "base_uri": "https://localhost:8080/"
        },
        "id": "Ufp6jLjjcE9_",
        "outputId": "834c36f7-5fff-4b21-f7a6-9d71c8644b0f"
      },
      "source": [
        "while True:\n",
        "    no_one = int(input(\"The first number please : \"))\n",
        "    no_two = int(input(\"The second number please : \"))\n",
        "    try:\n",
        "        division = no_one / no_two  # normal part of the program\n",
        "    except ZeroDivisionError:\n",
        "        print(\"You can't divide by zero! Try again.\")  # executes when division by zero\n",
        "    else:\n",
        "        print(\"The result of the division is : \", division)  # executes if there is no exception\n",
        "    finally:\n",
        "        print(\"Thanks for using our mini divison calculator! Come again!\")\n",
        "        break  # exits the while loop"
      ],
      "execution_count": null,
      "outputs": [
        {
          "output_type": "stream",
          "name": "stdout",
          "text": [
            "The first number please : 0\n",
            "The second number please : 0\n",
            "You can't divide by zero! Try again.\n",
            "Thanks for using our mini divison calculator! Come again!\n"
          ]
        }
      ]
    },
    {
      "cell_type": "code",
      "metadata": {
        "id": "vbnWhfGMcFDs",
        "colab": {
          "base_uri": "https://localhost:8080/"
        },
        "outputId": "04a0094f-9f9d-4a73-acda-ec0ab2b4a18d"
      },
      "source": [
        "while True:\n",
        "    no_one = int(input(\"The first number please : \"))\n",
        "    no_two = int(input(\"The second number please : \"))\n",
        "    try:\n",
        "        division = no_one / no_two\n",
        "        print(\"The result of the division is : \", division)\n",
        "        break\n",
        "    except Exception as e:\n",
        "        print(\"Something went wrong...Try again.\")\n",
        "        print(\"Probably it is because of '{}' error\".format(e))\n",
        "        break"
      ],
      "execution_count": null,
      "outputs": [
        {
          "output_type": "stream",
          "name": "stdout",
          "text": [
            "The first number please : 7\n",
            "The second number please : 5\n",
            "The result of the division is :  1.4\n"
          ]
        }
      ]
    },
    {
      "cell_type": "code",
      "metadata": {
        "id": "XZlvoKkR__Iu"
      },
      "source": [
        ""
      ],
      "execution_count": null,
      "outputs": []
    },
    {
      "cell_type": "markdown",
      "metadata": {
        "id": "0wbU0rbQWog9"
      },
      "source": [
        "# 09-12-2021 dersi"
      ]
    },
    {
      "cell_type": "code",
      "source": [
        "#  melekin çözümü\n",
        "command = [\"right 20\", \"right 30\", \"left 50\", \"up 10\", \"down 20\"]\n",
        "kordinat = [i.split() for i in command]\n",
        "x = y = 0\n",
        "\n",
        "for a in kordinat :\n",
        "  if a[0] == \"right\" : x+= int(a[1])\n",
        "  elif a[0] == \"left\" : x-= int(a[1])\n",
        "  elif a[0] == \"up\" : y+= int(a[1])\n",
        "  elif a[0] == \"down\" : y-= int(a[1])\n",
        "print([x,y])\n"
      ],
      "metadata": {
        "colab": {
          "base_uri": "https://localhost:8080/"
        },
        "id": "Twf5QjJ4YGOp",
        "outputId": "d8541728-b0fc-4a39-e4d0-6510c81cc60c"
      },
      "execution_count": null,
      "outputs": [
        {
          "output_type": "stream",
          "name": "stdout",
          "text": [
            "[0, -10]\n"
          ]
        }
      ]
    },
    {
      "cell_type": "code",
      "source": [
        "# hocanın çözümü\n",
        "\n",
        "command = [\"right 20\", \"right 30\", \"left 50\", \"up 10\", \"down 20\"]\n",
        "kordinat = [i.split() for i in command]\n",
        "x = y = 0\n",
        "\n",
        "command[-1]\n",
        "len(command)\n",
        "command[-1].split()\n",
        "\n",
        "for i in range(len(command)) :\n",
        "  if command[i].startswith(\"r\") : x = x + int(command[i].split()[1])\n",
        "  elif command[i].startswith(\"l\") : x = x - int(command[i].split()[1])\n",
        "  elif command[i].startswith(\"u\") : y = y + int(command[i].split()[1])\n",
        "  elif command[i].startswith(\"d\") : y = y - int(command[i].split()[1])\n",
        "[x, y]"
      ],
      "metadata": {
        "colab": {
          "base_uri": "https://localhost:8080/"
        },
        "id": "SySvrLkYYGTy",
        "outputId": "eb77bfb2-90c9-48a7-9731-e201bf6e6a19"
      },
      "execution_count": null,
      "outputs": [
        {
          "output_type": "execute_result",
          "data": {
            "text/plain": [
              "[0, -10]"
            ]
          },
          "metadata": {},
          "execution_count": 2
        }
      ]
    },
    {
      "cell_type": "code",
      "source": [
        "\"([{({})}])\""
      ],
      "metadata": {
        "colab": {
          "base_uri": "https://localhost:8080/",
          "height": 35
        },
        "id": "HeixoJyxYGar",
        "outputId": "b9bc0c5f-d795-4ebe-aac0-d49a634489ef"
      },
      "execution_count": null,
      "outputs": [
        {
          "output_type": "execute_result",
          "data": {
            "application/vnd.google.colaboratory.intrinsic+json": {
              "type": "string"
            },
            "text/plain": [
              "'([{({})}])'"
            ]
          },
          "metadata": {},
          "execution_count": 4
        }
      ]
    },
    {
      "cell_type": "code",
      "source": [
        "x = \"[([{({})}]({}))\"\n",
        "\"ali-deli-veli\".replace(\"-\", \"+\")"
      ],
      "metadata": {
        "colab": {
          "base_uri": "https://localhost:8080/",
          "height": 35
        },
        "id": "t9b_5zYmYGmW",
        "outputId": "db324d40-0f47-4105-d232-4067f182fa6b"
      },
      "execution_count": null,
      "outputs": [
        {
          "output_type": "execute_result",
          "data": {
            "application/vnd.google.colaboratory.intrinsic+json": {
              "type": "string"
            },
            "text/plain": [
              "'ali+deli+veli'"
            ]
          },
          "metadata": {},
          "execution_count": 5
        }
      ]
    },
    {
      "cell_type": "code",
      "source": [
        "\"ali-deli-veli\".replace(\"-\", \"\").replace(\"a\", \"\").replace(\"i\", \"\")"
      ],
      "metadata": {
        "colab": {
          "base_uri": "https://localhost:8080/",
          "height": 35
        },
        "id": "4CnycsynYGr0",
        "outputId": "08348e79-f509-4ab9-ce8b-64bb97f1f188"
      },
      "execution_count": null,
      "outputs": [
        {
          "output_type": "execute_result",
          "data": {
            "application/vnd.google.colaboratory.intrinsic+json": {
              "type": "string"
            },
            "text/plain": [
              "'ldelvel'"
            ]
          },
          "metadata": {},
          "execution_count": 7
        }
      ]
    },
    {
      "cell_type": "code",
      "source": [
        "def isValid(s) :\n",
        "  while \"()\" in s or \"[]\" in s or \"{}\" in s :\n",
        "    s = s.replace(\"()\", \"\").replace(\"[]\", \"\").replace(\"{}\", \"\")\n",
        "  return s == \"\""
      ],
      "metadata": {
        "id": "-pfjEVOBYGyU"
      },
      "execution_count": null,
      "outputs": []
    },
    {
      "cell_type": "code",
      "source": [
        "isValid(x)"
      ],
      "metadata": {
        "colab": {
          "base_uri": "https://localhost:8080/"
        },
        "id": "PLhV-H2-YHWH",
        "outputId": "7c2077d3-fd2e-4d67-a7de-524d89444462"
      },
      "execution_count": null,
      "outputs": [
        {
          "output_type": "execute_result",
          "data": {
            "text/plain": [
              "False"
            ]
          },
          "metadata": {},
          "execution_count": 9
        }
      ]
    },
    {
      "cell_type": "code",
      "source": [
        ""
      ],
      "metadata": {
        "id": "fpGJyqUFYHbs"
      },
      "execution_count": null,
      "outputs": []
    },
    {
      "cell_type": "code",
      "source": [
        "(lambda x, y : x + y) (4, 5)"
      ],
      "metadata": {
        "colab": {
          "base_uri": "https://localhost:8080/"
        },
        "id": "dQcuCaGbrUbp",
        "outputId": "e8dc1682-6b3f-4337-f52d-d08bee9f9c6d"
      },
      "execution_count": null,
      "outputs": [
        {
          "output_type": "execute_result",
          "data": {
            "text/plain": [
              "9"
            ]
          },
          "metadata": {},
          "execution_count": 16
        }
      ]
    },
    {
      "cell_type": "code",
      "source": [
        "bir_dikşinıri = {\"ne_diyorum\" : \"sesimi_duy\",\n",
        "                \"neden\" : [\"bilmiyorum\"]}\n",
        "bir_dikşinıri[\"neden\"]"
      ],
      "metadata": {
        "colab": {
          "base_uri": "https://localhost:8080/"
        },
        "id": "xK8Gx0hTrUhf",
        "outputId": "3820933a-3651-4560-c694-0ee2f6256908"
      },
      "execution_count": null,
      "outputs": [
        {
          "output_type": "execute_result",
          "data": {
            "text/plain": [
              "['bilmiyorum']"
            ]
          },
          "metadata": {},
          "execution_count": 13
        }
      ]
    },
    {
      "cell_type": "code",
      "source": [
        "(lambda x, y : x + y)"
      ],
      "metadata": {
        "colab": {
          "base_uri": "https://localhost:8080/"
        },
        "id": "xWRBpFkHsZPw",
        "outputId": "0f1d089e-dd90-4be5-dc29-21ee958c3794"
      },
      "execution_count": null,
      "outputs": [
        {
          "output_type": "execute_result",
          "data": {
            "text/plain": [
              "<function __main__.<lambda>>"
            ]
          },
          "metadata": {},
          "execution_count": 17
        }
      ]
    },
    {
      "cell_type": "code",
      "source": [
        "calculator = {\"+\" : (lambda x, y : x + y),\n",
        "              \"-\" : (lambda x, y : x - y),\n",
        "              \"*\" : (lambda x, y : x * y),\n",
        "              \"/\" : (lambda x, y : x / y)}"
      ],
      "metadata": {
        "id": "M_SofG7HrUnq"
      },
      "execution_count": null,
      "outputs": []
    },
    {
      "cell_type": "code",
      "source": [
        "calculator[\"+\"]"
      ],
      "metadata": {
        "colab": {
          "base_uri": "https://localhost:8080/"
        },
        "id": "dsk_PtQsrUuu",
        "outputId": "19834fbb-9011-491e-f560-29e42f99e39b"
      },
      "execution_count": null,
      "outputs": [
        {
          "output_type": "execute_result",
          "data": {
            "text/plain": [
              "<function __main__.<lambda>>"
            ]
          },
          "metadata": {},
          "execution_count": 20
        }
      ]
    },
    {
      "cell_type": "code",
      "source": [
        "calculator[\"+\"] (4,5)"
      ],
      "metadata": {
        "colab": {
          "base_uri": "https://localhost:8080/"
        },
        "id": "ve6Mkz-2YHi4",
        "outputId": "6a76ef3c-2433-4874-8407-c3c015f34db2"
      },
      "execution_count": null,
      "outputs": [
        {
          "output_type": "execute_result",
          "data": {
            "text/plain": [
              "9"
            ]
          },
          "metadata": {},
          "execution_count": 21
        }
      ]
    },
    {
      "cell_type": "code",
      "source": [
        "calculator[\"/\"] (20,2)"
      ],
      "metadata": {
        "colab": {
          "base_uri": "https://localhost:8080/"
        },
        "id": "iua3tyBlsnOu",
        "outputId": "70fea4d7-c2bd-414c-c9ff-3d776897fc37"
      },
      "execution_count": null,
      "outputs": [
        {
          "output_type": "execute_result",
          "data": {
            "text/plain": [
              "10.0"
            ]
          },
          "metadata": {},
          "execution_count": 28
        }
      ]
    },
    {
      "cell_type": "code",
      "source": [
        "import random"
      ],
      "metadata": {
        "id": "OdE1e6-lsnUY"
      },
      "execution_count": null,
      "outputs": []
    },
    {
      "cell_type": "code",
      "source": [
        "random.randint(10,30)"
      ],
      "metadata": {
        "colab": {
          "base_uri": "https://localhost:8080/"
        },
        "id": "3vzKPuKCsnZs",
        "outputId": "729d8700-c619-4194-fe5d-61623ce24e70"
      },
      "execution_count": null,
      "outputs": [
        {
          "output_type": "execute_result",
          "data": {
            "text/plain": [
              "12"
            ]
          },
          "metadata": {},
          "execution_count": 32
        }
      ]
    },
    {
      "cell_type": "code",
      "source": [
        "chr(111)"
      ],
      "metadata": {
        "colab": {
          "base_uri": "https://localhost:8080/",
          "height": 35
        },
        "id": "1b9Vj0Kasng0",
        "outputId": "8bfabb7f-4b4f-4c87-fac2-0581f2a70a33"
      },
      "execution_count": null,
      "outputs": [
        {
          "output_type": "execute_result",
          "data": {
            "application/vnd.google.colaboratory.intrinsic+json": {
              "type": "string"
            },
            "text/plain": [
              "'o'"
            ]
          },
          "metadata": {},
          "execution_count": 35
        }
      ]
    },
    {
      "cell_type": "code",
      "source": [
        "chr(random.randint(97,123)) # küçük harfler"
      ],
      "metadata": {
        "colab": {
          "base_uri": "https://localhost:8080/",
          "height": 35
        },
        "id": "nr53E5nEsnmD",
        "outputId": "e80505d4-4569-4c77-d4ed-b7a6b54a96c6"
      },
      "execution_count": null,
      "outputs": [
        {
          "output_type": "execute_result",
          "data": {
            "application/vnd.google.colaboratory.intrinsic+json": {
              "type": "string"
            },
            "text/plain": [
              "'a'"
            ]
          },
          "metadata": {},
          "execution_count": 36
        }
      ]
    },
    {
      "cell_type": "code",
      "source": [
        "chr(random.randint(48,57)) # sayılar"
      ],
      "metadata": {
        "colab": {
          "base_uri": "https://localhost:8080/",
          "height": 35
        },
        "id": "Fsq7Lb0Fsnw-",
        "outputId": "17282a54-981d-409f-93e2-6cf2e7fa5099"
      },
      "execution_count": null,
      "outputs": [
        {
          "output_type": "execute_result",
          "data": {
            "application/vnd.google.colaboratory.intrinsic+json": {
              "type": "string"
            },
            "text/plain": [
              "'2'"
            ]
          },
          "metadata": {},
          "execution_count": 39
        }
      ]
    },
    {
      "cell_type": "code",
      "source": [
        "chr(random.randint(65,90)) # büyük harfler"
      ],
      "metadata": {
        "colab": {
          "base_uri": "https://localhost:8080/",
          "height": 35
        },
        "id": "fsD_kB4Fsn2G",
        "outputId": "6bc16d10-e224-406e-c1ac-4fa8bb61e5be"
      },
      "execution_count": null,
      "outputs": [
        {
          "output_type": "execute_result",
          "data": {
            "application/vnd.google.colaboratory.intrinsic+json": {
              "type": "string"
            },
            "text/plain": [
              "'T'"
            ]
          },
          "metadata": {},
          "execution_count": 40
        }
      ]
    },
    {
      "cell_type": "code",
      "source": [
        "chr(random.randint(33,47)) # karakter"
      ],
      "metadata": {
        "colab": {
          "base_uri": "https://localhost:8080/",
          "height": 35
        },
        "id": "oczc635dsn83",
        "outputId": "66ef43d6-d32f-4066-a246-a0e9d4f03456"
      },
      "execution_count": null,
      "outputs": [
        {
          "output_type": "execute_result",
          "data": {
            "application/vnd.google.colaboratory.intrinsic+json": {
              "type": "string"
            },
            "text/plain": [
              "')'"
            ]
          },
          "metadata": {},
          "execution_count": 43
        }
      ]
    },
    {
      "cell_type": "code",
      "source": [
        "chr(random.randint(58,64)) # karakter"
      ],
      "metadata": {
        "colab": {
          "base_uri": "https://localhost:8080/",
          "height": 35
        },
        "id": "7erhGoeHzI-U",
        "outputId": "489af57f-6c32-4573-d6ec-8982529039b7"
      },
      "execution_count": null,
      "outputs": [
        {
          "output_type": "execute_result",
          "data": {
            "application/vnd.google.colaboratory.intrinsic+json": {
              "type": "string"
            },
            "text/plain": [
              "'>'"
            ]
          },
          "metadata": {},
          "execution_count": 44
        }
      ]
    },
    {
      "cell_type": "code",
      "source": [
        "uppers = [chr(random.randint(65, 90)) i for i in range(3)]\n",
        "uppers"
      ],
      "metadata": {
        "colab": {
          "base_uri": "https://localhost:8080/"
        },
        "id": "2oDaxoOhzJFw",
        "outputId": "d14c785d-d0c2-444b-fa75-73607991d997"
      },
      "execution_count": null,
      "outputs": [
        {
          "output_type": "execute_result",
          "data": {
            "text/plain": [
              "['U', 'G', 'I']"
            ]
          },
          "metadata": {},
          "execution_count": 47
        }
      ]
    },
    {
      "cell_type": "code",
      "source": [
        "lowers = [chr(random.randint(97, 122)) for i in range(3)]\n",
        "lowers"
      ],
      "metadata": {
        "colab": {
          "base_uri": "https://localhost:8080/"
        },
        "id": "sWKAi_DRzJMb",
        "outputId": "8e9fafb1-9812-4e31-9975-04ef93dbe4f6"
      },
      "execution_count": null,
      "outputs": [
        {
          "output_type": "execute_result",
          "data": {
            "text/plain": [
              "['f', 'f', 'q']"
            ]
          },
          "metadata": {},
          "execution_count": 50
        }
      ]
    },
    {
      "cell_type": "code",
      "source": [
        "numbers = [chr(random.randint(48, 57)) for i in range(3)]\n",
        "numbers"
      ],
      "metadata": {
        "colab": {
          "base_uri": "https://localhost:8080/"
        },
        "id": "BN2ngIL0zJSD",
        "outputId": "9169a2cc-7d65-40f5-9042-5b8731d864da"
      },
      "execution_count": null,
      "outputs": [
        {
          "output_type": "execute_result",
          "data": {
            "text/plain": [
              "['2', '9', '2']"
            ]
          },
          "metadata": {},
          "execution_count": 54
        }
      ]
    },
    {
      "cell_type": "code",
      "source": [
        "chars = chr(random.randint(33, 47)) + chr(random.randint(58, 64))\n",
        "chars"
      ],
      "metadata": {
        "colab": {
          "base_uri": "https://localhost:8080/",
          "height": 35
        },
        "id": "resRkF78zJsK",
        "outputId": "c180abe6-d86c-4284-a144-7a9856e6e45c"
      },
      "execution_count": null,
      "outputs": [
        {
          "output_type": "execute_result",
          "data": {
            "application/vnd.google.colaboratory.intrinsic+json": {
              "type": "string"
            },
            "text/plain": [
              "'&;'"
            ]
          },
          "metadata": {},
          "execution_count": 62
        }
      ]
    },
    {
      "cell_type": "code",
      "source": [
        "\"\".join(numbers)"
      ],
      "metadata": {
        "colab": {
          "base_uri": "https://localhost:8080/",
          "height": 35
        },
        "id": "DYv6Szf4zJ4A",
        "outputId": "7ea69c8d-0fbb-4145-dd86-376e31f9f60a"
      },
      "execution_count": null,
      "outputs": [
        {
          "output_type": "execute_result",
          "data": {
            "application/vnd.google.colaboratory.intrinsic+json": {
              "type": "string"
            },
            "text/plain": [
              "'292'"
            ]
          },
          "metadata": {},
          "execution_count": 58
        }
      ]
    },
    {
      "cell_type": "code",
      "source": [
        "passw = \"\".join(uppers) + \"\".join(lowers) + \"\".join(numbers) + \"\".join(chars)\n",
        "passw"
      ],
      "metadata": {
        "colab": {
          "base_uri": "https://localhost:8080/",
          "height": 35
        },
        "id": "uB8DiixK1xop",
        "outputId": "a611694b-fe45-4893-98a1-34d551d2b8c5"
      },
      "execution_count": null,
      "outputs": [
        {
          "output_type": "execute_result",
          "data": {
            "application/vnd.google.colaboratory.intrinsic+json": {
              "type": "string"
            },
            "text/plain": [
              "'UGIffq292&;'"
            ]
          },
          "metadata": {},
          "execution_count": 63
        }
      ]
    },
    {
      "cell_type": "code",
      "source": [
        "ornek = \"alivelideli\"\n",
        "ornek_list = list(ornek)\n",
        "random.shuffle(ornek_list) "
      ],
      "metadata": {
        "id": "ErM5JAz91xxP"
      },
      "execution_count": null,
      "outputs": []
    },
    {
      "cell_type": "code",
      "source": [
        "random.shuffle(ornek_list)\n",
        "\"\".join(ornek_list)"
      ],
      "metadata": {
        "colab": {
          "base_uri": "https://localhost:8080/",
          "height": 35
        },
        "id": "LHd-I07r2PhT",
        "outputId": "0806f220-b55c-46a6-b603-8985c5a0b378"
      },
      "execution_count": null,
      "outputs": [
        {
          "output_type": "execute_result",
          "data": {
            "application/vnd.google.colaboratory.intrinsic+json": {
              "type": "string"
            },
            "text/plain": [
              "'vleliidieal'"
            ]
          },
          "metadata": {},
          "execution_count": 81
        }
      ]
    },
    {
      "cell_type": "code",
      "source": [
        "def karıştır(password) :\n",
        "  templist = list(password)\n",
        "  random.shuffle(templist)\n",
        "  return \"\".join(templist)\n",
        "passw = karıştır(passw)\n",
        "passw"
      ],
      "metadata": {
        "colab": {
          "base_uri": "https://localhost:8080/",
          "height": 35
        },
        "id": "0bD6RzXy2Pa6",
        "outputId": "16aa081c-5095-4b06-f988-a4603d1c0694"
      },
      "execution_count": null,
      "outputs": [
        {
          "output_type": "execute_result",
          "data": {
            "application/vnd.google.colaboratory.intrinsic+json": {
              "type": "string"
            },
            "text/plain": [
              "'&Uf2fq9G;I2'"
            ]
          },
          "metadata": {},
          "execution_count": 78
        }
      ]
    },
    {
      "cell_type": "code",
      "source": [
        "def for_loop() : \n",
        "  result = []\n",
        "\n",
        "  for i in range(1000000) :\n",
        "    result.append(i)\n",
        "  return result"
      ],
      "metadata": {
        "id": "JdGNdDA_2PpJ"
      },
      "execution_count": null,
      "outputs": []
    },
    {
      "cell_type": "code",
      "source": [
        "def list_comp() :\n",
        "  return [i for i in range(1000000)]"
      ],
      "metadata": {
        "id": "AnzAxZcY2PwV"
      },
      "execution_count": null,
      "outputs": []
    },
    {
      "cell_type": "code",
      "source": [
        "size = 100  # tekrar sayısı\n",
        "\n",
        "time_for = timeit(for_loop, number = size)\n",
        "time_list_comp = timeit(list_comp, number = size)"
      ],
      "metadata": {
        "colab": {
          "base_uri": "https://localhost:8080/",
          "height": 225
        },
        "id": "BLVwCP6_soCN",
        "outputId": "2ec9a384-2639-4ca2-a804-e765d7c29af0"
      },
      "execution_count": null,
      "outputs": [
        {
          "output_type": "error",
          "ename": "NameError",
          "evalue": "ignored",
          "traceback": [
            "\u001b[0;31m---------------------------------------------------------------------------\u001b[0m",
            "\u001b[0;31mNameError\u001b[0m                                 Traceback (most recent call last)",
            "\u001b[0;32m<ipython-input-88-76980ea1e56a>\u001b[0m in \u001b[0;36m<module>\u001b[0;34m()\u001b[0m\n\u001b[1;32m      1\u001b[0m \u001b[0msize\u001b[0m \u001b[0;34m=\u001b[0m \u001b[0;36m100\u001b[0m  \u001b[0;31m# tekrar sayısı\u001b[0m\u001b[0;34m\u001b[0m\u001b[0;34m\u001b[0m\u001b[0m\n\u001b[1;32m      2\u001b[0m \u001b[0;34m\u001b[0m\u001b[0m\n\u001b[0;32m----> 3\u001b[0;31m \u001b[0mtime_for\u001b[0m \u001b[0;34m=\u001b[0m \u001b[0mtimeit\u001b[0m\u001b[0;34m(\u001b[0m\u001b[0mfor_loop\u001b[0m\u001b[0;34m,\u001b[0m \u001b[0mnumber\u001b[0m \u001b[0;34m=\u001b[0m \u001b[0msize\u001b[0m\u001b[0;34m)\u001b[0m\u001b[0;34m\u001b[0m\u001b[0;34m\u001b[0m\u001b[0m\n\u001b[0m\u001b[1;32m      4\u001b[0m \u001b[0mtime_list_comp\u001b[0m \u001b[0;34m=\u001b[0m \u001b[0mtimeit\u001b[0m\u001b[0;34m(\u001b[0m\u001b[0mlist_comp\u001b[0m\u001b[0;34m,\u001b[0m \u001b[0mnumber\u001b[0m \u001b[0;34m=\u001b[0m \u001b[0msize\u001b[0m\u001b[0;34m)\u001b[0m\u001b[0;34m\u001b[0m\u001b[0;34m\u001b[0m\u001b[0m\n",
            "\u001b[0;31mNameError\u001b[0m: name 'timeit' is not defined"
          ]
        }
      ]
    },
    {
      "cell_type": "code",
      "source": [
        "def for_loop():\n",
        "    \n",
        "    result = []\n",
        "    \n",
        "    for i in range(1000000) :\n",
        "        result.append(i)\n",
        "    return result\n",
        "# list comprehension ile\n",
        "def list_comp() :\n",
        "    return [i for i in range(1000000)]"
      ],
      "metadata": {
        "id": "SEBLFY2N7EXH"
      },
      "execution_count": null,
      "outputs": []
    },
    {
      "cell_type": "code",
      "source": [
        "print(f\"List Comp. is {round(time_for/time_list_comp, 2)} times faster than for loops.\")"
      ],
      "metadata": {
        "colab": {
          "base_uri": "https://localhost:8080/",
          "height": 171
        },
        "id": "3vqhtTUw7EhR",
        "outputId": "3a1ca0ed-beda-406f-aeac-fe6b544134cb"
      },
      "execution_count": null,
      "outputs": [
        {
          "output_type": "error",
          "ename": "NameError",
          "evalue": "ignored",
          "traceback": [
            "\u001b[0;31m---------------------------------------------------------------------------\u001b[0m",
            "\u001b[0;31mNameError\u001b[0m                                 Traceback (most recent call last)",
            "\u001b[0;32m<ipython-input-99-0f059a08b41b>\u001b[0m in \u001b[0;36m<module>\u001b[0;34m()\u001b[0m\n\u001b[0;32m----> 1\u001b[0;31m \u001b[0mprint\u001b[0m\u001b[0;34m(\u001b[0m\u001b[0;34mf\"List Comp. is {round(time_for/time_list_comp, 2)} times faster than for loops.\"\u001b[0m\u001b[0;34m)\u001b[0m\u001b[0;34m\u001b[0m\u001b[0;34m\u001b[0m\u001b[0m\n\u001b[0m",
            "\u001b[0;31mNameError\u001b[0m: name 'time_for' is not defined"
          ]
        }
      ]
    },
    {
      "cell_type": "code",
      "source": [
        ""
      ],
      "metadata": {
        "id": "8Gmd-JJ_7EpH"
      },
      "execution_count": null,
      "outputs": []
    },
    {
      "cell_type": "code",
      "source": [
        ""
      ],
      "metadata": {
        "id": "JqSbddxt7ExY"
      },
      "execution_count": null,
      "outputs": []
    },
    {
      "cell_type": "markdown",
      "metadata": {
        "id": "OjlWbDMTf1RD"
      },
      "source": [
        "# 13-12-2021 dersi"
      ]
    },
    {
      "cell_type": "code",
      "source": [
        "try:\n",
        "  x = 0/7\n",
        "except :\n",
        "  print(\"bir şeyler yanlış\")\n",
        "else :\n",
        "  print(\"doğru\")"
      ],
      "metadata": {
        "colab": {
          "base_uri": "https://localhost:8080/"
        },
        "id": "NpCHfd6rCDwa",
        "outputId": "870c9c6e-8afd-407f-ab84-6e4c9418553a"
      },
      "execution_count": null,
      "outputs": [
        {
          "output_type": "stream",
          "name": "stdout",
          "text": [
            "doğru\n"
          ]
        }
      ]
    },
    {
      "cell_type": "code",
      "source": [
        "try:\n",
        "  x = 2/0\n",
        "except ZeroDivisionError:\n",
        "    print(\"Attempt to divide by zero\")\n",
        "except:\n",
        "    print(\"Something else went wrong\")"
      ],
      "metadata": {
        "colab": {
          "base_uri": "https://localhost:8080/"
        },
        "id": "noYlkI3BCEAB",
        "outputId": "9c0e4d17-e6ca-4455-e982-602a6d21c310"
      },
      "execution_count": null,
      "outputs": [
        {
          "output_type": "stream",
          "name": "stdout",
          "text": [
            "attempt to divide by zero\n"
          ]
        }
      ]
    },
    {
      "cell_type": "code",
      "source": [
        "try:\n",
        "  x\n",
        "except ZeroDivisionError:\n",
        "    print(\"Attempt to divide by zero\")\n",
        "except:\n",
        "    print(\"Something else went wrong\")"
      ],
      "metadata": {
        "id": "rST9qiTuCEFM"
      },
      "execution_count": null,
      "outputs": []
    },
    {
      "cell_type": "code",
      "source": [
        "fruits = [\"banana\", \"mango\", \"pear\", \"apple\", \"kiwi\", \"grape\"]\n",
        "\n",
        "try:\n",
        "  int(\"on\")\n",
        "except ZeroDivisionError:\n",
        "    print(\"Attempt to divide by zero\")\n",
        "except NameError:\n",
        "    print(\"Act in accordance with name error\")\n",
        "except:\n",
        "    print(\"Something else went wrong\")"
      ],
      "metadata": {
        "colab": {
          "base_uri": "https://localhost:8080/"
        },
        "id": "1cRYm_W7CELs",
        "outputId": "07765009-7567-4316-cd20-041a451fa5a2"
      },
      "execution_count": null,
      "outputs": [
        {
          "output_type": "stream",
          "name": "stdout",
          "text": [
            "Something else went wrong\n"
          ]
        }
      ]
    },
    {
      "cell_type": "code",
      "source": [
        "fruits = [\"banana\", \"mango\", \"pear\", \"apple\", \"kiwi\", \"grape\"]\n",
        "while True :\n",
        "\n",
        "  try :\n",
        "    index = int(input(\"Pick an index number to choose your favorite fruit\"))\n",
        "    print(\"Your favorite fruit is\", fruits[index])\n",
        "    break\n",
        "\n",
        "  except IndexError :\n",
        "    print(\"There is no such an index. Try again!\")\n",
        "  except ValueError :\n",
        "    print(\"Yo should enter integer. Try again!\")"
      ],
      "metadata": {
        "colab": {
          "base_uri": "https://localhost:8080/"
        },
        "id": "JN8MxoeECERO",
        "outputId": "4d30d865-6a05-483a-e6a3-14e742a6ee2f"
      },
      "execution_count": null,
      "outputs": [
        {
          "output_type": "stream",
          "name": "stdout",
          "text": [
            "Pick an index number to choose your favorite fruit9\n",
            "There is no such an index. Try again!\n",
            "Pick an index number to choose your favorite fruit5\n",
            "Your favorite fruit is grape\n"
          ]
        }
      ]
    },
    {
      "cell_type": "code",
      "source": [
        "counter = 3\n",
        "while counter > 0 :\n",
        "  try :\n",
        "    index = int(input(\"picka an index number.\"))\n",
        "    print(\"Your favorite fruit is\", fruits[index])\n",
        "  except IndexError :\n",
        "    counter -= 1\n",
        "    print(f\"Index error. You have {counter} right left. Try again!\")\n",
        "  except ValueError :\n",
        "    counter -= 1\n",
        "    print(f\"Value error. You have {counter} right left. Try again!\")\n",
        "  else :\n",
        "    print(\"Confrats! You've entered valid input. \")\n",
        "    break\n",
        "  finally :\n",
        "    print(\"Our fruits are always fresh!\")\n",
        " "
      ],
      "metadata": {
        "colab": {
          "base_uri": "https://localhost:8080/",
          "height": 613
        },
        "id": "32MVd6RqCEWr",
        "outputId": "dbc6144b-f799-4559-84b2-e4487eeab5bc"
      },
      "execution_count": null,
      "outputs": [
        {
          "output_type": "stream",
          "name": "stdout",
          "text": [
            "Our fruits are always fresh!\n"
          ]
        },
        {
          "output_type": "error",
          "ename": "KeyboardInterrupt",
          "evalue": "ignored",
          "traceback": [
            "\u001b[0;31m---------------------------------------------------------------------------\u001b[0m",
            "\u001b[0;31mKeyboardInterrupt\u001b[0m                         Traceback (most recent call last)",
            "\u001b[0;32m/usr/local/lib/python3.7/dist-packages/ipykernel/kernelbase.py\u001b[0m in \u001b[0;36m_input_request\u001b[0;34m(self, prompt, ident, parent, password)\u001b[0m\n\u001b[1;32m    728\u001b[0m             \u001b[0;32mtry\u001b[0m\u001b[0;34m:\u001b[0m\u001b[0;34m\u001b[0m\u001b[0;34m\u001b[0m\u001b[0m\n\u001b[0;32m--> 729\u001b[0;31m                 \u001b[0mident\u001b[0m\u001b[0;34m,\u001b[0m \u001b[0mreply\u001b[0m \u001b[0;34m=\u001b[0m \u001b[0mself\u001b[0m\u001b[0;34m.\u001b[0m\u001b[0msession\u001b[0m\u001b[0;34m.\u001b[0m\u001b[0mrecv\u001b[0m\u001b[0;34m(\u001b[0m\u001b[0mself\u001b[0m\u001b[0;34m.\u001b[0m\u001b[0mstdin_socket\u001b[0m\u001b[0;34m,\u001b[0m \u001b[0;36m0\u001b[0m\u001b[0;34m)\u001b[0m\u001b[0;34m\u001b[0m\u001b[0;34m\u001b[0m\u001b[0m\n\u001b[0m\u001b[1;32m    730\u001b[0m             \u001b[0;32mexcept\u001b[0m \u001b[0mException\u001b[0m\u001b[0;34m:\u001b[0m\u001b[0;34m\u001b[0m\u001b[0;34m\u001b[0m\u001b[0m\n",
            "\u001b[0;32m/usr/local/lib/python3.7/dist-packages/jupyter_client/session.py\u001b[0m in \u001b[0;36mrecv\u001b[0;34m(self, socket, mode, content, copy)\u001b[0m\n\u001b[1;32m    802\u001b[0m         \u001b[0;32mtry\u001b[0m\u001b[0;34m:\u001b[0m\u001b[0;34m\u001b[0m\u001b[0;34m\u001b[0m\u001b[0m\n\u001b[0;32m--> 803\u001b[0;31m             \u001b[0mmsg_list\u001b[0m \u001b[0;34m=\u001b[0m \u001b[0msocket\u001b[0m\u001b[0;34m.\u001b[0m\u001b[0mrecv_multipart\u001b[0m\u001b[0;34m(\u001b[0m\u001b[0mmode\u001b[0m\u001b[0;34m,\u001b[0m \u001b[0mcopy\u001b[0m\u001b[0;34m=\u001b[0m\u001b[0mcopy\u001b[0m\u001b[0;34m)\u001b[0m\u001b[0;34m\u001b[0m\u001b[0;34m\u001b[0m\u001b[0m\n\u001b[0m\u001b[1;32m    804\u001b[0m         \u001b[0;32mexcept\u001b[0m \u001b[0mzmq\u001b[0m\u001b[0;34m.\u001b[0m\u001b[0mZMQError\u001b[0m \u001b[0;32mas\u001b[0m \u001b[0me\u001b[0m\u001b[0;34m:\u001b[0m\u001b[0;34m\u001b[0m\u001b[0;34m\u001b[0m\u001b[0m\n",
            "\u001b[0;32m/usr/local/lib/python3.7/dist-packages/zmq/sugar/socket.py\u001b[0m in \u001b[0;36mrecv_multipart\u001b[0;34m(self, flags, copy, track)\u001b[0m\n\u001b[1;32m    624\u001b[0m         \"\"\"\n\u001b[0;32m--> 625\u001b[0;31m         \u001b[0mparts\u001b[0m \u001b[0;34m=\u001b[0m \u001b[0;34m[\u001b[0m\u001b[0mself\u001b[0m\u001b[0;34m.\u001b[0m\u001b[0mrecv\u001b[0m\u001b[0;34m(\u001b[0m\u001b[0mflags\u001b[0m\u001b[0;34m,\u001b[0m \u001b[0mcopy\u001b[0m\u001b[0;34m=\u001b[0m\u001b[0mcopy\u001b[0m\u001b[0;34m,\u001b[0m \u001b[0mtrack\u001b[0m\u001b[0;34m=\u001b[0m\u001b[0mtrack\u001b[0m\u001b[0;34m)\u001b[0m\u001b[0;34m]\u001b[0m\u001b[0;34m\u001b[0m\u001b[0;34m\u001b[0m\u001b[0m\n\u001b[0m\u001b[1;32m    626\u001b[0m         \u001b[0;31m# have first part already, only loop while more to receive\u001b[0m\u001b[0;34m\u001b[0m\u001b[0;34m\u001b[0m\u001b[0;34m\u001b[0m\u001b[0m\n",
            "\u001b[0;32mzmq/backend/cython/socket.pyx\u001b[0m in \u001b[0;36mzmq.backend.cython.socket.Socket.recv\u001b[0;34m()\u001b[0m\n",
            "\u001b[0;32mzmq/backend/cython/socket.pyx\u001b[0m in \u001b[0;36mzmq.backend.cython.socket.Socket.recv\u001b[0;34m()\u001b[0m\n",
            "\u001b[0;32mzmq/backend/cython/socket.pyx\u001b[0m in \u001b[0;36mzmq.backend.cython.socket._recv_copy\u001b[0;34m()\u001b[0m\n",
            "\u001b[0;32m/usr/local/lib/python3.7/dist-packages/zmq/backend/cython/checkrc.pxd\u001b[0m in \u001b[0;36mzmq.backend.cython.checkrc._check_rc\u001b[0;34m()\u001b[0m\n",
            "\u001b[0;31mKeyboardInterrupt\u001b[0m: ",
            "\nDuring handling of the above exception, another exception occurred:\n",
            "\u001b[0;31mKeyboardInterrupt\u001b[0m                         Traceback (most recent call last)",
            "\u001b[0;32m<ipython-input-24-20647dd51dfe>\u001b[0m in \u001b[0;36m<module>\u001b[0;34m()\u001b[0m\n\u001b[1;32m      2\u001b[0m \u001b[0;32mwhile\u001b[0m \u001b[0mcounter\u001b[0m \u001b[0;34m>\u001b[0m \u001b[0;36m0\u001b[0m \u001b[0;34m:\u001b[0m\u001b[0;34m\u001b[0m\u001b[0;34m\u001b[0m\u001b[0m\n\u001b[1;32m      3\u001b[0m   \u001b[0;32mtry\u001b[0m \u001b[0;34m:\u001b[0m\u001b[0;34m\u001b[0m\u001b[0;34m\u001b[0m\u001b[0m\n\u001b[0;32m----> 4\u001b[0;31m     \u001b[0mindex\u001b[0m \u001b[0;34m=\u001b[0m \u001b[0mint\u001b[0m\u001b[0;34m(\u001b[0m\u001b[0minput\u001b[0m\u001b[0;34m(\u001b[0m\u001b[0;34m\"picka an index number.\"\u001b[0m\u001b[0;34m)\u001b[0m\u001b[0;34m)\u001b[0m\u001b[0;34m\u001b[0m\u001b[0;34m\u001b[0m\u001b[0m\n\u001b[0m\u001b[1;32m      5\u001b[0m     \u001b[0mprint\u001b[0m\u001b[0;34m(\u001b[0m\u001b[0;34m\"Your favorite fruit is\"\u001b[0m\u001b[0;34m,\u001b[0m \u001b[0mfruits\u001b[0m\u001b[0;34m[\u001b[0m\u001b[0mindex\u001b[0m\u001b[0;34m]\u001b[0m\u001b[0;34m)\u001b[0m\u001b[0;34m\u001b[0m\u001b[0;34m\u001b[0m\u001b[0m\n\u001b[1;32m      6\u001b[0m   \u001b[0;32mexcept\u001b[0m \u001b[0mIndexError\u001b[0m \u001b[0;34m:\u001b[0m\u001b[0;34m\u001b[0m\u001b[0;34m\u001b[0m\u001b[0m\n",
            "\u001b[0;32m/usr/local/lib/python3.7/dist-packages/ipykernel/kernelbase.py\u001b[0m in \u001b[0;36mraw_input\u001b[0;34m(self, prompt)\u001b[0m\n\u001b[1;32m    702\u001b[0m             \u001b[0mself\u001b[0m\u001b[0;34m.\u001b[0m\u001b[0m_parent_ident\u001b[0m\u001b[0;34m,\u001b[0m\u001b[0;34m\u001b[0m\u001b[0;34m\u001b[0m\u001b[0m\n\u001b[1;32m    703\u001b[0m             \u001b[0mself\u001b[0m\u001b[0;34m.\u001b[0m\u001b[0m_parent_header\u001b[0m\u001b[0;34m,\u001b[0m\u001b[0;34m\u001b[0m\u001b[0;34m\u001b[0m\u001b[0m\n\u001b[0;32m--> 704\u001b[0;31m             \u001b[0mpassword\u001b[0m\u001b[0;34m=\u001b[0m\u001b[0;32mFalse\u001b[0m\u001b[0;34m,\u001b[0m\u001b[0;34m\u001b[0m\u001b[0;34m\u001b[0m\u001b[0m\n\u001b[0m\u001b[1;32m    705\u001b[0m         )\n\u001b[1;32m    706\u001b[0m \u001b[0;34m\u001b[0m\u001b[0m\n",
            "\u001b[0;32m/usr/local/lib/python3.7/dist-packages/ipykernel/kernelbase.py\u001b[0m in \u001b[0;36m_input_request\u001b[0;34m(self, prompt, ident, parent, password)\u001b[0m\n\u001b[1;32m    732\u001b[0m             \u001b[0;32mexcept\u001b[0m \u001b[0mKeyboardInterrupt\u001b[0m\u001b[0;34m:\u001b[0m\u001b[0;34m\u001b[0m\u001b[0;34m\u001b[0m\u001b[0m\n\u001b[1;32m    733\u001b[0m                 \u001b[0;31m# re-raise KeyboardInterrupt, to truncate traceback\u001b[0m\u001b[0;34m\u001b[0m\u001b[0;34m\u001b[0m\u001b[0;34m\u001b[0m\u001b[0m\n\u001b[0;32m--> 734\u001b[0;31m                 \u001b[0;32mraise\u001b[0m \u001b[0mKeyboardInterrupt\u001b[0m\u001b[0;34m\u001b[0m\u001b[0;34m\u001b[0m\u001b[0m\n\u001b[0m\u001b[1;32m    735\u001b[0m             \u001b[0;32melse\u001b[0m\u001b[0;34m:\u001b[0m\u001b[0;34m\u001b[0m\u001b[0;34m\u001b[0m\u001b[0m\n\u001b[1;32m    736\u001b[0m                 \u001b[0;32mbreak\u001b[0m\u001b[0;34m\u001b[0m\u001b[0;34m\u001b[0m\u001b[0m\n",
            "\u001b[0;31mKeyboardInterrupt\u001b[0m: "
          ]
        }
      ]
    },
    {
      "cell_type": "code",
      "source": [
        "0 > 0"
      ],
      "metadata": {
        "colab": {
          "base_uri": "https://localhost:8080/"
        },
        "id": "2-BpSM7vCEcK",
        "outputId": "c214d631-a466-4288-8f38-598f71af54b8"
      },
      "execution_count": null,
      "outputs": [
        {
          "output_type": "execute_result",
          "data": {
            "text/plain": [
              "False"
            ]
          },
          "metadata": {},
          "execution_count": 25
        }
      ]
    },
    {
      "cell_type": "code",
      "source": [
        "word = {1: \"1\", 2 : \"2\"}\n",
        "word"
      ],
      "metadata": {
        "colab": {
          "base_uri": "https://localhost:8080/"
        },
        "id": "WSbTawyUCEhW",
        "outputId": "91b7ead4-7cda-4775-ebc8-4f711e407c2e"
      },
      "execution_count": null,
      "outputs": [
        {
          "output_type": "execute_result",
          "data": {
            "text/plain": [
              "{1: '1', 2: '2'}"
            ]
          },
          "metadata": {},
          "execution_count": 26
        }
      ]
    },
    {
      "cell_type": "code",
      "source": [
        "keys =  word.keys()\n",
        "keys"
      ],
      "metadata": {
        "colab": {
          "base_uri": "https://localhost:8080/"
        },
        "id": "tqb7_ZdfCEmZ",
        "outputId": "8458fba2-97ac-438d-bbbe-d895b7fcebb0"
      },
      "execution_count": null,
      "outputs": [
        {
          "output_type": "execute_result",
          "data": {
            "text/plain": [
              "dict_keys([1, 2])"
            ]
          },
          "metadata": {},
          "execution_count": 27
        }
      ]
    },
    {
      "cell_type": "code",
      "source": [
        "word_1 = {}"
      ],
      "metadata": {
        "id": "8Zzd2cDhaQFc"
      },
      "execution_count": null,
      "outputs": []
    },
    {
      "cell_type": "code",
      "source": [
        "word_1 [3] = 1"
      ],
      "metadata": {
        "id": "PhbYG6T5aQSI"
      },
      "execution_count": null,
      "outputs": []
    },
    {
      "cell_type": "code",
      "source": [
        "word_1"
      ],
      "metadata": {
        "colab": {
          "base_uri": "https://localhost:8080/"
        },
        "id": "dIzxs1MUaQX2",
        "outputId": "aae66e8c-c0cc-4076-d23f-4e7f80a052b5"
      },
      "execution_count": null,
      "outputs": [
        {
          "output_type": "execute_result",
          "data": {
            "text/plain": [
              "{3: 1}"
            ]
          },
          "metadata": {},
          "execution_count": 31
        }
      ]
    },
    {
      "cell_type": "code",
      "source": [
        "word_1[\"ali\"] = \"deli\""
      ],
      "metadata": {
        "id": "Svffq5E1as8n"
      },
      "execution_count": null,
      "outputs": []
    },
    {
      "cell_type": "code",
      "source": [
        "word_1"
      ],
      "metadata": {
        "colab": {
          "base_uri": "https://localhost:8080/"
        },
        "id": "k_YSJbzsatEJ",
        "outputId": "3c447d45-1aed-4c45-b3ce-d13dc4f43779"
      },
      "execution_count": null,
      "outputs": [
        {
          "output_type": "execute_result",
          "data": {
            "text/plain": [
              "{3: 1, 'ali': 'deli'}"
            ]
          },
          "metadata": {},
          "execution_count": 33
        }
      ]
    },
    {
      "cell_type": "code",
      "source": [
        "word_2 = word_1.copy()"
      ],
      "metadata": {
        "id": "8Ip2F670atJx"
      },
      "execution_count": null,
      "outputs": []
    },
    {
      "cell_type": "code",
      "source": [
        "word_2"
      ],
      "metadata": {
        "colab": {
          "base_uri": "https://localhost:8080/"
        },
        "id": "11Vw1TFlatQs",
        "outputId": "90f7e91d-1c63-4f4a-a410-777aea47a6dd"
      },
      "execution_count": null,
      "outputs": [
        {
          "output_type": "execute_result",
          "data": {
            "text/plain": [
              "{3: 1, 'ali': 'deli'}"
            ]
          },
          "metadata": {},
          "execution_count": 35
        }
      ]
    },
    {
      "cell_type": "code",
      "source": [
        "word_2[\"p\"] = 1\n",
        "word_2"
      ],
      "metadata": {
        "id": "aJkzzTTObwdt",
        "outputId": "9374cee4-ad66-4b6b-b505-b877a444fb92",
        "colab": {
          "base_uri": "https://localhost:8080/"
        }
      },
      "execution_count": null,
      "outputs": [
        {
          "output_type": "execute_result",
          "data": {
            "text/plain": [
              "{3: 1, 'ali': 'deli', 'p': 1}"
            ]
          },
          "metadata": {},
          "execution_count": 36
        }
      ]
    },
    {
      "cell_type": "code",
      "source": [
        "word_2[\"i\"] = 1\n",
        "word_2"
      ],
      "metadata": {
        "id": "Q8VrU4u6cEUM",
        "outputId": "15c4797c-e35d-4619-cf12-a58648c4963b",
        "colab": {
          "base_uri": "https://localhost:8080/"
        }
      },
      "execution_count": null,
      "outputs": [
        {
          "output_type": "execute_result",
          "data": {
            "text/plain": [
              "{3: 1, 'ali': 'deli', 'i': 1, 'p': 1}"
            ]
          },
          "metadata": {},
          "execution_count": 38
        }
      ]
    },
    {
      "cell_type": "code",
      "source": [
        "\"i\" in word_2"
      ],
      "metadata": {
        "id": "diKOBTjrbwjq",
        "outputId": "8bdf9834-d682-4b7a-8cc7-f84b137dd1ac",
        "colab": {
          "base_uri": "https://localhost:8080/"
        }
      },
      "execution_count": null,
      "outputs": [
        {
          "output_type": "execute_result",
          "data": {
            "text/plain": [
              "True"
            ]
          },
          "metadata": {},
          "execution_count": 39
        }
      ]
    },
    {
      "cell_type": "code",
      "source": [
        "word_2[\"p\"] = word_2[\"i\"] + 1\n",
        "word_2"
      ],
      "metadata": {
        "id": "-sFbp2wibwpp",
        "outputId": "2bb173f4-dc94-4bf2-d6e5-e28372759011",
        "colab": {
          "base_uri": "https://localhost:8080/"
        }
      },
      "execution_count": null,
      "outputs": [
        {
          "output_type": "execute_result",
          "data": {
            "text/plain": [
              "{3: 1, 'ali': 'deli', 'i': 1, 'p': 2}"
            ]
          },
          "metadata": {},
          "execution_count": 42
        }
      ]
    },
    {
      "cell_type": "code",
      "source": [
        "string = \"bugün hüzünlüyüm. Ayrılık yakın. 2 session sonra...\""
      ],
      "metadata": {
        "id": "bxZP77b7bwxU"
      },
      "execution_count": null,
      "outputs": []
    },
    {
      "cell_type": "code",
      "source": [
        "word_dict = {}"
      ],
      "metadata": {
        "id": "2XIIhaIOcnX5"
      },
      "execution_count": null,
      "outputs": []
    },
    {
      "cell_type": "code",
      "source": [
        "for n in string :\n",
        "  if n in word_dict :\n",
        "    word_dict[n] += 1\n",
        "  else :\n",
        "    word_dict[n] = 1\n",
        "print(word_dict)"
      ],
      "metadata": {
        "id": "KYf5KkpRcneC",
        "outputId": "5821caa1-5d57-44bf-86cf-d9732fb18176",
        "colab": {
          "base_uri": "https://localhost:8080/"
        }
      },
      "execution_count": null,
      "outputs": [
        {
          "output_type": "stream",
          "name": "stdout",
          "text": [
            "{'b': 1, 'u': 1, 'g': 1, 'ü': 5, 'n': 5, ' ': 6, 'h': 1, 'z': 1, 'l': 2, 'y': 3, 'm': 1, '.': 5, 'A': 1, 'r': 2, 'ı': 3, 'k': 2, 'a': 2, '2': 1, 's': 4, 'e': 1, 'i': 1, 'o': 2}\n"
          ]
        }
      ]
    },
    {
      "cell_type": "code",
      "source": [
        "veri = [\"a\", \"b\", True, (False, 1), {\"1\" : 2}, [1,2], {\"2\" : \"two\"}, {2, \"3\"}, \"c\", 23, 0]"
      ],
      "metadata": {
        "id": "J6XQ7Yntbw3B"
      },
      "execution_count": null,
      "outputs": []
    },
    {
      "cell_type": "code",
      "source": [
        "tipler = [\"int\", \"str\", \"bool\", \"list\", \"tuple\", \"dict\", \"set\"]"
      ],
      "metadata": {
        "id": "qTMOHi5Fbw9X"
      },
      "execution_count": null,
      "outputs": []
    },
    {
      "cell_type": "code",
      "source": [
        "{\"bool\": \", \"int\" : 2, \"list\" : 1, \"tuple\" : 1, \"str\" :3}"
      ],
      "metadata": {
        "id": "U8mCgUoZatWZ"
      },
      "execution_count": null,
      "outputs": []
    },
    {
      "cell_type": "code",
      "source": [
        "{}.fromkeys(tipler, 0)"
      ],
      "metadata": {
        "id": "PxZQw_7Segy5",
        "outputId": "655cc561-7e69-46cf-f179-43c488072cd5",
        "colab": {
          "base_uri": "https://localhost:8080/"
        }
      },
      "execution_count": null,
      "outputs": [
        {
          "output_type": "execute_result",
          "data": {
            "text/plain": [
              "{'bool': 0, 'dict': 0, 'int': 0, 'list': 0, 'set': 0, 'str': 0, 'tuple': 0}"
            ]
          },
          "metadata": {},
          "execution_count": 50
        }
      ]
    },
    {
      "cell_type": "code",
      "source": [
        "toplam = {}.fromkeys(tipler, 0)"
      ],
      "metadata": {
        "id": "yBmoFmwefbtA"
      },
      "execution_count": null,
      "outputs": []
    },
    {
      "cell_type": "code",
      "source": [
        "len(veri)"
      ],
      "metadata": {
        "id": "GGNowQKWfbys",
        "outputId": "a80c5f49-a2fb-4689-e0d9-13aaec941718",
        "colab": {
          "base_uri": "https://localhost:8080/"
        }
      },
      "execution_count": null,
      "outputs": [
        {
          "output_type": "execute_result",
          "data": {
            "text/plain": [
              "11"
            ]
          },
          "metadata": {},
          "execution_count": 52
        }
      ]
    },
    {
      "cell_type": "code",
      "source": [
        "type(veri[0])"
      ],
      "metadata": {
        "id": "zaHw4Pc7fzRt",
        "outputId": "42bac869-b0ec-4458-bd66-8a2f38b30239",
        "colab": {
          "base_uri": "https://localhost:8080/"
        }
      },
      "execution_count": null,
      "outputs": [
        {
          "output_type": "execute_result",
          "data": {
            "text/plain": [
              "str"
            ]
          },
          "metadata": {},
          "execution_count": 53
        }
      ]
    },
    {
      "cell_type": "code",
      "source": [
        "type(veri[5])"
      ],
      "metadata": {
        "id": "pnF_-dzVfzYB",
        "outputId": "abde1b98-5e4c-4b6b-cfe0-a4a34d3a1ebc",
        "colab": {
          "base_uri": "https://localhost:8080/"
        }
      },
      "execution_count": null,
      "outputs": [
        {
          "output_type": "execute_result",
          "data": {
            "text/plain": [
              "list"
            ]
          },
          "metadata": {},
          "execution_count": 54
        }
      ]
    },
    {
      "cell_type": "code",
      "source": [
        "type(veri[5]) == list"
      ],
      "metadata": {
        "id": "xwb4VqDGfzeW",
        "outputId": "48ed7abe-db6d-44c6-a962-c05f7efcdf8d",
        "colab": {
          "base_uri": "https://localhost:8080/"
        }
      },
      "execution_count": null,
      "outputs": [
        {
          "output_type": "execute_result",
          "data": {
            "text/plain": [
              "True"
            ]
          },
          "metadata": {},
          "execution_count": 55
        }
      ]
    },
    {
      "cell_type": "code",
      "source": [
        "type(veri[5]) == str"
      ],
      "metadata": {
        "id": "88DSjZrwfzl5",
        "outputId": "ffebb0dd-2486-4c8d-8cf1-ede7b9c177d3",
        "colab": {
          "base_uri": "https://localhost:8080/"
        }
      },
      "execution_count": null,
      "outputs": [
        {
          "output_type": "execute_result",
          "data": {
            "text/plain": [
              "False"
            ]
          },
          "metadata": {},
          "execution_count": 56
        }
      ]
    },
    {
      "cell_type": "code",
      "source": [
        "for i in range(len(veri)) :\n",
        "  if type(veri[i]) == int : toplam[\"int\"] +=1\n",
        "  elif type(veri[i]) == str : toplam[\"int\"] +=1\n",
        "  elif type(veri[i]) == bool : toplam[\"int\"] +=1\n",
        "  elif type(veri[i]) == list : toplam[\"int\"] +=1\n",
        "  elif type(veri[i]) == tuple : toplam[\"int\"] +=1\n",
        "  elif type(veri[i]) == dict : toplam[\"int\"] +=1\n",
        "  elif type(veri[i]) == set : toplam[\"int\"] +=1\n",
        "\n",
        "toplam"
      ],
      "metadata": {
        "id": "7uOv86blfztE",
        "outputId": "279ac40e-bf01-4359-b8c7-b17a6bb40b05",
        "colab": {
          "base_uri": "https://localhost:8080/"
        }
      },
      "execution_count": null,
      "outputs": [
        {
          "output_type": "execute_result",
          "data": {
            "text/plain": [
              "{'bool': 0, 'dict': 0, 'int': 33, 'list': 0, 'set': 0, 'str': 0, 'tuple': 0}"
            ]
          },
          "metadata": {},
          "execution_count": 59
        }
      ]
    },
    {
      "cell_type": "code",
      "source": [
        ""
      ],
      "metadata": {
        "id": "b6vpWLzCgUrz"
      },
      "execution_count": null,
      "outputs": []
    },
    {
      "cell_type": "code",
      "source": [
        ""
      ],
      "metadata": {
        "id": "SFi4vjfggUyT"
      },
      "execution_count": null,
      "outputs": []
    },
    {
      "cell_type": "code",
      "source": [
        ""
      ],
      "metadata": {
        "id": "dbjcbBuOgU_j"
      },
      "execution_count": null,
      "outputs": []
    },
    {
      "cell_type": "code",
      "source": [
        ""
      ],
      "metadata": {
        "id": "iEFcepIIeg6B"
      },
      "execution_count": null,
      "outputs": []
    },
    {
      "cell_type": "markdown",
      "source": [
        "# 16-12-2021 dersi"
      ],
      "metadata": {
        "id": "sXydcjEMpUFh"
      }
    },
    {
      "cell_type": "code",
      "source": [
        ""
      ],
      "metadata": {
        "id": "VXtDpO82iBs-"
      },
      "execution_count": null,
      "outputs": []
    },
    {
      "cell_type": "code",
      "source": [
        "file = open(\"fishes.txt\", \"r\")\n",
        "\n",
        "print(file.read(33))\n",
        "print(file.read(33))\n",
        "\n",
        "file.close()"
      ],
      "metadata": {
        "colab": {
          "base_uri": "https://localhost:8080/",
          "height": 244
        },
        "id": "TqVqXMa4iCBT",
        "outputId": "b943c24e-fcba-418c-eded-981dc9b4d32f"
      },
      "execution_count": null,
      "outputs": [
        {
          "output_type": "error",
          "ename": "FileNotFoundError",
          "evalue": "ignored",
          "traceback": [
            "\u001b[0;31m---------------------------------------------------------------------------\u001b[0m",
            "\u001b[0;31mFileNotFoundError\u001b[0m                         Traceback (most recent call last)",
            "\u001b[0;32m<ipython-input-1-fa858100f975>\u001b[0m in \u001b[0;36m<module>\u001b[0;34m()\u001b[0m\n\u001b[0;32m----> 1\u001b[0;31m \u001b[0mfile\u001b[0m \u001b[0;34m=\u001b[0m \u001b[0mopen\u001b[0m\u001b[0;34m(\u001b[0m\u001b[0;34m\"fishes.txt\"\u001b[0m\u001b[0;34m,\u001b[0m \u001b[0;34m\"r\"\u001b[0m\u001b[0;34m)\u001b[0m\u001b[0;34m\u001b[0m\u001b[0;34m\u001b[0m\u001b[0m\n\u001b[0m\u001b[1;32m      2\u001b[0m \u001b[0;34m\u001b[0m\u001b[0m\n\u001b[1;32m      3\u001b[0m \u001b[0mprint\u001b[0m\u001b[0;34m(\u001b[0m\u001b[0mfile\u001b[0m\u001b[0;34m.\u001b[0m\u001b[0mread\u001b[0m\u001b[0;34m(\u001b[0m\u001b[0;36m33\u001b[0m\u001b[0;34m)\u001b[0m\u001b[0;34m)\u001b[0m\u001b[0;34m\u001b[0m\u001b[0;34m\u001b[0m\u001b[0m\n\u001b[1;32m      4\u001b[0m \u001b[0mprint\u001b[0m\u001b[0;34m(\u001b[0m\u001b[0mfile\u001b[0m\u001b[0;34m.\u001b[0m\u001b[0mread\u001b[0m\u001b[0;34m(\u001b[0m\u001b[0;36m33\u001b[0m\u001b[0;34m)\u001b[0m\u001b[0;34m)\u001b[0m\u001b[0;34m\u001b[0m\u001b[0;34m\u001b[0m\u001b[0m\n\u001b[1;32m      5\u001b[0m \u001b[0;34m\u001b[0m\u001b[0m\n",
            "\u001b[0;31mFileNotFoundError\u001b[0m: [Errno 2] No such file or directory: 'fishes.txt'"
          ]
        }
      ]
    },
    {
      "cell_type": "code",
      "source": [
        "file = open(\"fishes.txt\", \"r\")\n",
        "\n",
        "print(file.read(33))  # read kodu metnin imlecin olduğu yerden sonraki 33 kelimeyi yazdırıryor print read ile.\n",
        "print(file.read(33))  \n",
        "print(file.tell())  # tell kodu ile imlecin yerini söylettik.\n",
        "file.seek(0)  # seek kodu ile imleci sıfırladık  en başa aldık yani.\n",
        "print(file.read(33))\n",
        "file.close()  # açık olan file dosyamızı close komutu ile kapattık.\n"
      ],
      "metadata": {
        "id": "ktgvi-UQiCGy"
      },
      "execution_count": null,
      "outputs": []
    },
    {
      "cell_type": "code",
      "source": [
        "rumi = open(\"rumi.txt\", \"r\", encoding=\"utf-8\")\n",
        "print(rumi.read(35))\n",
        "rumi.close()"
      ],
      "metadata": {
        "id": "rWodNpj6iCMJ"
      },
      "execution_count": null,
      "outputs": []
    },
    {
      "cell_type": "code",
      "source": [
        "rumi = open(\"rumi.txt\", \"r\", encoding=\"utf-8\")\n",
        "print(rumi.read(35))\n",
        "print(rumi.read(13))\n",
        "print(rumi.tell())\n",
        "\n",
        "rumi.seek(15)\n",
        "print(rumi.read(211))\n",
        "\n",
        "rumi.close()"
      ],
      "metadata": {
        "id": "mPjgvtEBiCR5"
      },
      "execution_count": null,
      "outputs": []
    },
    {
      "cell_type": "code",
      "source": [
        "#  readline mothodu\n",
        "\n"
      ],
      "metadata": {
        "id": "As_I3TtDiCYy"
      },
      "execution_count": null,
      "outputs": []
    },
    {
      "cell_type": "code",
      "source": [
        "sea = open(\"fishes.txt\", \"r\")\n",
        "\n"
      ],
      "metadata": {
        "id": "_i18jSywpGUi"
      },
      "execution_count": null,
      "outputs": []
    },
    {
      "cell_type": "code",
      "source": [
        "rumi = open(\"rumi.txt\", \"r\")\n",
        "\n",
        "print(rumi.readline())\n",
        "print(rumi.readline())\n",
        "print(rumi.readline(50))\n",
        "\n",
        "rumi.close()"
      ],
      "metadata": {
        "id": "gcPgk2MHpGb3"
      },
      "execution_count": null,
      "outputs": []
    },
    {
      "cell_type": "code",
      "source": [
        "sea = open(\"fishes.txt\", \"r\")\n",
        "\n",
        "print(sea.readlines())\n"
      ],
      "metadata": {
        "id": "LfA4L-lApGir"
      },
      "execution_count": null,
      "outputs": []
    },
    {
      "cell_type": "code",
      "source": [
        "with open(\"fishes.txt\", \"r\") as file :\n",
        "  fish = file.readlines()\n",
        "\n",
        "type(fish)"
      ],
      "metadata": {
        "id": "J6CCdUYkpGsE"
      },
      "execution_count": null,
      "outputs": []
    },
    {
      "cell_type": "code",
      "source": [
        "for line in file :\n",
        "\n"
      ],
      "metadata": {
        "id": "F_xyOD7XpGyo"
      },
      "execution_count": null,
      "outputs": []
    },
    {
      "cell_type": "code",
      "source": [
        "wiht open(\"rumi.txt\", \"r\") as file : \n",
        "rumi = file.readlines()"
      ],
      "metadata": {
        "id": "tcVUVEp0x_kh"
      },
      "execution_count": null,
      "outputs": []
    },
    {
      "cell_type": "code",
      "source": [
        "rumi"
      ],
      "metadata": {
        "id": "lqZd7tV9x_ru"
      },
      "execution_count": null,
      "outputs": []
    },
    {
      "cell_type": "code",
      "source": [
        "wiht open(\"rumi.txt\", \"r\") as file :\n",
        "  for line in file\n",
        "  \n"
      ],
      "metadata": {
        "id": "NOYigdOYx_xs"
      },
      "execution_count": null,
      "outputs": []
    },
    {
      "cell_type": "code",
      "source": [
        ""
      ],
      "metadata": {
        "id": "-f5lArS1x_5C"
      },
      "execution_count": null,
      "outputs": []
    },
    {
      "cell_type": "code",
      "source": [
        "with open(\"dummy_file.txt\", 'w', encoding=\"utf-8\") as file:  \n",
        "# we create and open the file\n",
        "\n",
        "    file.write('This is the first line of my text file')  \n",
        "    # writes str data into file\n",
        "\n",
        "with open(\"dummy_file.txt\", 'r', encoding=\"utf-8\") as file:\n",
        "    print(file.read())  # reads the content of the 'dummy_file'"
      ],
      "metadata": {
        "colab": {
          "base_uri": "https://localhost:8080/"
        },
        "id": "Pj7cd0Qsx__y",
        "outputId": "306abecb-237c-497c-fb84-2eb94418ecbb"
      },
      "execution_count": null,
      "outputs": [
        {
          "output_type": "stream",
          "name": "stdout",
          "text": [
            "This is the first line of my text file\n"
          ]
        }
      ]
    },
    {
      "cell_type": "code",
      "source": [
        "with open(\"dummy_file.txt\", 'w', encoding=\"utf-8\") as file:\n",
        "    file.write('This is the new line for my dummy_file')  \n",
        "    # we write new str data into it \n",
        "\n",
        "with open(\"dummy_file.txt\", 'r', encoding=\"utf-8\") as file:\n",
        "    print(file.read())  # reads the content of the 'dummy_file'"
      ],
      "metadata": {
        "colab": {
          "base_uri": "https://localhost:8080/"
        },
        "id": "GhiZSaspyAGe",
        "outputId": "0fa09c37-7944-4105-ac14-0d055c99d63e"
      },
      "execution_count": null,
      "outputs": [
        {
          "output_type": "stream",
          "name": "stdout",
          "text": [
            "This is the new line for my dummy_file\n"
          ]
        }
      ]
    },
    {
      "cell_type": "code",
      "source": [
        "with open(\"dummy_file.txt\", 'w', encoding=\"utf-8\") as file:\n",
        "    file.write('My first sentence')\n",
        "    file.write('My second sentence,')\n",
        "    file.write('My third sentence\\n')\n",
        "    file.write('My forth sentence')\n",
        "    file.write('My last sentence')\n",
        "with open(\"dummy_file.txt\", 'r', encoding=\"utf-8\") as file:\n",
        "    print(file.read())  # reads the content of the 'dummy_file'"
      ],
      "metadata": {
        "colab": {
          "base_uri": "https://localhost:8080/"
        },
        "id": "mFZAjZLi4UGU",
        "outputId": "71ed0275-c82f-4bb3-b5c4-0de861ea0fe8"
      },
      "execution_count": null,
      "outputs": [
        {
          "output_type": "stream",
          "name": "stdout",
          "text": [
            "My first sentenceMy second sentence,My third sentence\n",
            "My forth sentenceMy last sentence\n"
          ]
        }
      ]
    },
    {
      "cell_type": "code",
      "source": [
        "with open(\"fruits.txt\", \"w\", encoding=\"utf-8\") as dsyam :\n",
        "  for sepet in fruits :\n",
        "    dosyam.write(sepet)"
      ],
      "metadata": {
        "id": "xNPlJepX4UMy"
      },
      "execution_count": null,
      "outputs": []
    },
    {
      "cell_type": "code",
      "source": [
        ""
      ],
      "metadata": {
        "id": "-ThSdWSa4UVl"
      },
      "execution_count": null,
      "outputs": []
    },
    {
      "cell_type": "code",
      "source": [
        "with open(\"fruits2.txt\", \"w\", encoding = \"utf-8\") as ff :\n",
        "  ff.writelines(fruits2)"
      ],
      "metadata": {
        "id": "KftYhORxiCec"
      },
      "execution_count": null,
      "outputs": []
    },
    {
      "cell_type": "code",
      "source": [
        "with open(\"fruits2.txt\", \"r\", encoding = \"utf-8\") as ff :\n",
        "  ff.writelines(fruits2)"
      ],
      "metadata": {
        "id": "-w18h6lP7FBZ"
      },
      "execution_count": null,
      "outputs": []
    },
    {
      "cell_type": "code",
      "source": [
        "with open(\"fruits2.txt\", \"a\", encoding = \"utf-8\") as ff :\n",
        "  ff.writelines(fruits2)"
      ],
      "metadata": {
        "id": "j8KYskb57FH5"
      },
      "execution_count": null,
      "outputs": []
    },
    {
      "cell_type": "code",
      "source": [
        "fruits3 = fruits2 + [\"Lemon\"]\n",
        "fruits3"
      ],
      "metadata": {
        "id": "oSHhgOny7FU_"
      },
      "execution_count": null,
      "outputs": []
    },
    {
      "cell_type": "code",
      "source": [
        "with open(\"fruits3.txt\", \"w\", encoding = \"utf-8\") as ff :\n",
        "  ff.writelines(fruits2)\n",
        "\n",
        "with open(\"fruits3.txt\", \"r\", encoding = \"utf-8\") as ff :\n",
        "  ff.writelines(fruits2)"
      ],
      "metadata": {
        "id": "9KeBfkbi8RKk"
      },
      "execution_count": null,
      "outputs": []
    },
    {
      "cell_type": "code",
      "source": [
        "with open(\"fruits3.txt\", \"a\", encoding = \"utf-8\") as ff :\n",
        "  ff.writelines(fruits2)\n",
        "\n",
        "with open(\"fruits3.txt\", \"w\", encoding = \"utf-8\") as ff :\n",
        "  ff.writelines(fruits2)"
      ],
      "metadata": {
        "id": "Cn1OZGsb8RSm"
      },
      "execution_count": null,
      "outputs": []
    },
    {
      "cell_type": "code",
      "source": [
        ""
      ],
      "metadata": {
        "id": "SiOvi21Z8RYw"
      },
      "execution_count": null,
      "outputs": []
    },
    {
      "cell_type": "code",
      "source": [
        ""
      ],
      "metadata": {
        "id": "H3fTn3d87FfJ"
      },
      "execution_count": null,
      "outputs": []
    },
    {
      "cell_type": "markdown",
      "source": [
        "# 20-12-2021 dersi"
      ],
      "metadata": {
        "id": "9YGPE7rwtcIt"
      }
    },
    {
      "cell_type": "code",
      "source": [
        "no,fruit,amount\n",
        "1,Banana,4 lb\n",
        "2,Orange,5 lb\n",
        "3,Apple,2 lb\n",
        "4,Strawberry,6 lb\n",
        "5,Cherry,3 lb"
      ],
      "metadata": {
        "id": "RIBsgOdcCQto"
      },
      "execution_count": null,
      "outputs": []
    },
    {
      "cell_type": "code",
      "source": [
        "with open(\"istiklal.txt\", \"a\", encoding=\"utf-8\") as f :\n",
        "    \n",
        "    for i in lines_new :\n",
        "        \n",
        "        if i == \"\\n\" :\n",
        "            pass\n",
        "        else :\n",
        "            f.write(i)\n",
        "            \n",
        "with open(\"istiklal.txt\", \"r\", encoding=\"utf-8\") as f :\n",
        "    print(f.read())"
      ],
      "metadata": {
        "id": "84aJiEA8CQ8r"
      },
      "execution_count": null,
      "outputs": []
    },
    {
      "cell_type": "code",
      "source": [
        "import cvs  # loads cvs module"
      ],
      "metadata": {
        "id": "moE6yBmiCRDs"
      },
      "execution_count": null,
      "outputs": []
    },
    {
      "cell_type": "code",
      "source": [
        "with open(\"fruits.cvs\", \"r\", newline = \"\", encoding = \"utf-8\") as file:\n",
        "  csv_rows = cvs.reader(file)   # reader() function takes each\n",
        "                                # row (lines) into a list\n",
        "  for row in csV_rows:\n",
        "    print(row)"
      ],
      "metadata": {
        "id": "Gn5MBsSbCRI8"
      },
      "execution_count": null,
      "outputs": []
    },
    {
      "cell_type": "code",
      "source": [
        ""
      ],
      "metadata": {
        "id": "gTbKpfkwS9A9"
      },
      "execution_count": null,
      "outputs": []
    },
    {
      "cell_type": "code",
      "source": [
        "bayanlar = df[df[\"sex\" == \"female\"]]\n",
        "bayanlar"
      ],
      "metadata": {
        "id": "NHrYsUl8CRPw"
      },
      "execution_count": null,
      "outputs": []
    },
    {
      "cell_type": "code",
      "source": [
        ""
      ],
      "metadata": {
        "id": "y14zZvZhCRV8"
      },
      "execution_count": null,
      "outputs": []
    },
    {
      "cell_type": "code",
      "source": [
        ""
      ],
      "metadata": {
        "id": "6xfLDV8qCRa8"
      },
      "execution_count": null,
      "outputs": []
    },
    {
      "cell_type": "code",
      "source": [
        "# pythondan mail atma işlemi\n",
        "\n",
        "import smtplib"
      ],
      "metadata": {
        "id": "ptqRTLo4CRgv"
      },
      "execution_count": null,
      "outputs": []
    },
    {
      "cell_type": "code",
      "source": [
        "server = smtplib.SMTP(\"smtp.gmail.com\", 587)\n",
        "server.starttls()\n",
        "server.login(\"alierdogan38@gmail.com\", password)\n",
        "message = \"\\n This is my test mail from Joseph. \\n How are you? \"\n",
        "server.sendmail(\"meralsavur89@gmail.com\", \"mustafakoc8787@gmail.com\" message)\n",
        "server.quit()"
      ],
      "metadata": {
        "id": "KPCuFcavCRmP"
      },
      "execution_count": null,
      "outputs": []
    },
    {
      "cell_type": "code",
      "source": [
        ""
      ],
      "metadata": {
        "id": "30uzbo4tTB2Z"
      },
      "execution_count": null,
      "outputs": []
    },
    {
      "cell_type": "code",
      "source": [
        ""
      ],
      "metadata": {
        "id": "ziUvNeyPTB8G"
      },
      "execution_count": null,
      "outputs": []
    },
    {
      "cell_type": "code",
      "source": [
        ""
      ],
      "metadata": {
        "id": "OvgTuAVyTCCU"
      },
      "execution_count": null,
      "outputs": []
    },
    {
      "cell_type": "code",
      "source": [
        ""
      ],
      "metadata": {
        "id": "lm7QNfLCCRub"
      },
      "execution_count": null,
      "outputs": []
    },
    {
      "cell_type": "code",
      "source": [
        ""
      ],
      "metadata": {
        "id": "3KiSNYONCR6b"
      },
      "execution_count": null,
      "outputs": []
    },
    {
      "cell_type": "markdown",
      "metadata": {
        "id": "9YFrngXQWooH"
      },
      "source": [
        "# modül yükleme 02-12-2021"
      ]
    },
    {
      "cell_type": "code",
      "metadata": {
        "id": "XYLqR9qBN0Pi"
      },
      "source": [
        "from upper_package.my_package_1 import my_module_1"
      ],
      "execution_count": null,
      "outputs": []
    },
    {
      "cell_type": "code",
      "metadata": {
        "id": "raVw7yp9N06Z"
      },
      "source": [
        "from upper_package.my_package_1 import my_module_2"
      ],
      "execution_count": null,
      "outputs": []
    },
    {
      "cell_type": "code",
      "metadata": {
        "id": "fJ1OEv0KN1Y-"
      },
      "source": [
        "from upper_package.my_package_2 import my_module_3"
      ],
      "execution_count": null,
      "outputs": []
    },
    {
      "cell_type": "code",
      "metadata": {
        "id": "oWEVUn8ovx6u"
      },
      "source": [
        "from upper_package.my_package_2 import my_module_4"
      ],
      "execution_count": null,
      "outputs": []
    },
    {
      "cell_type": "code",
      "metadata": {
        "id": "m0DWQl29N8Kd"
      },
      "source": [
        "from upper_package.my_package_1.my_module_1 import multi"
      ],
      "execution_count": null,
      "outputs": []
    },
    {
      "cell_type": "code",
      "metadata": {
        "colab": {
          "base_uri": "https://localhost:8080/"
        },
        "id": "jAxZwvdGN8PZ",
        "outputId": "484d67cd-8824-4af8-f2c2-24ca5f89f993"
      },
      "source": [
        "dir(my_module_1)"
      ],
      "execution_count": null,
      "outputs": [
        {
          "output_type": "execute_result",
          "data": {
            "text/plain": [
              "['__builtins__',\n",
              " '__cached__',\n",
              " '__doc__',\n",
              " '__file__',\n",
              " '__loader__',\n",
              " '__name__',\n",
              " '__package__',\n",
              " '__spec__',\n",
              " 'addition',\n",
              " 'multi']"
            ]
          },
          "metadata": {},
          "execution_count": 66
        }
      ]
    },
    {
      "cell_type": "code",
      "metadata": {
        "colab": {
          "base_uri": "https://localhost:8080/"
        },
        "id": "_-hD-NZiOIK1",
        "outputId": "10c29399-8c45-473c-f6f6-d4e7146f87f6"
      },
      "source": [
        "multi(3,5)"
      ],
      "execution_count": null,
      "outputs": [
        {
          "output_type": "execute_result",
          "data": {
            "text/plain": [
              "15"
            ]
          },
          "metadata": {},
          "execution_count": 67
        }
      ]
    },
    {
      "cell_type": "markdown",
      "metadata": {
        "id": "f-Z43pKyjv0S"
      },
      "source": [
        "# PYTHON DERS ÇALIŞMA"
      ]
    },
    {
      "cell_type": "code",
      "metadata": {
        "colab": {
          "base_uri": "https://localhost:8080/"
        },
        "id": "NpQ0dOcYMKK9",
        "outputId": "b8c42109-2501-45a5-8788-dbba3b84ef9e"
      },
      "source": [
        "print('ali')\n",
        "print(\"ali\")\n",
        "print('''ali''')\n",
        "\n"
      ],
      "execution_count": null,
      "outputs": [
        {
          "output_type": "stream",
          "name": "stdout",
          "text": [
            "ali\n",
            "ali\n",
            "ali\n"
          ]
        }
      ]
    },
    {
      "cell_type": "code",
      "metadata": {
        "id": "HMkhbXnKMKgd",
        "colab": {
          "base_uri": "https://localhost:8080/"
        },
        "outputId": "de5f0e8a-9a44-40c2-e5cd-518dab586a80"
      },
      "source": [
        "print (3+8) # toplama işlemi"
      ],
      "execution_count": null,
      "outputs": [
        {
          "output_type": "stream",
          "name": "stdout",
          "text": [
            "11\n"
          ]
        }
      ]
    },
    {
      "cell_type": "code",
      "metadata": {
        "id": "AEwU7OqmMMV-",
        "colab": {
          "base_uri": "https://localhost:8080/"
        },
        "outputId": "4f8cb2e5-4905-4dd6-cd87-b77ca30e4ad4"
      },
      "source": [
        "print (\"Ali'nin arabası\")"
      ],
      "execution_count": null,
      "outputs": [
        {
          "output_type": "stream",
          "name": "stdout",
          "text": [
            "Ali'nin arabası\n"
          ]
        }
      ]
    },
    {
      "cell_type": "code",
      "metadata": {
        "colab": {
          "base_uri": "https://localhost:8080/"
        },
        "id": "l9ahw9uM6ZdI",
        "outputId": "42b47e49-5150-4add-e25c-9eac6e8e3f4a"
      },
      "source": [
        "print (39 + 1.0) # sum of an integer and float gives float"
      ],
      "execution_count": null,
      "outputs": [
        {
          "output_type": "stream",
          "name": "stdout",
          "text": [
            "40.0\n"
          ]
        }
      ]
    },
    {
      "cell_type": "code",
      "metadata": {
        "colab": {
          "base_uri": "https://localhost:8080/"
        },
        "id": "QQMIDSR96Zg4",
        "outputId": "cfa5d92b-03ac-4aa7-c2c7-6024ae2692e3"
      },
      "source": [
        "no1 = 46\n",
        "print(no1/23)  # division gives float"
      ],
      "execution_count": null,
      "outputs": [
        {
          "output_type": "stream",
          "name": "stdout",
          "text": [
            "2.0\n"
          ]
        }
      ]
    },
    {
      "cell_type": "code",
      "metadata": {
        "colab": {
          "base_uri": "https://localhost:8080/"
        },
        "id": "6JY8nfN06Zkk",
        "outputId": "919764c6-aab3-439f-8e6e-40687bcb059e"
      },
      "source": [
        "print ((3 * 4)/2)  # parantezler normal matematik işlemlerinde olduğu gibi kullanılır"
      ],
      "execution_count": null,
      "outputs": [
        {
          "output_type": "stream",
          "name": "stdout",
          "text": [
            "6.0\n"
          ]
        }
      ]
    },
    {
      "cell_type": "code",
      "metadata": {
        "colab": {
          "base_uri": "https://localhost:8080/"
        },
        "id": "yMtWquaB6Zn6",
        "outputId": "aa396cde-0fdf-4204-d0e7-1b4c7d3b38d2"
      },
      "source": [
        "print(7 // 2) # bölmenin tamsayı kısmını verir"
      ],
      "execution_count": null,
      "outputs": [
        {
          "output_type": "stream",
          "name": "stdout",
          "text": [
            "3\n"
          ]
        }
      ]
    },
    {
      "cell_type": "code",
      "metadata": {
        "colab": {
          "base_uri": "https://localhost:8080/"
        },
        "id": "4sjD0_Qp6ZrT",
        "outputId": "dbbd6335-4dc9-4123-fd7a-e8f90467c283"
      },
      "source": [
        "print (8%2)\n",
        "print (26%4)"
      ],
      "execution_count": null,
      "outputs": [
        {
          "output_type": "stream",
          "name": "stdout",
          "text": [
            "0\n",
            "2\n"
          ]
        }
      ]
    },
    {
      "cell_type": "code",
      "metadata": {
        "colab": {
          "base_uri": "https://localhost:8080/"
        },
        "id": "kp6GewSV6ZuU",
        "outputId": "88e4f94e-4f86-4817-c211-62ba4358352d"
      },
      "source": [
        "a = 81\n",
        "b = 0.50\n",
        "print (a**b)"
      ],
      "execution_count": null,
      "outputs": [
        {
          "output_type": "stream",
          "name": "stdout",
          "text": [
            "9.0\n"
          ]
        }
      ]
    },
    {
      "cell_type": "code",
      "metadata": {
        "colab": {
          "base_uri": "https://localhost:8080/"
        },
        "id": "kH4glK8Qg8g6",
        "outputId": "86636872-5e17-47d5-8acf-d7e86421880a"
      },
      "source": [
        " a=10\n",
        " b=2\n",
        " a*=b\n",
        " a"
      ],
      "execution_count": null,
      "outputs": [
        {
          "output_type": "execute_result",
          "data": {
            "text/plain": [
              "20"
            ]
          },
          "metadata": {},
          "execution_count": 38
        }
      ]
    },
    {
      "cell_type": "code",
      "metadata": {
        "colab": {
          "base_uri": "https://localhost:8080/"
        },
        "id": "W0tNRqzvg7Cy",
        "outputId": "29567133-7b30-48ee-bdd9-6b7493843401"
      },
      "source": [
        "a+=2\n",
        "a"
      ],
      "execution_count": null,
      "outputs": [
        {
          "output_type": "execute_result",
          "data": {
            "text/plain": [
              "24"
            ]
          },
          "metadata": {},
          "execution_count": 41
        }
      ]
    },
    {
      "cell_type": "code",
      "metadata": {
        "colab": {
          "base_uri": "https://localhost:8080/"
        },
        "id": "eUYxz9Qgg7js",
        "outputId": "9956ba8a-93e1-4e0e-ce04-7b8c0d65375b"
      },
      "source": [
        "a=(1+3)**(2**(1*2/2)/2)\n",
        "print(a)"
      ],
      "execution_count": null,
      "outputs": [
        {
          "output_type": "stream",
          "name": "stdout",
          "text": [
            "4.0\n"
          ]
        }
      ]
    },
    {
      "cell_type": "code",
      "metadata": {
        "colab": {
          "base_uri": "https://localhost:8080/"
        },
        "id": "p8LSPPC1g7nA",
        "outputId": "32da9efd-f82a-4a18-cc90-630e4184c34c"
      },
      "source": [
        "numara=2021\n",
        "text=\"bu yıl\"\n",
        "print (text,numara)"
      ],
      "execution_count": null,
      "outputs": [
        {
          "output_type": "stream",
          "name": "stdout",
          "text": [
            "bu yıl 2021\n"
          ]
        }
      ]
    },
    {
      "cell_type": "code",
      "metadata": {
        "colab": {
          "base_uri": "https://localhost:8080/"
        },
        "id": "Nh4mTzo-g7qQ",
        "outputId": "f02b4e88-6031-49a0-ac66-f8eaf5da4c64"
      },
      "source": [
        "print(\"Bunun sonucu (12+7) sum :\", 12 + 7)"
      ],
      "execution_count": null,
      "outputs": [
        {
          "output_type": "stream",
          "name": "stdout",
          "text": [
            "Bunun sonucu (12+7) sum : 19\n"
          ]
        }
      ]
    },
    {
      "cell_type": "code",
      "metadata": {
        "colab": {
          "base_uri": "https://localhost:8080/"
        },
        "id": "PQuvDmvqjs7U",
        "outputId": "92a1ca0c-d316-44ea-a950-3f0a7c305af7"
      },
      "source": [
        "print(\"Anne\", end=\" \")\n",
        "print(\"ben\", end=\" \")\n",
        "print(\"seni\", end=\" \")\n",
        "print(\"'çok özledim\")"
      ],
      "execution_count": null,
      "outputs": [
        {
          "output_type": "stream",
          "name": "stdout",
          "text": [
            "Anne ben seni 'çok özledim\n"
          ]
        }
      ]
    },
    {
      "cell_type": "code",
      "metadata": {
        "colab": {
          "base_uri": "https://localhost:8080/"
        },
        "id": "MhQTMjd0juIl",
        "outputId": "814e99fe-5d67-4668-f8d1-81a4794c74cd"
      },
      "source": [
        "print('smoking', 'is', 'slowly', 'killing me', sep=\" + \")"
      ],
      "execution_count": null,
      "outputs": [
        {
          "output_type": "stream",
          "name": "stdout",
          "text": [
            "smoking + is + slowly + killing me\n"
          ]
        }
      ]
    },
    {
      "cell_type": "code",
      "metadata": {
        "colab": {
          "base_uri": "https://localhost:8080/"
        },
        "id": "GKXMrJKkjuRF",
        "outputId": "a1e6b672-cc79-49f9-a90b-39335cdee078"
      },
      "source": [
        "print(\"ben\", \"ali\", \"merhaba\", sep=\" *** \")"
      ],
      "execution_count": null,
      "outputs": [
        {
          "output_type": "stream",
          "name": "stdout",
          "text": [
            "ben *** ali *** merhaba\n"
          ]
        }
      ]
    },
    {
      "cell_type": "code",
      "metadata": {
        "colab": {
          "base_uri": "https://localhost:8080/"
        },
        "id": "y_E3Thhojuf6",
        "outputId": "a8331c85-b681-4e74-bf43-f1f6e4c83b95"
      },
      "source": [
        "\n",
        "x = 5\n",
        "print (\"1. sayı x   : \", x )\n",
        "x+=2\n",
        "print(\"2. sayı x   : \",x,\"\\n\")"
      ],
      "execution_count": null,
      "outputs": [
        {
          "output_type": "stream",
          "name": "stdout",
          "text": [
            "1. sayı x   :  5\n",
            "2. sayı x   :  7 \n",
            "\n"
          ]
        }
      ]
    },
    {
      "cell_type": "code",
      "metadata": {
        "colab": {
          "base_uri": "https://localhost:8080/"
        },
        "id": "E6KITYlsjujq",
        "outputId": "1fc5e2d0-6f83-4c06-c2d0-613871093312"
      },
      "source": [
        "değişken=38\n",
        "değişken+=1\n",
        "değişken"
      ],
      "execution_count": null,
      "outputs": [
        {
          "output_type": "execute_result",
          "data": {
            "text/plain": [
              "39"
            ]
          },
          "metadata": {},
          "execution_count": 95
        }
      ]
    },
    {
      "cell_type": "code",
      "metadata": {
        "colab": {
          "base_uri": "https://localhost:8080/"
        },
        "id": "-nc0JSyvt6bC",
        "outputId": "c78013f3-1bc7-42db-f597-5791b911d0e5"
      },
      "source": [
        "print(\"merhaba\",\"\\n\" ,\"\\t\",\"ben\",\"ali\")"
      ],
      "execution_count": null,
      "outputs": [
        {
          "output_type": "stream",
          "name": "stdout",
          "text": [
            "merhaba \n",
            " \t ben ali\n"
          ]
        }
      ]
    },
    {
      "cell_type": "code",
      "metadata": {
        "colab": {
          "base_uri": "https://localhost:8080/"
        },
        "id": "EBRZufXGg7tY",
        "outputId": "331c5c98-5c2b-4766-fc51-97a2eaca4299"
      },
      "source": [
        "print('ahmet\\'in çantası')"
      ],
      "execution_count": null,
      "outputs": [
        {
          "output_type": "stream",
          "name": "stdout",
          "text": [
            "ahmet'in çantası\n"
          ]
        }
      ]
    },
    {
      "cell_type": "code",
      "metadata": {
        "colab": {
          "base_uri": "https://localhost:8080/"
        },
        "id": "w-zZRymrvse9",
        "outputId": "fb98230b-7ba9-4127-c0b7-c02ae79ce01f"
      },
      "source": [
        "meyve = \"muz\"\n",
        "sebze = \"marul\"\n",
        "print(meyve, '''ve''', sebze)"
      ],
      "execution_count": null,
      "outputs": [
        {
          "output_type": "stream",
          "name": "stdout",
          "text": [
            "muz ve marul\n"
          ]
        }
      ]
    },
    {
      "cell_type": "code",
      "metadata": {
        "id": "ijvpRQDBvsnh"
      },
      "source": [
        ""
      ],
      "execution_count": null,
      "outputs": []
    },
    {
      "cell_type": "code",
      "metadata": {
        "id": "9lkZMvhqvsvB"
      },
      "source": [
        ""
      ],
      "execution_count": null,
      "outputs": []
    },
    {
      "cell_type": "code",
      "metadata": {
        "id": "d99jghFWOEBH"
      },
      "source": [
        ""
      ],
      "execution_count": null,
      "outputs": []
    },
    {
      "cell_type": "markdown",
      "metadata": {
        "id": "CGSRXumPUrFo"
      },
      "source": [
        "# PYTHON - ÖDEV-1"
      ]
    },
    {
      "cell_type": "code",
      "metadata": {
        "id": "D-RVZ41qu_ws",
        "colab": {
          "base_uri": "https://localhost:8080/"
        },
        "outputId": "cf26affd-f300-4a73-d7d5-a208b7c7dc64"
      },
      "source": [
        "text = 'Clarusway,'\n",
        "print (text *3,'\\n\\t',text *3,'\\n','\\t'*2, text *3,'\\b\\n',sep='')"
      ],
      "execution_count": null,
      "outputs": [
        {
          "output_type": "stream",
          "name": "stdout",
          "text": [
            "Clarusway,Clarusway,Clarusway,\n",
            "\tClarusway,Clarusway,Clarusway,\n",
            "\t\tClarusway,Clarusway,Clarusway,\b\n",
            "\n"
          ]
        }
      ]
    },
    {
      "cell_type": "markdown",
      "metadata": {
        "id": "p1jQ3Nglm4dX"
      },
      "source": [
        "# PYTHON - ÖDEV-2"
      ]
    },
    {
      "cell_type": "code",
      "metadata": {
        "id": "wk9jrVJAbDz9"
      },
      "source": [
        "print (5,7);\n"
      ],
      "execution_count": null,
      "outputs": []
    },
    {
      "cell_type": "code",
      "metadata": {
        "id": "p52_QK9RYTYQ"
      },
      "source": [
        "print (1,2);"
      ],
      "execution_count": null,
      "outputs": []
    },
    {
      "cell_type": "code",
      "metadata": {
        "id": "Cf2bBT2fbAy6"
      },
      "source": [
        "print(\"hello world\");"
      ],
      "execution_count": null,
      "outputs": []
    },
    {
      "cell_type": "code",
      "metadata": {
        "id": "q7Nyv6dObSCP"
      },
      "source": [
        "e_mail = 'ali-erdogan@hotmail.com' # surrounded with single quotes\n",
        "print(e_mail)"
      ],
      "execution_count": null,
      "outputs": []
    },
    {
      "cell_type": "code",
      "metadata": {
        "id": "uWftlTr7W5ob"
      },
      "source": [
        "a=1332\n",
        "int'a'\n",
        "print(int(a))"
      ],
      "execution_count": null,
      "outputs": []
    },
    {
      "cell_type": "code",
      "metadata": {
        "id": "lZjvIzFcW8ue"
      },
      "source": [
        "tv_open = True  # it seems TV is on now"
      ],
      "execution_count": null,
      "outputs": []
    },
    {
      "cell_type": "code",
      "metadata": {
        "id": "tByfLf-mbadJ"
      },
      "source": [
        "x = 39 \n",
        "v = \"11\" \n",
        "y = \"2,5\" \n",
        "z = \"Ben_deyim\" \n",
        "\n",
        "print(x-int(v)) \n",
        "print(x-float(y)) \n",
        "print(z+str(x))"
      ],
      "execution_count": null,
      "outputs": []
    },
    {
      "cell_type": "code",
      "metadata": {
        "id": "joI9EBsWZRJP"
      },
      "source": [
        "example1 = 'bazen ne söylediğiniz nasıl söylediğinizden daha az önemlidir' \n",
        "print(type(example1))"
      ],
      "execution_count": null,
      "outputs": []
    },
    {
      "cell_type": "code",
      "metadata": {
        "id": "vgx17s63ZTMj"
      },
      "source": [
        "input : a = 10\n",
        "Output : a\n",
        "<class 'str'>\n",
        "print(type(str(a)))"
      ],
      "execution_count": null,
      "outputs": []
    },
    {
      "cell_type": "code",
      "metadata": {
        "id": "zgBDsjtGb62w"
      },
      "source": [
        "color = 'red' # str tipi değişken \n",
        "sezon = 'yaz' \n",
        "fiyat = 250 # int tipi değişken \n",
        "pi = 3.14 # kayan tip değişken \n",
        "color = 'blue' # Oluşturulan bir değişkene her zaman yeni bir değer atayabilirsiniz \n",
        "fiyat = 100 # değer 'fiyat' değiştirilir \n",
        "sezon = 'kış'   \n",
        "\n",
        "print(renk, fiyat, sezon, ay=', ')"
      ],
      "execution_count": null,
      "outputs": []
    },
    {
      "cell_type": "code",
      "metadata": {
        "id": "u3NkvxTcej6P"
      },
      "source": [
        "a=6\n",
        "b=2\n",
        "print(a+b)\n",
        "print(a**b)"
      ],
      "execution_count": null,
      "outputs": []
    },
    {
      "cell_type": "code",
      "metadata": {
        "id": "rLTBB47rgbux"
      },
      "source": [
        "first_num = input ('please enter a number')\n",
        "second_num = input ('please enter anether number')\n",
        "print(first_num+second_num)"
      ],
      "execution_count": null,
      "outputs": []
    },
    {
      "cell_type": "code",
      "metadata": {
        "id": "ZUNQrFyzjVwf"
      },
      "source": [
        "january=31 february=28"
      ],
      "execution_count": null,
      "outputs": []
    },
    {
      "cell_type": "code",
      "metadata": {
        "id": "mKV1QNGMdyGD"
      },
      "source": [
        "january=31 february=28\n",
        "print (january=31 february=28)"
      ],
      "execution_count": null,
      "outputs": []
    },
    {
      "cell_type": "code",
      "metadata": {
        "id": "dsuTvZQwsIvH"
      },
      "source": [
        "print('smoking', 'is', 'slowly', 'killing me')"
      ],
      "execution_count": null,
      "outputs": []
    },
    {
      "cell_type": "code",
      "metadata": {
        "id": "KLzs0Tu6shIp"
      },
      "source": [
        ""
      ],
      "execution_count": null,
      "outputs": []
    },
    {
      "cell_type": "code",
      "metadata": {
        "id": "D9juj-HLsjcT"
      },
      "source": [
        "x = 5\n",
        "print ('value of x       : ', x)"
      ],
      "execution_count": null,
      "outputs": []
    },
    {
      "cell_type": "code",
      "metadata": {
        "id": "CZK-8kKFshMN"
      },
      "source": [
        "x += 2\n",
        "print (\"2 more of x      : \", x, \"\\n\")"
      ],
      "execution_count": null,
      "outputs": []
    },
    {
      "cell_type": "code",
      "metadata": {
        "id": "9btbSgueshPl"
      },
      "source": [
        "y = 100\n",
        "print ('value of y       : ', y)\n",
        "\n",
        "y %= 2\n",
        "print (\"2 minus y        : \", y, \"\\n\")\n"
      ],
      "execution_count": null,
      "outputs": []
    },
    {
      "cell_type": "code",
      "metadata": {
        "id": "b7PqYSZytm2u"
      },
      "source": [
        "z = 6\n",
        "print ('value of z       : ', z)"
      ],
      "execution_count": null,
      "outputs": []
    },
    {
      "cell_type": "code",
      "metadata": {
        "id": "9dcGZZLLtm9j"
      },
      "source": [
        "10%3\n"
      ],
      "execution_count": null,
      "outputs": []
    },
    {
      "cell_type": "code",
      "metadata": {
        "id": "kTNe-tYmu_OH"
      },
      "source": [
        "a=3\n",
        "b=4\n",
        "c=(a**2+b**2)**(1/2)"
      ],
      "execution_count": null,
      "outputs": []
    },
    {
      "cell_type": "code",
      "metadata": {
        "id": "CtZRmVbtu_bY"
      },
      "source": [
        "print (\"ali\", end=\"\")\n",
        "print (\"veli\",\"ayşe\")"
      ],
      "execution_count": null,
      "outputs": []
    },
    {
      "cell_type": "code",
      "metadata": {
        "id": "5HVUVPAQu_WV",
        "colab": {
          "base_uri": "https://localhost:8080/",
          "height": 216
        },
        "outputId": "91d4495f-e156-4a2d-8c1f-1d35eb16cc90"
      },
      "source": [
        "print(c,\"ali\", sep=\" * \")"
      ],
      "execution_count": null,
      "outputs": [
        {
          "output_type": "error",
          "ename": "NameError",
          "evalue": "ignored",
          "traceback": [
            "\u001b[0;31m---------------------------------------------------------------------------\u001b[0m",
            "\u001b[0;31mNameError\u001b[0m                                 Traceback (most recent call last)",
            "\u001b[0;32m<ipython-input-1-411110abc221>\u001b[0m in \u001b[0;36m<module>\u001b[0;34m()\u001b[0m\n\u001b[0;32m----> 1\u001b[0;31m \u001b[0mprint\u001b[0m\u001b[0;34m(\u001b[0m\u001b[0mc\u001b[0m\u001b[0;34m,\u001b[0m\u001b[0;34m\"ali\"\u001b[0m\u001b[0;34m,\u001b[0m \u001b[0msep\u001b[0m\u001b[0;34m=\u001b[0m\u001b[0;34m\" * \"\u001b[0m\u001b[0;34m)\u001b[0m\u001b[0;34m\u001b[0m\u001b[0;34m\u001b[0m\u001b[0m\n\u001b[0m",
            "\u001b[0;31mNameError\u001b[0m: name 'c' is not defined"
          ]
        }
      ]
    },
    {
      "cell_type": "code",
      "metadata": {
        "id": "e7CmmDWZVRKg"
      },
      "source": [
        ""
      ],
      "execution_count": null,
      "outputs": []
    },
    {
      "cell_type": "code",
      "metadata": {
        "id": "sA6RwDUwu_fE"
      },
      "source": [
        "# ,,"
      ],
      "execution_count": null,
      "outputs": []
    },
    {
      "cell_type": "code",
      "metadata": {
        "id": "XDrePDt9u_mr",
        "colab": {
          "base_uri": "https://localhost:8080/",
          "height": 130
        },
        "outputId": "45bbf12a-e9fd-47ae-d888-db4bc3b55956"
      },
      "source": [
        "text = 'Clarusway, '\n",
        "print (text *3, end = '\\n','\\t', text *3, end = '\\n')"
      ],
      "execution_count": null,
      "outputs": [
        {
          "output_type": "error",
          "ename": "SyntaxError",
          "evalue": "ignored",
          "traceback": [
            "\u001b[0;36m  File \u001b[0;32m\"<ipython-input-39-aa3f560b53d1>\"\u001b[0;36m, line \u001b[0;32m2\u001b[0m\n\u001b[0;31m    print (text *3, end = '\\n','\\t', text *3, end = '\\n')\u001b[0m\n\u001b[0m                              ^\u001b[0m\n\u001b[0;31mSyntaxError\u001b[0m\u001b[0;31m:\u001b[0m positional argument follows keyword argument\n"
          ]
        }
      ]
    },
    {
      "cell_type": "markdown",
      "metadata": {
        "id": "i3BK0SJuGN7C"
      },
      "source": [
        "# PYTHON - ÖDEV-3\n"
      ]
    },
    {
      "cell_type": "markdown",
      "metadata": {
        "id": "BGnV86OnZiwc"
      },
      "source": [
        "# PYTHON - ÖDEV-4 covid-19 risk"
      ]
    },
    {
      "cell_type": "code",
      "metadata": {
        "id": "5nZgQs9TXLTD",
        "colab": {
          "base_uri": "https://localhost:8080/"
        },
        "outputId": "3c93d167-1e64-4245-d323-7fa1122e7ddb"
      },
      "source": [
        "# benim denemem\n",
        "sor = \"(Evet Or Hayır)\"\n",
        "# age = f'bool(input(\"75 yaşından büyük bir sigara bağımlısı mısınız ? =\").{sor})'\n",
        "\n",
        "age = f'(75 yaşından büyük bir sigara bağımlısı mısınız ? =).{sor})'\n",
        "\n",
        "chronic = bool(input(\"Herhangibir kroniik hastalığınız varmı ? =\"))\n",
        "immune = bool(input(\"Sizin bağışıklık sisteminiz çok zayıf mı?\"))\n",
        "risk = (age or chronic or immune)\n",
        "if risk == False:\n",
        "  print(\"Ölüm riskiniz var.\")\n",
        "else:\n",
        "  print(\"Ölüm riskiniz yok.\")"
      ],
      "execution_count": null,
      "outputs": [
        {
          "output_type": "stream",
          "name": "stdout",
          "text": [
            "Herhangibir kroniik hastalığınız varmı ? =E\n",
            "Sizin bağışıklık sisteminiz çok zayıf mı?E\n",
            "Ölüm riskiniz yok.\n"
          ]
        }
      ]
    },
    {
      "cell_type": "code",
      "metadata": {
        "id": "YyU86-5uXLO9"
      },
      "source": [
        "yaş = # yalnızca atanabilir Doğru/Yanlış kronik = # yalnızca atanabilir Doğru/Yanlış bağışık = # yalnızca atanabilir Doğru/Yanlış  \n",
        "\n",
        "\n",
        "risk = ? (Doğru ya da yanlış)"
      ],
      "execution_count": null,
      "outputs": []
    },
    {
      "cell_type": "code",
      "metadata": {
        "id": "WIPcpKz6oFe5",
        "colab": {
          "base_uri": "https://localhost:8080/"
        },
        "outputId": "66e3deec-2fb9-4f49-a713-740dcade9190"
      },
      "source": [
        "# hocanın cevabı\n",
        "age = True\n",
        "chronic = True\n",
        "immune = True\n",
        "\n",
        "risk = age or chronic or immune\n",
        "risk"
      ],
      "execution_count": null,
      "outputs": [
        {
          "output_type": "execute_result",
          "data": {
            "text/plain": [
              "True"
            ]
          },
          "metadata": {},
          "execution_count": 73
        }
      ]
    },
    {
      "cell_type": "code",
      "metadata": {
        "id": "4zoz83x1tnAp"
      },
      "source": [
        ""
      ],
      "execution_count": null,
      "outputs": []
    },
    {
      "cell_type": "markdown",
      "metadata": {
        "id": "CSBQdxddW_HW"
      },
      "source": [
        "\"# Yeni Bölüm"
      ]
    },
    {
      "cell_type": "markdown",
      "metadata": {
        "id": "s30O45waXAqN"
      },
      "source": [
        "# PYTHON - ÖDEV-5 _ 15-10-2021"
      ]
    },
    {
      "cell_type": "code",
      "metadata": {
        "colab": {
          "base_uri": "https://localhost:8080/"
        },
        "id": "Ay1v7vNkZzkl",
        "outputId": "a1271db3-e46b-4168-e866-94d350128230"
      },
      "source": [
        "numbers = [1, 3, 7, 4, 3, 0, 3, 6, 3]\n",
        "# say = len(numbers[::1])\n",
        "# say = len(numbers.find(3))\n",
        "print(numbers.count(3))\n"
      ],
      "execution_count": null,
      "outputs": [
        {
          "output_type": "stream",
          "name": "stdout",
          "text": [
            "4\n"
          ]
        }
      ]
    },
    {
      "cell_type": "code",
      "metadata": {
        "id": "AUK9fz0DZz2g"
      },
      "source": [
        ""
      ],
      "execution_count": null,
      "outputs": []
    },
    {
      "cell_type": "code",
      "metadata": {
        "id": "CJY4a103Zz6D"
      },
      "source": [
        "numbers = [1, 3, 7, 4, 3, 0, 3, 6, 3]\n",
        "\n",
        "numbers.sort()\n",
        "print(numbers)\n",
        "total1 = len(numbers)\n",
        "print(f'total_number: {total1}')\n",
        "\n",
        "numbers.remove(0)\n",
        "print(numbers)\n",
        "total2 = len(numbers)\n",
        "frequency0 = total1 - total2\n",
        "print(f'frequency 0: {frequency0}')\n",
        "\n",
        "numbers.remove(1)\n",
        "print(numbers)\n",
        "total3 = len(numbers)\n",
        "frequency1 = total2 - total3\n",
        "print(f'frequency 1: {frequency1}')\n",
        "\n",
        "numbers.remove(4)\n",
        "print(numbers)\n",
        "total4 = len(numbers)\n",
        "frequency4 = total3 - total4\n",
        "print(f'frequency 4: {frequency4}')\n",
        "\n",
        "numbers.remove(6)\n",
        "print(numbers)\n",
        "total5 = len(numbers)\n",
        "frequency6 = total4 - total5\n",
        "print(f'frequency 6: {frequency6}')\n",
        "\n",
        "numbers.remove(7)\n",
        "print(numbers)\n",
        "total6 = len(numbers)\n",
        "frequency7 = total5 - total6\n",
        "print(f'frequency 7: {frequency7}')\n",
        "\n",
        "print(numbers)\n",
        "total7 = len(numbers)\n",
        "frequency3 = total7\n",
        "print(f'frequency 3: {frequency3}')\n",
        "\n",
        "print(f'the most frequent number is 3 and it was {frequency3} times repeated')"
      ],
      "execution_count": null,
      "outputs": []
    },
    {
      "cell_type": "code",
      "metadata": {
        "id": "kRbg6nIAZz-e"
      },
      "source": [
        ""
      ],
      "execution_count": null,
      "outputs": []
    },
    {
      "cell_type": "code",
      "metadata": {
        "colab": {
          "base_uri": "https://localhost:8080/"
        },
        "id": "ox9gRdZ9_5F3",
        "outputId": "c21eac67-19f1-4cdb-b1d3-8c5ab55b94f0"
      },
      "source": [
        "ex = \"snox word\"\n",
        "print(ex[4:7])"
      ],
      "execution_count": null,
      "outputs": [
        {
          "output_type": "stream",
          "name": "stdout",
          "text": [
            " wo\n"
          ]
        }
      ]
    },
    {
      "cell_type": "code",
      "metadata": {
        "colab": {
          "base_uri": "https://localhost:8080/"
        },
        "id": "KSvxIGiR_5JV",
        "outputId": "8e7e2c93-a36b-4109-ac42-d58d5336c1a7"
      },
      "source": [
        "print(format(\"merhaba\", \"10s\"), end = \"#\")    #sola yasla ve 10 karaker yaz sonra # işaretini koy\n",
        "print(format(619, \"6d\"), end = \"*  \")     # sağa yasla ve sonuna * işaretini koy\n",
        "print(format(9728.7653, \"4.2f\"))    # verilen sayının . dan sonra 2 kareketirini al ve yuvarla"
      ],
      "execution_count": null,
      "outputs": [
        {
          "output_type": "stream",
          "name": "stdout",
          "text": [
            "merhaba   #   619*  9728.77\n"
          ]
        }
      ]
    },
    {
      "cell_type": "code",
      "metadata": {
        "colab": {
          "base_uri": "https://localhost:8080/"
        },
        "id": "RZVQ0xBKCwgI",
        "outputId": "5663890f-bf5c-4197-e58a-dcefc9b20494"
      },
      "source": [
        "print(\"xyyzxyyzxzxyy\".count(\"yy\",2))      # verilen karekterin 2. basamağından sonra kaç adet yy var ?\n",
        "print(\"xyyzxyyzxzxyy\".count(\"yy\",2,7))    # verilen karekterin 2. basamağı ile 7. basamağına kadar olan aralıkdan sonra kaç adet yy var ?"
      ],
      "execution_count": null,
      "outputs": [
        {
          "output_type": "stream",
          "name": "stdout",
          "text": [
            "1\n"
          ]
        }
      ]
    },
    {
      "cell_type": "code",
      "metadata": {
        "colab": {
          "base_uri": "https://localhost:8080/"
        },
        "id": "q3_EDQrLEjB-",
        "outputId": "b71ca6da-0791-47ce-e926-39fa10eb09cc"
      },
      "source": [
        "print(\"xyyzxyyzxzxyy\".endswith(\"yy\",0,2))"
      ],
      "execution_count": null,
      "outputs": [
        {
          "output_type": "stream",
          "name": "stdout",
          "text": [
            "False\n"
          ]
        }
      ]
    },
    {
      "cell_type": "code",
      "metadata": {
        "id": "eD5DzbvKEjHV"
      },
      "source": [
        ""
      ],
      "execution_count": null,
      "outputs": []
    },
    {
      "cell_type": "code",
      "metadata": {
        "id": "DgG9aISAEg5z"
      },
      "source": [
        ""
      ],
      "execution_count": null,
      "outputs": []
    },
    {
      "cell_type": "code",
      "metadata": {
        "id": "Wk0tpn8h5IoV"
      },
      "source": [
        ""
      ],
      "execution_count": null,
      "outputs": []
    },
    {
      "cell_type": "code",
      "metadata": {
        "id": "yb2wgLf06AF-"
      },
      "source": [
        ""
      ],
      "execution_count": null,
      "outputs": []
    },
    {
      "cell_type": "code",
      "metadata": {
        "id": "_Mh0VRf66AMr"
      },
      "source": [
        ""
      ],
      "execution_count": null,
      "outputs": []
    },
    {
      "cell_type": "markdown",
      "metadata": {
        "id": "PNDivT4Q6Fb7"
      },
      "source": [
        "# Yeni Bölüm"
      ]
    },
    {
      "cell_type": "code",
      "source": [
        ""
      ],
      "metadata": {
        "id": "0vJo0GEpV3LY"
      },
      "execution_count": null,
      "outputs": []
    },
    {
      "cell_type": "markdown",
      "metadata": {
        "id": "DvgYtI7cGeUo"
      },
      "source": [
        "# Deneme-2\n"
      ]
    },
    {
      "cell_type": "code",
      "metadata": {
        "id": "uNhk7v3IuTs2",
        "colab": {
          "base_uri": "https://localhost:8080/"
        },
        "outputId": "24b0b509-f884-41cf-a17a-307e14abcd68"
      },
      "source": [
        "cümle = \"özür dilemek bir erdemdir\" \n",
        "\n",
        "print(\"%.12s\" % cümle) # stringin ilk 11 karakterini alıyoruz"
      ],
      "execution_count": null,
      "outputs": [
        {
          "output_type": "stream",
          "name": "stdout",
          "text": [
            "özür dilemek\n"
          ]
        }
      ]
    },
    {
      "cell_type": "code",
      "metadata": {
        "colab": {
          "base_uri": "https://localhost:8080/"
        },
        "id": "_VtC6zUIuSMq",
        "outputId": "2ae33c2c-7294-43f5-f0aa-990cb2b55032"
      },
      "source": [
        "ad = input (\"adınızı yazınız :  \")\n",
        "print(\"merhaba '%5s' hoş geldin aramıza.\" %ad)"
      ],
      "execution_count": null,
      "outputs": [
        {
          "output_type": "stream",
          "name": "stdout",
          "text": [
            "adınızı yazınız :  i\n",
            "merhaba '    i' hoş geldin aramıza.\n"
          ]
        }
      ]
    },
    {
      "cell_type": "code",
      "metadata": {
        "colab": {
          "base_uri": "https://localhost:8080/"
        },
        "id": "uD6iKOWj2mMF",
        "outputId": "cdbccb22-7ebf-4769-e13f-e5e2ef9e786d"
      },
      "source": [
        "print(\"Şubat ayı bu yıl %d gün çekiyor\" %28)"
      ],
      "execution_count": null,
      "outputs": [
        {
          "output_type": "stream",
          "name": "stdout",
          "text": [
            "Şubat ayı bu yıl 28 gün çekiyor\n"
          ]
        }
      ]
    },
    {
      "cell_type": "code",
      "metadata": {
        "colab": {
          "base_uri": "https://localhost:8080/"
        },
        "id": "ZxvMChmI2mSN",
        "outputId": "6183d121-912b-48c7-d88d-728c2e6cd1d5"
      },
      "source": [
        "print(\"%7.5d\" %23)\n"
      ],
      "execution_count": null,
      "outputs": [
        {
          "output_type": "stream",
          "name": "stdout",
          "text": [
            "  00023\n"
          ]
        }
      ]
    },
    {
      "cell_type": "code",
      "metadata": {
        "colab": {
          "base_uri": "https://localhost:8080/"
        },
        "id": "OaBmJj2GXK9t",
        "outputId": "7cd2d66c-cb0e-47b2-c986-8190f6b94be5"
      },
      "source": [
        "word = 'clarusway'\n",
        "n = 3\n",
        "front = word[:3] \n",
        "back = word[n+1:]\n",
        "print(front + back)"
      ],
      "execution_count": null,
      "outputs": [
        {
          "output_type": "stream",
          "name": "stdout",
          "text": [
            "clausway\n"
          ]
        }
      ]
    },
    {
      "cell_type": "code",
      "metadata": {
        "colab": {
          "base_uri": "https://localhost:8080/",
          "height": 197
        },
        "id": "AUqY7DHdJgem",
        "outputId": "030803d7-758c-4398-8e14-bb094c9ec83a"
      },
      "source": [
        "int(input(x))\n",
        "Sayı (\"x:\")\n",
        "print ((x == 5) or (x == 6))\n"
      ],
      "execution_count": null,
      "outputs": [
        {
          "output_type": "error",
          "ename": "NameError",
          "evalue": "ignored",
          "traceback": [
            "\u001b[0;31m---------------------------------------------------------------------------\u001b[0m",
            "\u001b[0;31mNameError\u001b[0m                                 Traceback (most recent call last)",
            "\u001b[0;32m<ipython-input-3-368f2dcdb74d>\u001b[0m in \u001b[0;36m<module>\u001b[0;34m()\u001b[0m\n\u001b[0;32m----> 1\u001b[0;31m \u001b[0mint\u001b[0m\u001b[0;34m(\u001b[0m\u001b[0minput\u001b[0m\u001b[0;34m(\u001b[0m\u001b[0mx\u001b[0m\u001b[0;34m)\u001b[0m\u001b[0;34m)\u001b[0m\u001b[0;34m\u001b[0m\u001b[0;34m\u001b[0m\u001b[0m\n\u001b[0m\u001b[1;32m      2\u001b[0m \u001b[0mSayı\u001b[0m \u001b[0;34m(\u001b[0m\u001b[0;34m\"x:\"\u001b[0m\u001b[0;34m)\u001b[0m\u001b[0;34m\u001b[0m\u001b[0;34m\u001b[0m\u001b[0m\n\u001b[1;32m      3\u001b[0m \u001b[0mprint\u001b[0m \u001b[0;34m(\u001b[0m\u001b[0;34m(\u001b[0m\u001b[0mx\u001b[0m \u001b[0;34m==\u001b[0m \u001b[0;36m5\u001b[0m\u001b[0;34m)\u001b[0m \u001b[0;32mor\u001b[0m \u001b[0;34m(\u001b[0m\u001b[0mx\u001b[0m \u001b[0;34m==\u001b[0m \u001b[0;36m6\u001b[0m\u001b[0;34m)\u001b[0m\u001b[0;34m)\u001b[0m\u001b[0;34m\u001b[0m\u001b[0;34m\u001b[0m\u001b[0m\n",
            "\u001b[0;31mNameError\u001b[0m: name 'x' is not defined"
          ]
        }
      ]
    },
    {
      "cell_type": "code",
      "metadata": {
        "id": "KTLZ0dG5U3vz"
      },
      "source": [
        "from google.colab import drive\n",
        "drive.mount('/content/drive')"
      ],
      "execution_count": null,
      "outputs": []
    },
    {
      "cell_type": "code",
      "metadata": {
        "colab": {
          "base_uri": "https://localhost:8080/",
          "height": 129
        },
        "id": "6axoVRQg5MIk",
        "outputId": "2a0f56ca-c64a-4e6a-f444-0d086d52725c"
      },
      "source": [
        "Scanner scan = new Scanner(system.in  );\n",
        "System.out.printlt(\"Lütfen isminizi giriniz\")\n",
        "String isim = scan.next();\n",
        "\n",
        "System.out.println(\"İsmim : \" + isim);"
      ],
      "execution_count": null,
      "outputs": [
        {
          "output_type": "error",
          "ename": "SyntaxError",
          "evalue": "ignored",
          "traceback": [
            "\u001b[0;36m  File \u001b[0;32m\"<ipython-input-1-25e94f87cb6a>\"\u001b[0;36m, line \u001b[0;32m1\u001b[0m\n\u001b[0;31m    Scanner scan = new Scanner(system.in  );\u001b[0m\n\u001b[0m               ^\u001b[0m\n\u001b[0;31mSyntaxError\u001b[0m\u001b[0;31m:\u001b[0m invalid syntax\n"
          ]
        }
      ]
    },
    {
      "cell_type": "code",
      "metadata": {
        "id": "dMywOZP6pHR_"
      },
      "source": [
        ""
      ],
      "execution_count": null,
      "outputs": []
    },
    {
      "cell_type": "markdown",
      "metadata": {
        "id": "P2L1zA9wi_vD"
      },
      "source": [
        "# deneme"
      ]
    },
    {
      "cell_type": "code",
      "metadata": {
        "colab": {
          "base_uri": "https://localhost:8080/"
        },
        "id": "2El2VBj1mU6K",
        "outputId": "cdb34e7b-cc5a-4be3-f463-db86f40e10f7"
      },
      "source": [
        "a = 5\n",
        "b = 55.0\n",
        "c = 555\n",
        "# c = a\n",
        "# b = c\n",
        "# a = b\n",
        "\n",
        "print(type(a))\n",
        "print(a, b, c, sep='*- ')\n",
        "type(b)"
      ],
      "execution_count": null,
      "outputs": [
        {
          "output_type": "stream",
          "name": "stdout",
          "text": [
            "<class 'int'>\n",
            "5*- 55.0*- 555\n"
          ]
        },
        {
          "output_type": "execute_result",
          "data": {
            "text/plain": [
              "float"
            ]
          },
          "metadata": {},
          "execution_count": 11
        }
      ]
    },
    {
      "cell_type": "code",
      "metadata": {
        "id": "c_gQa7LMmU-n",
        "colab": {
          "base_uri": "https://localhost:8080/"
        },
        "outputId": "9461f3cd-8118-40e9-d040-352d55f76326"
      },
      "source": [
        "print('i', end=' ')\n",
        "print('will say', end=' ')\n",
        "print(\" 'i missed you' \", end='\\n ')\n",
        "print('to my mother')"
      ],
      "execution_count": null,
      "outputs": [
        {
          "output_type": "stream",
          "name": "stdout",
          "text": [
            "i will say  'i missed you' \n",
            " to my mother\n"
          ]
        }
      ]
    },
    {
      "cell_type": "code",
      "metadata": {
        "id": "UviUUziUmVB7",
        "colab": {
          "base_uri": "https://localhost:8080/",
          "height": 180
        },
        "outputId": "bd2a896a-0974-40b6-aee0-259d80f79b07"
      },
      "source": [
        "a != 5\n",
        "a"
      ],
      "execution_count": null,
      "outputs": [
        {
          "output_type": "error",
          "ename": "NameError",
          "evalue": "ignored",
          "traceback": [
            "\u001b[0;31m---------------------------------------------------------------------------\u001b[0m",
            "\u001b[0;31mNameError\u001b[0m                                 Traceback (most recent call last)",
            "\u001b[0;32m<ipython-input-11-e28095ff3327>\u001b[0m in \u001b[0;36m<module>\u001b[0;34m()\u001b[0m\n\u001b[0;32m----> 1\u001b[0;31m \u001b[0ma\u001b[0m \u001b[0;34m!=\u001b[0m \u001b[0;36m5\u001b[0m\u001b[0;34m\u001b[0m\u001b[0;34m\u001b[0m\u001b[0m\n\u001b[0m\u001b[1;32m      2\u001b[0m \u001b[0ma\u001b[0m\u001b[0;34m\u001b[0m\u001b[0;34m\u001b[0m\u001b[0m\n",
            "\u001b[0;31mNameError\u001b[0m: name 'a' is not defined"
          ]
        }
      ]
    },
    {
      "cell_type": "code",
      "metadata": {
        "colab": {
          "base_uri": "https://localhost:8080/"
        },
        "id": "G92X6FyhnQM6",
        "outputId": "51ce9e8e-c201-4a17-a1de-6c8eb960c06a"
      },
      "source": [
        "bölünen = int(input(\"Bir sayı girin: \"))\n",
        "bölen = int(input(\"Bir sayı daha girin: \"))\n",
        "\n",
        "şablon = \"{} sayısı {} sayısına tam\".format(bölünen, bölen)\n",
        "\n",
        "if bölünen % bölen == 0:\n",
        "    print(şablon, \"bölünüyor.\")\n",
        "else:\n",
        "    print(şablon, \"bölün müyor!\")"
      ],
      "execution_count": null,
      "outputs": [
        {
          "output_type": "stream",
          "name": "stdout",
          "text": [
            "Bir sayı girin: 8\n",
            "Bir sayı daha girin: 2\n",
            "8 sayısı 2 sayısına tam bölünüyor.\n"
          ]
        }
      ]
    },
    {
      "cell_type": "code",
      "metadata": {
        "colab": {
          "base_uri": "https://localhost:8080/"
        },
        "id": "PFTIjTFJr1n8",
        "outputId": "af848f2e-c54c-4dba-b0f2-3ae1f1a58720"
      },
      "source": [
        "giriş = len(input(\"Adın ne? \"))\n",
        "\n",
        "if giriş < 4:\n",
        "    print(\"Adın kısaymış.\")\n",
        "elif giriş < 6:\n",
        "    print(\"Adın biraz uzunmuş.\")\n",
        "else:\n",
        "    print(\"Çok uzun bir adın var.\")"
      ],
      "execution_count": null,
      "outputs": [
        {
          "output_type": "stream",
          "name": "stdout",
          "text": [
            "Adın ne? ali\n",
            "Adın kısaymış.\n"
          ]
        }
      ]
    },
    {
      "cell_type": "code",
      "metadata": {
        "colab": {
          "base_uri": "https://localhost:8080/",
          "height": 129
        },
        "id": "7SMwF87Or1s0",
        "outputId": "c1c6f455-8fd7-4ec0-c689-20af8f299aeb"
      },
      "source": [
        "if  giriş := len(input(\"Adın ne? \"))  < 4:\n",
        "    print(giriş)"
      ],
      "execution_count": null,
      "outputs": [
        {
          "output_type": "error",
          "ename": "SyntaxError",
          "evalue": "ignored",
          "traceback": [
            "\u001b[0;36m  File \u001b[0;32m\"<ipython-input-19-25106378d65f>\"\u001b[0;36m, line \u001b[0;32m1\u001b[0m\n\u001b[0;31m    if  giriş := len(input(\"Adın ne? \"))  < 4:\u001b[0m\n\u001b[0m               ^\u001b[0m\n\u001b[0;31mSyntaxError\u001b[0m\u001b[0;31m:\u001b[0m invalid syntax\n"
          ]
        }
      ]
    },
    {
      "cell_type": "code",
      "metadata": {
        "colab": {
          "base_uri": "https://localhost:8080/"
        },
        "id": "J9pZURCnxiqb",
        "outputId": "29795a3b-1d06-4253-f09a-00a48d03734e"
      },
      "source": [
        "print(\"\"\"Programa hoşgeldiniz!\n",
        "\n",
        "Programımızı kullanabilmek için en az\n",
        "13 yaşında olmalısınız.\"\"\")\n",
        "\n",
        "print(\"Lütfen yaşınızı girin.\\n\")\n",
        "\n",
        "yaş = input(\"Yaşınız kaçtır ?: \\t\")\n",
        "\n",
        "print(\"Yaşınız: \", yaş)"
      ],
      "execution_count": null,
      "outputs": [
        {
          "output_type": "stream",
          "name": "stdout",
          "text": [
            "Programa hoşgeldiniz!\n",
            "\n",
            "Programımızı kullanabilmek için en az\n",
            "13 yaşında olmalısınız.\n",
            "Lütfen yaşınızı girin.\n",
            "\n",
            "Yaşınız kaçtır ?: \t12\n",
            "Yaşınız:  12\n"
          ]
        }
      ]
    },
    {
      "cell_type": "code",
      "metadata": {
        "colab": {
          "base_uri": "https://localhost:8080/"
        },
        "id": "Am1EEx5fxivK",
        "outputId": "a1a513e7-f9bd-49af-8e5e-16a0d6ead909"
      },
      "source": [
        "x = 10\n",
        "\n",
        "x &= 3\n",
        "\n",
        "print(x)\n"
      ],
      "execution_count": null,
      "outputs": [
        {
          "output_type": "stream",
          "name": "stdout",
          "text": [
            "2\n"
          ]
        }
      ]
    },
    {
      "cell_type": "code",
      "metadata": {
        "id": "Lxzffq2QxiyM"
      },
      "source": [
        ""
      ],
      "execution_count": null,
      "outputs": []
    },
    {
      "cell_type": "code",
      "metadata": {
        "id": "qUI6CRybxi15",
        "colab": {
          "base_uri": "https://localhost:8080/"
        },
        "outputId": "30bd11cc-0967-4d03-961c-3d4e869c1597"
      },
      "source": [
        "slice = [1,3,8,6,2]\n",
        "slice.pop(2 or 3)\n"
      ],
      "execution_count": null,
      "outputs": [
        {
          "output_type": "execute_result",
          "data": {
            "text/plain": [
              "8"
            ]
          },
          "metadata": {},
          "execution_count": 28
        }
      ]
    },
    {
      "cell_type": "code",
      "metadata": {
        "id": "t0zn7jYIxi44",
        "colab": {
          "base_uri": "https://localhost:8080/",
          "height": 197
        },
        "outputId": "175f2416-74e2-4d88-8a48-fddf6d4d7c1a"
      },
      "source": [
        "number = 7536\n",
        "x = int(number)\n",
        "print((x[::-1]), sep=\" \")"
      ],
      "execution_count": null,
      "outputs": [
        {
          "output_type": "error",
          "ename": "TypeError",
          "evalue": "ignored",
          "traceback": [
            "\u001b[0;31m---------------------------------------------------------------------------\u001b[0m",
            "\u001b[0;31mTypeError\u001b[0m                                 Traceback (most recent call last)",
            "\u001b[0;32m<ipython-input-29-056421d59261>\u001b[0m in \u001b[0;36m<module>\u001b[0;34m()\u001b[0m\n\u001b[1;32m      1\u001b[0m \u001b[0mnumber\u001b[0m \u001b[0;34m=\u001b[0m \u001b[0;36m7536\u001b[0m\u001b[0;34m\u001b[0m\u001b[0;34m\u001b[0m\u001b[0m\n\u001b[1;32m      2\u001b[0m \u001b[0mx\u001b[0m \u001b[0;34m=\u001b[0m \u001b[0mint\u001b[0m\u001b[0;34m(\u001b[0m\u001b[0mnumber\u001b[0m\u001b[0;34m)\u001b[0m\u001b[0;34m\u001b[0m\u001b[0;34m\u001b[0m\u001b[0m\n\u001b[0;32m----> 3\u001b[0;31m \u001b[0mprint\u001b[0m\u001b[0;34m(\u001b[0m\u001b[0;34m(\u001b[0m\u001b[0mx\u001b[0m\u001b[0;34m[\u001b[0m\u001b[0;34m:\u001b[0m\u001b[0;34m:\u001b[0m\u001b[0;34m-\u001b[0m\u001b[0;36m1\u001b[0m\u001b[0;34m]\u001b[0m\u001b[0;34m)\u001b[0m\u001b[0;34m,\u001b[0m \u001b[0msep\u001b[0m\u001b[0;34m=\u001b[0m\u001b[0;34m\" \"\u001b[0m\u001b[0;34m)\u001b[0m\u001b[0;34m\u001b[0m\u001b[0;34m\u001b[0m\u001b[0m\n\u001b[0m",
            "\u001b[0;31mTypeError\u001b[0m: 'int' object is not subscriptable"
          ]
        }
      ]
    },
    {
      "cell_type": "code",
      "metadata": {
        "id": "RrwX-9X5babf"
      },
      "source": [
        "iterable = [1, 2, 3, 4]\n",
        "\n",
        "for i in iterable:\n",
        "  print(i**2)"
      ],
      "execution_count": null,
      "outputs": []
    },
    {
      "cell_type": "code",
      "metadata": {
        "id": "CHV9ppcn6khl"
      },
      "source": [
        ""
      ],
      "execution_count": null,
      "outputs": []
    },
    {
      "cell_type": "code",
      "metadata": {
        "id": "K1VswQlbbbAQ"
      },
      "source": [
        ""
      ],
      "execution_count": null,
      "outputs": []
    },
    {
      "cell_type": "code",
      "metadata": {
        "colab": {
          "base_uri": "https://localhost:8080/"
        },
        "id": "oUw7BiP8e4sC",
        "outputId": "08ea3781-baf9-4173-83f0-9217fc7cea4d"
      },
      "source": [
        "n = int(input('enter a number between 1-10_'))\n",
        "\n",
        "for i in range(1,11):\n",
        "    print('{}x{} = '.format(n, i), n*i)"
      ],
      "execution_count": null,
      "outputs": [
        {
          "output_type": "stream",
          "name": "stdout",
          "text": [
            "enter a number between 1-10_5\n",
            "5x1 =  5\n",
            "5x2 =  10\n",
            "5x3 =  15\n",
            "5x4 =  20\n",
            "5x5 =  25\n",
            "5x6 =  30\n",
            "5x7 =  35\n",
            "5x8 =  40\n",
            "5x9 =  45\n",
            "5x10 =  50\n"
          ]
        }
      ]
    },
    {
      "cell_type": "code",
      "metadata": {
        "id": "Yw3Q2E4K6lYm"
      },
      "source": [
        "n = int(input('1-10 arasında bir sayı girin')) \n",
        "print('%ix%n= '.%n)\n"
      ],
      "execution_count": null,
      "outputs": []
    },
    {
      "cell_type": "code",
      "metadata": {
        "id": "6lEvaug06llm"
      },
      "source": [
        "aralık(0,5)\n",
        "print(*atalık(5,25,2))"
      ],
      "execution_count": null,
      "outputs": []
    },
    {
      "cell_type": "code",
      "metadata": {
        "id": "9IJu2O1p8sOO"
      },
      "source": [
        ""
      ],
      "execution_count": null,
      "outputs": []
    },
    {
      "cell_type": "code",
      "metadata": {
        "colab": {
          "base_uri": "https://localhost:8080/",
          "height": 214
        },
        "id": "XHjTVqYkWNxT",
        "outputId": "4d9f20f3-6530-4703-fc7c-d75e729a3e33"
      },
      "source": [
        "sayılar = (\"inputsayıları giriniz\")\n",
        "sayı = sayılar.split(\",\")\n",
        "toplam = 0\n",
        "\n",
        "for i in sayı:\n",
        "  toplam += int(i)\n",
        "print(int(toplam/ len(sayı)))"
      ],
      "execution_count": null,
      "outputs": [
        {
          "output_type": "error",
          "ename": "ValueError",
          "evalue": "ignored",
          "traceback": [
            "\u001b[0;31m---------------------------------------------------------------------------\u001b[0m",
            "\u001b[0;31mValueError\u001b[0m                                Traceback (most recent call last)",
            "\u001b[0;32m<ipython-input-4-4db5c6999d58>\u001b[0m in \u001b[0;36m<module>\u001b[0;34m()\u001b[0m\n\u001b[1;32m      4\u001b[0m \u001b[0;34m\u001b[0m\u001b[0m\n\u001b[1;32m      5\u001b[0m \u001b[0;32mfor\u001b[0m \u001b[0mi\u001b[0m \u001b[0;32min\u001b[0m \u001b[0msayı\u001b[0m\u001b[0;34m:\u001b[0m\u001b[0;34m\u001b[0m\u001b[0;34m\u001b[0m\u001b[0m\n\u001b[0;32m----> 6\u001b[0;31m   \u001b[0mtoplam\u001b[0m \u001b[0;34m+=\u001b[0m \u001b[0mint\u001b[0m\u001b[0;34m(\u001b[0m\u001b[0mi\u001b[0m\u001b[0;34m)\u001b[0m\u001b[0;34m\u001b[0m\u001b[0;34m\u001b[0m\u001b[0m\n\u001b[0m\u001b[1;32m      7\u001b[0m \u001b[0mprint\u001b[0m\u001b[0;34m(\u001b[0m\u001b[0mint\u001b[0m\u001b[0;34m(\u001b[0m\u001b[0mtoplam\u001b[0m\u001b[0;34m/\u001b[0m \u001b[0mlen\u001b[0m\u001b[0;34m(\u001b[0m\u001b[0msayı\u001b[0m\u001b[0;34m)\u001b[0m\u001b[0;34m)\u001b[0m\u001b[0;34m)\u001b[0m\u001b[0;34m\u001b[0m\u001b[0;34m\u001b[0m\u001b[0m\n",
            "\u001b[0;31mValueError\u001b[0m: invalid literal for int() with base 10: 'inputsayıları giriniz'"
          ]
        }
      ]
    },
    {
      "cell_type": "code",
      "metadata": {
        "id": "2wNNO4egWN5r",
        "colab": {
          "base_uri": "https://localhost:8080/"
        },
        "outputId": "58cc5f7f-4758-455c-a465-8c5aaa7e00f9"
      },
      "source": [
        "a = int(input(\"Başlanğıç sayısını giriniz :\"))\n",
        "b = int(input(\"Bitiş sayısını giriniz :\"))\n",
        "c = int(input(\"Artış miktarını giriniz :\"))\n",
        "\n",
        "for i in range(a,b+1,c):\n",
        "  print(i)\n",
        "\n"
      ],
      "execution_count": null,
      "outputs": [
        {
          "output_type": "stream",
          "name": "stdout",
          "text": [
            "Başlanğıç sayısını giriniz :15\n",
            "Bitiş sayısını giriniz :30\n",
            "Artış miktarını giriniz :3\n",
            "15\n",
            "18\n",
            "21\n",
            "24\n",
            "27\n",
            "30\n"
          ]
        }
      ]
    },
    {
      "cell_type": "code",
      "metadata": {
        "colab": {
          "base_uri": "https://localhost:8080/"
        },
        "id": "CnMX4TViZjzh",
        "outputId": "b3e38bc7-b034-4caf-a37f-2d1c2abb9495"
      },
      "source": [
        "i = 0\n",
        "toplam = 0\n",
        "\n",
        "while i <= 100:\n",
        "  i = i + 2\n",
        "  toplam +=i\n",
        "print(toplam)"
      ],
      "execution_count": null,
      "outputs": [
        {
          "output_type": "stream",
          "name": "stdout",
          "text": [
            "2652\n"
          ]
        }
      ]
    },
    {
      "cell_type": "code",
      "metadata": {
        "colab": {
          "base_uri": "https://localhost:8080/"
        },
        "id": "RdWxdtNZbeUi",
        "outputId": "27be5604-d643-4b3f-b8f3-6b711a14baf7"
      },
      "source": [
        "sayı = int(input(\"Bir sayı giriniz : \"))\n",
        "i = 0\n",
        "toplam = 0\n",
        "\n",
        "while i < sayı:\n",
        "  i += 1\n",
        "  toplam +=i\n",
        "print(toplam)"
      ],
      "execution_count": null,
      "outputs": [
        {
          "output_type": "stream",
          "name": "stdout",
          "text": [
            "Bir sayı giriniz : 30\n",
            "240\n"
          ]
        }
      ]
    },
    {
      "cell_type": "code",
      "metadata": {
        "colab": {
          "base_uri": "https://localhost:8080/"
        },
        "id": "oERdTOx5beiU",
        "outputId": "7244d2b9-480c-468d-d532-f67972441cbe"
      },
      "source": [
        "sayı = int(input(\"Bir sayı giriniz : \"))\n",
        "i = 1\n",
        "toplam = 0\n",
        "\n",
        "while i < sayı:\n",
        "  toplam +=i\n",
        "  i += 2\n",
        "print(toplam)"
      ],
      "execution_count": null,
      "outputs": [
        {
          "output_type": "stream",
          "name": "stdout",
          "text": [
            "Bir sayı giriniz : 6\n",
            "9\n"
          ]
        }
      ]
    },
    {
      "cell_type": "code",
      "metadata": {
        "id": "OQ6aIcfgfBsB"
      },
      "source": [
        "ifade = input (\"Bir ifade giriniz : \")\n",
        "# ifade2 = ifade[::-1]\n",
        "i = 0\n",
        "while i < len (ifade):\n",
        "  print(ifade[i-1])\n",
        "  i +=1"
      ],
      "execution_count": null,
      "outputs": []
    },
    {
      "cell_type": "code",
      "metadata": {
        "colab": {
          "base_uri": "https://localhost:8080/",
          "height": 231
        },
        "id": "gv0_Oi7ifB30",
        "outputId": "05ba8fb6-fa83-47be-fe17-91455b23e253"
      },
      "source": [
        "inport random\n",
        "sayılar =[]\n",
        "for i in range(0,10):\n",
        "  rand = random.randint(0,100)\n",
        "  sayılar.append(rand)\n",
        "  print(rand)\n",
        "\n",
        "minNumber = sayılar[0]\n",
        "maxNumber = sayılar[0]\n",
        "\n",
        "for i in range(0,10):\n",
        "  if minNumber > sayılar [0]:\n",
        "    minNumber = sayılar [0]\n",
        "  if maxNumber < sayılar [i]:\n",
        "    maxNumber = sayılar[i]\n",
        "\n",
        "print(\"Dizideki En Büyük Değer : {0}\".format(maxNumber))\n",
        "print(\"Dizideki En küçük Değer : {0}\".format(minNumber))"
      ],
      "execution_count": null,
      "outputs": [
        {
          "output_type": "error",
          "ename": "NameError",
          "evalue": "ignored",
          "traceback": [
            "\u001b[0;31m---------------------------------------------------------------------------\u001b[0m",
            "\u001b[0;31mNameError\u001b[0m                                 Traceback (most recent call last)",
            "\u001b[0;32m<ipython-input-26-6cf294a2584b>\u001b[0m in \u001b[0;36m<module>\u001b[0;34m()\u001b[0m\n\u001b[0;32m----> 1\u001b[0;31m \u001b[0mrandom\u001b[0m\u001b[0;34m.\u001b[0m\u001b[0mrandom\u001b[0m\u001b[0;34m\u001b[0m\u001b[0;34m\u001b[0m\u001b[0m\n\u001b[0m\u001b[1;32m      2\u001b[0m \u001b[0msayılar\u001b[0m \u001b[0;34m=\u001b[0m\u001b[0;34m[\u001b[0m\u001b[0;34m]\u001b[0m\u001b[0;34m\u001b[0m\u001b[0;34m\u001b[0m\u001b[0m\n\u001b[1;32m      3\u001b[0m \u001b[0;32mfor\u001b[0m \u001b[0mi\u001b[0m \u001b[0;32min\u001b[0m \u001b[0mrange\u001b[0m\u001b[0;34m(\u001b[0m\u001b[0;36m0\u001b[0m\u001b[0;34m,\u001b[0m\u001b[0;36m10\u001b[0m\u001b[0;34m)\u001b[0m\u001b[0;34m:\u001b[0m\u001b[0;34m\u001b[0m\u001b[0;34m\u001b[0m\u001b[0m\n\u001b[1;32m      4\u001b[0m   \u001b[0mrand\u001b[0m \u001b[0;34m=\u001b[0m \u001b[0mrandom\u001b[0m\u001b[0;34m.\u001b[0m\u001b[0mrandint\u001b[0m\u001b[0;34m(\u001b[0m\u001b[0;36m0\u001b[0m\u001b[0;34m,\u001b[0m\u001b[0;36m100\u001b[0m\u001b[0;34m)\u001b[0m\u001b[0;34m\u001b[0m\u001b[0;34m\u001b[0m\u001b[0m\n\u001b[1;32m      5\u001b[0m   \u001b[0msayılar\u001b[0m\u001b[0;34m.\u001b[0m\u001b[0mappend\u001b[0m\u001b[0;34m(\u001b[0m\u001b[0mrand\u001b[0m\u001b[0;34m)\u001b[0m\u001b[0;34m\u001b[0m\u001b[0;34m\u001b[0m\u001b[0m\n",
            "\u001b[0;31mNameError\u001b[0m: name 'random' is not defined"
          ]
        }
      ]
    },
    {
      "cell_type": "code",
      "metadata": {
        "id": "gp6y57hpfB_Q"
      },
      "source": [
        "weight = int(input(\"Lütfen kilonuzu giriniz: \"))\n",
        "\n",
        "if weight <=50:\n",
        "  print(\"Zayıfsın\")\n",
        "elif weight <=80:\n",
        "  print(\"Fitsin\")\n",
        "else:\n",
        "  print(\"Kilolusun\")"
      ],
      "execution_count": null,
      "outputs": []
    },
    {
      "cell_type": "code",
      "metadata": {
        "colab": {
          "base_uri": "https://localhost:8080/"
        },
        "id": "hofNpekBfCN2",
        "outputId": "132f141a-d7ac-44d3-fafe-4834eb4f043d"
      },
      "source": [
        "number = input (\"Bir sayı giriniz : \")\n",
        "toplam = 0\n",
        "\n",
        "for i in number:\n",
        "  toplam += int(i)\n",
        "print(toplam)\n"
      ],
      "execution_count": null,
      "outputs": [
        {
          "output_type": "stream",
          "name": "stdout",
          "text": [
            "Bir sayı giriniz : 38\n",
            "11\n"
          ]
        }
      ]
    },
    {
      "cell_type": "code",
      "metadata": {
        "colab": {
          "base_uri": "https://localhost:8080/",
          "height": 129
        },
        "id": "4RXtechQo9fE",
        "outputId": "fc19fb89-c2fb-4df3-f5e4-823ce8ca185f"
      },
      "source": [
        "number = input (\"Bir sayı giriniz : \")\n",
        "toplam = 0\n",
        "sayaç = 0\n",
        "\n",
        "while conter < len(number):\n",
        "  toplam += int[(number[continue])\n",
        "  continue +=1\n",
        "print(toplam)\n"
      ],
      "execution_count": null,
      "outputs": [
        {
          "output_type": "error",
          "ename": "SyntaxError",
          "evalue": "ignored",
          "traceback": [
            "\u001b[0;36m  File \u001b[0;32m\"<ipython-input-7-4a69074a68b8>\"\u001b[0;36m, line \u001b[0;32m6\u001b[0m\n\u001b[0;31m    toplam += int[(number[continue])\u001b[0m\n\u001b[0m                                 ^\u001b[0m\n\u001b[0;31mSyntaxError\u001b[0m\u001b[0;31m:\u001b[0m invalid syntax\n"
          ]
        }
      ]
    },
    {
      "cell_type": "code",
      "metadata": {
        "colab": {
          "base_uri": "https://localhost:8080/"
        },
        "id": "iRrVc_KetDi-",
        "outputId": "9d683ca2-d2b1-486f-a413-8d57c5b3448e"
      },
      "source": [
        "import time\n",
        "print(time.ctime())"
      ],
      "execution_count": null,
      "outputs": [
        {
          "output_type": "stream",
          "name": "stdout",
          "text": [
            "Fri Oct 29 20:31:00 2021\n"
          ]
        }
      ]
    },
    {
      "cell_type": "code",
      "metadata": {
        "colab": {
          "base_uri": "https://localhost:8080/"
        },
        "id": "3CB-olsCtDpn",
        "outputId": "dbc84589-7a6a-4b21-ce07-74573627433e"
      },
      "source": [
        "kare = int(input(\"Karenin kenar uzunluğunu giriniz : \"))\n",
        "\n",
        "alan = kare **2\n",
        "çevre = kare *4\n",
        "print (\"karenin alanı\" , alan)\n",
        "print (\"karenin çevresi\" , çevre)"
      ],
      "execution_count": null,
      "outputs": [
        {
          "output_type": "stream",
          "name": "stdout",
          "text": [
            "Karenin kenar uzunluğunu giriniz : 5\n",
            "karenin alanı 25\n",
            "karenin çevresi 20\n"
          ]
        }
      ]
    },
    {
      "cell_type": "code",
      "metadata": {
        "colab": {
          "base_uri": "https://localhost:8080/"
        },
        "id": "VViMdXTwo9nF",
        "outputId": "5964583f-2134-4aff-bf5f-91162bb9a51e"
      },
      "source": [
        "zaman = int(input(\"saniyeyi giriniz : \"))\n",
        "saat = zaman // 3600\n",
        "dakika = (zaman%3600) // 60\n",
        "saniye = (zaman%3600) % 60\n",
        "print (saat , dakika , saniye)"
      ],
      "execution_count": null,
      "outputs": [
        {
          "output_type": "stream",
          "name": "stdout",
          "text": [
            "saniyeyi giriniz : 5000\n",
            "1 23 20\n"
          ]
        }
      ]
    },
    {
      "cell_type": "code",
      "metadata": {
        "colab": {
          "base_uri": "https://localhost:8080/"
        },
        "id": "WnaA2mwOxBaP",
        "outputId": "c8d88344-938d-4f7d-a930-bc100e357e9e"
      },
      "source": [
        "number1 = int(input(\"Birinci sayı : \"))\n",
        "number2 = int(input(\"İkinci sayı : \"))\n",
        "\n",
        "if number1 > number2 :\n",
        "  print(number1)\n",
        "elif number1 == number2:\n",
        "  print(\"sayılar eşit\")\n",
        "else:\n",
        "  print(number2)\n",
        "  "
      ],
      "execution_count": null,
      "outputs": [
        {
          "output_type": "stream",
          "name": "stdout",
          "text": [
            "Birinci sayı : 15\n",
            "İkinci sayı : 18\n",
            "18\n"
          ]
        }
      ]
    },
    {
      "cell_type": "code",
      "metadata": {
        "colab": {
          "base_uri": "https://localhost:8080/"
        },
        "id": "8sAEt-xz0khu",
        "outputId": "427a778f-e90d-4388-9b05-d11f4b985449"
      },
      "source": [
        "number1 = int(input(\"Birinci sayı : \"))\n",
        "number2 = int(input(\"İkinci sayı : \"))\n",
        "\n",
        "print(\"girilen sayının büyük olanı\" , max(number1 , number2))\n"
      ],
      "execution_count": null,
      "outputs": [
        {
          "output_type": "stream",
          "name": "stdout",
          "text": [
            "Birinci sayı : 5\n",
            "İkinci sayı : 7\n",
            "girilen sayının büyük olanı 7\n"
          ]
        }
      ]
    },
    {
      "cell_type": "code",
      "metadata": {
        "id": "1-mJIIwY1e08",
        "colab": {
          "base_uri": "https://localhost:8080/"
        },
        "outputId": "0d36bca2-7773-4670-c82f-4921f59a7af3"
      },
      "source": [
        "dil = input(\"her hangibir yabancı bir dil biliyormusun ? \" \"(Evet/Hayır)\")\n",
        "ofis = input(\"ofis proğramları biliyormusun ? \" \"(Evet/Hayır)\")\n",
        "\n",
        "if dil.lower() == \"evet\" and ofis.lower() == \"evet\" :\n",
        "  print(\"İşe alındır :) \")\n",
        "else :\n",
        "  print(\"İşe alınamadınız ... \")\n"
      ],
      "execution_count": null,
      "outputs": [
        {
          "output_type": "stream",
          "name": "stdout",
          "text": [
            "her hangibir yabancı bir dil biliyormusun ? (Evet/Hayır)evet\n",
            "ofis proğramları biliyormusun ? (Evet/Hayır)Hayır\n",
            "İşe alınamadınız ... \n"
          ]
        }
      ]
    },
    {
      "cell_type": "code",
      "metadata": {
        "colab": {
          "base_uri": "https://localhost:8080/"
        },
        "id": "S4CnsB2biTVl",
        "outputId": "c1d02f0b-a835-4922-a04c-16e59292c4a7"
      },
      "source": [
        "isim = input (\"Adınız ve soyadınızı giriniz : \")\n",
        "ingilizce = input (\"ingilizce biliyormusun ? \" \"(Evet/Hayır)\")\n",
        "fransızca = input (\"fransızca biliyormusun ? \" \"(Evet/Hayır)\")\n",
        "yaş = input (\"Kaç yaşındasın ? \")\n",
        "\n",
        "if ingilizce.lower() or fransızca.lower() == \"evet\" and yas < 40 :\n",
        "  print(isim , \"Başarılı\")\n",
        "else:\n",
        "  print(isim , \"Başarısız...\")\n"
      ],
      "execution_count": null,
      "outputs": [
        {
          "output_type": "stream",
          "name": "stdout",
          "text": [
            "Adınız ve soyadınızı giriniz : ali erdoğan\n",
            "ingilizce biliyormusun ? (Evet/Hayır)evet\n",
            "fransızca biliyormusun ? (Evet/Hayır)hayır\n",
            "Kaç yaşındasın ? 38\n",
            "ali erdoğan Başarılı\n"
          ]
        }
      ]
    },
    {
      "cell_type": "code",
      "metadata": {
        "id": "Ti3JQy51iThA"
      },
      "source": [
        "sayı1 = int(input(\"birinci sayıyı giriniz :\"))\n",
        "sayı2 = int(input(\"ikinci sayıyı giriniz :\"))\n",
        "işlem = input(\"yapmak istediğiniz işlemi giriniz :\")\n",
        "\n",
        "if işlem == \"+\":\n",
        "  print(int(sayı1 + sayı2))\n",
        "elif işlem == \"-\":\n",
        "  print(int(sayı1 - sayı2))\n",
        "elif işlem == \"*\":\n",
        "  print(int(sayı1 * sayı2))\n",
        "elif işlem == \"/\":\n",
        "  print(int(sayı1 / sayı2))\n"
      ],
      "execution_count": null,
      "outputs": []
    },
    {
      "cell_type": "code",
      "metadata": {
        "id": "2MhsYbeaiTpf",
        "colab": {
          "base_uri": "https://localhost:8080/"
        },
        "outputId": "64c496e0-56c8-448e-8ebd-bf69232f3117"
      },
      "source": [
        "# 61 # klavyeden girilen bir sayının 0-10 arasında olup olmadığını kontrol eden python kdobunu yazınız.\n",
        "number = int(input(\"Enter a number : \"))\n",
        "\n",
        "if number >= 0 and number <= 10:\n",
        "  print(\"Sayı belirtilen aralıktadır.\")\n",
        "else:\n",
        "  print(\"Sayı belirtilen aralıkta değildir...\")\n"
      ],
      "execution_count": null,
      "outputs": [
        {
          "output_type": "stream",
          "name": "stdout",
          "text": [
            "Enter a number : 11\n",
            "Sayı belirtilen aralıkta değildir...\n"
          ]
        }
      ]
    },
    {
      "cell_type": "code",
      "metadata": {
        "colab": {
          "base_uri": "https://localhost:8080/"
        },
        "id": "GGtzLGAoKKYa",
        "outputId": "4115e66c-e046-4801-bb33-29b1406ad6dc"
      },
      "source": [
        "# 62  # Klavyeden girilen şifrenin “bilişim” olup olmadığını kontrol eden ve ona göre kullanıcının tekrar şifre girmeyi isteyip istemediğini soran python kodunu yazınız. Kullanıcı evet derse tekrar şifre sorulacak. hayır derse bitecek\n",
        "while True:\n",
        "  şifre = input(\"Bir şifre giriniz: \")\n",
        "  if şifre == \"bilişim\":\n",
        "    print(\"Şifre doğru\")\n",
        "    break\n",
        "  else:\n",
        "    tekrar = input(\"Şifreniz yanlış. Tekrar denemek ister misiniz?(Evet/Hayır): \")\n",
        "    if tekrar.lower() == \"hayır\":\n",
        "      break\n",
        "    elif tekrar.lower() == \"evet\":\n",
        "      continue\n",
        "print(\"bitti...\")\n"
      ],
      "execution_count": null,
      "outputs": [
        {
          "output_type": "stream",
          "name": "stdout",
          "text": [
            "Bir şifre giriniz: ali\n",
            "Şifreniz yanlış. Tekrar denemek ister misiniz?(Evet/Hayır): evet\n",
            "Bir şifre giriniz: veli\n",
            "Şifreniz yanlış. Tekrar denemek ister misiniz?(Evet/Hayır): bilişim\n",
            "Bir şifre giriniz: bilişim\n",
            "Şifre doğru\n",
            "bitti...\n"
          ]
        }
      ]
    },
    {
      "cell_type": "code",
      "metadata": {
        "colab": {
          "base_uri": "https://localhost:8080/"
        },
        "id": "EMjH5cbbKKr6",
        "outputId": "cccc7302-016f-443c-fc55-68a27900d631"
      },
      "source": [
        "# 63 # \n",
        "bölünen = int(input(\"Bölünen sayısını giriniz : \"))\n",
        "bölen = int(input(\"Bölen sayısını giriniz : \"))\n",
        "\n",
        "if bölen == 0:\n",
        "  print(\"Bölen sayısını sıfır giremezsiniz.\")\n",
        "else:\n",
        "  işlem = int(bölünen / bölen)\n",
        "  print(f\"Bölme işleminin sonucu : {işlem}\")"
      ],
      "execution_count": null,
      "outputs": [
        {
          "output_type": "stream",
          "name": "stdout",
          "text": [
            "Bölünen sayısını giriniz : 15\n",
            "Bölen sayısını giriniz : 0\n",
            "Bölen sayısını sıfır giremezsin.\n"
          ]
        }
      ]
    },
    {
      "cell_type": "code",
      "metadata": {
        "colab": {
          "base_uri": "https://localhost:8080/"
        },
        "id": "vGpJT7AUKKz-",
        "outputId": "60fdba69-1f35-4c4e-e8da-de6847881c14"
      },
      "source": [
        "# 64 # \n",
        "liste = ['bir', 'iki', 'üç', 'dört', 'beş']\n",
        "sayı = int(input('sayı gir:'))\n",
        "if sayı in range(1,6):\n",
        "  print(liste[sayı-1])\n",
        "else:\n",
        "  print(\"yanlış değer girdiniz.\")"
      ],
      "execution_count": null,
      "outputs": [
        {
          "output_type": "stream",
          "name": "stdout",
          "text": [
            "sayı gir:30\n",
            "yanlış değer girdiniz.\n"
          ]
        }
      ]
    },
    {
      "cell_type": "code",
      "metadata": {
        "id": "mH1RTWy2iUOY",
        "colab": {
          "base_uri": "https://localhost:8080/"
        },
        "outputId": "414d4859-c16a-4eb0-aae8-0b1ce83c9d88"
      },
      "source": [
        "liste = ['bir', 'iki', 'üç', 'dört', 'beş','altı', 'yedi', 'sekiz', 'dokuz', 'on','onbir', 'oniki', 'onüç', 'ondört', 'onbeş']\n",
        "sayı = int(input('sayı gir:'))\n",
        "if sayı in range(1,6) or sayı in range(10,16):\n",
        "  print(liste[sayı-1])\n",
        "else:\n",
        "  print(\"yanlış değer girdiniz.\")"
      ],
      "execution_count": null,
      "outputs": [
        {
          "output_type": "stream",
          "name": "stdout",
          "text": [
            "sayı gir:15\n",
            "beş\n"
          ]
        }
      ]
    },
    {
      "cell_type": "code",
      "metadata": {
        "id": "q5GwPhRliUVL",
        "colab": {
          "base_uri": "https://localhost:8080/"
        },
        "outputId": "8c623843-fdc9-4313-defa-22fddfb49a35"
      },
      "source": [
        "# 65 #\n",
        "sayı = int(input(\"Bir sayı giriniz : \"))\n",
        "\n",
        "if sayı % 2 == 0 and sayı % 3 == 0 :\n",
        "  print(\"Sayı 2 ve 3 e aynı anda bölünmektedir.\")\n",
        "elif sayı % 2 == 0 or sayı % 3 > 0 :\n",
        "  print(\"Sayı 2 ye tam bölünmektedir.\")\n",
        "else:\n",
        "  sayı % 2 > 0 or sayı % 3 == 0\n",
        "  print(\"Sayı 3 ye tam bölünmektedir.\")\n",
        "\n",
        "print(\"bitti\")"
      ],
      "execution_count": null,
      "outputs": [
        {
          "output_type": "stream",
          "name": "stdout",
          "text": [
            "Bir sayı giriniz : 23\n",
            "Sayı 2 ye tam bölünmektedir.\n",
            "bitti\n"
          ]
        }
      ]
    },
    {
      "cell_type": "code",
      "metadata": {
        "colab": {
          "base_uri": "https://localhost:8080/"
        },
        "id": "4khI0xJ1Wwdr",
        "outputId": "65ae6214-463f-4067-87dd-dc97824a112e"
      },
      "source": [
        "# 66 #\n",
        "for i in range(31):\n",
        "  if i % 2 == 0 :\n",
        "    print(f\"{i} sayısı 2'ye bölünür.\")\n",
        "  elif i % 3 == 0 :\n",
        "    print(f\"{i} sayısı 3'ye bölünür.\")\n"
      ],
      "execution_count": null,
      "outputs": [
        {
          "output_type": "stream",
          "name": "stdout",
          "text": [
            "0 sayısı 2'ye bölünür.\n",
            "2 sayısı 2'ye bölünür.\n",
            "3 sayısı 3'ye bölünür.\n",
            "4 sayısı 2'ye bölünür.\n",
            "6 sayısı 2'ye bölünür.\n",
            "8 sayısı 2'ye bölünür.\n",
            "9 sayısı 3'ye bölünür.\n",
            "10 sayısı 2'ye bölünür.\n",
            "12 sayısı 2'ye bölünür.\n",
            "14 sayısı 2'ye bölünür.\n",
            "15 sayısı 3'ye bölünür.\n",
            "16 sayısı 2'ye bölünür.\n",
            "18 sayısı 2'ye bölünür.\n",
            "20 sayısı 2'ye bölünür.\n",
            "21 sayısı 3'ye bölünür.\n",
            "22 sayısı 2'ye bölünür.\n",
            "24 sayısı 2'ye bölünür.\n",
            "26 sayısı 2'ye bölünür.\n",
            "27 sayısı 3'ye bölünür.\n",
            "28 sayısı 2'ye bölünür.\n",
            "30 sayısı 2'ye bölünür.\n"
          ]
        }
      ]
    },
    {
      "cell_type": "code",
      "metadata": {
        "colab": {
          "base_uri": "https://localhost:8080/"
        },
        "id": "D0Q9Cok5Z19Z",
        "outputId": "a2302076-c8ae-4841-c214-9746989f8e88"
      },
      "source": [
        "# 67 # \n",
        "toplam = 0 \n",
        "\n",
        "for i in range(5):\n",
        "  i = int(input(\"Sayı gir : \"))\n",
        "  toplam += i\n",
        "if toplam % 2 == 0 :\n",
        "  print(\"Sayıların toplamı çiftir.\")\n",
        "else :\n",
        "  print(\"Sayıların toplamı tekdir.\")\n",
        "\n",
        "print(f\"Toplam girilen değer = {toplam}\")"
      ],
      "execution_count": null,
      "outputs": [
        {
          "output_type": "stream",
          "name": "stdout",
          "text": [
            "Sayı gir : 12\n",
            "Sayı gir : 23\n",
            "Sayı gir : 21\n",
            "Sayı gir : 25\n",
            "Sayı gir : 35\n",
            "Sayıların toplamı çiftir.\n",
            "Toplam girilen değer = 116\n"
          ]
        }
      ]
    },
    {
      "cell_type": "code",
      "metadata": {
        "colab": {
          "base_uri": "https://localhost:8080/"
        },
        "id": "mZftSRLebrfw",
        "outputId": "b0d65e7a-7109-4e9f-d399-433f34c49036"
      },
      "source": [
        "# 68 # \n",
        "liste = []\n",
        "for i in range(51):\n",
        "  if i % 4 == 0 :\n",
        "    liste.append(i)\n",
        "print(liste)\n"
      ],
      "execution_count": null,
      "outputs": [
        {
          "output_type": "stream",
          "name": "stdout",
          "text": [
            "[0, 4, 8, 12, 16, 20, 24, 28, 32, 36, 40, 44, 48]\n"
          ]
        }
      ]
    },
    {
      "cell_type": "code",
      "metadata": {
        "colab": {
          "base_uri": "https://localhost:8080/"
        },
        "id": "TVY-TlNlbrnV",
        "outputId": "9d94b275-6395-44dc-b13b-ddf387c44123"
      },
      "source": [
        "# 69 #\n",
        "\n",
        "liste = []\n",
        "\n",
        "for i in range(5):\n",
        "  i = int(input(f\"{i+1}. Sayı giriniz : \"))\n",
        "  liste.append(i)\n",
        "print(\"Girilen en büyük sayı = {}\".format(max(liste)))"
      ],
      "execution_count": null,
      "outputs": [
        {
          "output_type": "stream",
          "name": "stdout",
          "text": [
            "1. Sayı giriniz : 15\n",
            "2. Sayı giriniz : 1\n",
            "3. Sayı giriniz : 2\n",
            "4. Sayı giriniz : 3\n",
            "5. Sayı giriniz : 5\n",
            "Girilen en büyük sayı = 15\n"
          ]
        }
      ]
    },
    {
      "cell_type": "code",
      "metadata": {
        "id": "ZpWFoYBdfUo6",
        "colab": {
          "base_uri": "https://localhost:8080/"
        },
        "outputId": "711df7f1-007c-4186-dad9-7a54b77f407e"
      },
      "source": [
        "fiyat1 = int(input(\"1. ürünün fiyatını giriniz = \"))\n",
        "fiyat2 = int(input(\"2. ürünün fiyatını giriniz = \"))\n",
        "toplam = fiyat1 + fiyat2\n",
        "\n",
        "if toplam <= 200:\n",
        "  print(f\"ödenecek miktar = {toplam}\")\n",
        "else:\n",
        "  print(f\"ödenecek miktar = {toplam*.75}\")\n"
      ],
      "execution_count": null,
      "outputs": [
        {
          "output_type": "stream",
          "name": "stdout",
          "text": [
            "1. ürünün fiyatını giriniz = 50\n",
            "2. ürünün fiyatını giriniz = 150\n",
            "ödenecek miktar = 200\n"
          ]
        }
      ]
    },
    {
      "cell_type": "code",
      "metadata": {
        "id": "95h7D4mwfUxA",
        "colab": {
          "base_uri": "https://localhost:8080/"
        },
        "outputId": "ce985af3-71ed-4d7e-8ebb-637724712f1e"
      },
      "source": [
        "# 89 # \n",
        "sayı1 = int(input(\"Sayı 1 giriniz =\"))\n",
        "sayı2 = int(input(\"Sayı 2 giriniz =\"))\n",
        "sayı3 = int(input(\"Sayı 3 giriniz =\"))\n",
        "\n",
        "for i in range(sayı1, sayı2, sayı3):\n",
        "  print(i)\n",
        " "
      ],
      "execution_count": null,
      "outputs": [
        {
          "output_type": "stream",
          "name": "stdout",
          "text": [
            "Sayı 1 giriniz =5\n",
            "Sayı 2 giriniz =15\n",
            "Sayı 3 giriniz =2\n",
            "5\n",
            "7\n",
            "9\n",
            "11\n",
            "13\n"
          ]
        }
      ]
    },
    {
      "cell_type": "code",
      "metadata": {
        "id": "J-jIQ1OCiUdK",
        "colab": {
          "base_uri": "https://localhost:8080/"
        },
        "outputId": "74768a5f-eb2f-4627-a2d0-37b173043903"
      },
      "source": [
        "# 92\n",
        "başla = int(input(\"Başlanğıç değerini giriniz :\"))\n",
        "bitiş = int(input(\"Bitiş değerini giriniz :\"))\n",
        "toplam = 0\n",
        "\n",
        "for i in range(başla, bitiş+1):\n",
        "  toplam +=i\n",
        "print(toplam)\n",
        " "
      ],
      "execution_count": null,
      "outputs": [
        {
          "output_type": "stream",
          "name": "stdout",
          "text": [
            "Başlanğıç değerini giriniz :5\n",
            "Bitiş değerini giriniz :7\n",
            "18\n"
          ]
        }
      ]
    },
    {
      "cell_type": "code",
      "metadata": {
        "id": "8P6DkhjXE875"
      },
      "source": [
        ""
      ],
      "execution_count": null,
      "outputs": []
    },
    {
      "cell_type": "code",
      "metadata": {
        "id": "O83UbfRWE9Kf"
      },
      "source": [
        ""
      ],
      "execution_count": null,
      "outputs": []
    },
    {
      "cell_type": "markdown",
      "metadata": {
        "id": "0Ray5Y-yrC1n"
      },
      "source": [
        "# TEAM WORK  02-11-2021"
      ]
    },
    {
      "cell_type": "code",
      "metadata": {
        "colab": {
          "base_uri": "https://localhost:8080/"
        },
        "id": "PebsLhybrFtM",
        "outputId": "39516171-6dd6-4a1e-8fe1-b4460986a9a3"
      },
      "source": [
        "# 1. soru\n",
        "count = 0\n",
        "array = []\n",
        "size = int(input(\"How many numbers will you enter?\"))\n",
        "while count < size:\n",
        "  number = int(input(\"Please enter a number ?\"))\n",
        "  array.append(number)\n",
        "  count +=1\n",
        "\n",
        "array.sort()\n",
        "print(array[-1])\n"
      ],
      "execution_count": null,
      "outputs": [
        {
          "output_type": "stream",
          "name": "stdout",
          "text": [
            "How many numbers will you enter?5\n",
            "Please enter a number ?6\n",
            "Please enter a number ?2\n",
            "Please enter a number ?8\n",
            "Please enter a number ?1\n",
            "Please enter a number ?15\n",
            "15\n"
          ]
        }
      ]
    },
    {
      "cell_type": "code",
      "metadata": {
        "colab": {
          "base_uri": "https://localhost:8080/",
          "height": 231
        },
        "id": "H2PqU47yrF0J",
        "outputId": "e1bf95df-9385-475b-c871-2c1bec8a54bf"
      },
      "source": [
        "# 2. soru cevabı\n",
        "strs = [\"eat\",\"tan\",\"ate\",\"nat\",\"bat\",\"cat\",\"tac\"]\n",
        "anag = {}\n",
        "for i in strs:\n",
        "  element = \"\".join(sorted(i))\n",
        "  # print (element)\n",
        "  if element in anag:\n",
        "    anag[element].append(1)\n",
        "  else:\n",
        "    anag[element] = [i]\n",
        "\n",
        "print (list(anag.values()))\n",
        "\n",
        "# print(anag)\n",
        "# print(type(element))\n",
        "\n"
      ],
      "execution_count": null,
      "outputs": [
        {
          "output_type": "error",
          "ename": "TypeError",
          "evalue": "ignored",
          "traceback": [
            "\u001b[0;31m---------------------------------------------------------------------------\u001b[0m",
            "\u001b[0;31mTypeError\u001b[0m                                 Traceback (most recent call last)",
            "\u001b[0;32m<ipython-input-17-b301dc1c75f4>\u001b[0m in \u001b[0;36m<module>\u001b[0;34m()\u001b[0m\n\u001b[1;32m     10\u001b[0m     \u001b[0manag\u001b[0m\u001b[0;34m[\u001b[0m\u001b[0melement\u001b[0m\u001b[0;34m]\u001b[0m \u001b[0;34m=\u001b[0m \u001b[0;34m[\u001b[0m\u001b[0mi\u001b[0m\u001b[0;34m]\u001b[0m\u001b[0;34m\u001b[0m\u001b[0;34m\u001b[0m\u001b[0m\n\u001b[1;32m     11\u001b[0m \u001b[0;34m\u001b[0m\u001b[0m\n\u001b[0;32m---> 12\u001b[0;31m \u001b[0mprint\u001b[0m \u001b[0;34m(\u001b[0m\u001b[0mlist\u001b[0m\u001b[0;34m(\u001b[0m\u001b[0manag\u001b[0m\u001b[0;34m.\u001b[0m\u001b[0mvalues\u001b[0m\u001b[0;34m(\u001b[0m\u001b[0;34m\"\\n\"\u001b[0m\u001b[0;34m)\u001b[0m\u001b[0;34m)\u001b[0m\u001b[0;34m)\u001b[0m\u001b[0;34m\u001b[0m\u001b[0;34m\u001b[0m\u001b[0m\n\u001b[0m\u001b[1;32m     13\u001b[0m \u001b[0;34m\u001b[0m\u001b[0m\n\u001b[1;32m     14\u001b[0m \u001b[0;31m# print(anag)\u001b[0m\u001b[0;34m\u001b[0m\u001b[0;34m\u001b[0m\u001b[0;34m\u001b[0m\u001b[0m\n",
            "\u001b[0;31mTypeError\u001b[0m: values() takes no arguments (1 given)"
          ]
        }
      ]
    },
    {
      "cell_type": "code",
      "metadata": {
        "colab": {
          "base_uri": "https://localhost:8080/"
        },
        "id": "pfLx9Fl9uIXm",
        "outputId": "76cfd041-6ec0-4e07-d3fc-614513a162b7"
      },
      "source": [
        " # 2. soru cevabı\n",
        "strs = [\"eat\",\"tan\",\"ate\",\"nat\",\"bat\",\"cat\",\"tac\"]\n",
        "anag = {}\n",
        "for i in strs:\n",
        "  element = \"\".join(sorted(i))\n",
        "  print (element)"
      ],
      "execution_count": null,
      "outputs": [
        {
          "output_type": "stream",
          "name": "stdout",
          "text": [
            "aet\n",
            "ant\n",
            "aet\n",
            "ant\n",
            "abt\n",
            "act\n",
            "act\n"
          ]
        }
      ]
    },
    {
      "cell_type": "code",
      "metadata": {
        "id": "9IC_JrlOEJEh"
      },
      "source": [
        "# 3. soru\n",
        "mylist = [0,1,0,2,1,0,1,3,2,1,2,1]\n",
        "\n",
        "if mylist in "
      ],
      "execution_count": null,
      "outputs": []
    },
    {
      "cell_type": "code",
      "metadata": {
        "id": "teAFbbIirF8a"
      },
      "source": [
        ""
      ],
      "execution_count": null,
      "outputs": []
    },
    {
      "cell_type": "markdown",
      "metadata": {
        "id": "XRKYS7dmmOp5"
      },
      "source": [
        "# TEAM WORK 07-12-2021"
      ]
    },
    {
      "cell_type": "code",
      "metadata": {
        "id": "6T36e6Fc6JEZ",
        "outputId": "a026ccc8-782b-4108-bce0-170a06978a77",
        "colab": {
          "base_uri": "https://localhost:8080/"
        }
      },
      "source": [
        "# 1. soru _\n",
        "def palindrome(string) :\n",
        "  return string.casefold() == string[::-1].casefold()\n",
        "\n",
        "def palindrome_sentence(sentence) :\n",
        "  string = \"\"\n",
        "  for char in sentence :\n",
        "    if char.isalnum():\n",
        "      string += char\n",
        "  print(string)\n",
        "  return palindrome(string)\n",
        "word = input(\"Plase enter a word to check : \")\n",
        "if palindrome_sentence(word) :\n",
        "  print(\"'{}' is a palindrome\". format(word))\n",
        "else : \n",
        "  print(\"'{}' is a palindrome\". format(word))"
      ],
      "execution_count": null,
      "outputs": [
        {
          "output_type": "stream",
          "name": "stdout",
          "text": [
            "Plase enter a word to check : Al kazık çak karaya kayar'ak kaç kızaklA.\n",
            "AlkazıkçakkarayakayarakkaçkızaklA\n",
            "'Al kazık çak karaya kayar'ak kaç kızaklA.' is a palindrome\n"
          ]
        }
      ]
    },
    {
      "cell_type": "code",
      "metadata": {
        "id": "0y_oMqIJ6JLD",
        "outputId": "d16d1330-93c1-4cd1-d5e5-d8db172d4e3a",
        "colab": {
          "base_uri": "https://localhost:8080/"
        }
      },
      "source": [
        "# 2. soru _\n",
        "\n",
        "sudoku = [\n",
        "    [0, 0, 0, 0, 6, 4, 0, 0, 0],\n",
        "    [7, 0, 0, 0, 0, 0, 3, 9, 0],\n",
        "    [8, 0, 0, 0, 0, 0, 0, 0, 0],\n",
        "    [0, 0, 0, 5, 0, 2, 0, 6, 0],\n",
        "    [0, 8, 0, 4, 0, 0, 0, 0, 0],\n",
        "    [3, 5, 0, 6, 0, 0, 0, 7, 0],\n",
        "    [0, 0, 2, 0, 0, 0, 1, 0, 3],\n",
        "    [0, 0, 1, 0, 5, 9, 0, 0, 0],\n",
        "    [0, 0, 0, 0, 0, 0, 7, 0, 0]\n",
        "]\n",
        "\n",
        "count = 0\n",
        "print(\"- - - - - - - - - - - - - - -\")\n",
        "for i in sudoku:\n",
        "  for j in range(9):\n",
        "    print(i[j], \" \", end=\"\")\n",
        "    if (j+1) == 9 :\n",
        "       print()\n",
        "       count+=1\n",
        "       if count %3==0 and count !=0 :\n",
        "         print(\"- - - - - - - - - - - - - - - \")\n",
        "    if (j+1)% 3 == 0 and j !=0 and j!=8 :\n",
        "      print(\"| \" , end=\"\")"
      ],
      "execution_count": null,
      "outputs": [
        {
          "output_type": "stream",
          "name": "stdout",
          "text": [
            "- - - - - - - - - - - - - - -\n",
            "0  0  0  | 0  6  4  | 0  0  0  \n",
            "7  0  0  | 0  0  0  | 3  9  0  \n",
            "8  0  0  | 0  0  0  | 0  0  0  \n",
            "- - - - - - - - - - - - - - - \n",
            "0  0  0  | 5  0  2  | 0  6  0  \n",
            "0  8  0  | 4  0  0  | 0  0  0  \n",
            "3  5  0  | 6  0  0  | 0  7  0  \n",
            "- - - - - - - - - - - - - - - \n",
            "0  0  2  | 0  0  0  | 1  0  3  \n",
            "0  0  1  | 0  5  9  | 0  0  0  \n",
            "0  0  0  | 0  0  0  | 7  0  0  \n",
            "- - - - - - - - - - - - - - - \n"
          ]
        }
      ]
    },
    {
      "cell_type": "code",
      "metadata": {
        "id": "8z92fdNx6JnR"
      },
      "source": [
        ""
      ],
      "execution_count": null,
      "outputs": []
    },
    {
      "cell_type": "markdown",
      "source": [
        "# TEAM WORK 10-12-2021 "
      ],
      "metadata": {
        "id": "Tu10Fw1fXBsd"
      }
    },
    {
      "cell_type": "code",
      "source": [
        "def function(var1=5, var2=7):\n",
        "  var2=9\n",
        "  var1=3\n",
        "  print(var1, \"\" , var2)\n",
        "function(var1=10, var2=12)"
      ],
      "metadata": {
        "colab": {
          "base_uri": "https://localhost:8080/"
        },
        "id": "xA3O_r20XnW4",
        "outputId": "09640a3d-36f9-41cb-dcce-b56dcd7d2eff"
      },
      "execution_count": null,
      "outputs": [
        {
          "output_type": "stream",
          "name": "stdout",
          "text": [
            "3  9\n"
          ]
        }
      ]
    },
    {
      "cell_type": "code",
      "source": [
        ""
      ],
      "metadata": {
        "id": "rRNzlw506xio"
      },
      "execution_count": null,
      "outputs": []
    },
    {
      "cell_type": "markdown",
      "metadata": {
        "id": "9Wj6CY98rEpM"
      },
      "source": [
        "# Yeni Bölüm"
      ]
    },
    {
      "cell_type": "code",
      "metadata": {
        "id": "VBep_LPLjPZU"
      },
      "source": [
        ""
      ],
      "execution_count": null,
      "outputs": []
    },
    {
      "cell_type": "code",
      "metadata": {
        "id": "oSG9pGhdjPiz"
      },
      "source": [
        "from random import choice\n",
        "\n",
        "# ahmet = input(\"ahmet için taş, kağıt, makas birini seçiniz =\")\n",
        "\n",
        "while True:\n",
        "  ahmet = [\"taş\", \"kağıt\", \"makas\"]\n",
        "  mehmet = [\"taş\", \"kağıt\", \"makas\"]\n",
        "\n",
        "  choice_of_ahmet = choice(ahmet)\n",
        "  choice_of_mehmet = choice(mehmet)\n",
        "\n",
        "  print(\"ahmet: \", choice_of_ahmet)\n",
        "  print(\"mehmet: \", choice_of_mehmet)\n",
        "  \n",
        "  if (choice_of_ahmet, choice_of_mehmet) == (\"taş\", \"makas\") or (\"kağıt\", \"taş\") or (\"makas\", \"kağıt\"):\n",
        "    print(\"ahmet is the winner\")\n",
        "  else:\n",
        "    print(\"mehmet is the winner\")\n",
        "  break\n",
        "  elif (choice_of_ahmet, choice_of_mehmet) == (\"makas\", \"taş\") or (\"taş\", \"kağıt\") or (\"kağıt\" \"makas\"):\n",
        "    print(\"mehmet is the winner\")\n",
        "  # else:\n",
        "  #   print(\"ahmet is the winner\")\n",
        "  break\n",
        "  continue"
      ],
      "execution_count": null,
      "outputs": []
    },
    {
      "cell_type": "code",
      "metadata": {
        "id": "1O8nS3SL9-E4"
      },
      "source": [
        ""
      ],
      "execution_count": null,
      "outputs": []
    },
    {
      "cell_type": "code",
      "source": [
        "while ahmet = [\"taş\", \"kağıt\", \"makas\"] in mehmet = [\"taş\", \"kağıt\", \"makas\"] :\n",
        "   if (choice_of_ahmet, choice_of_mehmet) == (\"taş\", \"makas\") or (\"kağıt\", \"taş\") or (\"makas\", \"kağıt\"):\n",
        "    print(\"ahmet is the winner\")\n",
        "  else:\n",
        "      print(\"mehmet is the winner\")\n",
        "  break\n",
        "\n"
      ],
      "metadata": {
        "id": "txGfPG8xqJp0"
      },
      "execution_count": null,
      "outputs": []
    },
    {
      "cell_type": "code",
      "source": [
        "from random import choice\n",
        "\n",
        "while True:\n",
        "  ahmet = [\"taş\", \"kağıt\", \"makas\"]\n",
        "  mehmet = [\"taş\", \"kağıt\", \"makas\"]\n",
        "\n",
        "  choice_of_ahmet = choice(ahmet)\n",
        "  choice_of_mehmet = choice(mehmet)\n",
        "\n",
        "  print(\"ahmet: \", choice_of_ahmet)\n",
        "  print(\"mehmet: \", choice_of_mehmet)\n",
        "  \n",
        "  if (choice_of_ahmet, choice_of_mehmet) == (\"taş\", \"makas\") or (\"kağıt\", \"taş\") or (\"makas\", \"kağıt\") :\n",
        "    # print(\"ahmet is the winner\")\n",
        "      if (choice_of_mehmet, choice_of_ahmet) == (\"makas\", \"taş\") and (\"taş\", \"kağıt\") and (\"kağıt\" \"makas\"):\n",
        "        print(\"mehmet is the winner\")\n",
        "      else:\n",
        "        print(\"ahmet is the winner\")\n",
        "  break\n",
        "# continue"
      ],
      "metadata": {
        "colab": {
          "base_uri": "https://localhost:8080/"
        },
        "id": "2pUC-eWHqVMq",
        "outputId": "bd577653-aa94-4115-9b65-adc7cae985b3"
      },
      "execution_count": null,
      "outputs": [
        {
          "output_type": "stream",
          "name": "stdout",
          "text": [
            "ahmet:  taş\n",
            "mehmet:  kağıt\n",
            "ahmet is the winner\n"
          ]
        }
      ]
    },
    {
      "cell_type": "code",
      "source": [
        ""
      ],
      "metadata": {
        "id": "hiK4QdZGq3zY"
      },
      "execution_count": null,
      "outputs": []
    },
    {
      "cell_type": "markdown",
      "source": [
        "# Yeni Bölüm"
      ],
      "metadata": {
        "id": "i0qPTbruXEvi"
      }
    },
    {
      "cell_type": "code",
      "source": [
        "print(*\"clarusway\")"
      ],
      "metadata": {
        "colab": {
          "base_uri": "https://localhost:8080/"
        },
        "id": "Up0qn9Oj637v",
        "outputId": "b9b6f35d-4b81-4847-c5be-3d8c21b33b76"
      },
      "execution_count": null,
      "outputs": [
        {
          "output_type": "stream",
          "name": "stdout",
          "text": [
            "c l a r u s w a y\n"
          ]
        }
      ]
    },
    {
      "cell_type": "code",
      "source": [
        "print(\"clarus\"+\"way\")"
      ],
      "metadata": {
        "colab": {
          "base_uri": "https://localhost:8080/"
        },
        "id": "kHh_BYa964IJ",
        "outputId": "d21e74e3-2b92-44b2-dfec-26d7e6eaf733"
      },
      "execution_count": null,
      "outputs": [
        {
          "output_type": "stream",
          "name": "stdout",
          "text": [
            "clarusway\n"
          ]
        }
      ]
    },
    {
      "cell_type": "code",
      "source": [
        "print(\"orange\"*3)"
      ],
      "metadata": {
        "colab": {
          "base_uri": "https://localhost:8080/"
        },
        "id": "DYLTwRyC64L7",
        "outputId": "cbb345e2-aa01-4cbf-eb90-dd442a38ec26"
      },
      "execution_count": null,
      "outputs": [
        {
          "output_type": "stream",
          "name": "stdout",
          "text": [
            "orangeorangeorange\n"
          ]
        }
      ]
    },
    {
      "cell_type": "code",
      "source": [
        "print(\"orange\"+\"apple\")"
      ],
      "metadata": {
        "colab": {
          "base_uri": "https://localhost:8080/"
        },
        "id": "qxpNe7MQ64P_",
        "outputId": "79cb5f3a-bc38-42a4-a00a-bf72b7b7873f"
      },
      "execution_count": null,
      "outputs": [
        {
          "output_type": "stream",
          "name": "stdout",
          "text": [
            "orangeapple\n"
          ]
        }
      ]
    },
    {
      "cell_type": "code",
      "source": [
        "x= \"helloWorld !\"\n",
        "\n",
        "print(\"%.6s\"%x)"
      ],
      "metadata": {
        "colab": {
          "base_uri": "https://localhost:8080/"
        },
        "id": "kKyG4Hfu8KJU",
        "outputId": "3cf8bf44-82f5-4613-9ff9-a417f5eee513"
      },
      "execution_count": null,
      "outputs": [
        {
          "output_type": "stream",
          "name": "stdout",
          "text": [
            "helloW\n"
          ]
        }
      ]
    },
    {
      "cell_type": "code",
      "source": [
        "parola = input (\"parola: \")\n",
        "print(\"Girdiğiniz parola (%s) kurallara uygun bir parolador !\" %parola)"
      ],
      "metadata": {
        "colab": {
          "base_uri": "https://localhost:8080/"
        },
        "id": "S2LFL6OV8KPI",
        "outputId": "6a6b106e-150c-4eb0-f3ac-4f31ded9cf66"
      },
      "execution_count": null,
      "outputs": [
        {
          "output_type": "stream",
          "name": "stdout",
          "text": [
            "parola: 2638\n",
            "Girdiğiniz parola (2638) kurallara uygun bir parolador !\n"
          ]
        }
      ]
    },
    {
      "cell_type": "code",
      "source": [
        "print(\"%s ve %s iyi %s ikilidir!\" %(\"Python\",\"Django\",\"1\"))"
      ],
      "metadata": {
        "colab": {
          "base_uri": "https://localhost:8080/"
        },
        "id": "N3y2otLr8KUp",
        "outputId": "06f44f09-3fb1-4f1e-fa9a-4ae462307792"
      },
      "execution_count": null,
      "outputs": [
        {
          "output_type": "stream",
          "name": "stdout",
          "text": [
            "Python ve Django iyi 1 ikilidir!\n"
          ]
        }
      ]
    },
    {
      "cell_type": "code",
      "source": [
        "kardiz = \"istihza\"\n",
        "\n",
        "for sıra, karakter in enumerate(kardiz, 1):\n",
        "  print(\"%s. karakter : '%s'\" %(sıra, karakter))"
      ],
      "metadata": {
        "colab": {
          "base_uri": "https://localhost:8080/"
        },
        "id": "RLuCnx4N8ISb",
        "outputId": "ffdd0212-1b46-4f2c-a3cc-73af59296ced"
      },
      "execution_count": null,
      "outputs": [
        {
          "output_type": "stream",
          "name": "stdout",
          "text": [
            "1. karakter : 'i'\n",
            "2. karakter : 's'\n",
            "3. karakter : 't'\n",
            "4. karakter : 'i'\n",
            "5. karakter : 'h'\n",
            "6. karakter : 'z'\n",
            "7. karakter : 'a'\n"
          ]
        }
      ]
    },
    {
      "cell_type": "code",
      "source": [
        "#  hesap makinesi \n",
        "giriş = \"\"\"\n",
        "(1)\ttopla\n",
        "(2)\tçıkar\n",
        "(3)\tçarp\n",
        "(4)\tböl\n",
        "(5)\tkaresini hesapla\n",
        "(6)\tkarekök hesapla\n",
        "\"\"\"\n",
        "print(giriş) \n",
        "a = 1\n",
        "while a == 1:\n",
        "  soru = input(\"Yapmak istediğiniz işlemin numarasını girin (Çıkmak için q): \")\n",
        "  if soru == \"q\":\n",
        "    print(\"çıkılıyor...\") \n",
        "    a = 0\n",
        "  elif soru == \"1\":\n",
        "    sayı1 = int(input(\"Toplama işlemi için ilk sayıyı girin: \")) \n",
        "    sayı2 = int(input(\"Toplama işlemi için ikinci sayıyı girin: \"))\n",
        "    #İlk %s'ye karşılık gelen değer : sayı1\n",
        "    #İkinci %s'ye karşılık gelen değer: sayı2\n",
        "    #Üçüncü %s'ye karşılık gelen değer: sayı1 + sayı2\n",
        "    print(\"%s + %s = %s\" %(sayı1, sayı2, sayı1 + sayı2))\n",
        "  elif soru == \"2\":\n",
        "    sayı3 = int(input(\"Çıkarma işlemi için ilk sayıyı girin: \")) \n",
        "    sayı4 = int(input(\"Çıkarma işlemi için ikinci sayıyı girin: \")) \n",
        "    print(\"%s - %s = %s\" %(sayı3, sayı4, sayı3 - sayı4))\n",
        "  elif soru == \"3\":\n",
        "    sayı5 = int(input(\"Çarpma işlemi için ilk sayıyı girin: \")) \n",
        "    sayı6 = int(input(\"Çarpma işlemi için ikinci sayıyı girin: \")) \n",
        "    print(\"%s x %s = %s\" %(sayı5, sayı6, sayı5 * sayı6))\n",
        "  elif soru == \"4\":\n",
        "    sayı7 = int(input(\"Bölme işlemi için ilk sayıyı girin: \")) \n",
        "    sayı8 = int(input(\"Bölme işlemi için ikinci sayıyı girin: \")) \n",
        "    print(\"%s / %s = %s\" %(sayı7, sayı8, sayı7 / sayı8))\n",
        "  elif soru == \"5\":\n",
        "    sayı9 = int(input(\"Karesini hesaplamak istediğiniz sayıyı girin: \"))\n",
        "    #İlk %s'ye karşılık gelen değer : sayı9\n",
        "    #İkinci %s'ye karşılık gelen değer: sayı9 ** 2\n",
        "    print(\"%s sayısının karesi = %s\" %(sayı9, sayı9 ** 2))\n",
        "  elif soru == \"6\":\n",
        "    sayı10 = int(input(\"Karekökünü hesaplamak istediğiniz sayıyı girin: \")) \n",
        "    print(\"%s sayısının karekökü = %s\" %(sayı10, sayı10 ** 0.5))\n",
        "  else:\n",
        "    print(\"Yanlış giriş.\")\n",
        "    print(\"Aşağıdaki seçeneklerden birini giriniz:\", giriş)\n"
      ],
      "metadata": {
        "colab": {
          "base_uri": "https://localhost:8080/"
        },
        "id": "0sOhzoN58IXr",
        "outputId": "dca5f6ca-04e6-4d20-fd2e-65867de650cb"
      },
      "execution_count": null,
      "outputs": [
        {
          "output_type": "stream",
          "name": "stdout",
          "text": [
            "\n",
            "(1)\ttopla\n",
            "(2)\tçıkar\n",
            "(3)\tçarp\n",
            "(4)\tböl\n",
            "(5)\tkaresini hesapla\n",
            "(6)\tkarekök hesapla\n",
            "\n",
            "Yapmak istediğiniz işlemin numarasını girin (Çıkmak için q): qq\n",
            "Yanlış giriş.\n",
            "Aşağıdaki seçeneklerden birini giriniz: \n",
            "(1)\ttopla\n",
            "(2)\tçıkar\n",
            "(3)\tçarp\n",
            "(4)\tböl\n",
            "(5)\tkaresini hesapla\n",
            "(6)\tkarekök hesapla\n",
            "\n",
            "Yapmak istediğiniz işlemin numarasını girin (Çıkmak için q): w\n",
            "Yanlış giriş.\n",
            "Aşağıdaki seçeneklerden birini giriniz: \n",
            "(1)\ttopla\n",
            "(2)\tçıkar\n",
            "(3)\tçarp\n",
            "(4)\tböl\n",
            "(5)\tkaresini hesapla\n",
            "(6)\tkarekök hesapla\n",
            "\n",
            "Yapmak istediğiniz işlemin numarasını girin (Çıkmak için q): q\n",
            "çıkılıyor...\n"
          ]
        }
      ]
    },
    {
      "cell_type": "code",
      "source": [
        "kalkış = input(\"Kalkış yeri: \")\n",
        "varış = input(\"Varış yeri: \")\n",
        "isim_soyisim = input(\"İsim ve soyisim: \")\n",
        "bilet_sayısı = input(\"Bilet sayısı: \")\n",
        "metin = \"{} noktasından {} noktasına, 14:30 hareket saatli \\\n",
        "sefer için {} adına {} adet bilet ayrılmıştır!\"\n",
        "print(metin.format(str.title(kalkış), str.title(varış), str.upper(isim_soyisim), bilet_sayısı))"
      ],
      "metadata": {
        "colab": {
          "base_uri": "https://localhost:8080/"
        },
        "id": "03U6uVwEI8g-",
        "outputId": "2aaffb36-3df5-41c2-cbe7-2c5c386802b3"
      },
      "execution_count": null,
      "outputs": [
        {
          "output_type": "stream",
          "name": "stdout",
          "text": [
            "Kalkış yeri: kayseri\n",
            "Varış yeri: kocaeli\n",
            "İsim ve soyisim: ali erdoğan\n",
            "Bilet sayısı: 1\n",
            "Kayseri noktasından Kocaeli noktasına, 14:30 hareket saatli sefer için ALI ERDOĞAN adına 1 adet bilet ayrılmıştır!\n"
          ]
        }
      ]
    },
    {
      "cell_type": "code",
      "source": [
        "\"{1} {0} {1} \".format(\"ERDOĞAN\", \"Ali\")"
      ],
      "metadata": {
        "colab": {
          "base_uri": "https://localhost:8080/",
          "height": 35
        },
        "id": "9HZZItw0O6T2",
        "outputId": "b402cdad-ecae-443a-daec-effeb3d5fd35"
      },
      "execution_count": null,
      "outputs": [
        {
          "output_type": "execute_result",
          "data": {
            "application/vnd.google.colaboratory.intrinsic+json": {
              "type": "string"
            },
            "text/plain": [
              "'Ali ERDOĞAN Ali '"
            ]
          },
          "metadata": {},
          "execution_count": 28
        }
      ]
    },
    {
      "cell_type": "code",
      "source": [
        "print(\"|{:>19} |\".format(\"comp-wolf\"))    # sağa hizala\n",
        "print(\"| {:^18} |\".format(\"comp-wolf\"))    # ortala hizala\n",
        "print(\"| {:<19}|\".format(\"comp-wolf\"))    # sola hizala"
      ],
      "metadata": {
        "colab": {
          "base_uri": "https://localhost:8080/"
        },
        "id": "6REEFmvVO6Yy",
        "outputId": "69889b1e-c0fb-4b74-bac5-86555c09e9ad"
      },
      "execution_count": null,
      "outputs": [
        {
          "output_type": "stream",
          "name": "stdout",
          "text": [
            "|          comp-wolf |\n",
            "|     comp-wolf      |\n",
            "| comp-wolf          |\n"
          ]
        }
      ]
    },
    {
      "cell_type": "code",
      "source": [
        "ali = \"bu bir denemedir\"\n",
        "print(str.title(ali))\n",
        "# print(ali.title())"
      ],
      "metadata": {
        "colab": {
          "base_uri": "https://localhost:8080/"
        },
        "id": "lSsZ6OJrO6c6",
        "outputId": "ed0bd3a2-9bee-4d63-90a7-53888c386a8d"
      },
      "execution_count": null,
      "outputs": [
        {
          "output_type": "stream",
          "name": "stdout",
          "text": [
            "Bu Bir Denemedir\n"
          ]
        }
      ]
    },
    {
      "cell_type": "code",
      "source": [
        "şehirler = (\"ankara\", \"van\", \"ağrı\", \"kayseri\", \"istanbul\")\n",
        "    \n",
        "sorted(şehirler,)\n",
        "# sorted(şehirler, key = len, reverse = True)"
      ],
      "metadata": {
        "colab": {
          "base_uri": "https://localhost:8080/"
        },
        "id": "V3QZzWKDJHmN",
        "outputId": "627e17e2-92b0-4c5c-e01f-0de43a9424c0"
      },
      "execution_count": null,
      "outputs": [
        {
          "output_type": "execute_result",
          "data": {
            "text/plain": [
              "['van', 'ağrı', 'ankara', 'kayseri', 'istanbul']"
            ]
          },
          "metadata": {},
          "execution_count": 12
        }
      ]
    },
    {
      "cell_type": "code",
      "source": [
        ""
      ],
      "metadata": {
        "id": "ZgSptTgIIyFI"
      },
      "execution_count": null,
      "outputs": []
    }
  ]
}